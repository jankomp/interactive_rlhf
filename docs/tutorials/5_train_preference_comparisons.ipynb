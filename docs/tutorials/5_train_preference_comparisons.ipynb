{
 "cells": [
  {
   "cell_type": "markdown",
   "metadata": {},
   "source": [
    "[download this notebook here](https://github.com/HumanCompatibleAI/imitation/blob/master/docs/tutorials/5_train_preference_comparisons.ipynb)\n",
    "# Learning a Reward Function using Preference Comparisons\n",
    "\n",
    "The preference comparisons algorithm learns a reward function by comparing trajectory segments to each other."
   ]
  },
  {
   "cell_type": "markdown",
   "metadata": {},
   "source": [
    "To set up the preference comparisons algorithm, we first need to set up a lot of its internals beforehand:"
   ]
  },
  {
   "cell_type": "code",
   "execution_count": 3,
   "metadata": {},
   "outputs": [],
   "source": [
    "import random\n",
    "from imitation.algorithms import preference_comparisons\n",
    "from imitation.rewards.reward_nets import BasicRewardNet\n",
    "from imitation.util.networks import RunningNorm\n",
    "from imitation.util.util import make_vec_env\n",
    "from imitation.policies.base import FeedForward32Policy, NormalizeFeaturesExtractor\n",
    "import gymnasium as gym\n",
    "from stable_baselines3 import PPO\n",
    "import numpy as np\n",
    "\n",
    "rng = np.random.default_rng(0)\n",
    "\n",
    "venv = make_vec_env(\"Reacher-v4\", rng=rng, render_mode='rgb_array', n_envs=1)\n",
    "\n",
    "reward_net = BasicRewardNet(\n",
    "    venv.observation_space, venv.action_space, normalize_input_layer=RunningNorm\n",
    ")\n",
    "\n",
    "fragmenter = preference_comparisons.RandomFragmenter(\n",
    "    warning_threshold=0,\n",
    "    rng=rng,\n",
    ")\n",
    "gatherer = preference_comparisons.SyntheticGatherer(rng=rng)\n",
    "preference_model = preference_comparisons.PreferenceModel(reward_net)\n",
    "reward_trainer = preference_comparisons.BasicRewardTrainer(\n",
    "    preference_model=preference_model,\n",
    "    loss=preference_comparisons.CrossEntropyRewardLoss(),\n",
    "    epochs=3,\n",
    "    rng=rng,\n",
    ")\n",
    "\n",
    "\n",
    "# Several hyperparameters (reward_epochs, ppo_clip_range, ppo_ent_coef,\n",
    "# ppo_gae_lambda, ppo_n_epochs, discount_factor, use_sde, sde_sample_freq,\n",
    "# ppo_lr, exploration_frac, num_iterations, initial_comparison_frac,\n",
    "# initial_epoch_multiplier, query_schedule) used in this example have been\n",
    "# approximately fine-tuned to reach a reasonable level of performance.\n",
    "agent = PPO(\n",
    "    policy=FeedForward32Policy,\n",
    "    policy_kwargs=dict(\n",
    "        features_extractor_class=NormalizeFeaturesExtractor,\n",
    "        features_extractor_kwargs=dict(normalize_class=RunningNorm),\n",
    "    ),\n",
    "    env=venv,\n",
    "    seed=0,\n",
    "    n_steps=2048 // venv.num_envs,\n",
    "    batch_size=64,\n",
    "    ent_coef=0.01,\n",
    "    learning_rate=2e-3,\n",
    "    clip_range=0.1,\n",
    "    gae_lambda=0.95,\n",
    "    gamma=0.97,\n",
    "    n_epochs=10,\n",
    ")\n",
    "\n",
    "trajectory_generator = preference_comparisons.AgentTrainerWithVideoBuffering(\n",
    "    algorithm=agent,\n",
    "    reward_fn=reward_net,\n",
    "    venv=venv,\n",
    "    rng=rng,\n",
    "    exploration_frac=0.05,\n",
    "    video_folder='./training_videos',\n",
    "    video_length=50,\n",
    "    name_prefix='rl-video'\n",
    ")\n",
    "\n",
    "\n",
    "pref_comparisons = preference_comparisons.PreferenceComparisons(\n",
    "    trajectory_generator,\n",
    "    reward_net,\n",
    "    num_iterations=5,  # Set to 60 for better performance\n",
    "    fragmenter=fragmenter,\n",
    "    preference_gatherer=gatherer,\n",
    "    reward_trainer=reward_trainer,\n",
    "    fragment_length=50,\n",
    "    transition_oversampling=1,\n",
    "    initial_comparison_frac=0.1,\n",
    "    allow_variable_horizon=False,\n",
    "    initial_epoch_multiplier=4,\n",
    "    query_schedule=\"hyperbolic\",\n",
    ")"
   ]
  },
  {
   "cell_type": "markdown",
   "metadata": {},
   "source": [
    "Then we can start training the reward model. Note that we need to specify the total timesteps that the agent should be trained and how many fragment comparisons should be made."
   ]
  },
  {
   "cell_type": "code",
   "execution_count": 4,
   "metadata": {},
   "outputs": [
    {
     "name": "stdout",
     "output_type": "stream",
     "text": [
      "Query schedule: [50, 127, 102, 85, 73, 63]\n",
      "Collecting 100 fragments (5000 transitions)\n",
      "Requested 4750 transitions but only 0 in buffer. Sampling 4750 additional transitions.\n",
      "Moviepy - Building video /imitation/docs/tutorials/generated_videos/rl-video-step-0-to-step-50.mp4.\n",
      "Moviepy - Writing video /imitation/docs/tutorials/generated_videos/rl-video-step-0-to-step-50.mp4\n",
      "\n"
     ]
    },
    {
     "name": "stderr",
     "output_type": "stream",
     "text": [
      "                                                                                                                                         "
     ]
    },
    {
     "name": "stdout",
     "output_type": "stream",
     "text": [
      "Moviepy - Done !\n",
      "Moviepy - video ready /imitation/docs/tutorials/generated_videos/rl-video-step-0-to-step-50.mp4\n"
     ]
    },
    {
     "name": "stderr",
     "output_type": "stream",
     "text": [
      "\r"
     ]
    },
    {
     "name": "stdout",
     "output_type": "stream",
     "text": [
      "Saving video to /imitation/docs/tutorials/generated_videos/rl-video-step-0-to-step-50.mp4\n",
      "Moviepy - Building video /imitation/docs/tutorials/generated_videos/rl-video-step-0-to-step-50.mp4.\n",
      "Moviepy - Writing video /imitation/docs/tutorials/generated_videos/rl-video-step-0-to-step-50.mp4\n",
      "\n"
     ]
    },
    {
     "name": "stderr",
     "output_type": "stream",
     "text": [
      "                                                                                                                                         "
     ]
    },
    {
     "name": "stdout",
     "output_type": "stream",
     "text": [
      "Moviepy - Done !\n",
      "Moviepy - video ready /imitation/docs/tutorials/generated_videos/rl-video-step-0-to-step-50.mp4\n"
     ]
    },
    {
     "name": "stderr",
     "output_type": "stream",
     "text": [
      "\r"
     ]
    },
    {
     "name": "stdout",
     "output_type": "stream",
     "text": [
      "Saving video to /imitation/docs/tutorials/generated_videos/rl-video-step-100-to-step-150.mp4\n",
      "Moviepy - Building video /imitation/docs/tutorials/generated_videos/rl-video-step-100-to-step-150.mp4.\n",
      "Moviepy - Writing video /imitation/docs/tutorials/generated_videos/rl-video-step-100-to-step-150.mp4\n",
      "\n"
     ]
    },
    {
     "name": "stderr",
     "output_type": "stream",
     "text": [
      "                                                                                                                                         "
     ]
    },
    {
     "name": "stdout",
     "output_type": "stream",
     "text": [
      "Moviepy - Done !\n",
      "Moviepy - video ready /imitation/docs/tutorials/generated_videos/rl-video-step-100-to-step-150.mp4\n"
     ]
    },
    {
     "name": "stderr",
     "output_type": "stream",
     "text": [
      "\r"
     ]
    },
    {
     "name": "stdout",
     "output_type": "stream",
     "text": [
      "Saving video to /imitation/docs/tutorials/generated_videos/rl-video-step-200-to-step-250.mp4\n",
      "Moviepy - Building video /imitation/docs/tutorials/generated_videos/rl-video-step-200-to-step-250.mp4.\n",
      "Moviepy - Writing video /imitation/docs/tutorials/generated_videos/rl-video-step-200-to-step-250.mp4\n",
      "\n"
     ]
    },
    {
     "name": "stderr",
     "output_type": "stream",
     "text": [
      "                                                                                                                                         "
     ]
    },
    {
     "name": "stdout",
     "output_type": "stream",
     "text": [
      "Moviepy - Done !\n",
      "Moviepy - video ready /imitation/docs/tutorials/generated_videos/rl-video-step-200-to-step-250.mp4\n"
     ]
    },
    {
     "name": "stderr",
     "output_type": "stream",
     "text": [
      "\r"
     ]
    },
    {
     "name": "stdout",
     "output_type": "stream",
     "text": [
      "Saving video to /imitation/docs/tutorials/generated_videos/rl-video-step-300-to-step-350.mp4\n",
      "Moviepy - Building video /imitation/docs/tutorials/generated_videos/rl-video-step-300-to-step-350.mp4.\n",
      "Moviepy - Writing video /imitation/docs/tutorials/generated_videos/rl-video-step-300-to-step-350.mp4\n",
      "\n"
     ]
    },
    {
     "name": "stderr",
     "output_type": "stream",
     "text": [
      "                                                                                                                                         "
     ]
    },
    {
     "name": "stdout",
     "output_type": "stream",
     "text": [
      "Moviepy - Done !\n",
      "Moviepy - video ready /imitation/docs/tutorials/generated_videos/rl-video-step-300-to-step-350.mp4\n"
     ]
    },
    {
     "name": "stderr",
     "output_type": "stream",
     "text": [
      "\r"
     ]
    },
    {
     "name": "stdout",
     "output_type": "stream",
     "text": [
      "Saving video to /imitation/docs/tutorials/generated_videos/rl-video-step-400-to-step-450.mp4\n",
      "Moviepy - Building video /imitation/docs/tutorials/generated_videos/rl-video-step-400-to-step-450.mp4.\n",
      "Moviepy - Writing video /imitation/docs/tutorials/generated_videos/rl-video-step-400-to-step-450.mp4\n",
      "\n"
     ]
    },
    {
     "name": "stderr",
     "output_type": "stream",
     "text": [
      "                                                                                                                                         "
     ]
    },
    {
     "name": "stdout",
     "output_type": "stream",
     "text": [
      "Moviepy - Done !\n",
      "Moviepy - video ready /imitation/docs/tutorials/generated_videos/rl-video-step-400-to-step-450.mp4\n"
     ]
    },
    {
     "name": "stderr",
     "output_type": "stream",
     "text": [
      "\r"
     ]
    },
    {
     "name": "stdout",
     "output_type": "stream",
     "text": [
      "Saving video to /imitation/docs/tutorials/generated_videos/rl-video-step-500-to-step-550.mp4\n",
      "Moviepy - Building video /imitation/docs/tutorials/generated_videos/rl-video-step-500-to-step-550.mp4.\n",
      "Moviepy - Writing video /imitation/docs/tutorials/generated_videos/rl-video-step-500-to-step-550.mp4\n",
      "\n"
     ]
    },
    {
     "name": "stderr",
     "output_type": "stream",
     "text": [
      "                                                                                                                                         "
     ]
    },
    {
     "name": "stdout",
     "output_type": "stream",
     "text": [
      "Moviepy - Done !\n",
      "Moviepy - video ready /imitation/docs/tutorials/generated_videos/rl-video-step-500-to-step-550.mp4\n"
     ]
    },
    {
     "name": "stderr",
     "output_type": "stream",
     "text": [
      "\r"
     ]
    },
    {
     "name": "stdout",
     "output_type": "stream",
     "text": [
      "Saving video to /imitation/docs/tutorials/generated_videos/rl-video-step-600-to-step-650.mp4\n",
      "Moviepy - Building video /imitation/docs/tutorials/generated_videos/rl-video-step-600-to-step-650.mp4.\n",
      "Moviepy - Writing video /imitation/docs/tutorials/generated_videos/rl-video-step-600-to-step-650.mp4\n",
      "\n"
     ]
    },
    {
     "name": "stderr",
     "output_type": "stream",
     "text": [
      "                                                                                                                                         "
     ]
    },
    {
     "name": "stdout",
     "output_type": "stream",
     "text": [
      "Moviepy - Done !\n",
      "Moviepy - video ready /imitation/docs/tutorials/generated_videos/rl-video-step-600-to-step-650.mp4\n"
     ]
    },
    {
     "name": "stderr",
     "output_type": "stream",
     "text": [
      "\r"
     ]
    },
    {
     "name": "stdout",
     "output_type": "stream",
     "text": [
      "Saving video to /imitation/docs/tutorials/generated_videos/rl-video-step-700-to-step-750.mp4\n",
      "Moviepy - Building video /imitation/docs/tutorials/generated_videos/rl-video-step-700-to-step-750.mp4.\n",
      "Moviepy - Writing video /imitation/docs/tutorials/generated_videos/rl-video-step-700-to-step-750.mp4\n",
      "\n"
     ]
    },
    {
     "name": "stderr",
     "output_type": "stream",
     "text": [
      "                                                                                                                                         "
     ]
    },
    {
     "name": "stdout",
     "output_type": "stream",
     "text": [
      "Moviepy - Done !\n",
      "Moviepy - video ready /imitation/docs/tutorials/generated_videos/rl-video-step-700-to-step-750.mp4\n"
     ]
    },
    {
     "name": "stderr",
     "output_type": "stream",
     "text": [
      "\r"
     ]
    },
    {
     "name": "stdout",
     "output_type": "stream",
     "text": [
      "Saving video to /imitation/docs/tutorials/generated_videos/rl-video-step-800-to-step-850.mp4\n",
      "Moviepy - Building video /imitation/docs/tutorials/generated_videos/rl-video-step-800-to-step-850.mp4.\n",
      "Moviepy - Writing video /imitation/docs/tutorials/generated_videos/rl-video-step-800-to-step-850.mp4\n",
      "\n"
     ]
    },
    {
     "name": "stderr",
     "output_type": "stream",
     "text": [
      "                                                                                                                                         "
     ]
    },
    {
     "name": "stdout",
     "output_type": "stream",
     "text": [
      "Moviepy - Done !\n",
      "Moviepy - video ready /imitation/docs/tutorials/generated_videos/rl-video-step-800-to-step-850.mp4\n"
     ]
    },
    {
     "name": "stderr",
     "output_type": "stream",
     "text": [
      "\r"
     ]
    },
    {
     "name": "stdout",
     "output_type": "stream",
     "text": [
      "Saving video to /imitation/docs/tutorials/generated_videos/rl-video-step-900-to-step-950.mp4\n",
      "Moviepy - Building video /imitation/docs/tutorials/generated_videos/rl-video-step-900-to-step-950.mp4.\n",
      "Moviepy - Writing video /imitation/docs/tutorials/generated_videos/rl-video-step-900-to-step-950.mp4\n",
      "\n"
     ]
    },
    {
     "name": "stderr",
     "output_type": "stream",
     "text": [
      "                                                                                                                                         "
     ]
    },
    {
     "name": "stdout",
     "output_type": "stream",
     "text": [
      "Moviepy - Done !\n",
      "Moviepy - video ready /imitation/docs/tutorials/generated_videos/rl-video-step-900-to-step-950.mp4\n"
     ]
    },
    {
     "name": "stderr",
     "output_type": "stream",
     "text": [
      "\r"
     ]
    },
    {
     "name": "stdout",
     "output_type": "stream",
     "text": [
      "Saving video to /imitation/docs/tutorials/generated_videos/rl-video-step-1000-to-step-1050.mp4\n",
      "Moviepy - Building video /imitation/docs/tutorials/generated_videos/rl-video-step-1000-to-step-1050.mp4.\n",
      "Moviepy - Writing video /imitation/docs/tutorials/generated_videos/rl-video-step-1000-to-step-1050.mp4\n",
      "\n"
     ]
    },
    {
     "name": "stderr",
     "output_type": "stream",
     "text": [
      "                                                                                                                                         "
     ]
    },
    {
     "name": "stdout",
     "output_type": "stream",
     "text": [
      "Moviepy - Done !\n",
      "Moviepy - video ready /imitation/docs/tutorials/generated_videos/rl-video-step-1000-to-step-1050.mp4\n"
     ]
    },
    {
     "name": "stderr",
     "output_type": "stream",
     "text": [
      "\r"
     ]
    },
    {
     "name": "stdout",
     "output_type": "stream",
     "text": [
      "Saving video to /imitation/docs/tutorials/generated_videos/rl-video-step-1100-to-step-1150.mp4\n",
      "Moviepy - Building video /imitation/docs/tutorials/generated_videos/rl-video-step-1100-to-step-1150.mp4.\n",
      "Moviepy - Writing video /imitation/docs/tutorials/generated_videos/rl-video-step-1100-to-step-1150.mp4\n",
      "\n"
     ]
    },
    {
     "name": "stderr",
     "output_type": "stream",
     "text": [
      "                                                                                                                                         "
     ]
    },
    {
     "name": "stdout",
     "output_type": "stream",
     "text": [
      "Moviepy - Done !\n",
      "Moviepy - video ready /imitation/docs/tutorials/generated_videos/rl-video-step-1100-to-step-1150.mp4\n"
     ]
    },
    {
     "name": "stderr",
     "output_type": "stream",
     "text": [
      "\r"
     ]
    },
    {
     "name": "stdout",
     "output_type": "stream",
     "text": [
      "Saving video to /imitation/docs/tutorials/generated_videos/rl-video-step-1200-to-step-1250.mp4\n",
      "Moviepy - Building video /imitation/docs/tutorials/generated_videos/rl-video-step-1200-to-step-1250.mp4.\n",
      "Moviepy - Writing video /imitation/docs/tutorials/generated_videos/rl-video-step-1200-to-step-1250.mp4\n",
      "\n"
     ]
    },
    {
     "name": "stderr",
     "output_type": "stream",
     "text": [
      "                                                                                                                                         "
     ]
    },
    {
     "name": "stdout",
     "output_type": "stream",
     "text": [
      "Moviepy - Done !\n",
      "Moviepy - video ready /imitation/docs/tutorials/generated_videos/rl-video-step-1200-to-step-1250.mp4\n"
     ]
    },
    {
     "name": "stderr",
     "output_type": "stream",
     "text": [
      "\r"
     ]
    },
    {
     "name": "stdout",
     "output_type": "stream",
     "text": [
      "Saving video to /imitation/docs/tutorials/generated_videos/rl-video-step-1300-to-step-1350.mp4\n",
      "Moviepy - Building video /imitation/docs/tutorials/generated_videos/rl-video-step-1300-to-step-1350.mp4.\n",
      "Moviepy - Writing video /imitation/docs/tutorials/generated_videos/rl-video-step-1300-to-step-1350.mp4\n",
      "\n"
     ]
    },
    {
     "name": "stderr",
     "output_type": "stream",
     "text": [
      "                                                                                                                                         "
     ]
    },
    {
     "name": "stdout",
     "output_type": "stream",
     "text": [
      "Moviepy - Done !\n",
      "Moviepy - video ready /imitation/docs/tutorials/generated_videos/rl-video-step-1300-to-step-1350.mp4\n"
     ]
    },
    {
     "name": "stderr",
     "output_type": "stream",
     "text": [
      "\r"
     ]
    },
    {
     "name": "stdout",
     "output_type": "stream",
     "text": [
      "Saving video to /imitation/docs/tutorials/generated_videos/rl-video-step-1400-to-step-1450.mp4\n",
      "Moviepy - Building video /imitation/docs/tutorials/generated_videos/rl-video-step-1400-to-step-1450.mp4.\n",
      "Moviepy - Writing video /imitation/docs/tutorials/generated_videos/rl-video-step-1400-to-step-1450.mp4\n",
      "\n"
     ]
    },
    {
     "name": "stderr",
     "output_type": "stream",
     "text": [
      "                                                                                                                                         "
     ]
    },
    {
     "name": "stdout",
     "output_type": "stream",
     "text": [
      "Moviepy - Done !\n",
      "Moviepy - video ready /imitation/docs/tutorials/generated_videos/rl-video-step-1400-to-step-1450.mp4\n"
     ]
    },
    {
     "name": "stderr",
     "output_type": "stream",
     "text": [
      "\r"
     ]
    },
    {
     "name": "stdout",
     "output_type": "stream",
     "text": [
      "Saving video to /imitation/docs/tutorials/generated_videos/rl-video-step-1500-to-step-1550.mp4\n",
      "Moviepy - Building video /imitation/docs/tutorials/generated_videos/rl-video-step-1500-to-step-1550.mp4.\n",
      "Moviepy - Writing video /imitation/docs/tutorials/generated_videos/rl-video-step-1500-to-step-1550.mp4\n",
      "\n"
     ]
    },
    {
     "name": "stderr",
     "output_type": "stream",
     "text": [
      "                                                                                                                                         "
     ]
    },
    {
     "name": "stdout",
     "output_type": "stream",
     "text": [
      "Moviepy - Done !\n",
      "Moviepy - video ready /imitation/docs/tutorials/generated_videos/rl-video-step-1500-to-step-1550.mp4\n"
     ]
    },
    {
     "name": "stderr",
     "output_type": "stream",
     "text": [
      "\r"
     ]
    },
    {
     "name": "stdout",
     "output_type": "stream",
     "text": [
      "Saving video to /imitation/docs/tutorials/generated_videos/rl-video-step-1600-to-step-1650.mp4\n",
      "Moviepy - Building video /imitation/docs/tutorials/generated_videos/rl-video-step-1600-to-step-1650.mp4.\n",
      "Moviepy - Writing video /imitation/docs/tutorials/generated_videos/rl-video-step-1600-to-step-1650.mp4\n",
      "\n"
     ]
    },
    {
     "name": "stderr",
     "output_type": "stream",
     "text": [
      "                                                                                                                                         "
     ]
    },
    {
     "name": "stdout",
     "output_type": "stream",
     "text": [
      "Moviepy - Done !\n",
      "Moviepy - video ready /imitation/docs/tutorials/generated_videos/rl-video-step-1600-to-step-1650.mp4\n"
     ]
    },
    {
     "name": "stderr",
     "output_type": "stream",
     "text": [
      "\r"
     ]
    },
    {
     "name": "stdout",
     "output_type": "stream",
     "text": [
      "Saving video to /imitation/docs/tutorials/generated_videos/rl-video-step-1700-to-step-1750.mp4\n",
      "Moviepy - Building video /imitation/docs/tutorials/generated_videos/rl-video-step-1700-to-step-1750.mp4.\n",
      "Moviepy - Writing video /imitation/docs/tutorials/generated_videos/rl-video-step-1700-to-step-1750.mp4\n",
      "\n"
     ]
    },
    {
     "name": "stderr",
     "output_type": "stream",
     "text": [
      "                                                                                                                                         "
     ]
    },
    {
     "name": "stdout",
     "output_type": "stream",
     "text": [
      "Moviepy - Done !\n",
      "Moviepy - video ready /imitation/docs/tutorials/generated_videos/rl-video-step-1700-to-step-1750.mp4\n"
     ]
    },
    {
     "name": "stderr",
     "output_type": "stream",
     "text": [
      "\r"
     ]
    },
    {
     "name": "stdout",
     "output_type": "stream",
     "text": [
      "Saving video to /imitation/docs/tutorials/generated_videos/rl-video-step-1800-to-step-1850.mp4\n",
      "Moviepy - Building video /imitation/docs/tutorials/generated_videos/rl-video-step-1800-to-step-1850.mp4.\n",
      "Moviepy - Writing video /imitation/docs/tutorials/generated_videos/rl-video-step-1800-to-step-1850.mp4\n",
      "\n"
     ]
    },
    {
     "name": "stderr",
     "output_type": "stream",
     "text": [
      "                                                                                                                                         "
     ]
    },
    {
     "name": "stdout",
     "output_type": "stream",
     "text": [
      "Moviepy - Done !\n",
      "Moviepy - video ready /imitation/docs/tutorials/generated_videos/rl-video-step-1800-to-step-1850.mp4\n"
     ]
    },
    {
     "name": "stderr",
     "output_type": "stream",
     "text": [
      "\r"
     ]
    },
    {
     "name": "stdout",
     "output_type": "stream",
     "text": [
      "Saving video to /imitation/docs/tutorials/generated_videos/rl-video-step-1900-to-step-1950.mp4\n",
      "Moviepy - Building video /imitation/docs/tutorials/generated_videos/rl-video-step-1900-to-step-1950.mp4.\n",
      "Moviepy - Writing video /imitation/docs/tutorials/generated_videos/rl-video-step-1900-to-step-1950.mp4\n",
      "\n"
     ]
    },
    {
     "name": "stderr",
     "output_type": "stream",
     "text": [
      "                                                                                                                                         "
     ]
    },
    {
     "name": "stdout",
     "output_type": "stream",
     "text": [
      "Moviepy - Done !\n",
      "Moviepy - video ready /imitation/docs/tutorials/generated_videos/rl-video-step-1900-to-step-1950.mp4\n"
     ]
    },
    {
     "name": "stderr",
     "output_type": "stream",
     "text": [
      "\r"
     ]
    },
    {
     "name": "stdout",
     "output_type": "stream",
     "text": [
      "Saving video to /imitation/docs/tutorials/generated_videos/rl-video-step-2000-to-step-2050.mp4\n",
      "Moviepy - Building video /imitation/docs/tutorials/generated_videos/rl-video-step-2000-to-step-2050.mp4.\n",
      "Moviepy - Writing video /imitation/docs/tutorials/generated_videos/rl-video-step-2000-to-step-2050.mp4\n",
      "\n"
     ]
    },
    {
     "name": "stderr",
     "output_type": "stream",
     "text": [
      "                                                                                                                                         "
     ]
    },
    {
     "name": "stdout",
     "output_type": "stream",
     "text": [
      "Moviepy - Done !\n",
      "Moviepy - video ready /imitation/docs/tutorials/generated_videos/rl-video-step-2000-to-step-2050.mp4\n"
     ]
    },
    {
     "name": "stderr",
     "output_type": "stream",
     "text": [
      "\r"
     ]
    },
    {
     "name": "stdout",
     "output_type": "stream",
     "text": [
      "Saving video to /imitation/docs/tutorials/generated_videos/rl-video-step-2100-to-step-2150.mp4\n",
      "Moviepy - Building video /imitation/docs/tutorials/generated_videos/rl-video-step-2100-to-step-2150.mp4.\n",
      "Moviepy - Writing video /imitation/docs/tutorials/generated_videos/rl-video-step-2100-to-step-2150.mp4\n",
      "\n"
     ]
    },
    {
     "name": "stderr",
     "output_type": "stream",
     "text": [
      "                                                                                                                                         "
     ]
    },
    {
     "name": "stdout",
     "output_type": "stream",
     "text": [
      "Moviepy - Done !\n",
      "Moviepy - video ready /imitation/docs/tutorials/generated_videos/rl-video-step-2100-to-step-2150.mp4\n"
     ]
    },
    {
     "name": "stderr",
     "output_type": "stream",
     "text": [
      "\r"
     ]
    },
    {
     "name": "stdout",
     "output_type": "stream",
     "text": [
      "Saving video to /imitation/docs/tutorials/generated_videos/rl-video-step-2200-to-step-2250.mp4\n",
      "Moviepy - Building video /imitation/docs/tutorials/generated_videos/rl-video-step-2200-to-step-2250.mp4.\n",
      "Moviepy - Writing video /imitation/docs/tutorials/generated_videos/rl-video-step-2200-to-step-2250.mp4\n",
      "\n"
     ]
    },
    {
     "name": "stderr",
     "output_type": "stream",
     "text": [
      "                                                                                                                                         "
     ]
    },
    {
     "name": "stdout",
     "output_type": "stream",
     "text": [
      "Moviepy - Done !\n",
      "Moviepy - video ready /imitation/docs/tutorials/generated_videos/rl-video-step-2200-to-step-2250.mp4\n"
     ]
    },
    {
     "name": "stderr",
     "output_type": "stream",
     "text": [
      "\r"
     ]
    },
    {
     "name": "stdout",
     "output_type": "stream",
     "text": [
      "Saving video to /imitation/docs/tutorials/generated_videos/rl-video-step-2300-to-step-2350.mp4\n",
      "Moviepy - Building video /imitation/docs/tutorials/generated_videos/rl-video-step-2300-to-step-2350.mp4.\n",
      "Moviepy - Writing video /imitation/docs/tutorials/generated_videos/rl-video-step-2300-to-step-2350.mp4\n",
      "\n"
     ]
    },
    {
     "name": "stderr",
     "output_type": "stream",
     "text": [
      "                                                                                                                                         "
     ]
    },
    {
     "name": "stdout",
     "output_type": "stream",
     "text": [
      "Moviepy - Done !\n",
      "Moviepy - video ready /imitation/docs/tutorials/generated_videos/rl-video-step-2300-to-step-2350.mp4\n"
     ]
    },
    {
     "name": "stderr",
     "output_type": "stream",
     "text": [
      "\r"
     ]
    },
    {
     "name": "stdout",
     "output_type": "stream",
     "text": [
      "Saving video to /imitation/docs/tutorials/generated_videos/rl-video-step-2400-to-step-2450.mp4\n",
      "Moviepy - Building video /imitation/docs/tutorials/generated_videos/rl-video-step-2400-to-step-2450.mp4.\n",
      "Moviepy - Writing video /imitation/docs/tutorials/generated_videos/rl-video-step-2400-to-step-2450.mp4\n",
      "\n"
     ]
    },
    {
     "name": "stderr",
     "output_type": "stream",
     "text": [
      "                                                                                                                                         "
     ]
    },
    {
     "name": "stdout",
     "output_type": "stream",
     "text": [
      "Moviepy - Done !\n",
      "Moviepy - video ready /imitation/docs/tutorials/generated_videos/rl-video-step-2400-to-step-2450.mp4\n"
     ]
    },
    {
     "name": "stderr",
     "output_type": "stream",
     "text": [
      "\r"
     ]
    },
    {
     "name": "stdout",
     "output_type": "stream",
     "text": [
      "Saving video to /imitation/docs/tutorials/generated_videos/rl-video-step-2500-to-step-2550.mp4\n",
      "Moviepy - Building video /imitation/docs/tutorials/generated_videos/rl-video-step-2500-to-step-2550.mp4.\n",
      "Moviepy - Writing video /imitation/docs/tutorials/generated_videos/rl-video-step-2500-to-step-2550.mp4\n",
      "\n"
     ]
    },
    {
     "name": "stderr",
     "output_type": "stream",
     "text": [
      "                                                                                                                                         "
     ]
    },
    {
     "name": "stdout",
     "output_type": "stream",
     "text": [
      "Moviepy - Done !\n",
      "Moviepy - video ready /imitation/docs/tutorials/generated_videos/rl-video-step-2500-to-step-2550.mp4\n"
     ]
    },
    {
     "name": "stderr",
     "output_type": "stream",
     "text": [
      "\r"
     ]
    },
    {
     "name": "stdout",
     "output_type": "stream",
     "text": [
      "Saving video to /imitation/docs/tutorials/generated_videos/rl-video-step-2600-to-step-2650.mp4\n",
      "Moviepy - Building video /imitation/docs/tutorials/generated_videos/rl-video-step-2600-to-step-2650.mp4.\n",
      "Moviepy - Writing video /imitation/docs/tutorials/generated_videos/rl-video-step-2600-to-step-2650.mp4\n",
      "\n"
     ]
    },
    {
     "name": "stderr",
     "output_type": "stream",
     "text": [
      "                                                                                                                                         "
     ]
    },
    {
     "name": "stdout",
     "output_type": "stream",
     "text": [
      "Moviepy - Done !\n",
      "Moviepy - video ready /imitation/docs/tutorials/generated_videos/rl-video-step-2600-to-step-2650.mp4\n"
     ]
    },
    {
     "name": "stderr",
     "output_type": "stream",
     "text": [
      "\r"
     ]
    },
    {
     "name": "stdout",
     "output_type": "stream",
     "text": [
      "Saving video to /imitation/docs/tutorials/generated_videos/rl-video-step-2700-to-step-2750.mp4\n",
      "Moviepy - Building video /imitation/docs/tutorials/generated_videos/rl-video-step-2700-to-step-2750.mp4.\n",
      "Moviepy - Writing video /imitation/docs/tutorials/generated_videos/rl-video-step-2700-to-step-2750.mp4\n",
      "\n"
     ]
    },
    {
     "name": "stderr",
     "output_type": "stream",
     "text": [
      "                                                                                                                                         "
     ]
    },
    {
     "name": "stdout",
     "output_type": "stream",
     "text": [
      "Moviepy - Done !\n",
      "Moviepy - video ready /imitation/docs/tutorials/generated_videos/rl-video-step-2700-to-step-2750.mp4\n"
     ]
    },
    {
     "name": "stderr",
     "output_type": "stream",
     "text": [
      "\r"
     ]
    },
    {
     "name": "stdout",
     "output_type": "stream",
     "text": [
      "Saving video to /imitation/docs/tutorials/generated_videos/rl-video-step-2800-to-step-2850.mp4\n",
      "Moviepy - Building video /imitation/docs/tutorials/generated_videos/rl-video-step-2800-to-step-2850.mp4.\n",
      "Moviepy - Writing video /imitation/docs/tutorials/generated_videos/rl-video-step-2800-to-step-2850.mp4\n",
      "\n"
     ]
    },
    {
     "name": "stderr",
     "output_type": "stream",
     "text": [
      "                                                                                                                                         "
     ]
    },
    {
     "name": "stdout",
     "output_type": "stream",
     "text": [
      "Moviepy - Done !\n",
      "Moviepy - video ready /imitation/docs/tutorials/generated_videos/rl-video-step-2800-to-step-2850.mp4\n"
     ]
    },
    {
     "name": "stderr",
     "output_type": "stream",
     "text": [
      "\r"
     ]
    },
    {
     "name": "stdout",
     "output_type": "stream",
     "text": [
      "Saving video to /imitation/docs/tutorials/generated_videos/rl-video-step-2900-to-step-2950.mp4\n",
      "Moviepy - Building video /imitation/docs/tutorials/generated_videos/rl-video-step-2900-to-step-2950.mp4.\n",
      "Moviepy - Writing video /imitation/docs/tutorials/generated_videos/rl-video-step-2900-to-step-2950.mp4\n",
      "\n"
     ]
    },
    {
     "name": "stderr",
     "output_type": "stream",
     "text": [
      "                                                                                                                                         "
     ]
    },
    {
     "name": "stdout",
     "output_type": "stream",
     "text": [
      "Moviepy - Done !\n",
      "Moviepy - video ready /imitation/docs/tutorials/generated_videos/rl-video-step-2900-to-step-2950.mp4\n"
     ]
    },
    {
     "name": "stderr",
     "output_type": "stream",
     "text": [
      "\r"
     ]
    },
    {
     "name": "stdout",
     "output_type": "stream",
     "text": [
      "Saving video to /imitation/docs/tutorials/generated_videos/rl-video-step-3000-to-step-3050.mp4\n",
      "Moviepy - Building video /imitation/docs/tutorials/generated_videos/rl-video-step-3000-to-step-3050.mp4.\n",
      "Moviepy - Writing video /imitation/docs/tutorials/generated_videos/rl-video-step-3000-to-step-3050.mp4\n",
      "\n"
     ]
    },
    {
     "name": "stderr",
     "output_type": "stream",
     "text": [
      "                                                                                                                                         "
     ]
    },
    {
     "name": "stdout",
     "output_type": "stream",
     "text": [
      "Moviepy - Done !\n",
      "Moviepy - video ready /imitation/docs/tutorials/generated_videos/rl-video-step-3000-to-step-3050.mp4\n"
     ]
    },
    {
     "name": "stderr",
     "output_type": "stream",
     "text": [
      "\r"
     ]
    },
    {
     "name": "stdout",
     "output_type": "stream",
     "text": [
      "Saving video to /imitation/docs/tutorials/generated_videos/rl-video-step-3100-to-step-3150.mp4\n",
      "Moviepy - Building video /imitation/docs/tutorials/generated_videos/rl-video-step-3100-to-step-3150.mp4.\n",
      "Moviepy - Writing video /imitation/docs/tutorials/generated_videos/rl-video-step-3100-to-step-3150.mp4\n",
      "\n"
     ]
    },
    {
     "name": "stderr",
     "output_type": "stream",
     "text": [
      "                                                                                                                                         "
     ]
    },
    {
     "name": "stdout",
     "output_type": "stream",
     "text": [
      "Moviepy - Done !\n",
      "Moviepy - video ready /imitation/docs/tutorials/generated_videos/rl-video-step-3100-to-step-3150.mp4\n"
     ]
    },
    {
     "name": "stderr",
     "output_type": "stream",
     "text": [
      "\r"
     ]
    },
    {
     "name": "stdout",
     "output_type": "stream",
     "text": [
      "Saving video to /imitation/docs/tutorials/generated_videos/rl-video-step-3200-to-step-3250.mp4\n",
      "Moviepy - Building video /imitation/docs/tutorials/generated_videos/rl-video-step-3200-to-step-3250.mp4.\n",
      "Moviepy - Writing video /imitation/docs/tutorials/generated_videos/rl-video-step-3200-to-step-3250.mp4\n",
      "\n"
     ]
    },
    {
     "name": "stderr",
     "output_type": "stream",
     "text": [
      "                                                                                                                                         "
     ]
    },
    {
     "name": "stdout",
     "output_type": "stream",
     "text": [
      "Moviepy - Done !\n",
      "Moviepy - video ready /imitation/docs/tutorials/generated_videos/rl-video-step-3200-to-step-3250.mp4\n"
     ]
    },
    {
     "name": "stderr",
     "output_type": "stream",
     "text": [
      "\r"
     ]
    },
    {
     "name": "stdout",
     "output_type": "stream",
     "text": [
      "Saving video to /imitation/docs/tutorials/generated_videos/rl-video-step-3300-to-step-3350.mp4\n",
      "Moviepy - Building video /imitation/docs/tutorials/generated_videos/rl-video-step-3300-to-step-3350.mp4.\n",
      "Moviepy - Writing video /imitation/docs/tutorials/generated_videos/rl-video-step-3300-to-step-3350.mp4\n",
      "\n"
     ]
    },
    {
     "name": "stderr",
     "output_type": "stream",
     "text": [
      "                                                                                                                                         "
     ]
    },
    {
     "name": "stdout",
     "output_type": "stream",
     "text": [
      "Moviepy - Done !\n",
      "Moviepy - video ready /imitation/docs/tutorials/generated_videos/rl-video-step-3300-to-step-3350.mp4\n"
     ]
    },
    {
     "name": "stderr",
     "output_type": "stream",
     "text": [
      "\r"
     ]
    },
    {
     "name": "stdout",
     "output_type": "stream",
     "text": [
      "Saving video to /imitation/docs/tutorials/generated_videos/rl-video-step-3400-to-step-3450.mp4\n",
      "Moviepy - Building video /imitation/docs/tutorials/generated_videos/rl-video-step-3400-to-step-3450.mp4.\n",
      "Moviepy - Writing video /imitation/docs/tutorials/generated_videos/rl-video-step-3400-to-step-3450.mp4\n",
      "\n"
     ]
    },
    {
     "name": "stderr",
     "output_type": "stream",
     "text": [
      "                                                                                                                                         "
     ]
    },
    {
     "name": "stdout",
     "output_type": "stream",
     "text": [
      "Moviepy - Done !\n",
      "Moviepy - video ready /imitation/docs/tutorials/generated_videos/rl-video-step-3400-to-step-3450.mp4\n"
     ]
    },
    {
     "name": "stderr",
     "output_type": "stream",
     "text": [
      "\r"
     ]
    },
    {
     "name": "stdout",
     "output_type": "stream",
     "text": [
      "Saving video to /imitation/docs/tutorials/generated_videos/rl-video-step-3500-to-step-3550.mp4\n",
      "Moviepy - Building video /imitation/docs/tutorials/generated_videos/rl-video-step-3500-to-step-3550.mp4.\n",
      "Moviepy - Writing video /imitation/docs/tutorials/generated_videos/rl-video-step-3500-to-step-3550.mp4\n",
      "\n"
     ]
    },
    {
     "name": "stderr",
     "output_type": "stream",
     "text": [
      "                                                                                                                                         "
     ]
    },
    {
     "name": "stdout",
     "output_type": "stream",
     "text": [
      "Moviepy - Done !\n",
      "Moviepy - video ready /imitation/docs/tutorials/generated_videos/rl-video-step-3500-to-step-3550.mp4\n"
     ]
    },
    {
     "name": "stderr",
     "output_type": "stream",
     "text": [
      "\r"
     ]
    },
    {
     "name": "stdout",
     "output_type": "stream",
     "text": [
      "Saving video to /imitation/docs/tutorials/generated_videos/rl-video-step-3600-to-step-3650.mp4\n",
      "Moviepy - Building video /imitation/docs/tutorials/generated_videos/rl-video-step-3600-to-step-3650.mp4.\n",
      "Moviepy - Writing video /imitation/docs/tutorials/generated_videos/rl-video-step-3600-to-step-3650.mp4\n",
      "\n"
     ]
    },
    {
     "name": "stderr",
     "output_type": "stream",
     "text": [
      "                                                                                                                                         "
     ]
    },
    {
     "name": "stdout",
     "output_type": "stream",
     "text": [
      "Moviepy - Done !\n",
      "Moviepy - video ready /imitation/docs/tutorials/generated_videos/rl-video-step-3600-to-step-3650.mp4\n"
     ]
    },
    {
     "name": "stderr",
     "output_type": "stream",
     "text": [
      "\r"
     ]
    },
    {
     "name": "stdout",
     "output_type": "stream",
     "text": [
      "Saving video to /imitation/docs/tutorials/generated_videos/rl-video-step-3700-to-step-3750.mp4\n",
      "Moviepy - Building video /imitation/docs/tutorials/generated_videos/rl-video-step-3700-to-step-3750.mp4.\n",
      "Moviepy - Writing video /imitation/docs/tutorials/generated_videos/rl-video-step-3700-to-step-3750.mp4\n",
      "\n"
     ]
    },
    {
     "name": "stderr",
     "output_type": "stream",
     "text": [
      "                                                                                                                                         "
     ]
    },
    {
     "name": "stdout",
     "output_type": "stream",
     "text": [
      "Moviepy - Done !\n",
      "Moviepy - video ready /imitation/docs/tutorials/generated_videos/rl-video-step-3700-to-step-3750.mp4\n"
     ]
    },
    {
     "name": "stderr",
     "output_type": "stream",
     "text": [
      "\r"
     ]
    },
    {
     "name": "stdout",
     "output_type": "stream",
     "text": [
      "Saving video to /imitation/docs/tutorials/generated_videos/rl-video-step-3800-to-step-3850.mp4\n",
      "Moviepy - Building video /imitation/docs/tutorials/generated_videos/rl-video-step-3800-to-step-3850.mp4.\n",
      "Moviepy - Writing video /imitation/docs/tutorials/generated_videos/rl-video-step-3800-to-step-3850.mp4\n",
      "\n"
     ]
    },
    {
     "name": "stderr",
     "output_type": "stream",
     "text": [
      "                                                                                                                                         "
     ]
    },
    {
     "name": "stdout",
     "output_type": "stream",
     "text": [
      "Moviepy - Done !\n",
      "Moviepy - video ready /imitation/docs/tutorials/generated_videos/rl-video-step-3800-to-step-3850.mp4\n"
     ]
    },
    {
     "name": "stderr",
     "output_type": "stream",
     "text": [
      "\r"
     ]
    },
    {
     "name": "stdout",
     "output_type": "stream",
     "text": [
      "Saving video to /imitation/docs/tutorials/generated_videos/rl-video-step-3900-to-step-3950.mp4\n",
      "Moviepy - Building video /imitation/docs/tutorials/generated_videos/rl-video-step-3900-to-step-3950.mp4.\n",
      "Moviepy - Writing video /imitation/docs/tutorials/generated_videos/rl-video-step-3900-to-step-3950.mp4\n",
      "\n"
     ]
    },
    {
     "name": "stderr",
     "output_type": "stream",
     "text": [
      "                                                                                                                                         "
     ]
    },
    {
     "name": "stdout",
     "output_type": "stream",
     "text": [
      "Moviepy - Done !\n",
      "Moviepy - video ready /imitation/docs/tutorials/generated_videos/rl-video-step-3900-to-step-3950.mp4\n"
     ]
    },
    {
     "name": "stderr",
     "output_type": "stream",
     "text": [
      "\r"
     ]
    },
    {
     "name": "stdout",
     "output_type": "stream",
     "text": [
      "Saving video to /imitation/docs/tutorials/generated_videos/rl-video-step-4000-to-step-4050.mp4\n",
      "Moviepy - Building video /imitation/docs/tutorials/generated_videos/rl-video-step-4000-to-step-4050.mp4.\n",
      "Moviepy - Writing video /imitation/docs/tutorials/generated_videos/rl-video-step-4000-to-step-4050.mp4\n",
      "\n"
     ]
    },
    {
     "name": "stderr",
     "output_type": "stream",
     "text": [
      "                                                                                                                                         "
     ]
    },
    {
     "name": "stdout",
     "output_type": "stream",
     "text": [
      "Moviepy - Done !\n",
      "Moviepy - video ready /imitation/docs/tutorials/generated_videos/rl-video-step-4000-to-step-4050.mp4\n"
     ]
    },
    {
     "name": "stderr",
     "output_type": "stream",
     "text": [
      "\r"
     ]
    },
    {
     "name": "stdout",
     "output_type": "stream",
     "text": [
      "Saving video to /imitation/docs/tutorials/generated_videos/rl-video-step-4100-to-step-4150.mp4\n",
      "Moviepy - Building video /imitation/docs/tutorials/generated_videos/rl-video-step-4100-to-step-4150.mp4.\n",
      "Moviepy - Writing video /imitation/docs/tutorials/generated_videos/rl-video-step-4100-to-step-4150.mp4\n",
      "\n"
     ]
    },
    {
     "name": "stderr",
     "output_type": "stream",
     "text": [
      "                                                                                                                                         "
     ]
    },
    {
     "name": "stdout",
     "output_type": "stream",
     "text": [
      "Moviepy - Done !\n",
      "Moviepy - video ready /imitation/docs/tutorials/generated_videos/rl-video-step-4100-to-step-4150.mp4\n"
     ]
    },
    {
     "name": "stderr",
     "output_type": "stream",
     "text": [
      "\r"
     ]
    },
    {
     "name": "stdout",
     "output_type": "stream",
     "text": [
      "Saving video to /imitation/docs/tutorials/generated_videos/rl-video-step-4200-to-step-4250.mp4\n",
      "Moviepy - Building video /imitation/docs/tutorials/generated_videos/rl-video-step-4200-to-step-4250.mp4.\n",
      "Moviepy - Writing video /imitation/docs/tutorials/generated_videos/rl-video-step-4200-to-step-4250.mp4\n",
      "\n"
     ]
    },
    {
     "name": "stderr",
     "output_type": "stream",
     "text": [
      "                                                                                                                                         "
     ]
    },
    {
     "name": "stdout",
     "output_type": "stream",
     "text": [
      "Moviepy - Done !\n",
      "Moviepy - video ready /imitation/docs/tutorials/generated_videos/rl-video-step-4200-to-step-4250.mp4\n"
     ]
    },
    {
     "name": "stderr",
     "output_type": "stream",
     "text": [
      "\r"
     ]
    },
    {
     "name": "stdout",
     "output_type": "stream",
     "text": [
      "Saving video to /imitation/docs/tutorials/generated_videos/rl-video-step-4300-to-step-4350.mp4\n",
      "Moviepy - Building video /imitation/docs/tutorials/generated_videos/rl-video-step-4300-to-step-4350.mp4.\n",
      "Moviepy - Writing video /imitation/docs/tutorials/generated_videos/rl-video-step-4300-to-step-4350.mp4\n",
      "\n"
     ]
    },
    {
     "name": "stderr",
     "output_type": "stream",
     "text": [
      "                                                                                                                                         "
     ]
    },
    {
     "name": "stdout",
     "output_type": "stream",
     "text": [
      "Moviepy - Done !\n",
      "Moviepy - video ready /imitation/docs/tutorials/generated_videos/rl-video-step-4300-to-step-4350.mp4\n"
     ]
    },
    {
     "name": "stderr",
     "output_type": "stream",
     "text": [
      "\r"
     ]
    },
    {
     "name": "stdout",
     "output_type": "stream",
     "text": [
      "Saving video to /imitation/docs/tutorials/generated_videos/rl-video-step-4400-to-step-4450.mp4\n",
      "Moviepy - Building video /imitation/docs/tutorials/generated_videos/rl-video-step-4400-to-step-4450.mp4.\n",
      "Moviepy - Writing video /imitation/docs/tutorials/generated_videos/rl-video-step-4400-to-step-4450.mp4\n",
      "\n"
     ]
    },
    {
     "name": "stderr",
     "output_type": "stream",
     "text": [
      "                                                                                                                                         "
     ]
    },
    {
     "name": "stdout",
     "output_type": "stream",
     "text": [
      "Moviepy - Done !\n",
      "Moviepy - video ready /imitation/docs/tutorials/generated_videos/rl-video-step-4400-to-step-4450.mp4\n"
     ]
    },
    {
     "name": "stderr",
     "output_type": "stream",
     "text": [
      "\r"
     ]
    },
    {
     "name": "stdout",
     "output_type": "stream",
     "text": [
      "Saving video to /imitation/docs/tutorials/generated_videos/rl-video-step-4500-to-step-4550.mp4\n",
      "Moviepy - Building video /imitation/docs/tutorials/generated_videos/rl-video-step-4500-to-step-4550.mp4.\n",
      "Moviepy - Writing video /imitation/docs/tutorials/generated_videos/rl-video-step-4500-to-step-4550.mp4\n",
      "\n"
     ]
    },
    {
     "name": "stderr",
     "output_type": "stream",
     "text": [
      "                                                                                                                                         "
     ]
    },
    {
     "name": "stdout",
     "output_type": "stream",
     "text": [
      "Moviepy - Done !\n",
      "Moviepy - video ready /imitation/docs/tutorials/generated_videos/rl-video-step-4500-to-step-4550.mp4\n"
     ]
    },
    {
     "name": "stderr",
     "output_type": "stream",
     "text": [
      "\r"
     ]
    },
    {
     "name": "stdout",
     "output_type": "stream",
     "text": [
      "Saving video to /imitation/docs/tutorials/generated_videos/rl-video-step-4600-to-step-4650.mp4\n",
      "Moviepy - Building video /imitation/docs/tutorials/generated_videos/rl-video-step-4600-to-step-4650.mp4.\n",
      "Moviepy - Writing video /imitation/docs/tutorials/generated_videos/rl-video-step-4600-to-step-4650.mp4\n",
      "\n"
     ]
    },
    {
     "name": "stderr",
     "output_type": "stream",
     "text": [
      "                                                                                                                                         "
     ]
    },
    {
     "name": "stdout",
     "output_type": "stream",
     "text": [
      "Moviepy - Done !\n",
      "Moviepy - video ready /imitation/docs/tutorials/generated_videos/rl-video-step-4600-to-step-4650.mp4\n"
     ]
    },
    {
     "name": "stderr",
     "output_type": "stream",
     "text": [
      "\r"
     ]
    },
    {
     "name": "stdout",
     "output_type": "stream",
     "text": [
      "Saving video to /imitation/docs/tutorials/generated_videos/rl-video-step-4700-to-step-4750.mp4\n",
      "Moviepy - Building video /imitation/docs/tutorials/generated_videos/rl-video-step-4700-to-step-4750.mp4.\n",
      "Moviepy - Writing video /imitation/docs/tutorials/generated_videos/rl-video-step-4700-to-step-4750.mp4\n",
      "\n"
     ]
    },
    {
     "name": "stderr",
     "output_type": "stream",
     "text": [
      "                                                                                                                                         "
     ]
    },
    {
     "name": "stdout",
     "output_type": "stream",
     "text": [
      "Moviepy - Done !\n",
      "Moviepy - video ready /imitation/docs/tutorials/generated_videos/rl-video-step-4700-to-step-4750.mp4\n",
      "Sampling 250 exploratory transitions.\n"
     ]
    },
    {
     "name": "stderr",
     "output_type": "stream",
     "text": [
      "\r"
     ]
    },
    {
     "name": "stdout",
     "output_type": "stream",
     "text": [
      "Saving video to /imitation/docs/tutorials/generated_videos/rl-video-step-4750-to-step-4800.mp4\n",
      "Moviepy - Building video /imitation/docs/tutorials/generated_videos/rl-video-step-4750-to-step-4800.mp4.\n",
      "Moviepy - Writing video /imitation/docs/tutorials/generated_videos/rl-video-step-4750-to-step-4800.mp4\n",
      "\n"
     ]
    },
    {
     "name": "stderr",
     "output_type": "stream",
     "text": [
      "                                                                                                                                         "
     ]
    },
    {
     "name": "stdout",
     "output_type": "stream",
     "text": [
      "Moviepy - Done !\n",
      "Moviepy - video ready /imitation/docs/tutorials/generated_videos/rl-video-step-4750-to-step-4800.mp4\n"
     ]
    },
    {
     "name": "stderr",
     "output_type": "stream",
     "text": [
      "\r"
     ]
    },
    {
     "name": "stdout",
     "output_type": "stream",
     "text": [
      "Saving video to /imitation/docs/tutorials/generated_videos/rl-video-step-4850-to-step-4900.mp4\n",
      "Moviepy - Building video /imitation/docs/tutorials/generated_videos/rl-video-step-4850-to-step-4900.mp4.\n",
      "Moviepy - Writing video /imitation/docs/tutorials/generated_videos/rl-video-step-4850-to-step-4900.mp4\n",
      "\n"
     ]
    },
    {
     "name": "stderr",
     "output_type": "stream",
     "text": [
      "                                                                                                                                         "
     ]
    },
    {
     "name": "stdout",
     "output_type": "stream",
     "text": [
      "Moviepy - Done !\n",
      "Moviepy - video ready /imitation/docs/tutorials/generated_videos/rl-video-step-4850-to-step-4900.mp4\n"
     ]
    },
    {
     "name": "stderr",
     "output_type": "stream",
     "text": [
      "\r"
     ]
    },
    {
     "name": "stdout",
     "output_type": "stream",
     "text": [
      "Saving video to /imitation/docs/tutorials/generated_videos/rl-video-step-4950-to-step-5000.mp4\n",
      "Moviepy - Building video /imitation/docs/tutorials/generated_videos/rl-video-step-4950-to-step-5000.mp4.\n",
      "Moviepy - Writing video /imitation/docs/tutorials/generated_videos/rl-video-step-4950-to-step-5000.mp4\n",
      "\n"
     ]
    },
    {
     "name": "stderr",
     "output_type": "stream",
     "text": [
      "                                                                                                                                         "
     ]
    },
    {
     "name": "stdout",
     "output_type": "stream",
     "text": [
      "Moviepy - Done !\n",
      "Moviepy - video ready /imitation/docs/tutorials/generated_videos/rl-video-step-4950-to-step-5000.mp4\n",
      "Creating fragment pairs\n",
      "Gathering preferences\n",
      "Dataset now contains 50 comparisons\n"
     ]
    },
    {
     "name": "stderr",
     "output_type": "stream",
     "text": [
      "\r"
     ]
    },
    {
     "data": {
      "application/vnd.jupyter.widget-view+json": {
       "model_id": "7289bc124b074c4c97fe6a338af41355",
       "version_major": 2,
       "version_minor": 0
      },
      "text/plain": [
       "Training reward model:   0%|          | 0/12 [00:00<?, ?it/s]"
      ]
     },
     "metadata": {},
     "output_type": "display_data"
    },
    {
     "name": "stdout",
     "output_type": "stream",
     "text": [
      "Training agent for 10000 timesteps\n",
      "Saving video to /imitation/docs/tutorials/generated_videos/rl-video-step-5000-to-step-5050.mp4\n",
      "Moviepy - Building video /imitation/docs/tutorials/generated_videos/rl-video-step-5000-to-step-5050.mp4.\n",
      "Moviepy - Writing video /imitation/docs/tutorials/generated_videos/rl-video-step-5000-to-step-5050.mp4\n",
      "\n"
     ]
    },
    {
     "name": "stderr",
     "output_type": "stream",
     "text": [
      "                                                                                                                                         "
     ]
    },
    {
     "name": "stdout",
     "output_type": "stream",
     "text": [
      "Moviepy - Done !\n",
      "Moviepy - video ready /imitation/docs/tutorials/generated_videos/rl-video-step-5000-to-step-5050.mp4\n"
     ]
    },
    {
     "name": "stderr",
     "output_type": "stream",
     "text": [
      "\r"
     ]
    },
    {
     "name": "stdout",
     "output_type": "stream",
     "text": [
      "Saving video to /imitation/docs/tutorials/generated_videos/rl-video-step-5100-to-step-5150.mp4\n",
      "Moviepy - Building video /imitation/docs/tutorials/generated_videos/rl-video-step-5100-to-step-5150.mp4.\n",
      "Moviepy - Writing video /imitation/docs/tutorials/generated_videos/rl-video-step-5100-to-step-5150.mp4\n",
      "\n"
     ]
    },
    {
     "name": "stderr",
     "output_type": "stream",
     "text": [
      "                                                                                                                                         "
     ]
    },
    {
     "name": "stdout",
     "output_type": "stream",
     "text": [
      "Moviepy - Done !\n",
      "Moviepy - video ready /imitation/docs/tutorials/generated_videos/rl-video-step-5100-to-step-5150.mp4\n"
     ]
    },
    {
     "name": "stderr",
     "output_type": "stream",
     "text": [
      "\r"
     ]
    },
    {
     "name": "stdout",
     "output_type": "stream",
     "text": [
      "Saving video to /imitation/docs/tutorials/generated_videos/rl-video-step-5200-to-step-5250.mp4\n",
      "Moviepy - Building video /imitation/docs/tutorials/generated_videos/rl-video-step-5200-to-step-5250.mp4.\n",
      "Moviepy - Writing video /imitation/docs/tutorials/generated_videos/rl-video-step-5200-to-step-5250.mp4\n",
      "\n"
     ]
    },
    {
     "name": "stderr",
     "output_type": "stream",
     "text": [
      "                                                                                                                                         "
     ]
    },
    {
     "name": "stdout",
     "output_type": "stream",
     "text": [
      "Moviepy - Done !\n",
      "Moviepy - video ready /imitation/docs/tutorials/generated_videos/rl-video-step-5200-to-step-5250.mp4\n"
     ]
    },
    {
     "name": "stderr",
     "output_type": "stream",
     "text": [
      "\r"
     ]
    },
    {
     "name": "stdout",
     "output_type": "stream",
     "text": [
      "Saving video to /imitation/docs/tutorials/generated_videos/rl-video-step-5300-to-step-5350.mp4\n",
      "Moviepy - Building video /imitation/docs/tutorials/generated_videos/rl-video-step-5300-to-step-5350.mp4.\n",
      "Moviepy - Writing video /imitation/docs/tutorials/generated_videos/rl-video-step-5300-to-step-5350.mp4\n",
      "\n"
     ]
    },
    {
     "name": "stderr",
     "output_type": "stream",
     "text": [
      "                                                                                                                                         "
     ]
    },
    {
     "name": "stdout",
     "output_type": "stream",
     "text": [
      "Moviepy - Done !\n",
      "Moviepy - video ready /imitation/docs/tutorials/generated_videos/rl-video-step-5300-to-step-5350.mp4\n"
     ]
    },
    {
     "name": "stderr",
     "output_type": "stream",
     "text": [
      "\r"
     ]
    },
    {
     "name": "stdout",
     "output_type": "stream",
     "text": [
      "Saving video to /imitation/docs/tutorials/generated_videos/rl-video-step-5400-to-step-5450.mp4\n",
      "Moviepy - Building video /imitation/docs/tutorials/generated_videos/rl-video-step-5400-to-step-5450.mp4.\n",
      "Moviepy - Writing video /imitation/docs/tutorials/generated_videos/rl-video-step-5400-to-step-5450.mp4\n",
      "\n"
     ]
    },
    {
     "name": "stderr",
     "output_type": "stream",
     "text": [
      "                                                                                                                                         "
     ]
    },
    {
     "name": "stdout",
     "output_type": "stream",
     "text": [
      "Moviepy - Done !\n",
      "Moviepy - video ready /imitation/docs/tutorials/generated_videos/rl-video-step-5400-to-step-5450.mp4\n"
     ]
    },
    {
     "name": "stderr",
     "output_type": "stream",
     "text": [
      "\r"
     ]
    },
    {
     "name": "stdout",
     "output_type": "stream",
     "text": [
      "Saving video to /imitation/docs/tutorials/generated_videos/rl-video-step-5500-to-step-5550.mp4\n",
      "Moviepy - Building video /imitation/docs/tutorials/generated_videos/rl-video-step-5500-to-step-5550.mp4.\n",
      "Moviepy - Writing video /imitation/docs/tutorials/generated_videos/rl-video-step-5500-to-step-5550.mp4\n",
      "\n"
     ]
    },
    {
     "name": "stderr",
     "output_type": "stream",
     "text": [
      "                                                                                                                                         "
     ]
    },
    {
     "name": "stdout",
     "output_type": "stream",
     "text": [
      "Moviepy - Done !\n",
      "Moviepy - video ready /imitation/docs/tutorials/generated_videos/rl-video-step-5500-to-step-5550.mp4\n"
     ]
    },
    {
     "name": "stderr",
     "output_type": "stream",
     "text": [
      "\r"
     ]
    },
    {
     "name": "stdout",
     "output_type": "stream",
     "text": [
      "Saving video to /imitation/docs/tutorials/generated_videos/rl-video-step-5600-to-step-5650.mp4\n",
      "Moviepy - Building video /imitation/docs/tutorials/generated_videos/rl-video-step-5600-to-step-5650.mp4.\n",
      "Moviepy - Writing video /imitation/docs/tutorials/generated_videos/rl-video-step-5600-to-step-5650.mp4\n",
      "\n"
     ]
    },
    {
     "name": "stderr",
     "output_type": "stream",
     "text": [
      "                                                                                                                                         "
     ]
    },
    {
     "name": "stdout",
     "output_type": "stream",
     "text": [
      "Moviepy - Done !\n",
      "Moviepy - video ready /imitation/docs/tutorials/generated_videos/rl-video-step-5600-to-step-5650.mp4\n"
     ]
    },
    {
     "name": "stderr",
     "output_type": "stream",
     "text": [
      "\r"
     ]
    },
    {
     "name": "stdout",
     "output_type": "stream",
     "text": [
      "Saving video to /imitation/docs/tutorials/generated_videos/rl-video-step-5700-to-step-5750.mp4\n",
      "Moviepy - Building video /imitation/docs/tutorials/generated_videos/rl-video-step-5700-to-step-5750.mp4.\n",
      "Moviepy - Writing video /imitation/docs/tutorials/generated_videos/rl-video-step-5700-to-step-5750.mp4\n",
      "\n"
     ]
    },
    {
     "name": "stderr",
     "output_type": "stream",
     "text": [
      "                                                                                                                                         "
     ]
    },
    {
     "name": "stdout",
     "output_type": "stream",
     "text": [
      "Moviepy - Done !\n",
      "Moviepy - video ready /imitation/docs/tutorials/generated_videos/rl-video-step-5700-to-step-5750.mp4\n"
     ]
    },
    {
     "name": "stderr",
     "output_type": "stream",
     "text": [
      "\r"
     ]
    },
    {
     "name": "stdout",
     "output_type": "stream",
     "text": [
      "Saving video to /imitation/docs/tutorials/generated_videos/rl-video-step-5800-to-step-5850.mp4\n",
      "Moviepy - Building video /imitation/docs/tutorials/generated_videos/rl-video-step-5800-to-step-5850.mp4.\n",
      "Moviepy - Writing video /imitation/docs/tutorials/generated_videos/rl-video-step-5800-to-step-5850.mp4\n",
      "\n"
     ]
    },
    {
     "name": "stderr",
     "output_type": "stream",
     "text": [
      "                                                                                                                                         "
     ]
    },
    {
     "name": "stdout",
     "output_type": "stream",
     "text": [
      "Moviepy - Done !\n",
      "Moviepy - video ready /imitation/docs/tutorials/generated_videos/rl-video-step-5800-to-step-5850.mp4\n"
     ]
    },
    {
     "name": "stderr",
     "output_type": "stream",
     "text": [
      "\r"
     ]
    },
    {
     "name": "stdout",
     "output_type": "stream",
     "text": [
      "Saving video to /imitation/docs/tutorials/generated_videos/rl-video-step-5900-to-step-5950.mp4\n",
      "Moviepy - Building video /imitation/docs/tutorials/generated_videos/rl-video-step-5900-to-step-5950.mp4.\n",
      "Moviepy - Writing video /imitation/docs/tutorials/generated_videos/rl-video-step-5900-to-step-5950.mp4\n",
      "\n"
     ]
    },
    {
     "name": "stderr",
     "output_type": "stream",
     "text": [
      "                                                                                                                                         "
     ]
    },
    {
     "name": "stdout",
     "output_type": "stream",
     "text": [
      "Moviepy - Done !\n",
      "Moviepy - video ready /imitation/docs/tutorials/generated_videos/rl-video-step-5900-to-step-5950.mp4\n"
     ]
    },
    {
     "name": "stderr",
     "output_type": "stream",
     "text": [
      "\r"
     ]
    },
    {
     "name": "stdout",
     "output_type": "stream",
     "text": [
      "Saving video to /imitation/docs/tutorials/generated_videos/rl-video-step-6000-to-step-6050.mp4\n",
      "Moviepy - Building video /imitation/docs/tutorials/generated_videos/rl-video-step-6000-to-step-6050.mp4.\n",
      "Moviepy - Writing video /imitation/docs/tutorials/generated_videos/rl-video-step-6000-to-step-6050.mp4\n",
      "\n"
     ]
    },
    {
     "name": "stderr",
     "output_type": "stream",
     "text": [
      "                                                                                                                                         "
     ]
    },
    {
     "name": "stdout",
     "output_type": "stream",
     "text": [
      "Moviepy - Done !\n",
      "Moviepy - video ready /imitation/docs/tutorials/generated_videos/rl-video-step-6000-to-step-6050.mp4\n"
     ]
    },
    {
     "name": "stderr",
     "output_type": "stream",
     "text": [
      "\r"
     ]
    },
    {
     "name": "stdout",
     "output_type": "stream",
     "text": [
      "Saving video to /imitation/docs/tutorials/generated_videos/rl-video-step-6100-to-step-6150.mp4\n",
      "Moviepy - Building video /imitation/docs/tutorials/generated_videos/rl-video-step-6100-to-step-6150.mp4.\n",
      "Moviepy - Writing video /imitation/docs/tutorials/generated_videos/rl-video-step-6100-to-step-6150.mp4\n",
      "\n"
     ]
    },
    {
     "name": "stderr",
     "output_type": "stream",
     "text": [
      "                                                                                                                                         "
     ]
    },
    {
     "name": "stdout",
     "output_type": "stream",
     "text": [
      "Moviepy - Done !\n",
      "Moviepy - video ready /imitation/docs/tutorials/generated_videos/rl-video-step-6100-to-step-6150.mp4\n"
     ]
    },
    {
     "name": "stderr",
     "output_type": "stream",
     "text": [
      "\r"
     ]
    },
    {
     "name": "stdout",
     "output_type": "stream",
     "text": [
      "Saving video to /imitation/docs/tutorials/generated_videos/rl-video-step-6200-to-step-6250.mp4\n",
      "Moviepy - Building video /imitation/docs/tutorials/generated_videos/rl-video-step-6200-to-step-6250.mp4.\n",
      "Moviepy - Writing video /imitation/docs/tutorials/generated_videos/rl-video-step-6200-to-step-6250.mp4\n",
      "\n"
     ]
    },
    {
     "name": "stderr",
     "output_type": "stream",
     "text": [
      "                                                                                                                                         "
     ]
    },
    {
     "name": "stdout",
     "output_type": "stream",
     "text": [
      "Moviepy - Done !\n",
      "Moviepy - video ready /imitation/docs/tutorials/generated_videos/rl-video-step-6200-to-step-6250.mp4\n"
     ]
    },
    {
     "name": "stderr",
     "output_type": "stream",
     "text": [
      "\r"
     ]
    },
    {
     "name": "stdout",
     "output_type": "stream",
     "text": [
      "Saving video to /imitation/docs/tutorials/generated_videos/rl-video-step-6300-to-step-6350.mp4\n",
      "Moviepy - Building video /imitation/docs/tutorials/generated_videos/rl-video-step-6300-to-step-6350.mp4.\n",
      "Moviepy - Writing video /imitation/docs/tutorials/generated_videos/rl-video-step-6300-to-step-6350.mp4\n",
      "\n"
     ]
    },
    {
     "name": "stderr",
     "output_type": "stream",
     "text": [
      "                                                                                                                                         "
     ]
    },
    {
     "name": "stdout",
     "output_type": "stream",
     "text": [
      "Moviepy - Done !\n",
      "Moviepy - video ready /imitation/docs/tutorials/generated_videos/rl-video-step-6300-to-step-6350.mp4\n"
     ]
    },
    {
     "name": "stderr",
     "output_type": "stream",
     "text": [
      "\r"
     ]
    },
    {
     "name": "stdout",
     "output_type": "stream",
     "text": [
      "Saving video to /imitation/docs/tutorials/generated_videos/rl-video-step-6400-to-step-6450.mp4\n",
      "Moviepy - Building video /imitation/docs/tutorials/generated_videos/rl-video-step-6400-to-step-6450.mp4.\n",
      "Moviepy - Writing video /imitation/docs/tutorials/generated_videos/rl-video-step-6400-to-step-6450.mp4\n",
      "\n"
     ]
    },
    {
     "name": "stderr",
     "output_type": "stream",
     "text": [
      "                                                                                                                                         "
     ]
    },
    {
     "name": "stdout",
     "output_type": "stream",
     "text": [
      "Moviepy - Done !\n",
      "Moviepy - video ready /imitation/docs/tutorials/generated_videos/rl-video-step-6400-to-step-6450.mp4\n"
     ]
    },
    {
     "name": "stderr",
     "output_type": "stream",
     "text": [
      "\r"
     ]
    },
    {
     "name": "stdout",
     "output_type": "stream",
     "text": [
      "Saving video to /imitation/docs/tutorials/generated_videos/rl-video-step-6500-to-step-6550.mp4\n",
      "Moviepy - Building video /imitation/docs/tutorials/generated_videos/rl-video-step-6500-to-step-6550.mp4.\n",
      "Moviepy - Writing video /imitation/docs/tutorials/generated_videos/rl-video-step-6500-to-step-6550.mp4\n",
      "\n"
     ]
    },
    {
     "name": "stderr",
     "output_type": "stream",
     "text": [
      "                                                                                                                                         "
     ]
    },
    {
     "name": "stdout",
     "output_type": "stream",
     "text": [
      "Moviepy - Done !\n",
      "Moviepy - video ready /imitation/docs/tutorials/generated_videos/rl-video-step-6500-to-step-6550.mp4\n"
     ]
    },
    {
     "name": "stderr",
     "output_type": "stream",
     "text": [
      "\r"
     ]
    },
    {
     "name": "stdout",
     "output_type": "stream",
     "text": [
      "Saving video to /imitation/docs/tutorials/generated_videos/rl-video-step-6600-to-step-6650.mp4\n",
      "Moviepy - Building video /imitation/docs/tutorials/generated_videos/rl-video-step-6600-to-step-6650.mp4.\n",
      "Moviepy - Writing video /imitation/docs/tutorials/generated_videos/rl-video-step-6600-to-step-6650.mp4\n",
      "\n"
     ]
    },
    {
     "name": "stderr",
     "output_type": "stream",
     "text": [
      "                                                                                                                                         "
     ]
    },
    {
     "name": "stdout",
     "output_type": "stream",
     "text": [
      "Moviepy - Done !\n",
      "Moviepy - video ready /imitation/docs/tutorials/generated_videos/rl-video-step-6600-to-step-6650.mp4\n"
     ]
    },
    {
     "name": "stderr",
     "output_type": "stream",
     "text": [
      "\r"
     ]
    },
    {
     "name": "stdout",
     "output_type": "stream",
     "text": [
      "Saving video to /imitation/docs/tutorials/generated_videos/rl-video-step-6700-to-step-6750.mp4\n",
      "Moviepy - Building video /imitation/docs/tutorials/generated_videos/rl-video-step-6700-to-step-6750.mp4.\n",
      "Moviepy - Writing video /imitation/docs/tutorials/generated_videos/rl-video-step-6700-to-step-6750.mp4\n",
      "\n"
     ]
    },
    {
     "name": "stderr",
     "output_type": "stream",
     "text": [
      "                                                                                                                                         "
     ]
    },
    {
     "name": "stdout",
     "output_type": "stream",
     "text": [
      "Moviepy - Done !\n",
      "Moviepy - video ready /imitation/docs/tutorials/generated_videos/rl-video-step-6700-to-step-6750.mp4\n"
     ]
    },
    {
     "name": "stderr",
     "output_type": "stream",
     "text": [
      "\r"
     ]
    },
    {
     "name": "stdout",
     "output_type": "stream",
     "text": [
      "Saving video to /imitation/docs/tutorials/generated_videos/rl-video-step-6800-to-step-6850.mp4\n",
      "Moviepy - Building video /imitation/docs/tutorials/generated_videos/rl-video-step-6800-to-step-6850.mp4.\n",
      "Moviepy - Writing video /imitation/docs/tutorials/generated_videos/rl-video-step-6800-to-step-6850.mp4\n",
      "\n"
     ]
    },
    {
     "name": "stderr",
     "output_type": "stream",
     "text": [
      "                                                                                                                                         "
     ]
    },
    {
     "name": "stdout",
     "output_type": "stream",
     "text": [
      "Moviepy - Done !\n",
      "Moviepy - video ready /imitation/docs/tutorials/generated_videos/rl-video-step-6800-to-step-6850.mp4\n"
     ]
    },
    {
     "name": "stderr",
     "output_type": "stream",
     "text": [
      "\r"
     ]
    },
    {
     "name": "stdout",
     "output_type": "stream",
     "text": [
      "Saving video to /imitation/docs/tutorials/generated_videos/rl-video-step-6900-to-step-6950.mp4\n",
      "Moviepy - Building video /imitation/docs/tutorials/generated_videos/rl-video-step-6900-to-step-6950.mp4.\n",
      "Moviepy - Writing video /imitation/docs/tutorials/generated_videos/rl-video-step-6900-to-step-6950.mp4\n",
      "\n"
     ]
    },
    {
     "name": "stderr",
     "output_type": "stream",
     "text": [
      "                                                                                                                                         "
     ]
    },
    {
     "name": "stdout",
     "output_type": "stream",
     "text": [
      "Moviepy - Done !\n",
      "Moviepy - video ready /imitation/docs/tutorials/generated_videos/rl-video-step-6900-to-step-6950.mp4\n"
     ]
    },
    {
     "name": "stderr",
     "output_type": "stream",
     "text": [
      "\r"
     ]
    },
    {
     "name": "stdout",
     "output_type": "stream",
     "text": [
      "---------------------------------------------------\n",
      "| raw/                                 |          |\n",
      "|    agent/rollout/ep_len_mean         | 50       |\n",
      "|    agent/rollout/ep_rew_mean         | -60.2    |\n",
      "|    agent/rollout/ep_rew_wrapped_mean | 0.664    |\n",
      "|    agent/time/fps                    | 161      |\n",
      "|    agent/time/iterations             | 1        |\n",
      "|    agent/time/time_elapsed           | 12       |\n",
      "|    agent/time/total_timesteps        | 2048     |\n",
      "---------------------------------------------------\n",
      "Saving video to /imitation/docs/tutorials/generated_videos/rl-video-step-7000-to-step-7050.mp4\n",
      "Moviepy - Building video /imitation/docs/tutorials/generated_videos/rl-video-step-7000-to-step-7050.mp4.\n",
      "Moviepy - Writing video /imitation/docs/tutorials/generated_videos/rl-video-step-7000-to-step-7050.mp4\n",
      "\n"
     ]
    },
    {
     "name": "stderr",
     "output_type": "stream",
     "text": [
      "                                                                                                                                         "
     ]
    },
    {
     "name": "stdout",
     "output_type": "stream",
     "text": [
      "Moviepy - Done !\n",
      "Moviepy - video ready /imitation/docs/tutorials/generated_videos/rl-video-step-7000-to-step-7050.mp4\n"
     ]
    },
    {
     "name": "stderr",
     "output_type": "stream",
     "text": [
      "\r"
     ]
    },
    {
     "name": "stdout",
     "output_type": "stream",
     "text": [
      "Saving video to /imitation/docs/tutorials/generated_videos/rl-video-step-7100-to-step-7150.mp4\n",
      "Moviepy - Building video /imitation/docs/tutorials/generated_videos/rl-video-step-7100-to-step-7150.mp4.\n",
      "Moviepy - Writing video /imitation/docs/tutorials/generated_videos/rl-video-step-7100-to-step-7150.mp4\n",
      "\n"
     ]
    },
    {
     "name": "stderr",
     "output_type": "stream",
     "text": [
      "                                                                                                                                         "
     ]
    },
    {
     "name": "stdout",
     "output_type": "stream",
     "text": [
      "Moviepy - Done !\n",
      "Moviepy - video ready /imitation/docs/tutorials/generated_videos/rl-video-step-7100-to-step-7150.mp4\n"
     ]
    },
    {
     "name": "stderr",
     "output_type": "stream",
     "text": [
      "\r"
     ]
    },
    {
     "name": "stdout",
     "output_type": "stream",
     "text": [
      "Saving video to /imitation/docs/tutorials/generated_videos/rl-video-step-7200-to-step-7250.mp4\n",
      "Moviepy - Building video /imitation/docs/tutorials/generated_videos/rl-video-step-7200-to-step-7250.mp4.\n",
      "Moviepy - Writing video /imitation/docs/tutorials/generated_videos/rl-video-step-7200-to-step-7250.mp4\n",
      "\n"
     ]
    },
    {
     "name": "stderr",
     "output_type": "stream",
     "text": [
      "                                                                                                                                         "
     ]
    },
    {
     "name": "stdout",
     "output_type": "stream",
     "text": [
      "Moviepy - Done !\n",
      "Moviepy - video ready /imitation/docs/tutorials/generated_videos/rl-video-step-7200-to-step-7250.mp4\n"
     ]
    },
    {
     "name": "stderr",
     "output_type": "stream",
     "text": [
      "\r"
     ]
    },
    {
     "name": "stdout",
     "output_type": "stream",
     "text": [
      "Saving video to /imitation/docs/tutorials/generated_videos/rl-video-step-7300-to-step-7350.mp4\n",
      "Moviepy - Building video /imitation/docs/tutorials/generated_videos/rl-video-step-7300-to-step-7350.mp4.\n",
      "Moviepy - Writing video /imitation/docs/tutorials/generated_videos/rl-video-step-7300-to-step-7350.mp4\n",
      "\n"
     ]
    },
    {
     "name": "stderr",
     "output_type": "stream",
     "text": [
      "                                                                                                                                         "
     ]
    },
    {
     "name": "stdout",
     "output_type": "stream",
     "text": [
      "Moviepy - Done !\n",
      "Moviepy - video ready /imitation/docs/tutorials/generated_videos/rl-video-step-7300-to-step-7350.mp4\n"
     ]
    },
    {
     "name": "stderr",
     "output_type": "stream",
     "text": [
      "\r"
     ]
    },
    {
     "name": "stdout",
     "output_type": "stream",
     "text": [
      "Saving video to /imitation/docs/tutorials/generated_videos/rl-video-step-7400-to-step-7450.mp4\n",
      "Moviepy - Building video /imitation/docs/tutorials/generated_videos/rl-video-step-7400-to-step-7450.mp4.\n",
      "Moviepy - Writing video /imitation/docs/tutorials/generated_videos/rl-video-step-7400-to-step-7450.mp4\n",
      "\n"
     ]
    },
    {
     "name": "stderr",
     "output_type": "stream",
     "text": [
      "                                                                                                                                         "
     ]
    },
    {
     "name": "stdout",
     "output_type": "stream",
     "text": [
      "Moviepy - Done !\n",
      "Moviepy - video ready /imitation/docs/tutorials/generated_videos/rl-video-step-7400-to-step-7450.mp4\n"
     ]
    },
    {
     "name": "stderr",
     "output_type": "stream",
     "text": [
      "\r"
     ]
    },
    {
     "name": "stdout",
     "output_type": "stream",
     "text": [
      "Saving video to /imitation/docs/tutorials/generated_videos/rl-video-step-7500-to-step-7550.mp4\n",
      "Moviepy - Building video /imitation/docs/tutorials/generated_videos/rl-video-step-7500-to-step-7550.mp4.\n",
      "Moviepy - Writing video /imitation/docs/tutorials/generated_videos/rl-video-step-7500-to-step-7550.mp4\n",
      "\n"
     ]
    },
    {
     "name": "stderr",
     "output_type": "stream",
     "text": [
      "                                                                                                                                         "
     ]
    },
    {
     "name": "stdout",
     "output_type": "stream",
     "text": [
      "Moviepy - Done !\n",
      "Moviepy - video ready /imitation/docs/tutorials/generated_videos/rl-video-step-7500-to-step-7550.mp4\n"
     ]
    },
    {
     "name": "stderr",
     "output_type": "stream",
     "text": [
      "\r"
     ]
    },
    {
     "name": "stdout",
     "output_type": "stream",
     "text": [
      "Saving video to /imitation/docs/tutorials/generated_videos/rl-video-step-7600-to-step-7650.mp4\n",
      "Moviepy - Building video /imitation/docs/tutorials/generated_videos/rl-video-step-7600-to-step-7650.mp4.\n",
      "Moviepy - Writing video /imitation/docs/tutorials/generated_videos/rl-video-step-7600-to-step-7650.mp4\n",
      "\n"
     ]
    },
    {
     "name": "stderr",
     "output_type": "stream",
     "text": [
      "                                                                                                                                         "
     ]
    },
    {
     "name": "stdout",
     "output_type": "stream",
     "text": [
      "Moviepy - Done !\n",
      "Moviepy - video ready /imitation/docs/tutorials/generated_videos/rl-video-step-7600-to-step-7650.mp4\n"
     ]
    },
    {
     "name": "stderr",
     "output_type": "stream",
     "text": [
      "\r"
     ]
    },
    {
     "name": "stdout",
     "output_type": "stream",
     "text": [
      "Saving video to /imitation/docs/tutorials/generated_videos/rl-video-step-7700-to-step-7750.mp4\n",
      "Moviepy - Building video /imitation/docs/tutorials/generated_videos/rl-video-step-7700-to-step-7750.mp4.\n",
      "Moviepy - Writing video /imitation/docs/tutorials/generated_videos/rl-video-step-7700-to-step-7750.mp4\n",
      "\n"
     ]
    },
    {
     "name": "stderr",
     "output_type": "stream",
     "text": [
      "                                                                                                                                         "
     ]
    },
    {
     "name": "stdout",
     "output_type": "stream",
     "text": [
      "Moviepy - Done !\n",
      "Moviepy - video ready /imitation/docs/tutorials/generated_videos/rl-video-step-7700-to-step-7750.mp4\n"
     ]
    },
    {
     "name": "stderr",
     "output_type": "stream",
     "text": [
      "\r"
     ]
    },
    {
     "name": "stdout",
     "output_type": "stream",
     "text": [
      "Saving video to /imitation/docs/tutorials/generated_videos/rl-video-step-7800-to-step-7850.mp4\n",
      "Moviepy - Building video /imitation/docs/tutorials/generated_videos/rl-video-step-7800-to-step-7850.mp4.\n",
      "Moviepy - Writing video /imitation/docs/tutorials/generated_videos/rl-video-step-7800-to-step-7850.mp4\n",
      "\n"
     ]
    },
    {
     "name": "stderr",
     "output_type": "stream",
     "text": [
      "                                                                                                                                         "
     ]
    },
    {
     "name": "stdout",
     "output_type": "stream",
     "text": [
      "Moviepy - Done !\n",
      "Moviepy - video ready /imitation/docs/tutorials/generated_videos/rl-video-step-7800-to-step-7850.mp4\n"
     ]
    },
    {
     "name": "stderr",
     "output_type": "stream",
     "text": [
      "\r"
     ]
    },
    {
     "name": "stdout",
     "output_type": "stream",
     "text": [
      "Saving video to /imitation/docs/tutorials/generated_videos/rl-video-step-7900-to-step-7950.mp4\n",
      "Moviepy - Building video /imitation/docs/tutorials/generated_videos/rl-video-step-7900-to-step-7950.mp4.\n",
      "Moviepy - Writing video /imitation/docs/tutorials/generated_videos/rl-video-step-7900-to-step-7950.mp4\n",
      "\n"
     ]
    },
    {
     "name": "stderr",
     "output_type": "stream",
     "text": [
      "                                                                                                                                         "
     ]
    },
    {
     "name": "stdout",
     "output_type": "stream",
     "text": [
      "Moviepy - Done !\n",
      "Moviepy - video ready /imitation/docs/tutorials/generated_videos/rl-video-step-7900-to-step-7950.mp4\n"
     ]
    },
    {
     "name": "stderr",
     "output_type": "stream",
     "text": [
      "\r"
     ]
    },
    {
     "name": "stdout",
     "output_type": "stream",
     "text": [
      "Saving video to /imitation/docs/tutorials/generated_videos/rl-video-step-8000-to-step-8050.mp4\n",
      "Moviepy - Building video /imitation/docs/tutorials/generated_videos/rl-video-step-8000-to-step-8050.mp4.\n",
      "Moviepy - Writing video /imitation/docs/tutorials/generated_videos/rl-video-step-8000-to-step-8050.mp4\n",
      "\n"
     ]
    },
    {
     "name": "stderr",
     "output_type": "stream",
     "text": [
      "                                                                                                                                         "
     ]
    },
    {
     "name": "stdout",
     "output_type": "stream",
     "text": [
      "Moviepy - Done !\n",
      "Moviepy - video ready /imitation/docs/tutorials/generated_videos/rl-video-step-8000-to-step-8050.mp4\n"
     ]
    },
    {
     "name": "stderr",
     "output_type": "stream",
     "text": [
      "\r"
     ]
    },
    {
     "name": "stdout",
     "output_type": "stream",
     "text": [
      "Saving video to /imitation/docs/tutorials/generated_videos/rl-video-step-8100-to-step-8150.mp4\n",
      "Moviepy - Building video /imitation/docs/tutorials/generated_videos/rl-video-step-8100-to-step-8150.mp4.\n",
      "Moviepy - Writing video /imitation/docs/tutorials/generated_videos/rl-video-step-8100-to-step-8150.mp4\n",
      "\n"
     ]
    },
    {
     "name": "stderr",
     "output_type": "stream",
     "text": [
      "                                                                                                                                         "
     ]
    },
    {
     "name": "stdout",
     "output_type": "stream",
     "text": [
      "Moviepy - Done !\n",
      "Moviepy - video ready /imitation/docs/tutorials/generated_videos/rl-video-step-8100-to-step-8150.mp4\n"
     ]
    },
    {
     "name": "stderr",
     "output_type": "stream",
     "text": [
      "\r"
     ]
    },
    {
     "name": "stdout",
     "output_type": "stream",
     "text": [
      "Saving video to /imitation/docs/tutorials/generated_videos/rl-video-step-8200-to-step-8250.mp4\n",
      "Moviepy - Building video /imitation/docs/tutorials/generated_videos/rl-video-step-8200-to-step-8250.mp4.\n",
      "Moviepy - Writing video /imitation/docs/tutorials/generated_videos/rl-video-step-8200-to-step-8250.mp4\n",
      "\n"
     ]
    },
    {
     "name": "stderr",
     "output_type": "stream",
     "text": [
      "                                                                                                                                         "
     ]
    },
    {
     "name": "stdout",
     "output_type": "stream",
     "text": [
      "Moviepy - Done !\n",
      "Moviepy - video ready /imitation/docs/tutorials/generated_videos/rl-video-step-8200-to-step-8250.mp4\n"
     ]
    },
    {
     "name": "stderr",
     "output_type": "stream",
     "text": [
      "\r"
     ]
    },
    {
     "name": "stdout",
     "output_type": "stream",
     "text": [
      "Saving video to /imitation/docs/tutorials/generated_videos/rl-video-step-8300-to-step-8350.mp4\n",
      "Moviepy - Building video /imitation/docs/tutorials/generated_videos/rl-video-step-8300-to-step-8350.mp4.\n",
      "Moviepy - Writing video /imitation/docs/tutorials/generated_videos/rl-video-step-8300-to-step-8350.mp4\n",
      "\n"
     ]
    },
    {
     "name": "stderr",
     "output_type": "stream",
     "text": [
      "                                                                                                                                         "
     ]
    },
    {
     "name": "stdout",
     "output_type": "stream",
     "text": [
      "Moviepy - Done !\n",
      "Moviepy - video ready /imitation/docs/tutorials/generated_videos/rl-video-step-8300-to-step-8350.mp4\n"
     ]
    },
    {
     "name": "stderr",
     "output_type": "stream",
     "text": [
      "\r"
     ]
    },
    {
     "name": "stdout",
     "output_type": "stream",
     "text": [
      "Saving video to /imitation/docs/tutorials/generated_videos/rl-video-step-8400-to-step-8450.mp4\n",
      "Moviepy - Building video /imitation/docs/tutorials/generated_videos/rl-video-step-8400-to-step-8450.mp4.\n",
      "Moviepy - Writing video /imitation/docs/tutorials/generated_videos/rl-video-step-8400-to-step-8450.mp4\n",
      "\n"
     ]
    },
    {
     "name": "stderr",
     "output_type": "stream",
     "text": [
      "                                                                                                                                         "
     ]
    },
    {
     "name": "stdout",
     "output_type": "stream",
     "text": [
      "Moviepy - Done !\n",
      "Moviepy - video ready /imitation/docs/tutorials/generated_videos/rl-video-step-8400-to-step-8450.mp4\n"
     ]
    },
    {
     "name": "stderr",
     "output_type": "stream",
     "text": [
      "\r"
     ]
    },
    {
     "name": "stdout",
     "output_type": "stream",
     "text": [
      "Saving video to /imitation/docs/tutorials/generated_videos/rl-video-step-8500-to-step-8550.mp4\n",
      "Moviepy - Building video /imitation/docs/tutorials/generated_videos/rl-video-step-8500-to-step-8550.mp4.\n",
      "Moviepy - Writing video /imitation/docs/tutorials/generated_videos/rl-video-step-8500-to-step-8550.mp4\n",
      "\n"
     ]
    },
    {
     "name": "stderr",
     "output_type": "stream",
     "text": [
      "                                                                                                                                         "
     ]
    },
    {
     "name": "stdout",
     "output_type": "stream",
     "text": [
      "Moviepy - Done !\n",
      "Moviepy - video ready /imitation/docs/tutorials/generated_videos/rl-video-step-8500-to-step-8550.mp4\n"
     ]
    },
    {
     "name": "stderr",
     "output_type": "stream",
     "text": [
      "\r"
     ]
    },
    {
     "name": "stdout",
     "output_type": "stream",
     "text": [
      "Saving video to /imitation/docs/tutorials/generated_videos/rl-video-step-8600-to-step-8650.mp4\n",
      "Moviepy - Building video /imitation/docs/tutorials/generated_videos/rl-video-step-8600-to-step-8650.mp4.\n",
      "Moviepy - Writing video /imitation/docs/tutorials/generated_videos/rl-video-step-8600-to-step-8650.mp4\n",
      "\n"
     ]
    },
    {
     "name": "stderr",
     "output_type": "stream",
     "text": [
      "                                                                                                                                         "
     ]
    },
    {
     "name": "stdout",
     "output_type": "stream",
     "text": [
      "Moviepy - Done !\n",
      "Moviepy - video ready /imitation/docs/tutorials/generated_videos/rl-video-step-8600-to-step-8650.mp4\n"
     ]
    },
    {
     "name": "stderr",
     "output_type": "stream",
     "text": [
      "\r"
     ]
    },
    {
     "name": "stdout",
     "output_type": "stream",
     "text": [
      "Saving video to /imitation/docs/tutorials/generated_videos/rl-video-step-8700-to-step-8750.mp4\n",
      "Moviepy - Building video /imitation/docs/tutorials/generated_videos/rl-video-step-8700-to-step-8750.mp4.\n",
      "Moviepy - Writing video /imitation/docs/tutorials/generated_videos/rl-video-step-8700-to-step-8750.mp4\n",
      "\n"
     ]
    },
    {
     "name": "stderr",
     "output_type": "stream",
     "text": [
      "                                                                                                                                         "
     ]
    },
    {
     "name": "stdout",
     "output_type": "stream",
     "text": [
      "Moviepy - Done !\n",
      "Moviepy - video ready /imitation/docs/tutorials/generated_videos/rl-video-step-8700-to-step-8750.mp4\n"
     ]
    },
    {
     "name": "stderr",
     "output_type": "stream",
     "text": [
      "\r"
     ]
    },
    {
     "name": "stdout",
     "output_type": "stream",
     "text": [
      "Saving video to /imitation/docs/tutorials/generated_videos/rl-video-step-8800-to-step-8850.mp4\n",
      "Moviepy - Building video /imitation/docs/tutorials/generated_videos/rl-video-step-8800-to-step-8850.mp4.\n",
      "Moviepy - Writing video /imitation/docs/tutorials/generated_videos/rl-video-step-8800-to-step-8850.mp4\n",
      "\n"
     ]
    },
    {
     "name": "stderr",
     "output_type": "stream",
     "text": [
      "                                                                                                                                         "
     ]
    },
    {
     "name": "stdout",
     "output_type": "stream",
     "text": [
      "Moviepy - Done !\n",
      "Moviepy - video ready /imitation/docs/tutorials/generated_videos/rl-video-step-8800-to-step-8850.mp4\n"
     ]
    },
    {
     "name": "stderr",
     "output_type": "stream",
     "text": [
      "\r"
     ]
    },
    {
     "name": "stdout",
     "output_type": "stream",
     "text": [
      "Saving video to /imitation/docs/tutorials/generated_videos/rl-video-step-8900-to-step-8950.mp4\n",
      "Moviepy - Building video /imitation/docs/tutorials/generated_videos/rl-video-step-8900-to-step-8950.mp4.\n",
      "Moviepy - Writing video /imitation/docs/tutorials/generated_videos/rl-video-step-8900-to-step-8950.mp4\n",
      "\n"
     ]
    },
    {
     "name": "stderr",
     "output_type": "stream",
     "text": [
      "                                                                                                                                         "
     ]
    },
    {
     "name": "stdout",
     "output_type": "stream",
     "text": [
      "Moviepy - Done !\n",
      "Moviepy - video ready /imitation/docs/tutorials/generated_videos/rl-video-step-8900-to-step-8950.mp4\n"
     ]
    },
    {
     "name": "stderr",
     "output_type": "stream",
     "text": [
      "\r"
     ]
    },
    {
     "name": "stdout",
     "output_type": "stream",
     "text": [
      "Saving video to /imitation/docs/tutorials/generated_videos/rl-video-step-9000-to-step-9050.mp4\n",
      "Moviepy - Building video /imitation/docs/tutorials/generated_videos/rl-video-step-9000-to-step-9050.mp4.\n",
      "Moviepy - Writing video /imitation/docs/tutorials/generated_videos/rl-video-step-9000-to-step-9050.mp4\n",
      "\n"
     ]
    },
    {
     "name": "stderr",
     "output_type": "stream",
     "text": [
      "                                                                                                                                         "
     ]
    },
    {
     "name": "stdout",
     "output_type": "stream",
     "text": [
      "Moviepy - Done !\n",
      "Moviepy - video ready /imitation/docs/tutorials/generated_videos/rl-video-step-9000-to-step-9050.mp4\n",
      "-------------------------------------------------------\n",
      "| raw/                                 |              |\n",
      "|    agent/rollout/ep_len_mean         | 50           |\n",
      "|    agent/rollout/ep_rew_mean         | -60.7        |\n",
      "|    agent/rollout/ep_rew_wrapped_mean | -1.36        |\n",
      "|    agent/time/fps                    | 156          |\n",
      "|    agent/time/iterations             | 2            |\n",
      "|    agent/time/time_elapsed           | 26           |\n",
      "|    agent/time/total_timesteps        | 4096         |\n",
      "|    agent/train/approx_kl             | 0.0027307866 |\n",
      "|    agent/train/clip_fraction         | 0.127        |\n",
      "|    agent/train/clip_range            | 0.1          |\n",
      "|    agent/train/entropy_loss          | -2.85        |\n",
      "|    agent/train/explained_variance    | -0.194       |\n",
      "|    agent/train/learning_rate         | 0.002        |\n",
      "|    agent/train/loss                  | 0.00185      |\n",
      "|    agent/train/n_updates             | 10           |\n",
      "|    agent/train/policy_gradient_loss  | -0.00328     |\n",
      "|    agent/train/std                   | 1            |\n",
      "|    agent/train/value_loss            | 0.206        |\n",
      "-------------------------------------------------------\n"
     ]
    },
    {
     "name": "stderr",
     "output_type": "stream",
     "text": [
      "\r"
     ]
    },
    {
     "name": "stdout",
     "output_type": "stream",
     "text": [
      "Saving video to /imitation/docs/tutorials/generated_videos/rl-video-step-9100-to-step-9150.mp4\n",
      "Moviepy - Building video /imitation/docs/tutorials/generated_videos/rl-video-step-9100-to-step-9150.mp4.\n",
      "Moviepy - Writing video /imitation/docs/tutorials/generated_videos/rl-video-step-9100-to-step-9150.mp4\n",
      "\n"
     ]
    },
    {
     "name": "stderr",
     "output_type": "stream",
     "text": [
      "                                                                                                                                         "
     ]
    },
    {
     "name": "stdout",
     "output_type": "stream",
     "text": [
      "Moviepy - Done !\n",
      "Moviepy - video ready /imitation/docs/tutorials/generated_videos/rl-video-step-9100-to-step-9150.mp4\n"
     ]
    },
    {
     "name": "stderr",
     "output_type": "stream",
     "text": [
      "\r"
     ]
    },
    {
     "name": "stdout",
     "output_type": "stream",
     "text": [
      "Saving video to /imitation/docs/tutorials/generated_videos/rl-video-step-9200-to-step-9250.mp4\n",
      "Moviepy - Building video /imitation/docs/tutorials/generated_videos/rl-video-step-9200-to-step-9250.mp4.\n",
      "Moviepy - Writing video /imitation/docs/tutorials/generated_videos/rl-video-step-9200-to-step-9250.mp4\n",
      "\n"
     ]
    },
    {
     "name": "stderr",
     "output_type": "stream",
     "text": [
      "                                                                                                                                         "
     ]
    },
    {
     "name": "stdout",
     "output_type": "stream",
     "text": [
      "Moviepy - Done !\n",
      "Moviepy - video ready /imitation/docs/tutorials/generated_videos/rl-video-step-9200-to-step-9250.mp4\n"
     ]
    },
    {
     "name": "stderr",
     "output_type": "stream",
     "text": [
      "\r"
     ]
    },
    {
     "name": "stdout",
     "output_type": "stream",
     "text": [
      "Saving video to /imitation/docs/tutorials/generated_videos/rl-video-step-9300-to-step-9350.mp4\n",
      "Moviepy - Building video /imitation/docs/tutorials/generated_videos/rl-video-step-9300-to-step-9350.mp4.\n",
      "Moviepy - Writing video /imitation/docs/tutorials/generated_videos/rl-video-step-9300-to-step-9350.mp4\n",
      "\n"
     ]
    },
    {
     "name": "stderr",
     "output_type": "stream",
     "text": [
      "                                                                                                                                         "
     ]
    },
    {
     "name": "stdout",
     "output_type": "stream",
     "text": [
      "Moviepy - Done !\n",
      "Moviepy - video ready /imitation/docs/tutorials/generated_videos/rl-video-step-9300-to-step-9350.mp4\n"
     ]
    },
    {
     "name": "stderr",
     "output_type": "stream",
     "text": [
      "\r"
     ]
    },
    {
     "name": "stdout",
     "output_type": "stream",
     "text": [
      "Saving video to /imitation/docs/tutorials/generated_videos/rl-video-step-9400-to-step-9450.mp4\n",
      "Moviepy - Building video /imitation/docs/tutorials/generated_videos/rl-video-step-9400-to-step-9450.mp4.\n",
      "Moviepy - Writing video /imitation/docs/tutorials/generated_videos/rl-video-step-9400-to-step-9450.mp4\n",
      "\n"
     ]
    },
    {
     "name": "stderr",
     "output_type": "stream",
     "text": [
      "                                                                                                                                         "
     ]
    },
    {
     "name": "stdout",
     "output_type": "stream",
     "text": [
      "Moviepy - Done !\n",
      "Moviepy - video ready /imitation/docs/tutorials/generated_videos/rl-video-step-9400-to-step-9450.mp4\n"
     ]
    },
    {
     "name": "stderr",
     "output_type": "stream",
     "text": [
      "\r"
     ]
    },
    {
     "name": "stdout",
     "output_type": "stream",
     "text": [
      "Saving video to /imitation/docs/tutorials/generated_videos/rl-video-step-9500-to-step-9550.mp4\n",
      "Moviepy - Building video /imitation/docs/tutorials/generated_videos/rl-video-step-9500-to-step-9550.mp4.\n",
      "Moviepy - Writing video /imitation/docs/tutorials/generated_videos/rl-video-step-9500-to-step-9550.mp4\n",
      "\n"
     ]
    },
    {
     "name": "stderr",
     "output_type": "stream",
     "text": [
      "                                                                                                                                         "
     ]
    },
    {
     "name": "stdout",
     "output_type": "stream",
     "text": [
      "Moviepy - Done !\n",
      "Moviepy - video ready /imitation/docs/tutorials/generated_videos/rl-video-step-9500-to-step-9550.mp4\n"
     ]
    },
    {
     "name": "stderr",
     "output_type": "stream",
     "text": [
      "\r"
     ]
    },
    {
     "name": "stdout",
     "output_type": "stream",
     "text": [
      "Saving video to /imitation/docs/tutorials/generated_videos/rl-video-step-9600-to-step-9650.mp4\n",
      "Moviepy - Building video /imitation/docs/tutorials/generated_videos/rl-video-step-9600-to-step-9650.mp4.\n",
      "Moviepy - Writing video /imitation/docs/tutorials/generated_videos/rl-video-step-9600-to-step-9650.mp4\n",
      "\n"
     ]
    },
    {
     "name": "stderr",
     "output_type": "stream",
     "text": [
      "                                                                                                                                         "
     ]
    },
    {
     "name": "stdout",
     "output_type": "stream",
     "text": [
      "Moviepy - Done !\n",
      "Moviepy - video ready /imitation/docs/tutorials/generated_videos/rl-video-step-9600-to-step-9650.mp4\n"
     ]
    },
    {
     "name": "stderr",
     "output_type": "stream",
     "text": [
      "\r"
     ]
    },
    {
     "name": "stdout",
     "output_type": "stream",
     "text": [
      "Saving video to /imitation/docs/tutorials/generated_videos/rl-video-step-9700-to-step-9750.mp4\n",
      "Moviepy - Building video /imitation/docs/tutorials/generated_videos/rl-video-step-9700-to-step-9750.mp4.\n",
      "Moviepy - Writing video /imitation/docs/tutorials/generated_videos/rl-video-step-9700-to-step-9750.mp4\n",
      "\n"
     ]
    },
    {
     "name": "stderr",
     "output_type": "stream",
     "text": [
      "                                                                                                                                         "
     ]
    },
    {
     "name": "stdout",
     "output_type": "stream",
     "text": [
      "Moviepy - Done !\n",
      "Moviepy - video ready /imitation/docs/tutorials/generated_videos/rl-video-step-9700-to-step-9750.mp4\n"
     ]
    },
    {
     "name": "stderr",
     "output_type": "stream",
     "text": [
      "\r"
     ]
    },
    {
     "name": "stdout",
     "output_type": "stream",
     "text": [
      "Saving video to /imitation/docs/tutorials/generated_videos/rl-video-step-9800-to-step-9850.mp4\n",
      "Moviepy - Building video /imitation/docs/tutorials/generated_videos/rl-video-step-9800-to-step-9850.mp4.\n",
      "Moviepy - Writing video /imitation/docs/tutorials/generated_videos/rl-video-step-9800-to-step-9850.mp4\n",
      "\n"
     ]
    },
    {
     "name": "stderr",
     "output_type": "stream",
     "text": [
      "                                                                                                                                         "
     ]
    },
    {
     "name": "stdout",
     "output_type": "stream",
     "text": [
      "Moviepy - Done !\n",
      "Moviepy - video ready /imitation/docs/tutorials/generated_videos/rl-video-step-9800-to-step-9850.mp4\n"
     ]
    },
    {
     "name": "stderr",
     "output_type": "stream",
     "text": [
      "\r"
     ]
    },
    {
     "name": "stdout",
     "output_type": "stream",
     "text": [
      "Saving video to /imitation/docs/tutorials/generated_videos/rl-video-step-9900-to-step-9950.mp4\n",
      "Moviepy - Building video /imitation/docs/tutorials/generated_videos/rl-video-step-9900-to-step-9950.mp4.\n",
      "Moviepy - Writing video /imitation/docs/tutorials/generated_videos/rl-video-step-9900-to-step-9950.mp4\n",
      "\n"
     ]
    },
    {
     "name": "stderr",
     "output_type": "stream",
     "text": [
      "                                                                                                                                         "
     ]
    },
    {
     "name": "stdout",
     "output_type": "stream",
     "text": [
      "Moviepy - Done !\n",
      "Moviepy - video ready /imitation/docs/tutorials/generated_videos/rl-video-step-9900-to-step-9950.mp4\n"
     ]
    },
    {
     "name": "stderr",
     "output_type": "stream",
     "text": [
      "\r"
     ]
    },
    {
     "name": "stdout",
     "output_type": "stream",
     "text": [
      "Saving video to /imitation/docs/tutorials/generated_videos/rl-video-step-10000-to-step-10050.mp4\n",
      "Moviepy - Building video /imitation/docs/tutorials/generated_videos/rl-video-step-10000-to-step-10050.mp4.\n",
      "Moviepy - Writing video /imitation/docs/tutorials/generated_videos/rl-video-step-10000-to-step-10050.mp4\n",
      "\n"
     ]
    },
    {
     "name": "stderr",
     "output_type": "stream",
     "text": [
      "                                                                                                                                         "
     ]
    },
    {
     "name": "stdout",
     "output_type": "stream",
     "text": [
      "Moviepy - Done !\n",
      "Moviepy - video ready /imitation/docs/tutorials/generated_videos/rl-video-step-10000-to-step-10050.mp4\n"
     ]
    },
    {
     "name": "stderr",
     "output_type": "stream",
     "text": [
      "\r"
     ]
    },
    {
     "name": "stdout",
     "output_type": "stream",
     "text": [
      "Saving video to /imitation/docs/tutorials/generated_videos/rl-video-step-10100-to-step-10150.mp4\n",
      "Moviepy - Building video /imitation/docs/tutorials/generated_videos/rl-video-step-10100-to-step-10150.mp4.\n",
      "Moviepy - Writing video /imitation/docs/tutorials/generated_videos/rl-video-step-10100-to-step-10150.mp4\n",
      "\n"
     ]
    },
    {
     "name": "stderr",
     "output_type": "stream",
     "text": [
      "                                                                                                                                         "
     ]
    },
    {
     "name": "stdout",
     "output_type": "stream",
     "text": [
      "Moviepy - Done !\n",
      "Moviepy - video ready /imitation/docs/tutorials/generated_videos/rl-video-step-10100-to-step-10150.mp4\n"
     ]
    },
    {
     "name": "stderr",
     "output_type": "stream",
     "text": [
      "\r"
     ]
    },
    {
     "name": "stdout",
     "output_type": "stream",
     "text": [
      "Saving video to /imitation/docs/tutorials/generated_videos/rl-video-step-10200-to-step-10250.mp4\n",
      "Moviepy - Building video /imitation/docs/tutorials/generated_videos/rl-video-step-10200-to-step-10250.mp4.\n",
      "Moviepy - Writing video /imitation/docs/tutorials/generated_videos/rl-video-step-10200-to-step-10250.mp4\n",
      "\n"
     ]
    },
    {
     "name": "stderr",
     "output_type": "stream",
     "text": [
      "                                                                                                                                         "
     ]
    },
    {
     "name": "stdout",
     "output_type": "stream",
     "text": [
      "Moviepy - Done !\n",
      "Moviepy - video ready /imitation/docs/tutorials/generated_videos/rl-video-step-10200-to-step-10250.mp4\n"
     ]
    },
    {
     "name": "stderr",
     "output_type": "stream",
     "text": [
      "\r"
     ]
    },
    {
     "name": "stdout",
     "output_type": "stream",
     "text": [
      "Saving video to /imitation/docs/tutorials/generated_videos/rl-video-step-10300-to-step-10350.mp4\n",
      "Moviepy - Building video /imitation/docs/tutorials/generated_videos/rl-video-step-10300-to-step-10350.mp4.\n",
      "Moviepy - Writing video /imitation/docs/tutorials/generated_videos/rl-video-step-10300-to-step-10350.mp4\n",
      "\n"
     ]
    },
    {
     "name": "stderr",
     "output_type": "stream",
     "text": [
      "                                                                                                                                         "
     ]
    },
    {
     "name": "stdout",
     "output_type": "stream",
     "text": [
      "Moviepy - Done !\n",
      "Moviepy - video ready /imitation/docs/tutorials/generated_videos/rl-video-step-10300-to-step-10350.mp4\n"
     ]
    },
    {
     "name": "stderr",
     "output_type": "stream",
     "text": [
      "\r"
     ]
    },
    {
     "name": "stdout",
     "output_type": "stream",
     "text": [
      "Saving video to /imitation/docs/tutorials/generated_videos/rl-video-step-10400-to-step-10450.mp4\n",
      "Moviepy - Building video /imitation/docs/tutorials/generated_videos/rl-video-step-10400-to-step-10450.mp4.\n",
      "Moviepy - Writing video /imitation/docs/tutorials/generated_videos/rl-video-step-10400-to-step-10450.mp4\n",
      "\n"
     ]
    },
    {
     "name": "stderr",
     "output_type": "stream",
     "text": [
      "                                                                                                                                         "
     ]
    },
    {
     "name": "stdout",
     "output_type": "stream",
     "text": [
      "Moviepy - Done !\n",
      "Moviepy - video ready /imitation/docs/tutorials/generated_videos/rl-video-step-10400-to-step-10450.mp4\n"
     ]
    },
    {
     "name": "stderr",
     "output_type": "stream",
     "text": [
      "\r"
     ]
    },
    {
     "name": "stdout",
     "output_type": "stream",
     "text": [
      "Saving video to /imitation/docs/tutorials/generated_videos/rl-video-step-10500-to-step-10550.mp4\n",
      "Moviepy - Building video /imitation/docs/tutorials/generated_videos/rl-video-step-10500-to-step-10550.mp4.\n",
      "Moviepy - Writing video /imitation/docs/tutorials/generated_videos/rl-video-step-10500-to-step-10550.mp4\n",
      "\n"
     ]
    },
    {
     "name": "stderr",
     "output_type": "stream",
     "text": [
      "                                                                                                                                         "
     ]
    },
    {
     "name": "stdout",
     "output_type": "stream",
     "text": [
      "Moviepy - Done !\n",
      "Moviepy - video ready /imitation/docs/tutorials/generated_videos/rl-video-step-10500-to-step-10550.mp4\n"
     ]
    },
    {
     "name": "stderr",
     "output_type": "stream",
     "text": [
      "\r"
     ]
    },
    {
     "name": "stdout",
     "output_type": "stream",
     "text": [
      "Saving video to /imitation/docs/tutorials/generated_videos/rl-video-step-10600-to-step-10650.mp4\n",
      "Moviepy - Building video /imitation/docs/tutorials/generated_videos/rl-video-step-10600-to-step-10650.mp4.\n",
      "Moviepy - Writing video /imitation/docs/tutorials/generated_videos/rl-video-step-10600-to-step-10650.mp4\n",
      "\n"
     ]
    },
    {
     "name": "stderr",
     "output_type": "stream",
     "text": [
      "                                                                                                                                         "
     ]
    },
    {
     "name": "stdout",
     "output_type": "stream",
     "text": [
      "Moviepy - Done !\n",
      "Moviepy - video ready /imitation/docs/tutorials/generated_videos/rl-video-step-10600-to-step-10650.mp4\n"
     ]
    },
    {
     "name": "stderr",
     "output_type": "stream",
     "text": [
      "\r"
     ]
    },
    {
     "name": "stdout",
     "output_type": "stream",
     "text": [
      "Saving video to /imitation/docs/tutorials/generated_videos/rl-video-step-10700-to-step-10750.mp4\n",
      "Moviepy - Building video /imitation/docs/tutorials/generated_videos/rl-video-step-10700-to-step-10750.mp4.\n",
      "Moviepy - Writing video /imitation/docs/tutorials/generated_videos/rl-video-step-10700-to-step-10750.mp4\n",
      "\n"
     ]
    },
    {
     "name": "stderr",
     "output_type": "stream",
     "text": [
      "                                                                                                                                         "
     ]
    },
    {
     "name": "stdout",
     "output_type": "stream",
     "text": [
      "Moviepy - Done !\n",
      "Moviepy - video ready /imitation/docs/tutorials/generated_videos/rl-video-step-10700-to-step-10750.mp4\n"
     ]
    },
    {
     "name": "stderr",
     "output_type": "stream",
     "text": [
      "\r"
     ]
    },
    {
     "name": "stdout",
     "output_type": "stream",
     "text": [
      "Saving video to /imitation/docs/tutorials/generated_videos/rl-video-step-10800-to-step-10850.mp4\n",
      "Moviepy - Building video /imitation/docs/tutorials/generated_videos/rl-video-step-10800-to-step-10850.mp4.\n",
      "Moviepy - Writing video /imitation/docs/tutorials/generated_videos/rl-video-step-10800-to-step-10850.mp4\n",
      "\n"
     ]
    },
    {
     "name": "stderr",
     "output_type": "stream",
     "text": [
      "                                                                                                                                         "
     ]
    },
    {
     "name": "stdout",
     "output_type": "stream",
     "text": [
      "Moviepy - Done !\n",
      "Moviepy - video ready /imitation/docs/tutorials/generated_videos/rl-video-step-10800-to-step-10850.mp4\n"
     ]
    },
    {
     "name": "stderr",
     "output_type": "stream",
     "text": [
      "\r"
     ]
    },
    {
     "name": "stdout",
     "output_type": "stream",
     "text": [
      "Saving video to /imitation/docs/tutorials/generated_videos/rl-video-step-10900-to-step-10950.mp4\n",
      "Moviepy - Building video /imitation/docs/tutorials/generated_videos/rl-video-step-10900-to-step-10950.mp4.\n",
      "Moviepy - Writing video /imitation/docs/tutorials/generated_videos/rl-video-step-10900-to-step-10950.mp4\n",
      "\n"
     ]
    },
    {
     "name": "stderr",
     "output_type": "stream",
     "text": [
      "                                                                                                                                         "
     ]
    },
    {
     "name": "stdout",
     "output_type": "stream",
     "text": [
      "Moviepy - Done !\n",
      "Moviepy - video ready /imitation/docs/tutorials/generated_videos/rl-video-step-10900-to-step-10950.mp4\n"
     ]
    },
    {
     "name": "stderr",
     "output_type": "stream",
     "text": [
      "\r"
     ]
    },
    {
     "name": "stdout",
     "output_type": "stream",
     "text": [
      "Saving video to /imitation/docs/tutorials/generated_videos/rl-video-step-11000-to-step-11050.mp4\n",
      "Moviepy - Building video /imitation/docs/tutorials/generated_videos/rl-video-step-11000-to-step-11050.mp4.\n",
      "Moviepy - Writing video /imitation/docs/tutorials/generated_videos/rl-video-step-11000-to-step-11050.mp4\n",
      "\n"
     ]
    },
    {
     "name": "stderr",
     "output_type": "stream",
     "text": [
      "                                                                                                                                         "
     ]
    },
    {
     "name": "stdout",
     "output_type": "stream",
     "text": [
      "Moviepy - Done !\n",
      "Moviepy - video ready /imitation/docs/tutorials/generated_videos/rl-video-step-11000-to-step-11050.mp4\n"
     ]
    },
    {
     "name": "stderr",
     "output_type": "stream",
     "text": [
      "\r"
     ]
    },
    {
     "name": "stdout",
     "output_type": "stream",
     "text": [
      "------------------------------------------------------\n",
      "| raw/                                 |             |\n",
      "|    agent/rollout/ep_len_mean         | 50          |\n",
      "|    agent/rollout/ep_rew_mean         | -61.1       |\n",
      "|    agent/rollout/ep_rew_wrapped_mean | -3.88       |\n",
      "|    agent/time/fps                    | 153         |\n",
      "|    agent/time/iterations             | 3           |\n",
      "|    agent/time/time_elapsed           | 39          |\n",
      "|    agent/time/total_timesteps        | 6144        |\n",
      "|    agent/train/approx_kl             | 0.004100733 |\n",
      "|    agent/train/clip_fraction         | 0.193       |\n",
      "|    agent/train/clip_range            | 0.1         |\n",
      "|    agent/train/entropy_loss          | -2.86       |\n",
      "|    agent/train/explained_variance    | 0.555       |\n",
      "|    agent/train/learning_rate         | 0.002       |\n",
      "|    agent/train/loss                  | 0.0128      |\n",
      "|    agent/train/n_updates             | 20          |\n",
      "|    agent/train/policy_gradient_loss  | -0.00915    |\n",
      "|    agent/train/std                   | 1.01        |\n",
      "|    agent/train/value_loss            | 0.107       |\n",
      "------------------------------------------------------\n",
      "Saving video to /imitation/docs/tutorials/generated_videos/rl-video-step-11100-to-step-11150.mp4\n",
      "Moviepy - Building video /imitation/docs/tutorials/generated_videos/rl-video-step-11100-to-step-11150.mp4.\n",
      "Moviepy - Writing video /imitation/docs/tutorials/generated_videos/rl-video-step-11100-to-step-11150.mp4\n",
      "\n"
     ]
    },
    {
     "name": "stderr",
     "output_type": "stream",
     "text": [
      "                                                                                                                                         "
     ]
    },
    {
     "name": "stdout",
     "output_type": "stream",
     "text": [
      "Moviepy - Done !\n",
      "Moviepy - video ready /imitation/docs/tutorials/generated_videos/rl-video-step-11100-to-step-11150.mp4\n"
     ]
    },
    {
     "name": "stderr",
     "output_type": "stream",
     "text": [
      "\r"
     ]
    },
    {
     "name": "stdout",
     "output_type": "stream",
     "text": [
      "Saving video to /imitation/docs/tutorials/generated_videos/rl-video-step-11200-to-step-11250.mp4\n",
      "Moviepy - Building video /imitation/docs/tutorials/generated_videos/rl-video-step-11200-to-step-11250.mp4.\n",
      "Moviepy - Writing video /imitation/docs/tutorials/generated_videos/rl-video-step-11200-to-step-11250.mp4\n",
      "\n"
     ]
    },
    {
     "name": "stderr",
     "output_type": "stream",
     "text": [
      "                                                                                                                                         "
     ]
    },
    {
     "name": "stdout",
     "output_type": "stream",
     "text": [
      "Moviepy - Done !\n",
      "Moviepy - video ready /imitation/docs/tutorials/generated_videos/rl-video-step-11200-to-step-11250.mp4\n"
     ]
    },
    {
     "name": "stderr",
     "output_type": "stream",
     "text": [
      "\r"
     ]
    },
    {
     "name": "stdout",
     "output_type": "stream",
     "text": [
      "Saving video to /imitation/docs/tutorials/generated_videos/rl-video-step-11300-to-step-11350.mp4\n",
      "Moviepy - Building video /imitation/docs/tutorials/generated_videos/rl-video-step-11300-to-step-11350.mp4.\n",
      "Moviepy - Writing video /imitation/docs/tutorials/generated_videos/rl-video-step-11300-to-step-11350.mp4\n",
      "\n"
     ]
    },
    {
     "name": "stderr",
     "output_type": "stream",
     "text": [
      "                                                                                                                                         "
     ]
    },
    {
     "name": "stdout",
     "output_type": "stream",
     "text": [
      "Moviepy - Done !\n",
      "Moviepy - video ready /imitation/docs/tutorials/generated_videos/rl-video-step-11300-to-step-11350.mp4\n"
     ]
    },
    {
     "name": "stderr",
     "output_type": "stream",
     "text": [
      "\r"
     ]
    },
    {
     "name": "stdout",
     "output_type": "stream",
     "text": [
      "Saving video to /imitation/docs/tutorials/generated_videos/rl-video-step-11400-to-step-11450.mp4\n",
      "Moviepy - Building video /imitation/docs/tutorials/generated_videos/rl-video-step-11400-to-step-11450.mp4.\n",
      "Moviepy - Writing video /imitation/docs/tutorials/generated_videos/rl-video-step-11400-to-step-11450.mp4\n",
      "\n"
     ]
    },
    {
     "name": "stderr",
     "output_type": "stream",
     "text": [
      "                                                                                                                                         "
     ]
    },
    {
     "name": "stdout",
     "output_type": "stream",
     "text": [
      "Moviepy - Done !\n",
      "Moviepy - video ready /imitation/docs/tutorials/generated_videos/rl-video-step-11400-to-step-11450.mp4\n"
     ]
    },
    {
     "name": "stderr",
     "output_type": "stream",
     "text": [
      "\r"
     ]
    },
    {
     "name": "stdout",
     "output_type": "stream",
     "text": [
      "Saving video to /imitation/docs/tutorials/generated_videos/rl-video-step-11500-to-step-11550.mp4\n",
      "Moviepy - Building video /imitation/docs/tutorials/generated_videos/rl-video-step-11500-to-step-11550.mp4.\n",
      "Moviepy - Writing video /imitation/docs/tutorials/generated_videos/rl-video-step-11500-to-step-11550.mp4\n",
      "\n"
     ]
    },
    {
     "name": "stderr",
     "output_type": "stream",
     "text": [
      "                                                                                                                                         "
     ]
    },
    {
     "name": "stdout",
     "output_type": "stream",
     "text": [
      "Moviepy - Done !\n",
      "Moviepy - video ready /imitation/docs/tutorials/generated_videos/rl-video-step-11500-to-step-11550.mp4\n"
     ]
    },
    {
     "name": "stderr",
     "output_type": "stream",
     "text": [
      "\r"
     ]
    },
    {
     "name": "stdout",
     "output_type": "stream",
     "text": [
      "Saving video to /imitation/docs/tutorials/generated_videos/rl-video-step-11600-to-step-11650.mp4\n",
      "Moviepy - Building video /imitation/docs/tutorials/generated_videos/rl-video-step-11600-to-step-11650.mp4.\n",
      "Moviepy - Writing video /imitation/docs/tutorials/generated_videos/rl-video-step-11600-to-step-11650.mp4\n",
      "\n"
     ]
    },
    {
     "name": "stderr",
     "output_type": "stream",
     "text": [
      "                                                                                                                                         "
     ]
    },
    {
     "name": "stdout",
     "output_type": "stream",
     "text": [
      "Moviepy - Done !\n",
      "Moviepy - video ready /imitation/docs/tutorials/generated_videos/rl-video-step-11600-to-step-11650.mp4\n"
     ]
    },
    {
     "name": "stderr",
     "output_type": "stream",
     "text": [
      "\r"
     ]
    },
    {
     "name": "stdout",
     "output_type": "stream",
     "text": [
      "Saving video to /imitation/docs/tutorials/generated_videos/rl-video-step-11700-to-step-11750.mp4\n",
      "Moviepy - Building video /imitation/docs/tutorials/generated_videos/rl-video-step-11700-to-step-11750.mp4.\n",
      "Moviepy - Writing video /imitation/docs/tutorials/generated_videos/rl-video-step-11700-to-step-11750.mp4\n",
      "\n"
     ]
    },
    {
     "name": "stderr",
     "output_type": "stream",
     "text": [
      "                                                                                                                                         "
     ]
    },
    {
     "name": "stdout",
     "output_type": "stream",
     "text": [
      "Moviepy - Done !\n",
      "Moviepy - video ready /imitation/docs/tutorials/generated_videos/rl-video-step-11700-to-step-11750.mp4\n"
     ]
    },
    {
     "name": "stderr",
     "output_type": "stream",
     "text": [
      "\r"
     ]
    },
    {
     "name": "stdout",
     "output_type": "stream",
     "text": [
      "Saving video to /imitation/docs/tutorials/generated_videos/rl-video-step-11800-to-step-11850.mp4\n",
      "Moviepy - Building video /imitation/docs/tutorials/generated_videos/rl-video-step-11800-to-step-11850.mp4.\n",
      "Moviepy - Writing video /imitation/docs/tutorials/generated_videos/rl-video-step-11800-to-step-11850.mp4\n",
      "\n"
     ]
    },
    {
     "name": "stderr",
     "output_type": "stream",
     "text": [
      "                                                                                                                                         "
     ]
    },
    {
     "name": "stdout",
     "output_type": "stream",
     "text": [
      "Moviepy - Done !\n",
      "Moviepy - video ready /imitation/docs/tutorials/generated_videos/rl-video-step-11800-to-step-11850.mp4\n"
     ]
    },
    {
     "name": "stderr",
     "output_type": "stream",
     "text": [
      "\r"
     ]
    },
    {
     "name": "stdout",
     "output_type": "stream",
     "text": [
      "Saving video to /imitation/docs/tutorials/generated_videos/rl-video-step-11900-to-step-11950.mp4\n",
      "Moviepy - Building video /imitation/docs/tutorials/generated_videos/rl-video-step-11900-to-step-11950.mp4.\n",
      "Moviepy - Writing video /imitation/docs/tutorials/generated_videos/rl-video-step-11900-to-step-11950.mp4\n",
      "\n"
     ]
    },
    {
     "name": "stderr",
     "output_type": "stream",
     "text": [
      "                                                                                                                                         "
     ]
    },
    {
     "name": "stdout",
     "output_type": "stream",
     "text": [
      "Moviepy - Done !\n",
      "Moviepy - video ready /imitation/docs/tutorials/generated_videos/rl-video-step-11900-to-step-11950.mp4\n"
     ]
    },
    {
     "name": "stderr",
     "output_type": "stream",
     "text": [
      "\r"
     ]
    },
    {
     "name": "stdout",
     "output_type": "stream",
     "text": [
      "Saving video to /imitation/docs/tutorials/generated_videos/rl-video-step-12000-to-step-12050.mp4\n",
      "Moviepy - Building video /imitation/docs/tutorials/generated_videos/rl-video-step-12000-to-step-12050.mp4.\n",
      "Moviepy - Writing video /imitation/docs/tutorials/generated_videos/rl-video-step-12000-to-step-12050.mp4\n",
      "\n"
     ]
    },
    {
     "name": "stderr",
     "output_type": "stream",
     "text": [
      "                                                                                                                                         "
     ]
    },
    {
     "name": "stdout",
     "output_type": "stream",
     "text": [
      "Moviepy - Done !\n",
      "Moviepy - video ready /imitation/docs/tutorials/generated_videos/rl-video-step-12000-to-step-12050.mp4\n"
     ]
    },
    {
     "name": "stderr",
     "output_type": "stream",
     "text": [
      "\r"
     ]
    },
    {
     "name": "stdout",
     "output_type": "stream",
     "text": [
      "Saving video to /imitation/docs/tutorials/generated_videos/rl-video-step-12100-to-step-12150.mp4\n",
      "Moviepy - Building video /imitation/docs/tutorials/generated_videos/rl-video-step-12100-to-step-12150.mp4.\n",
      "Moviepy - Writing video /imitation/docs/tutorials/generated_videos/rl-video-step-12100-to-step-12150.mp4\n",
      "\n"
     ]
    },
    {
     "name": "stderr",
     "output_type": "stream",
     "text": [
      "                                                                                                                                         "
     ]
    },
    {
     "name": "stdout",
     "output_type": "stream",
     "text": [
      "Moviepy - Done !\n",
      "Moviepy - video ready /imitation/docs/tutorials/generated_videos/rl-video-step-12100-to-step-12150.mp4\n"
     ]
    },
    {
     "name": "stderr",
     "output_type": "stream",
     "text": [
      "\r"
     ]
    },
    {
     "name": "stdout",
     "output_type": "stream",
     "text": [
      "Saving video to /imitation/docs/tutorials/generated_videos/rl-video-step-12200-to-step-12250.mp4\n",
      "Moviepy - Building video /imitation/docs/tutorials/generated_videos/rl-video-step-12200-to-step-12250.mp4.\n",
      "Moviepy - Writing video /imitation/docs/tutorials/generated_videos/rl-video-step-12200-to-step-12250.mp4\n",
      "\n"
     ]
    },
    {
     "name": "stderr",
     "output_type": "stream",
     "text": [
      "                                                                                                                                         "
     ]
    },
    {
     "name": "stdout",
     "output_type": "stream",
     "text": [
      "Moviepy - Done !\n",
      "Moviepy - video ready /imitation/docs/tutorials/generated_videos/rl-video-step-12200-to-step-12250.mp4\n"
     ]
    },
    {
     "name": "stderr",
     "output_type": "stream",
     "text": [
      "\r"
     ]
    },
    {
     "name": "stdout",
     "output_type": "stream",
     "text": [
      "Saving video to /imitation/docs/tutorials/generated_videos/rl-video-step-12300-to-step-12350.mp4\n",
      "Moviepy - Building video /imitation/docs/tutorials/generated_videos/rl-video-step-12300-to-step-12350.mp4.\n",
      "Moviepy - Writing video /imitation/docs/tutorials/generated_videos/rl-video-step-12300-to-step-12350.mp4\n",
      "\n"
     ]
    },
    {
     "name": "stderr",
     "output_type": "stream",
     "text": [
      "                                                                                                                                         "
     ]
    },
    {
     "name": "stdout",
     "output_type": "stream",
     "text": [
      "Moviepy - Done !\n",
      "Moviepy - video ready /imitation/docs/tutorials/generated_videos/rl-video-step-12300-to-step-12350.mp4\n"
     ]
    },
    {
     "name": "stderr",
     "output_type": "stream",
     "text": [
      "\r"
     ]
    },
    {
     "name": "stdout",
     "output_type": "stream",
     "text": [
      "Saving video to /imitation/docs/tutorials/generated_videos/rl-video-step-12400-to-step-12450.mp4\n",
      "Moviepy - Building video /imitation/docs/tutorials/generated_videos/rl-video-step-12400-to-step-12450.mp4.\n",
      "Moviepy - Writing video /imitation/docs/tutorials/generated_videos/rl-video-step-12400-to-step-12450.mp4\n",
      "\n"
     ]
    },
    {
     "name": "stderr",
     "output_type": "stream",
     "text": [
      "                                                                                                                                         "
     ]
    },
    {
     "name": "stdout",
     "output_type": "stream",
     "text": [
      "Moviepy - Done !\n",
      "Moviepy - video ready /imitation/docs/tutorials/generated_videos/rl-video-step-12400-to-step-12450.mp4\n"
     ]
    },
    {
     "name": "stderr",
     "output_type": "stream",
     "text": [
      "\r"
     ]
    },
    {
     "name": "stdout",
     "output_type": "stream",
     "text": [
      "Saving video to /imitation/docs/tutorials/generated_videos/rl-video-step-12500-to-step-12550.mp4\n",
      "Moviepy - Building video /imitation/docs/tutorials/generated_videos/rl-video-step-12500-to-step-12550.mp4.\n",
      "Moviepy - Writing video /imitation/docs/tutorials/generated_videos/rl-video-step-12500-to-step-12550.mp4\n",
      "\n"
     ]
    },
    {
     "name": "stderr",
     "output_type": "stream",
     "text": [
      "                                                                                                                                         "
     ]
    },
    {
     "name": "stdout",
     "output_type": "stream",
     "text": [
      "Moviepy - Done !\n",
      "Moviepy - video ready /imitation/docs/tutorials/generated_videos/rl-video-step-12500-to-step-12550.mp4\n"
     ]
    },
    {
     "name": "stderr",
     "output_type": "stream",
     "text": [
      "\r"
     ]
    },
    {
     "name": "stdout",
     "output_type": "stream",
     "text": [
      "Saving video to /imitation/docs/tutorials/generated_videos/rl-video-step-12600-to-step-12650.mp4\n",
      "Moviepy - Building video /imitation/docs/tutorials/generated_videos/rl-video-step-12600-to-step-12650.mp4.\n",
      "Moviepy - Writing video /imitation/docs/tutorials/generated_videos/rl-video-step-12600-to-step-12650.mp4\n",
      "\n"
     ]
    },
    {
     "name": "stderr",
     "output_type": "stream",
     "text": [
      "                                                                                                                                         "
     ]
    },
    {
     "name": "stdout",
     "output_type": "stream",
     "text": [
      "Moviepy - Done !\n",
      "Moviepy - video ready /imitation/docs/tutorials/generated_videos/rl-video-step-12600-to-step-12650.mp4\n"
     ]
    },
    {
     "name": "stderr",
     "output_type": "stream",
     "text": [
      "\r"
     ]
    },
    {
     "name": "stdout",
     "output_type": "stream",
     "text": [
      "Saving video to /imitation/docs/tutorials/generated_videos/rl-video-step-12700-to-step-12750.mp4\n",
      "Moviepy - Building video /imitation/docs/tutorials/generated_videos/rl-video-step-12700-to-step-12750.mp4.\n",
      "Moviepy - Writing video /imitation/docs/tutorials/generated_videos/rl-video-step-12700-to-step-12750.mp4\n",
      "\n"
     ]
    },
    {
     "name": "stderr",
     "output_type": "stream",
     "text": [
      "                                                                                                                                         "
     ]
    },
    {
     "name": "stdout",
     "output_type": "stream",
     "text": [
      "Moviepy - Done !\n",
      "Moviepy - video ready /imitation/docs/tutorials/generated_videos/rl-video-step-12700-to-step-12750.mp4\n"
     ]
    },
    {
     "name": "stderr",
     "output_type": "stream",
     "text": [
      "\r"
     ]
    },
    {
     "name": "stdout",
     "output_type": "stream",
     "text": [
      "Saving video to /imitation/docs/tutorials/generated_videos/rl-video-step-12800-to-step-12850.mp4\n",
      "Moviepy - Building video /imitation/docs/tutorials/generated_videos/rl-video-step-12800-to-step-12850.mp4.\n",
      "Moviepy - Writing video /imitation/docs/tutorials/generated_videos/rl-video-step-12800-to-step-12850.mp4\n",
      "\n"
     ]
    },
    {
     "name": "stderr",
     "output_type": "stream",
     "text": [
      "                                                                                                                                         "
     ]
    },
    {
     "name": "stdout",
     "output_type": "stream",
     "text": [
      "Moviepy - Done !\n",
      "Moviepy - video ready /imitation/docs/tutorials/generated_videos/rl-video-step-12800-to-step-12850.mp4\n"
     ]
    },
    {
     "name": "stderr",
     "output_type": "stream",
     "text": [
      "\r"
     ]
    },
    {
     "name": "stdout",
     "output_type": "stream",
     "text": [
      "Saving video to /imitation/docs/tutorials/generated_videos/rl-video-step-12900-to-step-12950.mp4\n",
      "Moviepy - Building video /imitation/docs/tutorials/generated_videos/rl-video-step-12900-to-step-12950.mp4.\n",
      "Moviepy - Writing video /imitation/docs/tutorials/generated_videos/rl-video-step-12900-to-step-12950.mp4\n",
      "\n"
     ]
    },
    {
     "name": "stderr",
     "output_type": "stream",
     "text": [
      "                                                                                                                                         "
     ]
    },
    {
     "name": "stdout",
     "output_type": "stream",
     "text": [
      "Moviepy - Done !\n",
      "Moviepy - video ready /imitation/docs/tutorials/generated_videos/rl-video-step-12900-to-step-12950.mp4\n"
     ]
    },
    {
     "name": "stderr",
     "output_type": "stream",
     "text": [
      "\r"
     ]
    },
    {
     "name": "stdout",
     "output_type": "stream",
     "text": [
      "Saving video to /imitation/docs/tutorials/generated_videos/rl-video-step-13000-to-step-13050.mp4\n",
      "Moviepy - Building video /imitation/docs/tutorials/generated_videos/rl-video-step-13000-to-step-13050.mp4.\n",
      "Moviepy - Writing video /imitation/docs/tutorials/generated_videos/rl-video-step-13000-to-step-13050.mp4\n",
      "\n"
     ]
    },
    {
     "name": "stderr",
     "output_type": "stream",
     "text": [
      "                                                                                                                                         "
     ]
    },
    {
     "name": "stdout",
     "output_type": "stream",
     "text": [
      "Moviepy - Done !\n",
      "Moviepy - video ready /imitation/docs/tutorials/generated_videos/rl-video-step-13000-to-step-13050.mp4\n"
     ]
    },
    {
     "name": "stderr",
     "output_type": "stream",
     "text": [
      "\r"
     ]
    },
    {
     "name": "stdout",
     "output_type": "stream",
     "text": [
      "Saving video to /imitation/docs/tutorials/generated_videos/rl-video-step-13100-to-step-13150.mp4\n",
      "Moviepy - Building video /imitation/docs/tutorials/generated_videos/rl-video-step-13100-to-step-13150.mp4.\n",
      "Moviepy - Writing video /imitation/docs/tutorials/generated_videos/rl-video-step-13100-to-step-13150.mp4\n",
      "\n"
     ]
    },
    {
     "name": "stderr",
     "output_type": "stream",
     "text": [
      "                                                                                                                                         "
     ]
    },
    {
     "name": "stdout",
     "output_type": "stream",
     "text": [
      "Moviepy - Done !\n",
      "Moviepy - video ready /imitation/docs/tutorials/generated_videos/rl-video-step-13100-to-step-13150.mp4\n"
     ]
    },
    {
     "name": "stderr",
     "output_type": "stream",
     "text": [
      "\r"
     ]
    },
    {
     "name": "stdout",
     "output_type": "stream",
     "text": [
      "------------------------------------------------------\n",
      "| raw/                                 |             |\n",
      "|    agent/rollout/ep_len_mean         | 50          |\n",
      "|    agent/rollout/ep_rew_mean         | -61         |\n",
      "|    agent/rollout/ep_rew_wrapped_mean | -4.94       |\n",
      "|    agent/time/fps                    | 152         |\n",
      "|    agent/time/iterations             | 4           |\n",
      "|    agent/time/time_elapsed           | 53          |\n",
      "|    agent/time/total_timesteps        | 8192        |\n",
      "|    agent/train/approx_kl             | 0.003926114 |\n",
      "|    agent/train/clip_fraction         | 0.205       |\n",
      "|    agent/train/clip_range            | 0.1         |\n",
      "|    agent/train/entropy_loss          | -2.85       |\n",
      "|    agent/train/explained_variance    | 0.589       |\n",
      "|    agent/train/learning_rate         | 0.002       |\n",
      "|    agent/train/loss                  | 0.0125      |\n",
      "|    agent/train/n_updates             | 30          |\n",
      "|    agent/train/policy_gradient_loss  | -0.0104     |\n",
      "|    agent/train/std                   | 1.01        |\n",
      "|    agent/train/value_loss            | 0.141       |\n",
      "------------------------------------------------------\n",
      "Saving video to /imitation/docs/tutorials/generated_videos/rl-video-step-13200-to-step-13250.mp4\n",
      "Moviepy - Building video /imitation/docs/tutorials/generated_videos/rl-video-step-13200-to-step-13250.mp4.\n",
      "Moviepy - Writing video /imitation/docs/tutorials/generated_videos/rl-video-step-13200-to-step-13250.mp4\n",
      "\n"
     ]
    },
    {
     "name": "stderr",
     "output_type": "stream",
     "text": [
      "                                                                                                                                         "
     ]
    },
    {
     "name": "stdout",
     "output_type": "stream",
     "text": [
      "Moviepy - Done !\n",
      "Moviepy - video ready /imitation/docs/tutorials/generated_videos/rl-video-step-13200-to-step-13250.mp4\n"
     ]
    },
    {
     "name": "stderr",
     "output_type": "stream",
     "text": [
      "\r"
     ]
    },
    {
     "name": "stdout",
     "output_type": "stream",
     "text": [
      "Saving video to /imitation/docs/tutorials/generated_videos/rl-video-step-13300-to-step-13350.mp4\n",
      "Moviepy - Building video /imitation/docs/tutorials/generated_videos/rl-video-step-13300-to-step-13350.mp4.\n",
      "Moviepy - Writing video /imitation/docs/tutorials/generated_videos/rl-video-step-13300-to-step-13350.mp4\n",
      "\n"
     ]
    },
    {
     "name": "stderr",
     "output_type": "stream",
     "text": [
      "                                                                                                                                         "
     ]
    },
    {
     "name": "stdout",
     "output_type": "stream",
     "text": [
      "Moviepy - Done !\n",
      "Moviepy - video ready /imitation/docs/tutorials/generated_videos/rl-video-step-13300-to-step-13350.mp4\n"
     ]
    },
    {
     "name": "stderr",
     "output_type": "stream",
     "text": [
      "\r"
     ]
    },
    {
     "name": "stdout",
     "output_type": "stream",
     "text": [
      "Saving video to /imitation/docs/tutorials/generated_videos/rl-video-step-13400-to-step-13450.mp4\n",
      "Moviepy - Building video /imitation/docs/tutorials/generated_videos/rl-video-step-13400-to-step-13450.mp4.\n",
      "Moviepy - Writing video /imitation/docs/tutorials/generated_videos/rl-video-step-13400-to-step-13450.mp4\n",
      "\n"
     ]
    },
    {
     "name": "stderr",
     "output_type": "stream",
     "text": [
      "                                                                                                                                         \r"
     ]
    },
    {
     "name": "stdout",
     "output_type": "stream",
     "text": [
      "Moviepy - Done !\n",
      "Moviepy - video ready /imitation/docs/tutorials/generated_videos/rl-video-step-13400-to-step-13450.mp4\n",
      "Saving video to /imitation/docs/tutorials/generated_videos/rl-video-step-13500-to-step-13550.mp4\n",
      "Moviepy - Building video /imitation/docs/tutorials/generated_videos/rl-video-step-13500-to-step-13550.mp4.\n",
      "Moviepy - Writing video /imitation/docs/tutorials/generated_videos/rl-video-step-13500-to-step-13550.mp4\n",
      "\n"
     ]
    },
    {
     "name": "stderr",
     "output_type": "stream",
     "text": [
      "                                                                                                                                         \r"
     ]
    },
    {
     "name": "stdout",
     "output_type": "stream",
     "text": [
      "Moviepy - Done !\n",
      "Moviepy - video ready /imitation/docs/tutorials/generated_videos/rl-video-step-13500-to-step-13550.mp4\n",
      "Saving video to /imitation/docs/tutorials/generated_videos/rl-video-step-13600-to-step-13650.mp4\n",
      "Moviepy - Building video /imitation/docs/tutorials/generated_videos/rl-video-step-13600-to-step-13650.mp4.\n",
      "Moviepy - Writing video /imitation/docs/tutorials/generated_videos/rl-video-step-13600-to-step-13650.mp4\n",
      "\n"
     ]
    },
    {
     "name": "stderr",
     "output_type": "stream",
     "text": [
      "                                                                                                                                         "
     ]
    },
    {
     "name": "stdout",
     "output_type": "stream",
     "text": [
      "Moviepy - Done !\n",
      "Moviepy - video ready /imitation/docs/tutorials/generated_videos/rl-video-step-13600-to-step-13650.mp4\n"
     ]
    },
    {
     "name": "stderr",
     "output_type": "stream",
     "text": [
      "\r"
     ]
    },
    {
     "name": "stdout",
     "output_type": "stream",
     "text": [
      "Saving video to /imitation/docs/tutorials/generated_videos/rl-video-step-13700-to-step-13750.mp4\n",
      "Moviepy - Building video /imitation/docs/tutorials/generated_videos/rl-video-step-13700-to-step-13750.mp4.\n",
      "Moviepy - Writing video /imitation/docs/tutorials/generated_videos/rl-video-step-13700-to-step-13750.mp4\n",
      "\n"
     ]
    },
    {
     "name": "stderr",
     "output_type": "stream",
     "text": [
      "                                                                                                                                         "
     ]
    },
    {
     "name": "stdout",
     "output_type": "stream",
     "text": [
      "Moviepy - Done !\n",
      "Moviepy - video ready /imitation/docs/tutorials/generated_videos/rl-video-step-13700-to-step-13750.mp4\n"
     ]
    },
    {
     "name": "stderr",
     "output_type": "stream",
     "text": [
      "\r"
     ]
    },
    {
     "name": "stdout",
     "output_type": "stream",
     "text": [
      "Saving video to /imitation/docs/tutorials/generated_videos/rl-video-step-13800-to-step-13850.mp4\n",
      "Moviepy - Building video /imitation/docs/tutorials/generated_videos/rl-video-step-13800-to-step-13850.mp4.\n",
      "Moviepy - Writing video /imitation/docs/tutorials/generated_videos/rl-video-step-13800-to-step-13850.mp4\n",
      "\n"
     ]
    },
    {
     "name": "stderr",
     "output_type": "stream",
     "text": [
      "                                                                                                                                         "
     ]
    },
    {
     "name": "stdout",
     "output_type": "stream",
     "text": [
      "Moviepy - Done !\n",
      "Moviepy - video ready /imitation/docs/tutorials/generated_videos/rl-video-step-13800-to-step-13850.mp4\n"
     ]
    },
    {
     "name": "stderr",
     "output_type": "stream",
     "text": [
      "\r"
     ]
    },
    {
     "name": "stdout",
     "output_type": "stream",
     "text": [
      "Saving video to /imitation/docs/tutorials/generated_videos/rl-video-step-13900-to-step-13950.mp4\n",
      "Moviepy - Building video /imitation/docs/tutorials/generated_videos/rl-video-step-13900-to-step-13950.mp4.\n",
      "Moviepy - Writing video /imitation/docs/tutorials/generated_videos/rl-video-step-13900-to-step-13950.mp4\n",
      "\n"
     ]
    },
    {
     "name": "stderr",
     "output_type": "stream",
     "text": [
      "                                                                                                                                         "
     ]
    },
    {
     "name": "stdout",
     "output_type": "stream",
     "text": [
      "Moviepy - Done !\n",
      "Moviepy - video ready /imitation/docs/tutorials/generated_videos/rl-video-step-13900-to-step-13950.mp4\n"
     ]
    },
    {
     "name": "stderr",
     "output_type": "stream",
     "text": [
      "\r"
     ]
    },
    {
     "name": "stdout",
     "output_type": "stream",
     "text": [
      "Saving video to /imitation/docs/tutorials/generated_videos/rl-video-step-14000-to-step-14050.mp4\n",
      "Moviepy - Building video /imitation/docs/tutorials/generated_videos/rl-video-step-14000-to-step-14050.mp4.\n",
      "Moviepy - Writing video /imitation/docs/tutorials/generated_videos/rl-video-step-14000-to-step-14050.mp4\n",
      "\n"
     ]
    },
    {
     "name": "stderr",
     "output_type": "stream",
     "text": [
      "                                                                                                                                         "
     ]
    },
    {
     "name": "stdout",
     "output_type": "stream",
     "text": [
      "Moviepy - Done !\n",
      "Moviepy - video ready /imitation/docs/tutorials/generated_videos/rl-video-step-14000-to-step-14050.mp4\n"
     ]
    },
    {
     "name": "stderr",
     "output_type": "stream",
     "text": [
      "\r"
     ]
    },
    {
     "name": "stdout",
     "output_type": "stream",
     "text": [
      "Saving video to /imitation/docs/tutorials/generated_videos/rl-video-step-14100-to-step-14150.mp4\n",
      "Moviepy - Building video /imitation/docs/tutorials/generated_videos/rl-video-step-14100-to-step-14150.mp4.\n",
      "Moviepy - Writing video /imitation/docs/tutorials/generated_videos/rl-video-step-14100-to-step-14150.mp4\n",
      "\n"
     ]
    },
    {
     "name": "stderr",
     "output_type": "stream",
     "text": [
      "                                                                                                                                         "
     ]
    },
    {
     "name": "stdout",
     "output_type": "stream",
     "text": [
      "Moviepy - Done !\n",
      "Moviepy - video ready /imitation/docs/tutorials/generated_videos/rl-video-step-14100-to-step-14150.mp4\n"
     ]
    },
    {
     "name": "stderr",
     "output_type": "stream",
     "text": [
      "\r"
     ]
    },
    {
     "name": "stdout",
     "output_type": "stream",
     "text": [
      "Saving video to /imitation/docs/tutorials/generated_videos/rl-video-step-14200-to-step-14250.mp4\n",
      "Moviepy - Building video /imitation/docs/tutorials/generated_videos/rl-video-step-14200-to-step-14250.mp4.\n",
      "Moviepy - Writing video /imitation/docs/tutorials/generated_videos/rl-video-step-14200-to-step-14250.mp4\n",
      "\n"
     ]
    },
    {
     "name": "stderr",
     "output_type": "stream",
     "text": [
      "                                                                                                                                         "
     ]
    },
    {
     "name": "stdout",
     "output_type": "stream",
     "text": [
      "Moviepy - Done !\n",
      "Moviepy - video ready /imitation/docs/tutorials/generated_videos/rl-video-step-14200-to-step-14250.mp4\n"
     ]
    },
    {
     "name": "stderr",
     "output_type": "stream",
     "text": [
      "\r"
     ]
    },
    {
     "name": "stdout",
     "output_type": "stream",
     "text": [
      "Saving video to /imitation/docs/tutorials/generated_videos/rl-video-step-14300-to-step-14350.mp4\n",
      "Moviepy - Building video /imitation/docs/tutorials/generated_videos/rl-video-step-14300-to-step-14350.mp4.\n",
      "Moviepy - Writing video /imitation/docs/tutorials/generated_videos/rl-video-step-14300-to-step-14350.mp4\n",
      "\n"
     ]
    },
    {
     "name": "stderr",
     "output_type": "stream",
     "text": [
      "                                                                                                                                         \r"
     ]
    },
    {
     "name": "stdout",
     "output_type": "stream",
     "text": [
      "Moviepy - Done !\n",
      "Moviepy - video ready /imitation/docs/tutorials/generated_videos/rl-video-step-14300-to-step-14350.mp4\n",
      "Saving video to /imitation/docs/tutorials/generated_videos/rl-video-step-14400-to-step-14450.mp4\n",
      "Moviepy - Building video /imitation/docs/tutorials/generated_videos/rl-video-step-14400-to-step-14450.mp4.\n",
      "Moviepy - Writing video /imitation/docs/tutorials/generated_videos/rl-video-step-14400-to-step-14450.mp4\n",
      "\n"
     ]
    },
    {
     "name": "stderr",
     "output_type": "stream",
     "text": [
      "                                                                                                                                         \r"
     ]
    },
    {
     "name": "stdout",
     "output_type": "stream",
     "text": [
      "Moviepy - Done !\n",
      "Moviepy - video ready /imitation/docs/tutorials/generated_videos/rl-video-step-14400-to-step-14450.mp4\n",
      "Saving video to /imitation/docs/tutorials/generated_videos/rl-video-step-14500-to-step-14550.mp4\n",
      "Moviepy - Building video /imitation/docs/tutorials/generated_videos/rl-video-step-14500-to-step-14550.mp4.\n",
      "Moviepy - Writing video /imitation/docs/tutorials/generated_videos/rl-video-step-14500-to-step-14550.mp4\n",
      "\n"
     ]
    },
    {
     "name": "stderr",
     "output_type": "stream",
     "text": [
      "                                                                                                                                         \r"
     ]
    },
    {
     "name": "stdout",
     "output_type": "stream",
     "text": [
      "Moviepy - Done !\n",
      "Moviepy - video ready /imitation/docs/tutorials/generated_videos/rl-video-step-14500-to-step-14550.mp4\n",
      "Saving video to /imitation/docs/tutorials/generated_videos/rl-video-step-14600-to-step-14650.mp4\n",
      "Moviepy - Building video /imitation/docs/tutorials/generated_videos/rl-video-step-14600-to-step-14650.mp4.\n",
      "Moviepy - Writing video /imitation/docs/tutorials/generated_videos/rl-video-step-14600-to-step-14650.mp4\n",
      "\n"
     ]
    },
    {
     "name": "stderr",
     "output_type": "stream",
     "text": [
      "                                                                                                                                         \r"
     ]
    },
    {
     "name": "stdout",
     "output_type": "stream",
     "text": [
      "Moviepy - Done !\n",
      "Moviepy - video ready /imitation/docs/tutorials/generated_videos/rl-video-step-14600-to-step-14650.mp4\n",
      "Saving video to /imitation/docs/tutorials/generated_videos/rl-video-step-14700-to-step-14750.mp4\n",
      "Moviepy - Building video /imitation/docs/tutorials/generated_videos/rl-video-step-14700-to-step-14750.mp4.\n",
      "Moviepy - Writing video /imitation/docs/tutorials/generated_videos/rl-video-step-14700-to-step-14750.mp4\n",
      "\n"
     ]
    },
    {
     "name": "stderr",
     "output_type": "stream",
     "text": [
      "                                                                                                                                         "
     ]
    },
    {
     "name": "stdout",
     "output_type": "stream",
     "text": [
      "Moviepy - Done !\n",
      "Moviepy - video ready /imitation/docs/tutorials/generated_videos/rl-video-step-14700-to-step-14750.mp4\n"
     ]
    },
    {
     "name": "stderr",
     "output_type": "stream",
     "text": [
      "\r"
     ]
    },
    {
     "name": "stdout",
     "output_type": "stream",
     "text": [
      "Saving video to /imitation/docs/tutorials/generated_videos/rl-video-step-14800-to-step-14850.mp4\n",
      "Moviepy - Building video /imitation/docs/tutorials/generated_videos/rl-video-step-14800-to-step-14850.mp4.\n",
      "Moviepy - Writing video /imitation/docs/tutorials/generated_videos/rl-video-step-14800-to-step-14850.mp4\n",
      "\n"
     ]
    },
    {
     "name": "stderr",
     "output_type": "stream",
     "text": [
      "                                                                                                                                         \r"
     ]
    },
    {
     "name": "stdout",
     "output_type": "stream",
     "text": [
      "Moviepy - Done !\n",
      "Moviepy - video ready /imitation/docs/tutorials/generated_videos/rl-video-step-14800-to-step-14850.mp4\n",
      "Saving video to /imitation/docs/tutorials/generated_videos/rl-video-step-14900-to-step-14950.mp4\n",
      "Moviepy - Building video /imitation/docs/tutorials/generated_videos/rl-video-step-14900-to-step-14950.mp4.\n",
      "Moviepy - Writing video /imitation/docs/tutorials/generated_videos/rl-video-step-14900-to-step-14950.mp4\n",
      "\n"
     ]
    },
    {
     "name": "stderr",
     "output_type": "stream",
     "text": [
      "                                                                                                                                         \r"
     ]
    },
    {
     "name": "stdout",
     "output_type": "stream",
     "text": [
      "Moviepy - Done !\n",
      "Moviepy - video ready /imitation/docs/tutorials/generated_videos/rl-video-step-14900-to-step-14950.mp4\n",
      "Saving video to /imitation/docs/tutorials/generated_videos/rl-video-step-15000-to-step-15050.mp4\n",
      "Moviepy - Building video /imitation/docs/tutorials/generated_videos/rl-video-step-15000-to-step-15050.mp4.\n",
      "Moviepy - Writing video /imitation/docs/tutorials/generated_videos/rl-video-step-15000-to-step-15050.mp4\n",
      "\n"
     ]
    },
    {
     "name": "stderr",
     "output_type": "stream",
     "text": [
      "                                                                                                                                         \r"
     ]
    },
    {
     "name": "stdout",
     "output_type": "stream",
     "text": [
      "Moviepy - Done !\n",
      "Moviepy - video ready /imitation/docs/tutorials/generated_videos/rl-video-step-15000-to-step-15050.mp4\n",
      "Saving video to /imitation/docs/tutorials/generated_videos/rl-video-step-15100-to-step-15150.mp4\n",
      "Moviepy - Building video /imitation/docs/tutorials/generated_videos/rl-video-step-15100-to-step-15150.mp4.\n",
      "Moviepy - Writing video /imitation/docs/tutorials/generated_videos/rl-video-step-15100-to-step-15150.mp4\n",
      "\n"
     ]
    },
    {
     "name": "stderr",
     "output_type": "stream",
     "text": [
      "                                                                                                                                         \r"
     ]
    },
    {
     "name": "stdout",
     "output_type": "stream",
     "text": [
      "Moviepy - Done !\n",
      "Moviepy - video ready /imitation/docs/tutorials/generated_videos/rl-video-step-15100-to-step-15150.mp4\n",
      "-------------------------------------------------------\n",
      "| raw/                                 |              |\n",
      "|    agent/rollout/ep_len_mean         | 50           |\n",
      "|    agent/rollout/ep_rew_mean         | -61.5        |\n",
      "|    agent/rollout/ep_rew_wrapped_mean | -4.66        |\n",
      "|    agent/time/fps                    | 141          |\n",
      "|    agent/time/iterations             | 5            |\n",
      "|    agent/time/time_elapsed           | 72           |\n",
      "|    agent/time/total_timesteps        | 10240        |\n",
      "|    agent/train/approx_kl             | 0.0063671647 |\n",
      "|    agent/train/clip_fraction         | 0.233        |\n",
      "|    agent/train/clip_range            | 0.1          |\n",
      "|    agent/train/entropy_loss          | -2.88        |\n",
      "|    agent/train/explained_variance    | 0.522        |\n",
      "|    agent/train/learning_rate         | 0.002        |\n",
      "|    agent/train/loss                  | -0.0236      |\n",
      "|    agent/train/n_updates             | 40           |\n",
      "|    agent/train/policy_gradient_loss  | -0.0136      |\n",
      "|    agent/train/std                   | 1.02         |\n",
      "|    agent/train/value_loss            | 0.126        |\n",
      "-------------------------------------------------------\n",
      "------------------------------------------------------\n",
      "| mean/                                   |          |\n",
      "|    agent/rollout/ep_len_mean            | 50       |\n",
      "|    agent/rollout/ep_rew_mean            | -60.9    |\n",
      "|    agent/rollout/ep_rew_wrapped_mean    | -2.83    |\n",
      "|    agent/time/fps                       | 153      |\n",
      "|    agent/time/iterations                | 3        |\n",
      "|    agent/time/time_elapsed              | 40.4     |\n",
      "|    agent/time/total_timesteps           | 6.14e+03 |\n",
      "|    agent/train/approx_kl                | 0.00497  |\n",
      "|    agent/train/clip_fraction            | 0.21     |\n",
      "|    agent/train/clip_range               | 0.1      |\n",
      "|    agent/train/entropy_loss             | -2.86    |\n",
      "|    agent/train/explained_variance       | 0.41     |\n",
      "|    agent/train/learning_rate            | 0.002    |\n",
      "|    agent/train/loss                     | 0.000677 |\n",
      "|    agent/train/n_updates                | 30       |\n",
      "|    agent/train/policy_gradient_loss     | -0.0104  |\n",
      "|    agent/train/std                      | 1.01     |\n",
      "|    agent/train/value_loss               | 0.139    |\n",
      "|    preferences/entropy                  | 0.16     |\n",
      "|    reward/epoch-0/train/accuracy        | 0.661    |\n",
      "|    reward/epoch-0/train/gt_reward_loss  | 0.166    |\n",
      "|    reward/epoch-0/train/loss            | 0.852    |\n",
      "|    reward/epoch-1/train/accuracy        | 0.661    |\n",
      "|    reward/epoch-1/train/gt_reward_loss  | 0.162    |\n",
      "|    reward/epoch-1/train/loss            | 0.755    |\n",
      "|    reward/epoch-10/train/accuracy       | 0.795    |\n",
      "|    reward/epoch-10/train/gt_reward_loss | 0.15     |\n",
      "|    reward/epoch-10/train/loss           | 0.398    |\n",
      "|    reward/epoch-11/train/accuracy       | 0.795    |\n",
      "|    reward/epoch-11/train/gt_reward_loss | 0.15     |\n",
      "|    reward/epoch-11/train/loss           | 0.383    |\n",
      "|    reward/epoch-2/train/accuracy        | 0.681    |\n",
      "|    reward/epoch-2/train/gt_reward_loss  | 0.142    |\n",
      "|    reward/epoch-2/train/loss            | 0.615    |\n",
      "|    reward/epoch-3/train/accuracy        | 0.681    |\n",
      "|    reward/epoch-3/train/gt_reward_loss  | 0.124    |\n",
      "|    reward/epoch-3/train/loss            | 0.559    |\n",
      "|    reward/epoch-4/train/accuracy        | 0.729    |\n",
      "|    reward/epoch-4/train/gt_reward_loss  | 0.132    |\n",
      "|    reward/epoch-4/train/loss            | 0.474    |\n",
      "|    reward/epoch-5/train/accuracy        | 0.708    |\n",
      "|    reward/epoch-5/train/gt_reward_loss  | 0.148    |\n",
      "|    reward/epoch-5/train/loss            | 0.501    |\n",
      "|    reward/epoch-6/train/accuracy        | 0.708    |\n",
      "|    reward/epoch-6/train/gt_reward_loss  | 0.152    |\n",
      "|    reward/epoch-6/train/loss            | 0.488    |\n",
      "|    reward/epoch-7/train/accuracy        | 0.696    |\n",
      "|    reward/epoch-7/train/gt_reward_loss  | 0.16     |\n",
      "|    reward/epoch-7/train/loss            | 0.481    |\n",
      "|    reward/epoch-8/train/accuracy        | 0.748    |\n",
      "|    reward/epoch-8/train/gt_reward_loss  | 0.123    |\n",
      "|    reward/epoch-8/train/loss            | 0.447    |\n",
      "|    reward/epoch-9/train/accuracy        | 0.752    |\n",
      "|    reward/epoch-9/train/gt_reward_loss  | 0.139    |\n",
      "|    reward/epoch-9/train/loss            | 0.429    |\n",
      "| reward/                                 |          |\n",
      "|    final/train/accuracy                 | 0.795    |\n",
      "|    final/train/gt_reward_loss           | 0.15     |\n",
      "|    final/train/loss                     | 0.383    |\n",
      "------------------------------------------------------\n",
      "Collecting 254 fragments (12700 transitions)\n",
      "Requested 12065 transitions but only 10200 in buffer. Sampling 1865 additional transitions.\n",
      "Moviepy - Building video /imitation/docs/tutorials/generated_videos/rl-video-step-15200-to-step-15250.mp4.\n",
      "Moviepy - Writing video /imitation/docs/tutorials/generated_videos/rl-video-step-15200-to-step-15250.mp4\n",
      "\n"
     ]
    },
    {
     "name": "stderr",
     "output_type": "stream",
     "text": [
      "                                                                                                                                         "
     ]
    },
    {
     "name": "stdout",
     "output_type": "stream",
     "text": [
      "Moviepy - Done !\n",
      "Moviepy - video ready /imitation/docs/tutorials/generated_videos/rl-video-step-15200-to-step-15250.mp4\n"
     ]
    },
    {
     "name": "stderr",
     "output_type": "stream",
     "text": [
      "\r"
     ]
    },
    {
     "name": "stdout",
     "output_type": "stream",
     "text": [
      "Saving video to /imitation/docs/tutorials/generated_videos/rl-video-step-15240-to-step-15290.mp4\n",
      "Moviepy - Building video /imitation/docs/tutorials/generated_videos/rl-video-step-15240-to-step-15290.mp4.\n",
      "Moviepy - Writing video /imitation/docs/tutorials/generated_videos/rl-video-step-15240-to-step-15290.mp4\n",
      "\n"
     ]
    },
    {
     "name": "stderr",
     "output_type": "stream",
     "text": [
      "                                                                                                                                         "
     ]
    },
    {
     "name": "stdout",
     "output_type": "stream",
     "text": [
      "Moviepy - Done !\n",
      "Moviepy - video ready /imitation/docs/tutorials/generated_videos/rl-video-step-15240-to-step-15290.mp4\n"
     ]
    },
    {
     "name": "stderr",
     "output_type": "stream",
     "text": [
      "\r"
     ]
    },
    {
     "name": "stdout",
     "output_type": "stream",
     "text": [
      "Saving video to /imitation/docs/tutorials/generated_videos/rl-video-step-15300-to-step-15350.mp4\n",
      "Moviepy - Building video /imitation/docs/tutorials/generated_videos/rl-video-step-15300-to-step-15350.mp4.\n",
      "Moviepy - Writing video /imitation/docs/tutorials/generated_videos/rl-video-step-15300-to-step-15350.mp4\n",
      "\n"
     ]
    },
    {
     "name": "stderr",
     "output_type": "stream",
     "text": [
      "                                                                                                                                         \r"
     ]
    },
    {
     "name": "stdout",
     "output_type": "stream",
     "text": [
      "Moviepy - Done !\n",
      "Moviepy - video ready /imitation/docs/tutorials/generated_videos/rl-video-step-15300-to-step-15350.mp4\n",
      "Saving video to /imitation/docs/tutorials/generated_videos/rl-video-step-15400-to-step-15450.mp4\n",
      "Moviepy - Building video /imitation/docs/tutorials/generated_videos/rl-video-step-15400-to-step-15450.mp4.\n",
      "Moviepy - Writing video /imitation/docs/tutorials/generated_videos/rl-video-step-15400-to-step-15450.mp4\n",
      "\n"
     ]
    },
    {
     "name": "stderr",
     "output_type": "stream",
     "text": [
      "                                                                                                                                         "
     ]
    },
    {
     "name": "stdout",
     "output_type": "stream",
     "text": [
      "Moviepy - Done !\n",
      "Moviepy - video ready /imitation/docs/tutorials/generated_videos/rl-video-step-15400-to-step-15450.mp4\n"
     ]
    },
    {
     "name": "stderr",
     "output_type": "stream",
     "text": [
      "\r"
     ]
    },
    {
     "name": "stdout",
     "output_type": "stream",
     "text": [
      "Saving video to /imitation/docs/tutorials/generated_videos/rl-video-step-15500-to-step-15550.mp4\n",
      "Moviepy - Building video /imitation/docs/tutorials/generated_videos/rl-video-step-15500-to-step-15550.mp4.\n",
      "Moviepy - Writing video /imitation/docs/tutorials/generated_videos/rl-video-step-15500-to-step-15550.mp4\n",
      "\n"
     ]
    },
    {
     "name": "stderr",
     "output_type": "stream",
     "text": [
      "                                                                                                                                         "
     ]
    },
    {
     "name": "stdout",
     "output_type": "stream",
     "text": [
      "Moviepy - Done !\n",
      "Moviepy - video ready /imitation/docs/tutorials/generated_videos/rl-video-step-15500-to-step-15550.mp4\n"
     ]
    },
    {
     "name": "stderr",
     "output_type": "stream",
     "text": [
      "\r"
     ]
    },
    {
     "name": "stdout",
     "output_type": "stream",
     "text": [
      "Saving video to /imitation/docs/tutorials/generated_videos/rl-video-step-15600-to-step-15650.mp4\n",
      "Moviepy - Building video /imitation/docs/tutorials/generated_videos/rl-video-step-15600-to-step-15650.mp4.\n",
      "Moviepy - Writing video /imitation/docs/tutorials/generated_videos/rl-video-step-15600-to-step-15650.mp4\n",
      "\n"
     ]
    },
    {
     "name": "stderr",
     "output_type": "stream",
     "text": [
      "                                                                                                                                         "
     ]
    },
    {
     "name": "stdout",
     "output_type": "stream",
     "text": [
      "Moviepy - Done !\n",
      "Moviepy - video ready /imitation/docs/tutorials/generated_videos/rl-video-step-15600-to-step-15650.mp4\n"
     ]
    },
    {
     "name": "stderr",
     "output_type": "stream",
     "text": [
      "\r"
     ]
    },
    {
     "name": "stdout",
     "output_type": "stream",
     "text": [
      "Saving video to /imitation/docs/tutorials/generated_videos/rl-video-step-15700-to-step-15750.mp4\n",
      "Moviepy - Building video /imitation/docs/tutorials/generated_videos/rl-video-step-15700-to-step-15750.mp4.\n",
      "Moviepy - Writing video /imitation/docs/tutorials/generated_videos/rl-video-step-15700-to-step-15750.mp4\n",
      "\n"
     ]
    },
    {
     "name": "stderr",
     "output_type": "stream",
     "text": [
      "                                                                                                                                         "
     ]
    },
    {
     "name": "stdout",
     "output_type": "stream",
     "text": [
      "Moviepy - Done !\n",
      "Moviepy - video ready /imitation/docs/tutorials/generated_videos/rl-video-step-15700-to-step-15750.mp4\n"
     ]
    },
    {
     "name": "stderr",
     "output_type": "stream",
     "text": [
      "\r"
     ]
    },
    {
     "name": "stdout",
     "output_type": "stream",
     "text": [
      "Saving video to /imitation/docs/tutorials/generated_videos/rl-video-step-15800-to-step-15850.mp4\n",
      "Moviepy - Building video /imitation/docs/tutorials/generated_videos/rl-video-step-15800-to-step-15850.mp4.\n",
      "Moviepy - Writing video /imitation/docs/tutorials/generated_videos/rl-video-step-15800-to-step-15850.mp4\n",
      "\n"
     ]
    },
    {
     "name": "stderr",
     "output_type": "stream",
     "text": [
      "                                                                                                                                         "
     ]
    },
    {
     "name": "stdout",
     "output_type": "stream",
     "text": [
      "Moviepy - Done !\n",
      "Moviepy - video ready /imitation/docs/tutorials/generated_videos/rl-video-step-15800-to-step-15850.mp4\n"
     ]
    },
    {
     "name": "stderr",
     "output_type": "stream",
     "text": [
      "\r"
     ]
    },
    {
     "name": "stdout",
     "output_type": "stream",
     "text": [
      "Saving video to /imitation/docs/tutorials/generated_videos/rl-video-step-15900-to-step-15950.mp4\n",
      "Moviepy - Building video /imitation/docs/tutorials/generated_videos/rl-video-step-15900-to-step-15950.mp4.\n",
      "Moviepy - Writing video /imitation/docs/tutorials/generated_videos/rl-video-step-15900-to-step-15950.mp4\n",
      "\n"
     ]
    },
    {
     "name": "stderr",
     "output_type": "stream",
     "text": [
      "                                                                                                                                         \r"
     ]
    },
    {
     "name": "stdout",
     "output_type": "stream",
     "text": [
      "Moviepy - Done !\n",
      "Moviepy - video ready /imitation/docs/tutorials/generated_videos/rl-video-step-15900-to-step-15950.mp4\n",
      "Saving video to /imitation/docs/tutorials/generated_videos/rl-video-step-16000-to-step-16050.mp4\n",
      "Moviepy - Building video /imitation/docs/tutorials/generated_videos/rl-video-step-16000-to-step-16050.mp4.\n",
      "Moviepy - Writing video /imitation/docs/tutorials/generated_videos/rl-video-step-16000-to-step-16050.mp4\n",
      "\n"
     ]
    },
    {
     "name": "stderr",
     "output_type": "stream",
     "text": [
      "                                                                                                                                         "
     ]
    },
    {
     "name": "stdout",
     "output_type": "stream",
     "text": [
      "Moviepy - Done !\n",
      "Moviepy - video ready /imitation/docs/tutorials/generated_videos/rl-video-step-16000-to-step-16050.mp4\n"
     ]
    },
    {
     "name": "stderr",
     "output_type": "stream",
     "text": [
      "\r"
     ]
    },
    {
     "name": "stdout",
     "output_type": "stream",
     "text": [
      "Saving video to /imitation/docs/tutorials/generated_videos/rl-video-step-16100-to-step-16150.mp4\n",
      "Moviepy - Building video /imitation/docs/tutorials/generated_videos/rl-video-step-16100-to-step-16150.mp4.\n",
      "Moviepy - Writing video /imitation/docs/tutorials/generated_videos/rl-video-step-16100-to-step-16150.mp4\n",
      "\n"
     ]
    },
    {
     "name": "stderr",
     "output_type": "stream",
     "text": [
      "                                                                                                                                         "
     ]
    },
    {
     "name": "stdout",
     "output_type": "stream",
     "text": [
      "Moviepy - Done !\n",
      "Moviepy - video ready /imitation/docs/tutorials/generated_videos/rl-video-step-16100-to-step-16150.mp4\n"
     ]
    },
    {
     "name": "stderr",
     "output_type": "stream",
     "text": [
      "\r"
     ]
    },
    {
     "name": "stdout",
     "output_type": "stream",
     "text": [
      "Saving video to /imitation/docs/tutorials/generated_videos/rl-video-step-16200-to-step-16250.mp4\n",
      "Moviepy - Building video /imitation/docs/tutorials/generated_videos/rl-video-step-16200-to-step-16250.mp4.\n",
      "Moviepy - Writing video /imitation/docs/tutorials/generated_videos/rl-video-step-16200-to-step-16250.mp4\n",
      "\n"
     ]
    },
    {
     "name": "stderr",
     "output_type": "stream",
     "text": [
      "                                                                                                                                         "
     ]
    },
    {
     "name": "stdout",
     "output_type": "stream",
     "text": [
      "Moviepy - Done !\n",
      "Moviepy - video ready /imitation/docs/tutorials/generated_videos/rl-video-step-16200-to-step-16250.mp4\n"
     ]
    },
    {
     "name": "stderr",
     "output_type": "stream",
     "text": [
      "\r"
     ]
    },
    {
     "name": "stdout",
     "output_type": "stream",
     "text": [
      "Saving video to /imitation/docs/tutorials/generated_videos/rl-video-step-16300-to-step-16350.mp4\n",
      "Moviepy - Building video /imitation/docs/tutorials/generated_videos/rl-video-step-16300-to-step-16350.mp4.\n",
      "Moviepy - Writing video /imitation/docs/tutorials/generated_videos/rl-video-step-16300-to-step-16350.mp4\n",
      "\n"
     ]
    },
    {
     "name": "stderr",
     "output_type": "stream",
     "text": [
      "                                                                                                                                         "
     ]
    },
    {
     "name": "stdout",
     "output_type": "stream",
     "text": [
      "Moviepy - Done !\n",
      "Moviepy - video ready /imitation/docs/tutorials/generated_videos/rl-video-step-16300-to-step-16350.mp4\n"
     ]
    },
    {
     "name": "stderr",
     "output_type": "stream",
     "text": [
      "\r"
     ]
    },
    {
     "name": "stdout",
     "output_type": "stream",
     "text": [
      "Saving video to /imitation/docs/tutorials/generated_videos/rl-video-step-16400-to-step-16450.mp4\n",
      "Moviepy - Building video /imitation/docs/tutorials/generated_videos/rl-video-step-16400-to-step-16450.mp4.\n",
      "Moviepy - Writing video /imitation/docs/tutorials/generated_videos/rl-video-step-16400-to-step-16450.mp4\n",
      "\n"
     ]
    },
    {
     "name": "stderr",
     "output_type": "stream",
     "text": [
      "                                                                                                                                         \r"
     ]
    },
    {
     "name": "stdout",
     "output_type": "stream",
     "text": [
      "Moviepy - Done !\n",
      "Moviepy - video ready /imitation/docs/tutorials/generated_videos/rl-video-step-16400-to-step-16450.mp4\n",
      "Saving video to /imitation/docs/tutorials/generated_videos/rl-video-step-16500-to-step-16550.mp4\n",
      "Moviepy - Building video /imitation/docs/tutorials/generated_videos/rl-video-step-16500-to-step-16550.mp4.\n",
      "Moviepy - Writing video /imitation/docs/tutorials/generated_videos/rl-video-step-16500-to-step-16550.mp4\n",
      "\n"
     ]
    },
    {
     "name": "stderr",
     "output_type": "stream",
     "text": [
      "                                                                                                                                         "
     ]
    },
    {
     "name": "stdout",
     "output_type": "stream",
     "text": [
      "Moviepy - Done !\n",
      "Moviepy - video ready /imitation/docs/tutorials/generated_videos/rl-video-step-16500-to-step-16550.mp4\n"
     ]
    },
    {
     "name": "stderr",
     "output_type": "stream",
     "text": [
      "\r"
     ]
    },
    {
     "name": "stdout",
     "output_type": "stream",
     "text": [
      "Saving video to /imitation/docs/tutorials/generated_videos/rl-video-step-16600-to-step-16650.mp4\n",
      "Moviepy - Building video /imitation/docs/tutorials/generated_videos/rl-video-step-16600-to-step-16650.mp4.\n",
      "Moviepy - Writing video /imitation/docs/tutorials/generated_videos/rl-video-step-16600-to-step-16650.mp4\n",
      "\n"
     ]
    },
    {
     "name": "stderr",
     "output_type": "stream",
     "text": [
      "                                                                                                                                         "
     ]
    },
    {
     "name": "stdout",
     "output_type": "stream",
     "text": [
      "Moviepy - Done !\n",
      "Moviepy - video ready /imitation/docs/tutorials/generated_videos/rl-video-step-16600-to-step-16650.mp4\n"
     ]
    },
    {
     "name": "stderr",
     "output_type": "stream",
     "text": [
      "\r"
     ]
    },
    {
     "name": "stdout",
     "output_type": "stream",
     "text": [
      "Saving video to /imitation/docs/tutorials/generated_videos/rl-video-step-16700-to-step-16750.mp4\n",
      "Moviepy - Building video /imitation/docs/tutorials/generated_videos/rl-video-step-16700-to-step-16750.mp4.\n",
      "Moviepy - Writing video /imitation/docs/tutorials/generated_videos/rl-video-step-16700-to-step-16750.mp4\n",
      "\n"
     ]
    },
    {
     "name": "stderr",
     "output_type": "stream",
     "text": [
      "                                                                                                                                         "
     ]
    },
    {
     "name": "stdout",
     "output_type": "stream",
     "text": [
      "Moviepy - Done !\n",
      "Moviepy - video ready /imitation/docs/tutorials/generated_videos/rl-video-step-16700-to-step-16750.mp4\n"
     ]
    },
    {
     "name": "stderr",
     "output_type": "stream",
     "text": [
      "\r"
     ]
    },
    {
     "name": "stdout",
     "output_type": "stream",
     "text": [
      "Saving video to /imitation/docs/tutorials/generated_videos/rl-video-step-16800-to-step-16850.mp4\n",
      "Moviepy - Building video /imitation/docs/tutorials/generated_videos/rl-video-step-16800-to-step-16850.mp4.\n",
      "Moviepy - Writing video /imitation/docs/tutorials/generated_videos/rl-video-step-16800-to-step-16850.mp4\n",
      "\n"
     ]
    },
    {
     "name": "stderr",
     "output_type": "stream",
     "text": [
      "                                                                                                                                         \r"
     ]
    },
    {
     "name": "stdout",
     "output_type": "stream",
     "text": [
      "Moviepy - Done !\n",
      "Moviepy - video ready /imitation/docs/tutorials/generated_videos/rl-video-step-16800-to-step-16850.mp4\n",
      "Saving video to /imitation/docs/tutorials/generated_videos/rl-video-step-16900-to-step-16950.mp4\n",
      "Moviepy - Building video /imitation/docs/tutorials/generated_videos/rl-video-step-16900-to-step-16950.mp4.\n",
      "Moviepy - Writing video /imitation/docs/tutorials/generated_videos/rl-video-step-16900-to-step-16950.mp4\n",
      "\n"
     ]
    },
    {
     "name": "stderr",
     "output_type": "stream",
     "text": [
      "                                                                                                                                         "
     ]
    },
    {
     "name": "stdout",
     "output_type": "stream",
     "text": [
      "Moviepy - Done !\n",
      "Moviepy - video ready /imitation/docs/tutorials/generated_videos/rl-video-step-16900-to-step-16950.mp4\n"
     ]
    },
    {
     "name": "stderr",
     "output_type": "stream",
     "text": [
      "\r"
     ]
    },
    {
     "name": "stdout",
     "output_type": "stream",
     "text": [
      "Saving video to /imitation/docs/tutorials/generated_videos/rl-video-step-17000-to-step-17050.mp4\n",
      "Moviepy - Building video /imitation/docs/tutorials/generated_videos/rl-video-step-17000-to-step-17050.mp4.\n",
      "Moviepy - Writing video /imitation/docs/tutorials/generated_videos/rl-video-step-17000-to-step-17050.mp4\n",
      "\n"
     ]
    },
    {
     "name": "stderr",
     "output_type": "stream",
     "text": [
      "                                                                                                                                         "
     ]
    },
    {
     "name": "stdout",
     "output_type": "stream",
     "text": [
      "Moviepy - Done !\n",
      "Moviepy - video ready /imitation/docs/tutorials/generated_videos/rl-video-step-17000-to-step-17050.mp4\n"
     ]
    },
    {
     "name": "stderr",
     "output_type": "stream",
     "text": [
      "\r"
     ]
    },
    {
     "name": "stdout",
     "output_type": "stream",
     "text": [
      "Sampling 635 exploratory transitions.\n",
      "Moviepy - Building video /imitation/docs/tutorials/generated_videos/rl-video-step-17100-to-step-17150.mp4.\n",
      "Moviepy - Writing video /imitation/docs/tutorials/generated_videos/rl-video-step-17100-to-step-17150.mp4\n",
      "\n"
     ]
    },
    {
     "name": "stderr",
     "output_type": "stream",
     "text": [
      "                                                                                                                                         "
     ]
    },
    {
     "name": "stdout",
     "output_type": "stream",
     "text": [
      "Moviepy - Done !\n",
      "Moviepy - video ready /imitation/docs/tutorials/generated_videos/rl-video-step-17100-to-step-17150.mp4\n"
     ]
    },
    {
     "name": "stderr",
     "output_type": "stream",
     "text": [
      "\r"
     ]
    },
    {
     "name": "stdout",
     "output_type": "stream",
     "text": [
      "Saving video to /imitation/docs/tutorials/generated_videos/rl-video-step-17140-to-step-17190.mp4\n",
      "Moviepy - Building video /imitation/docs/tutorials/generated_videos/rl-video-step-17140-to-step-17190.mp4.\n",
      "Moviepy - Writing video /imitation/docs/tutorials/generated_videos/rl-video-step-17140-to-step-17190.mp4\n",
      "\n"
     ]
    },
    {
     "name": "stderr",
     "output_type": "stream",
     "text": [
      "                                                                                                                                         "
     ]
    },
    {
     "name": "stdout",
     "output_type": "stream",
     "text": [
      "Moviepy - Done !\n",
      "Moviepy - video ready /imitation/docs/tutorials/generated_videos/rl-video-step-17140-to-step-17190.mp4\n"
     ]
    },
    {
     "name": "stderr",
     "output_type": "stream",
     "text": [
      "\r"
     ]
    },
    {
     "name": "stdout",
     "output_type": "stream",
     "text": [
      "Saving video to /imitation/docs/tutorials/generated_videos/rl-video-step-17200-to-step-17250.mp4\n",
      "Moviepy - Building video /imitation/docs/tutorials/generated_videos/rl-video-step-17200-to-step-17250.mp4.\n",
      "Moviepy - Writing video /imitation/docs/tutorials/generated_videos/rl-video-step-17200-to-step-17250.mp4\n",
      "\n"
     ]
    },
    {
     "name": "stderr",
     "output_type": "stream",
     "text": [
      "                                                                                                                                         "
     ]
    },
    {
     "name": "stdout",
     "output_type": "stream",
     "text": [
      "Moviepy - Done !\n",
      "Moviepy - video ready /imitation/docs/tutorials/generated_videos/rl-video-step-17200-to-step-17250.mp4\n"
     ]
    },
    {
     "name": "stderr",
     "output_type": "stream",
     "text": [
      "\r"
     ]
    },
    {
     "name": "stdout",
     "output_type": "stream",
     "text": [
      "Saving video to /imitation/docs/tutorials/generated_videos/rl-video-step-17300-to-step-17350.mp4\n",
      "Moviepy - Building video /imitation/docs/tutorials/generated_videos/rl-video-step-17300-to-step-17350.mp4.\n",
      "Moviepy - Writing video /imitation/docs/tutorials/generated_videos/rl-video-step-17300-to-step-17350.mp4\n",
      "\n"
     ]
    },
    {
     "name": "stderr",
     "output_type": "stream",
     "text": [
      "                                                                                                                                         "
     ]
    },
    {
     "name": "stdout",
     "output_type": "stream",
     "text": [
      "Moviepy - Done !\n",
      "Moviepy - video ready /imitation/docs/tutorials/generated_videos/rl-video-step-17300-to-step-17350.mp4\n"
     ]
    },
    {
     "name": "stderr",
     "output_type": "stream",
     "text": [
      "\r"
     ]
    },
    {
     "name": "stdout",
     "output_type": "stream",
     "text": [
      "Saving video to /imitation/docs/tutorials/generated_videos/rl-video-step-17400-to-step-17450.mp4\n",
      "Moviepy - Building video /imitation/docs/tutorials/generated_videos/rl-video-step-17400-to-step-17450.mp4.\n",
      "Moviepy - Writing video /imitation/docs/tutorials/generated_videos/rl-video-step-17400-to-step-17450.mp4\n",
      "\n"
     ]
    },
    {
     "name": "stderr",
     "output_type": "stream",
     "text": [
      "                                                                                                                                         \r"
     ]
    },
    {
     "name": "stdout",
     "output_type": "stream",
     "text": [
      "Moviepy - Done !\n",
      "Moviepy - video ready /imitation/docs/tutorials/generated_videos/rl-video-step-17400-to-step-17450.mp4\n",
      "Saving video to /imitation/docs/tutorials/generated_videos/rl-video-step-17500-to-step-17550.mp4\n",
      "Moviepy - Building video /imitation/docs/tutorials/generated_videos/rl-video-step-17500-to-step-17550.mp4.\n",
      "Moviepy - Writing video /imitation/docs/tutorials/generated_videos/rl-video-step-17500-to-step-17550.mp4\n",
      "\n"
     ]
    },
    {
     "name": "stderr",
     "output_type": "stream",
     "text": [
      "                                                                                                                                         "
     ]
    },
    {
     "name": "stdout",
     "output_type": "stream",
     "text": [
      "Moviepy - Done !\n",
      "Moviepy - video ready /imitation/docs/tutorials/generated_videos/rl-video-step-17500-to-step-17550.mp4\n"
     ]
    },
    {
     "name": "stderr",
     "output_type": "stream",
     "text": [
      "\r"
     ]
    },
    {
     "name": "stdout",
     "output_type": "stream",
     "text": [
      "Saving video to /imitation/docs/tutorials/generated_videos/rl-video-step-17600-to-step-17650.mp4\n",
      "Moviepy - Building video /imitation/docs/tutorials/generated_videos/rl-video-step-17600-to-step-17650.mp4.\n",
      "Moviepy - Writing video /imitation/docs/tutorials/generated_videos/rl-video-step-17600-to-step-17650.mp4\n",
      "\n"
     ]
    },
    {
     "name": "stderr",
     "output_type": "stream",
     "text": [
      "                                                                                                                                         "
     ]
    },
    {
     "name": "stdout",
     "output_type": "stream",
     "text": [
      "Moviepy - Done !\n",
      "Moviepy - video ready /imitation/docs/tutorials/generated_videos/rl-video-step-17600-to-step-17650.mp4\n"
     ]
    },
    {
     "name": "stderr",
     "output_type": "stream",
     "text": [
      "\r"
     ]
    },
    {
     "name": "stdout",
     "output_type": "stream",
     "text": [
      "Saving video to /imitation/docs/tutorials/generated_videos/rl-video-step-17700-to-step-17750.mp4\n",
      "Moviepy - Building video /imitation/docs/tutorials/generated_videos/rl-video-step-17700-to-step-17750.mp4.\n",
      "Moviepy - Writing video /imitation/docs/tutorials/generated_videos/rl-video-step-17700-to-step-17750.mp4\n",
      "\n"
     ]
    },
    {
     "name": "stderr",
     "output_type": "stream",
     "text": [
      "                                                                                                                                         "
     ]
    },
    {
     "name": "stdout",
     "output_type": "stream",
     "text": [
      "Moviepy - Done !\n",
      "Moviepy - video ready /imitation/docs/tutorials/generated_videos/rl-video-step-17700-to-step-17750.mp4\n",
      "Creating fragment pairs\n"
     ]
    },
    {
     "name": "stderr",
     "output_type": "stream",
     "text": [
      "\r"
     ]
    },
    {
     "name": "stdout",
     "output_type": "stream",
     "text": [
      "Gathering preferences\n",
      "Dataset now contains 177 comparisons\n"
     ]
    },
    {
     "data": {
      "application/vnd.jupyter.widget-view+json": {
       "model_id": "f86001913b74432f87fbc3af77e5af36",
       "version_major": 2,
       "version_minor": 0
      },
      "text/plain": [
       "Training reward model:   0%|          | 0/3 [00:00<?, ?it/s]"
      ]
     },
     "metadata": {},
     "output_type": "display_data"
    },
    {
     "name": "stdout",
     "output_type": "stream",
     "text": [
      "Training agent for 10000 timesteps\n",
      "Saving video to /imitation/docs/tutorials/generated_videos/rl-video-step-17800-to-step-17850.mp4\n",
      "Moviepy - Building video /imitation/docs/tutorials/generated_videos/rl-video-step-17800-to-step-17850.mp4.\n",
      "Moviepy - Writing video /imitation/docs/tutorials/generated_videos/rl-video-step-17800-to-step-17850.mp4\n",
      "\n"
     ]
    },
    {
     "name": "stderr",
     "output_type": "stream",
     "text": [
      "                                                                                                                                         "
     ]
    },
    {
     "name": "stdout",
     "output_type": "stream",
     "text": [
      "Moviepy - Done !\n",
      "Moviepy - video ready /imitation/docs/tutorials/generated_videos/rl-video-step-17800-to-step-17850.mp4\n"
     ]
    },
    {
     "name": "stderr",
     "output_type": "stream",
     "text": [
      "\r"
     ]
    },
    {
     "name": "stdout",
     "output_type": "stream",
     "text": [
      "Saving video to /imitation/docs/tutorials/generated_videos/rl-video-step-17900-to-step-17950.mp4\n",
      "Moviepy - Building video /imitation/docs/tutorials/generated_videos/rl-video-step-17900-to-step-17950.mp4.\n",
      "Moviepy - Writing video /imitation/docs/tutorials/generated_videos/rl-video-step-17900-to-step-17950.mp4\n",
      "\n"
     ]
    },
    {
     "name": "stderr",
     "output_type": "stream",
     "text": [
      "                                                                                                                                         \r"
     ]
    },
    {
     "name": "stdout",
     "output_type": "stream",
     "text": [
      "Moviepy - Done !\n",
      "Moviepy - video ready /imitation/docs/tutorials/generated_videos/rl-video-step-17900-to-step-17950.mp4\n",
      "Saving video to /imitation/docs/tutorials/generated_videos/rl-video-step-18000-to-step-18050.mp4\n",
      "Moviepy - Building video /imitation/docs/tutorials/generated_videos/rl-video-step-18000-to-step-18050.mp4.\n",
      "Moviepy - Writing video /imitation/docs/tutorials/generated_videos/rl-video-step-18000-to-step-18050.mp4\n",
      "\n"
     ]
    },
    {
     "name": "stderr",
     "output_type": "stream",
     "text": [
      "                                                                                                                                         "
     ]
    },
    {
     "name": "stdout",
     "output_type": "stream",
     "text": [
      "Moviepy - Done !\n",
      "Moviepy - video ready /imitation/docs/tutorials/generated_videos/rl-video-step-18000-to-step-18050.mp4\n"
     ]
    },
    {
     "name": "stderr",
     "output_type": "stream",
     "text": [
      "\r"
     ]
    },
    {
     "name": "stdout",
     "output_type": "stream",
     "text": [
      "Saving video to /imitation/docs/tutorials/generated_videos/rl-video-step-18100-to-step-18150.mp4\n",
      "Moviepy - Building video /imitation/docs/tutorials/generated_videos/rl-video-step-18100-to-step-18150.mp4.\n",
      "Moviepy - Writing video /imitation/docs/tutorials/generated_videos/rl-video-step-18100-to-step-18150.mp4\n",
      "\n"
     ]
    },
    {
     "name": "stderr",
     "output_type": "stream",
     "text": [
      "                                                                                                                                         "
     ]
    },
    {
     "name": "stdout",
     "output_type": "stream",
     "text": [
      "Moviepy - Done !\n",
      "Moviepy - video ready /imitation/docs/tutorials/generated_videos/rl-video-step-18100-to-step-18150.mp4\n"
     ]
    },
    {
     "name": "stderr",
     "output_type": "stream",
     "text": [
      "\r"
     ]
    },
    {
     "name": "stdout",
     "output_type": "stream",
     "text": [
      "Saving video to /imitation/docs/tutorials/generated_videos/rl-video-step-18200-to-step-18250.mp4\n",
      "Moviepy - Building video /imitation/docs/tutorials/generated_videos/rl-video-step-18200-to-step-18250.mp4.\n",
      "Moviepy - Writing video /imitation/docs/tutorials/generated_videos/rl-video-step-18200-to-step-18250.mp4\n",
      "\n"
     ]
    },
    {
     "name": "stderr",
     "output_type": "stream",
     "text": [
      "                                                                                                                                         "
     ]
    },
    {
     "name": "stdout",
     "output_type": "stream",
     "text": [
      "Moviepy - Done !\n",
      "Moviepy - video ready /imitation/docs/tutorials/generated_videos/rl-video-step-18200-to-step-18250.mp4\n"
     ]
    },
    {
     "name": "stderr",
     "output_type": "stream",
     "text": [
      "\r"
     ]
    },
    {
     "name": "stdout",
     "output_type": "stream",
     "text": [
      "Saving video to /imitation/docs/tutorials/generated_videos/rl-video-step-18300-to-step-18350.mp4\n",
      "Moviepy - Building video /imitation/docs/tutorials/generated_videos/rl-video-step-18300-to-step-18350.mp4.\n",
      "Moviepy - Writing video /imitation/docs/tutorials/generated_videos/rl-video-step-18300-to-step-18350.mp4\n",
      "\n"
     ]
    },
    {
     "name": "stderr",
     "output_type": "stream",
     "text": [
      "                                                                                                                                         "
     ]
    },
    {
     "name": "stdout",
     "output_type": "stream",
     "text": [
      "Moviepy - Done !\n",
      "Moviepy - video ready /imitation/docs/tutorials/generated_videos/rl-video-step-18300-to-step-18350.mp4\n"
     ]
    },
    {
     "name": "stderr",
     "output_type": "stream",
     "text": [
      "\r"
     ]
    },
    {
     "name": "stdout",
     "output_type": "stream",
     "text": [
      "Saving video to /imitation/docs/tutorials/generated_videos/rl-video-step-18400-to-step-18450.mp4\n",
      "Moviepy - Building video /imitation/docs/tutorials/generated_videos/rl-video-step-18400-to-step-18450.mp4.\n",
      "Moviepy - Writing video /imitation/docs/tutorials/generated_videos/rl-video-step-18400-to-step-18450.mp4\n",
      "\n"
     ]
    },
    {
     "name": "stderr",
     "output_type": "stream",
     "text": [
      "                                                                                                                                         "
     ]
    },
    {
     "name": "stdout",
     "output_type": "stream",
     "text": [
      "Moviepy - Done !\n",
      "Moviepy - video ready /imitation/docs/tutorials/generated_videos/rl-video-step-18400-to-step-18450.mp4\n"
     ]
    },
    {
     "name": "stderr",
     "output_type": "stream",
     "text": [
      "\r"
     ]
    },
    {
     "name": "stdout",
     "output_type": "stream",
     "text": [
      "Saving video to /imitation/docs/tutorials/generated_videos/rl-video-step-18500-to-step-18550.mp4\n",
      "Moviepy - Building video /imitation/docs/tutorials/generated_videos/rl-video-step-18500-to-step-18550.mp4.\n",
      "Moviepy - Writing video /imitation/docs/tutorials/generated_videos/rl-video-step-18500-to-step-18550.mp4\n",
      "\n"
     ]
    },
    {
     "name": "stderr",
     "output_type": "stream",
     "text": [
      "                                                                                                                                         "
     ]
    },
    {
     "name": "stdout",
     "output_type": "stream",
     "text": [
      "Moviepy - Done !\n",
      "Moviepy - video ready /imitation/docs/tutorials/generated_videos/rl-video-step-18500-to-step-18550.mp4\n"
     ]
    },
    {
     "name": "stderr",
     "output_type": "stream",
     "text": [
      "\r"
     ]
    },
    {
     "name": "stdout",
     "output_type": "stream",
     "text": [
      "Saving video to /imitation/docs/tutorials/generated_videos/rl-video-step-18600-to-step-18650.mp4\n",
      "Moviepy - Building video /imitation/docs/tutorials/generated_videos/rl-video-step-18600-to-step-18650.mp4.\n",
      "Moviepy - Writing video /imitation/docs/tutorials/generated_videos/rl-video-step-18600-to-step-18650.mp4\n",
      "\n"
     ]
    },
    {
     "name": "stderr",
     "output_type": "stream",
     "text": [
      "                                                                                                                                         "
     ]
    },
    {
     "name": "stdout",
     "output_type": "stream",
     "text": [
      "Moviepy - Done !\n",
      "Moviepy - video ready /imitation/docs/tutorials/generated_videos/rl-video-step-18600-to-step-18650.mp4\n"
     ]
    },
    {
     "name": "stderr",
     "output_type": "stream",
     "text": [
      "\r"
     ]
    },
    {
     "name": "stdout",
     "output_type": "stream",
     "text": [
      "Saving video to /imitation/docs/tutorials/generated_videos/rl-video-step-18700-to-step-18750.mp4\n",
      "Moviepy - Building video /imitation/docs/tutorials/generated_videos/rl-video-step-18700-to-step-18750.mp4.\n",
      "Moviepy - Writing video /imitation/docs/tutorials/generated_videos/rl-video-step-18700-to-step-18750.mp4\n",
      "\n"
     ]
    },
    {
     "name": "stderr",
     "output_type": "stream",
     "text": [
      "                                                                                                                                         "
     ]
    },
    {
     "name": "stdout",
     "output_type": "stream",
     "text": [
      "Moviepy - Done !\n",
      "Moviepy - video ready /imitation/docs/tutorials/generated_videos/rl-video-step-18700-to-step-18750.mp4\n"
     ]
    },
    {
     "name": "stderr",
     "output_type": "stream",
     "text": [
      "\r"
     ]
    },
    {
     "name": "stdout",
     "output_type": "stream",
     "text": [
      "Saving video to /imitation/docs/tutorials/generated_videos/rl-video-step-18800-to-step-18850.mp4\n",
      "Moviepy - Building video /imitation/docs/tutorials/generated_videos/rl-video-step-18800-to-step-18850.mp4.\n",
      "Moviepy - Writing video /imitation/docs/tutorials/generated_videos/rl-video-step-18800-to-step-18850.mp4\n",
      "\n"
     ]
    },
    {
     "name": "stderr",
     "output_type": "stream",
     "text": [
      "                                                                                                                                         "
     ]
    },
    {
     "name": "stdout",
     "output_type": "stream",
     "text": [
      "Moviepy - Done !\n",
      "Moviepy - video ready /imitation/docs/tutorials/generated_videos/rl-video-step-18800-to-step-18850.mp4\n"
     ]
    },
    {
     "name": "stderr",
     "output_type": "stream",
     "text": [
      "\r"
     ]
    },
    {
     "name": "stdout",
     "output_type": "stream",
     "text": [
      "Saving video to /imitation/docs/tutorials/generated_videos/rl-video-step-18900-to-step-18950.mp4\n",
      "Moviepy - Building video /imitation/docs/tutorials/generated_videos/rl-video-step-18900-to-step-18950.mp4.\n",
      "Moviepy - Writing video /imitation/docs/tutorials/generated_videos/rl-video-step-18900-to-step-18950.mp4\n",
      "\n"
     ]
    },
    {
     "name": "stderr",
     "output_type": "stream",
     "text": [
      "                                                                                                                                         "
     ]
    },
    {
     "name": "stdout",
     "output_type": "stream",
     "text": [
      "Moviepy - Done !\n",
      "Moviepy - video ready /imitation/docs/tutorials/generated_videos/rl-video-step-18900-to-step-18950.mp4\n"
     ]
    },
    {
     "name": "stderr",
     "output_type": "stream",
     "text": [
      "\r"
     ]
    },
    {
     "name": "stdout",
     "output_type": "stream",
     "text": [
      "Saving video to /imitation/docs/tutorials/generated_videos/rl-video-step-19000-to-step-19050.mp4\n",
      "Moviepy - Building video /imitation/docs/tutorials/generated_videos/rl-video-step-19000-to-step-19050.mp4.\n",
      "Moviepy - Writing video /imitation/docs/tutorials/generated_videos/rl-video-step-19000-to-step-19050.mp4\n",
      "\n"
     ]
    },
    {
     "name": "stderr",
     "output_type": "stream",
     "text": [
      "                                                                                                                                         "
     ]
    },
    {
     "name": "stdout",
     "output_type": "stream",
     "text": [
      "Moviepy - Done !\n",
      "Moviepy - video ready /imitation/docs/tutorials/generated_videos/rl-video-step-19000-to-step-19050.mp4\n"
     ]
    },
    {
     "name": "stderr",
     "output_type": "stream",
     "text": [
      "\r"
     ]
    },
    {
     "name": "stdout",
     "output_type": "stream",
     "text": [
      "Saving video to /imitation/docs/tutorials/generated_videos/rl-video-step-19100-to-step-19150.mp4\n",
      "Moviepy - Building video /imitation/docs/tutorials/generated_videos/rl-video-step-19100-to-step-19150.mp4.\n",
      "Moviepy - Writing video /imitation/docs/tutorials/generated_videos/rl-video-step-19100-to-step-19150.mp4\n",
      "\n"
     ]
    },
    {
     "name": "stderr",
     "output_type": "stream",
     "text": [
      "                                                                                                                                         "
     ]
    },
    {
     "name": "stdout",
     "output_type": "stream",
     "text": [
      "Moviepy - Done !\n",
      "Moviepy - video ready /imitation/docs/tutorials/generated_videos/rl-video-step-19100-to-step-19150.mp4\n"
     ]
    },
    {
     "name": "stderr",
     "output_type": "stream",
     "text": [
      "\r"
     ]
    },
    {
     "name": "stdout",
     "output_type": "stream",
     "text": [
      "Saving video to /imitation/docs/tutorials/generated_videos/rl-video-step-19200-to-step-19250.mp4\n",
      "Moviepy - Building video /imitation/docs/tutorials/generated_videos/rl-video-step-19200-to-step-19250.mp4.\n",
      "Moviepy - Writing video /imitation/docs/tutorials/generated_videos/rl-video-step-19200-to-step-19250.mp4\n",
      "\n"
     ]
    },
    {
     "name": "stderr",
     "output_type": "stream",
     "text": [
      "                                                                                                                                         "
     ]
    },
    {
     "name": "stdout",
     "output_type": "stream",
     "text": [
      "Moviepy - Done !\n",
      "Moviepy - video ready /imitation/docs/tutorials/generated_videos/rl-video-step-19200-to-step-19250.mp4\n"
     ]
    },
    {
     "name": "stderr",
     "output_type": "stream",
     "text": [
      "\r"
     ]
    },
    {
     "name": "stdout",
     "output_type": "stream",
     "text": [
      "Saving video to /imitation/docs/tutorials/generated_videos/rl-video-step-19300-to-step-19350.mp4\n",
      "Moviepy - Building video /imitation/docs/tutorials/generated_videos/rl-video-step-19300-to-step-19350.mp4.\n",
      "Moviepy - Writing video /imitation/docs/tutorials/generated_videos/rl-video-step-19300-to-step-19350.mp4\n",
      "\n"
     ]
    },
    {
     "name": "stderr",
     "output_type": "stream",
     "text": [
      "                                                                                                                                         "
     ]
    },
    {
     "name": "stdout",
     "output_type": "stream",
     "text": [
      "Moviepy - Done !\n",
      "Moviepy - video ready /imitation/docs/tutorials/generated_videos/rl-video-step-19300-to-step-19350.mp4\n"
     ]
    },
    {
     "name": "stderr",
     "output_type": "stream",
     "text": [
      "\r"
     ]
    },
    {
     "name": "stdout",
     "output_type": "stream",
     "text": [
      "Saving video to /imitation/docs/tutorials/generated_videos/rl-video-step-19400-to-step-19450.mp4\n",
      "Moviepy - Building video /imitation/docs/tutorials/generated_videos/rl-video-step-19400-to-step-19450.mp4.\n",
      "Moviepy - Writing video /imitation/docs/tutorials/generated_videos/rl-video-step-19400-to-step-19450.mp4\n",
      "\n"
     ]
    },
    {
     "name": "stderr",
     "output_type": "stream",
     "text": [
      "                                                                                                                                         "
     ]
    },
    {
     "name": "stdout",
     "output_type": "stream",
     "text": [
      "Moviepy - Done !\n",
      "Moviepy - video ready /imitation/docs/tutorials/generated_videos/rl-video-step-19400-to-step-19450.mp4\n"
     ]
    },
    {
     "name": "stderr",
     "output_type": "stream",
     "text": [
      "\r"
     ]
    },
    {
     "name": "stdout",
     "output_type": "stream",
     "text": [
      "Saving video to /imitation/docs/tutorials/generated_videos/rl-video-step-19500-to-step-19550.mp4\n",
      "Moviepy - Building video /imitation/docs/tutorials/generated_videos/rl-video-step-19500-to-step-19550.mp4.\n",
      "Moviepy - Writing video /imitation/docs/tutorials/generated_videos/rl-video-step-19500-to-step-19550.mp4\n",
      "\n"
     ]
    },
    {
     "name": "stderr",
     "output_type": "stream",
     "text": [
      "                                                                                                                                         \r"
     ]
    },
    {
     "name": "stdout",
     "output_type": "stream",
     "text": [
      "Moviepy - Done !\n",
      "Moviepy - video ready /imitation/docs/tutorials/generated_videos/rl-video-step-19500-to-step-19550.mp4\n",
      "Saving video to /imitation/docs/tutorials/generated_videos/rl-video-step-19600-to-step-19650.mp4\n",
      "Moviepy - Building video /imitation/docs/tutorials/generated_videos/rl-video-step-19600-to-step-19650.mp4.\n",
      "Moviepy - Writing video /imitation/docs/tutorials/generated_videos/rl-video-step-19600-to-step-19650.mp4\n",
      "\n"
     ]
    },
    {
     "name": "stderr",
     "output_type": "stream",
     "text": [
      "                                                                                                                                         "
     ]
    },
    {
     "name": "stdout",
     "output_type": "stream",
     "text": [
      "Moviepy - Done !\n",
      "Moviepy - video ready /imitation/docs/tutorials/generated_videos/rl-video-step-19600-to-step-19650.mp4\n"
     ]
    },
    {
     "name": "stderr",
     "output_type": "stream",
     "text": [
      "\r"
     ]
    },
    {
     "name": "stdout",
     "output_type": "stream",
     "text": [
      "Saving video to /imitation/docs/tutorials/generated_videos/rl-video-step-19700-to-step-19750.mp4\n",
      "Moviepy - Building video /imitation/docs/tutorials/generated_videos/rl-video-step-19700-to-step-19750.mp4.\n",
      "Moviepy - Writing video /imitation/docs/tutorials/generated_videos/rl-video-step-19700-to-step-19750.mp4\n",
      "\n"
     ]
    },
    {
     "name": "stderr",
     "output_type": "stream",
     "text": [
      "                                                                                                                                         "
     ]
    },
    {
     "name": "stdout",
     "output_type": "stream",
     "text": [
      "Moviepy - Done !\n",
      "Moviepy - video ready /imitation/docs/tutorials/generated_videos/rl-video-step-19700-to-step-19750.mp4\n"
     ]
    },
    {
     "name": "stderr",
     "output_type": "stream",
     "text": [
      "\r"
     ]
    },
    {
     "name": "stdout",
     "output_type": "stream",
     "text": [
      "------------------------------------------------------\n",
      "| raw/                                 |             |\n",
      "|    agent/rollout/ep_len_mean         | 50          |\n",
      "|    agent/rollout/ep_rew_mean         | -61.8       |\n",
      "|    agent/rollout/ep_rew_wrapped_mean | -3.74       |\n",
      "|    agent/time/fps                    | 133         |\n",
      "|    agent/time/iterations             | 1           |\n",
      "|    agent/time/time_elapsed           | 15          |\n",
      "|    agent/time/total_timesteps        | 12288       |\n",
      "|    agent/train/approx_kl             | 0.007735152 |\n",
      "|    agent/train/clip_fraction         | 0.292       |\n",
      "|    agent/train/clip_range            | 0.1         |\n",
      "|    agent/train/entropy_loss          | -2.87       |\n",
      "|    agent/train/explained_variance    | 0.579       |\n",
      "|    agent/train/learning_rate         | 0.002       |\n",
      "|    agent/train/loss                  | -0.000232   |\n",
      "|    agent/train/n_updates             | 50          |\n",
      "|    agent/train/policy_gradient_loss  | -0.0156     |\n",
      "|    agent/train/std                   | 1.02        |\n",
      "|    agent/train/value_loss            | 0.115       |\n",
      "------------------------------------------------------\n",
      "Saving video to /imitation/docs/tutorials/generated_videos/rl-video-step-19800-to-step-19850.mp4\n",
      "Moviepy - Building video /imitation/docs/tutorials/generated_videos/rl-video-step-19800-to-step-19850.mp4.\n",
      "Moviepy - Writing video /imitation/docs/tutorials/generated_videos/rl-video-step-19800-to-step-19850.mp4\n",
      "\n"
     ]
    },
    {
     "name": "stderr",
     "output_type": "stream",
     "text": [
      "                                                                                                                                         "
     ]
    },
    {
     "name": "stdout",
     "output_type": "stream",
     "text": [
      "Moviepy - Done !\n",
      "Moviepy - video ready /imitation/docs/tutorials/generated_videos/rl-video-step-19800-to-step-19850.mp4\n"
     ]
    },
    {
     "name": "stderr",
     "output_type": "stream",
     "text": [
      "\r"
     ]
    },
    {
     "name": "stdout",
     "output_type": "stream",
     "text": [
      "Saving video to /imitation/docs/tutorials/generated_videos/rl-video-step-19900-to-step-19950.mp4\n",
      "Moviepy - Building video /imitation/docs/tutorials/generated_videos/rl-video-step-19900-to-step-19950.mp4.\n",
      "Moviepy - Writing video /imitation/docs/tutorials/generated_videos/rl-video-step-19900-to-step-19950.mp4\n",
      "\n"
     ]
    },
    {
     "name": "stderr",
     "output_type": "stream",
     "text": [
      "                                                                                                                                         "
     ]
    },
    {
     "name": "stdout",
     "output_type": "stream",
     "text": [
      "Moviepy - Done !\n",
      "Moviepy - video ready /imitation/docs/tutorials/generated_videos/rl-video-step-19900-to-step-19950.mp4\n"
     ]
    },
    {
     "name": "stderr",
     "output_type": "stream",
     "text": [
      "\r"
     ]
    },
    {
     "name": "stdout",
     "output_type": "stream",
     "text": [
      "Saving video to /imitation/docs/tutorials/generated_videos/rl-video-step-20000-to-step-20050.mp4\n",
      "Moviepy - Building video /imitation/docs/tutorials/generated_videos/rl-video-step-20000-to-step-20050.mp4.\n",
      "Moviepy - Writing video /imitation/docs/tutorials/generated_videos/rl-video-step-20000-to-step-20050.mp4\n",
      "\n"
     ]
    },
    {
     "name": "stderr",
     "output_type": "stream",
     "text": [
      "                                                                                                                                         \r"
     ]
    },
    {
     "name": "stdout",
     "output_type": "stream",
     "text": [
      "Moviepy - Done !\n",
      "Moviepy - video ready /imitation/docs/tutorials/generated_videos/rl-video-step-20000-to-step-20050.mp4\n",
      "Saving video to /imitation/docs/tutorials/generated_videos/rl-video-step-20100-to-step-20150.mp4\n",
      "Moviepy - Building video /imitation/docs/tutorials/generated_videos/rl-video-step-20100-to-step-20150.mp4.\n",
      "Moviepy - Writing video /imitation/docs/tutorials/generated_videos/rl-video-step-20100-to-step-20150.mp4\n",
      "\n"
     ]
    },
    {
     "name": "stderr",
     "output_type": "stream",
     "text": [
      "                                                                                                                                         "
     ]
    },
    {
     "name": "stdout",
     "output_type": "stream",
     "text": [
      "Moviepy - Done !\n",
      "Moviepy - video ready /imitation/docs/tutorials/generated_videos/rl-video-step-20100-to-step-20150.mp4\n"
     ]
    },
    {
     "name": "stderr",
     "output_type": "stream",
     "text": [
      "\r"
     ]
    },
    {
     "name": "stdout",
     "output_type": "stream",
     "text": [
      "Saving video to /imitation/docs/tutorials/generated_videos/rl-video-step-20200-to-step-20250.mp4\n",
      "Moviepy - Building video /imitation/docs/tutorials/generated_videos/rl-video-step-20200-to-step-20250.mp4.\n",
      "Moviepy - Writing video /imitation/docs/tutorials/generated_videos/rl-video-step-20200-to-step-20250.mp4\n",
      "\n"
     ]
    },
    {
     "name": "stderr",
     "output_type": "stream",
     "text": [
      "                                                                                                                                         "
     ]
    },
    {
     "name": "stdout",
     "output_type": "stream",
     "text": [
      "Moviepy - Done !\n",
      "Moviepy - video ready /imitation/docs/tutorials/generated_videos/rl-video-step-20200-to-step-20250.mp4\n"
     ]
    },
    {
     "name": "stderr",
     "output_type": "stream",
     "text": [
      "\r"
     ]
    },
    {
     "name": "stdout",
     "output_type": "stream",
     "text": [
      "Saving video to /imitation/docs/tutorials/generated_videos/rl-video-step-20300-to-step-20350.mp4\n",
      "Moviepy - Building video /imitation/docs/tutorials/generated_videos/rl-video-step-20300-to-step-20350.mp4.\n",
      "Moviepy - Writing video /imitation/docs/tutorials/generated_videos/rl-video-step-20300-to-step-20350.mp4\n",
      "\n"
     ]
    },
    {
     "name": "stderr",
     "output_type": "stream",
     "text": [
      "                                                                                                                                         "
     ]
    },
    {
     "name": "stdout",
     "output_type": "stream",
     "text": [
      "Moviepy - Done !\n",
      "Moviepy - video ready /imitation/docs/tutorials/generated_videos/rl-video-step-20300-to-step-20350.mp4\n"
     ]
    },
    {
     "name": "stderr",
     "output_type": "stream",
     "text": [
      "\r"
     ]
    },
    {
     "name": "stdout",
     "output_type": "stream",
     "text": [
      "Saving video to /imitation/docs/tutorials/generated_videos/rl-video-step-20400-to-step-20450.mp4\n",
      "Moviepy - Building video /imitation/docs/tutorials/generated_videos/rl-video-step-20400-to-step-20450.mp4.\n",
      "Moviepy - Writing video /imitation/docs/tutorials/generated_videos/rl-video-step-20400-to-step-20450.mp4\n",
      "\n"
     ]
    },
    {
     "name": "stderr",
     "output_type": "stream",
     "text": [
      "                                                                                                                                         "
     ]
    },
    {
     "name": "stdout",
     "output_type": "stream",
     "text": [
      "Moviepy - Done !\n",
      "Moviepy - video ready /imitation/docs/tutorials/generated_videos/rl-video-step-20400-to-step-20450.mp4\n"
     ]
    },
    {
     "name": "stderr",
     "output_type": "stream",
     "text": [
      "\r"
     ]
    },
    {
     "name": "stdout",
     "output_type": "stream",
     "text": [
      "Saving video to /imitation/docs/tutorials/generated_videos/rl-video-step-20500-to-step-20550.mp4\n",
      "Moviepy - Building video /imitation/docs/tutorials/generated_videos/rl-video-step-20500-to-step-20550.mp4.\n",
      "Moviepy - Writing video /imitation/docs/tutorials/generated_videos/rl-video-step-20500-to-step-20550.mp4\n",
      "\n"
     ]
    },
    {
     "name": "stderr",
     "output_type": "stream",
     "text": [
      "                                                                                                                                         \r"
     ]
    },
    {
     "name": "stdout",
     "output_type": "stream",
     "text": [
      "Moviepy - Done !\n",
      "Moviepy - video ready /imitation/docs/tutorials/generated_videos/rl-video-step-20500-to-step-20550.mp4\n",
      "Saving video to /imitation/docs/tutorials/generated_videos/rl-video-step-20600-to-step-20650.mp4\n",
      "Moviepy - Building video /imitation/docs/tutorials/generated_videos/rl-video-step-20600-to-step-20650.mp4.\n",
      "Moviepy - Writing video /imitation/docs/tutorials/generated_videos/rl-video-step-20600-to-step-20650.mp4\n",
      "\n"
     ]
    },
    {
     "name": "stderr",
     "output_type": "stream",
     "text": [
      "                                                                                                                                         \r"
     ]
    },
    {
     "name": "stdout",
     "output_type": "stream",
     "text": [
      "Moviepy - Done !\n",
      "Moviepy - video ready /imitation/docs/tutorials/generated_videos/rl-video-step-20600-to-step-20650.mp4\n",
      "Saving video to /imitation/docs/tutorials/generated_videos/rl-video-step-20700-to-step-20750.mp4\n",
      "Moviepy - Building video /imitation/docs/tutorials/generated_videos/rl-video-step-20700-to-step-20750.mp4.\n",
      "Moviepy - Writing video /imitation/docs/tutorials/generated_videos/rl-video-step-20700-to-step-20750.mp4\n",
      "\n"
     ]
    },
    {
     "name": "stderr",
     "output_type": "stream",
     "text": [
      "                                                                                                                                         \r"
     ]
    },
    {
     "name": "stdout",
     "output_type": "stream",
     "text": [
      "Moviepy - Done !\n",
      "Moviepy - video ready /imitation/docs/tutorials/generated_videos/rl-video-step-20700-to-step-20750.mp4\n",
      "Saving video to /imitation/docs/tutorials/generated_videos/rl-video-step-20800-to-step-20850.mp4\n",
      "Moviepy - Building video /imitation/docs/tutorials/generated_videos/rl-video-step-20800-to-step-20850.mp4.\n",
      "Moviepy - Writing video /imitation/docs/tutorials/generated_videos/rl-video-step-20800-to-step-20850.mp4\n",
      "\n"
     ]
    },
    {
     "name": "stderr",
     "output_type": "stream",
     "text": [
      "                                                                                                                                         "
     ]
    },
    {
     "name": "stdout",
     "output_type": "stream",
     "text": [
      "Moviepy - Done !\n",
      "Moviepy - video ready /imitation/docs/tutorials/generated_videos/rl-video-step-20800-to-step-20850.mp4\n"
     ]
    },
    {
     "name": "stderr",
     "output_type": "stream",
     "text": [
      "\r"
     ]
    },
    {
     "name": "stdout",
     "output_type": "stream",
     "text": [
      "Saving video to /imitation/docs/tutorials/generated_videos/rl-video-step-20900-to-step-20950.mp4\n",
      "Moviepy - Building video /imitation/docs/tutorials/generated_videos/rl-video-step-20900-to-step-20950.mp4.\n",
      "Moviepy - Writing video /imitation/docs/tutorials/generated_videos/rl-video-step-20900-to-step-20950.mp4\n",
      "\n"
     ]
    },
    {
     "name": "stderr",
     "output_type": "stream",
     "text": [
      "                                                                                                                                         "
     ]
    },
    {
     "name": "stdout",
     "output_type": "stream",
     "text": [
      "Moviepy - Done !\n",
      "Moviepy - video ready /imitation/docs/tutorials/generated_videos/rl-video-step-20900-to-step-20950.mp4\n"
     ]
    },
    {
     "name": "stderr",
     "output_type": "stream",
     "text": [
      "\r"
     ]
    },
    {
     "name": "stdout",
     "output_type": "stream",
     "text": [
      "Saving video to /imitation/docs/tutorials/generated_videos/rl-video-step-21000-to-step-21050.mp4\n",
      "Moviepy - Building video /imitation/docs/tutorials/generated_videos/rl-video-step-21000-to-step-21050.mp4.\n",
      "Moviepy - Writing video /imitation/docs/tutorials/generated_videos/rl-video-step-21000-to-step-21050.mp4\n",
      "\n"
     ]
    },
    {
     "name": "stderr",
     "output_type": "stream",
     "text": [
      "                                                                                                                                         "
     ]
    },
    {
     "name": "stdout",
     "output_type": "stream",
     "text": [
      "Moviepy - Done !\n",
      "Moviepy - video ready /imitation/docs/tutorials/generated_videos/rl-video-step-21000-to-step-21050.mp4\n"
     ]
    },
    {
     "name": "stderr",
     "output_type": "stream",
     "text": [
      "\r"
     ]
    },
    {
     "name": "stdout",
     "output_type": "stream",
     "text": [
      "Saving video to /imitation/docs/tutorials/generated_videos/rl-video-step-21100-to-step-21150.mp4\n",
      "Moviepy - Building video /imitation/docs/tutorials/generated_videos/rl-video-step-21100-to-step-21150.mp4.\n",
      "Moviepy - Writing video /imitation/docs/tutorials/generated_videos/rl-video-step-21100-to-step-21150.mp4\n",
      "\n"
     ]
    },
    {
     "name": "stderr",
     "output_type": "stream",
     "text": [
      "                                                                                                                                         \r"
     ]
    },
    {
     "name": "stdout",
     "output_type": "stream",
     "text": [
      "Moviepy - Done !\n",
      "Moviepy - video ready /imitation/docs/tutorials/generated_videos/rl-video-step-21100-to-step-21150.mp4\n",
      "Saving video to /imitation/docs/tutorials/generated_videos/rl-video-step-21200-to-step-21250.mp4\n",
      "Moviepy - Building video /imitation/docs/tutorials/generated_videos/rl-video-step-21200-to-step-21250.mp4.\n",
      "Moviepy - Writing video /imitation/docs/tutorials/generated_videos/rl-video-step-21200-to-step-21250.mp4\n",
      "\n"
     ]
    },
    {
     "name": "stderr",
     "output_type": "stream",
     "text": [
      "                                                                                                                                         "
     ]
    },
    {
     "name": "stdout",
     "output_type": "stream",
     "text": [
      "Moviepy - Done !\n",
      "Moviepy - video ready /imitation/docs/tutorials/generated_videos/rl-video-step-21200-to-step-21250.mp4\n"
     ]
    },
    {
     "name": "stderr",
     "output_type": "stream",
     "text": [
      "\r"
     ]
    },
    {
     "name": "stdout",
     "output_type": "stream",
     "text": [
      "Saving video to /imitation/docs/tutorials/generated_videos/rl-video-step-21300-to-step-21350.mp4\n",
      "Moviepy - Building video /imitation/docs/tutorials/generated_videos/rl-video-step-21300-to-step-21350.mp4.\n",
      "Moviepy - Writing video /imitation/docs/tutorials/generated_videos/rl-video-step-21300-to-step-21350.mp4\n",
      "\n"
     ]
    },
    {
     "name": "stderr",
     "output_type": "stream",
     "text": [
      "                                                                                                                                         "
     ]
    },
    {
     "name": "stdout",
     "output_type": "stream",
     "text": [
      "Moviepy - Done !\n",
      "Moviepy - video ready /imitation/docs/tutorials/generated_videos/rl-video-step-21300-to-step-21350.mp4\n"
     ]
    },
    {
     "name": "stderr",
     "output_type": "stream",
     "text": [
      "\r"
     ]
    },
    {
     "name": "stdout",
     "output_type": "stream",
     "text": [
      "Saving video to /imitation/docs/tutorials/generated_videos/rl-video-step-21400-to-step-21450.mp4\n",
      "Moviepy - Building video /imitation/docs/tutorials/generated_videos/rl-video-step-21400-to-step-21450.mp4.\n",
      "Moviepy - Writing video /imitation/docs/tutorials/generated_videos/rl-video-step-21400-to-step-21450.mp4\n",
      "\n"
     ]
    },
    {
     "name": "stderr",
     "output_type": "stream",
     "text": [
      "                                                                                                                                         "
     ]
    },
    {
     "name": "stdout",
     "output_type": "stream",
     "text": [
      "Moviepy - Done !\n",
      "Moviepy - video ready /imitation/docs/tutorials/generated_videos/rl-video-step-21400-to-step-21450.mp4\n"
     ]
    },
    {
     "name": "stderr",
     "output_type": "stream",
     "text": [
      "\r"
     ]
    },
    {
     "name": "stdout",
     "output_type": "stream",
     "text": [
      "Saving video to /imitation/docs/tutorials/generated_videos/rl-video-step-21500-to-step-21550.mp4\n",
      "Moviepy - Building video /imitation/docs/tutorials/generated_videos/rl-video-step-21500-to-step-21550.mp4.\n",
      "Moviepy - Writing video /imitation/docs/tutorials/generated_videos/rl-video-step-21500-to-step-21550.mp4\n",
      "\n"
     ]
    },
    {
     "name": "stderr",
     "output_type": "stream",
     "text": [
      "                                                                                                                                         \r"
     ]
    },
    {
     "name": "stdout",
     "output_type": "stream",
     "text": [
      "Moviepy - Done !\n",
      "Moviepy - video ready /imitation/docs/tutorials/generated_videos/rl-video-step-21500-to-step-21550.mp4\n",
      "Saving video to /imitation/docs/tutorials/generated_videos/rl-video-step-21600-to-step-21650.mp4\n",
      "Moviepy - Building video /imitation/docs/tutorials/generated_videos/rl-video-step-21600-to-step-21650.mp4.\n",
      "Moviepy - Writing video /imitation/docs/tutorials/generated_videos/rl-video-step-21600-to-step-21650.mp4\n",
      "\n"
     ]
    },
    {
     "name": "stderr",
     "output_type": "stream",
     "text": [
      "                                                                                                                                         \r"
     ]
    },
    {
     "name": "stdout",
     "output_type": "stream",
     "text": [
      "Moviepy - Done !\n",
      "Moviepy - video ready /imitation/docs/tutorials/generated_videos/rl-video-step-21600-to-step-21650.mp4\n",
      "Saving video to /imitation/docs/tutorials/generated_videos/rl-video-step-21700-to-step-21750.mp4\n",
      "Moviepy - Building video /imitation/docs/tutorials/generated_videos/rl-video-step-21700-to-step-21750.mp4.\n",
      "Moviepy - Writing video /imitation/docs/tutorials/generated_videos/rl-video-step-21700-to-step-21750.mp4\n",
      "\n"
     ]
    },
    {
     "name": "stderr",
     "output_type": "stream",
     "text": [
      "                                                                                                                                         \r"
     ]
    },
    {
     "name": "stdout",
     "output_type": "stream",
     "text": [
      "Moviepy - Done !\n",
      "Moviepy - video ready /imitation/docs/tutorials/generated_videos/rl-video-step-21700-to-step-21750.mp4\n",
      "Saving video to /imitation/docs/tutorials/generated_videos/rl-video-step-21800-to-step-21850.mp4\n",
      "Moviepy - Building video /imitation/docs/tutorials/generated_videos/rl-video-step-21800-to-step-21850.mp4.\n",
      "Moviepy - Writing video /imitation/docs/tutorials/generated_videos/rl-video-step-21800-to-step-21850.mp4\n",
      "\n"
     ]
    },
    {
     "name": "stderr",
     "output_type": "stream",
     "text": [
      "                                                                                                                                         "
     ]
    },
    {
     "name": "stdout",
     "output_type": "stream",
     "text": [
      "Moviepy - Done !\n",
      "Moviepy - video ready /imitation/docs/tutorials/generated_videos/rl-video-step-21800-to-step-21850.mp4\n",
      "-------------------------------------------------------\n",
      "| raw/                                 |              |\n",
      "|    agent/rollout/ep_len_mean         | 50           |\n",
      "|    agent/rollout/ep_rew_mean         | -62.9        |\n",
      "|    agent/rollout/ep_rew_wrapped_mean | -4.54        |\n",
      "|    agent/time/fps                    | 123          |\n",
      "|    agent/time/iterations             | 2            |\n",
      "|    agent/time/time_elapsed           | 33           |\n",
      "|    agent/time/total_timesteps        | 14336        |\n",
      "|    agent/train/approx_kl             | 0.0060436074 |\n",
      "|    agent/train/clip_fraction         | 0.24         |\n",
      "|    agent/train/clip_range            | 0.1          |\n",
      "|    agent/train/entropy_loss          | -2.89        |\n",
      "|    agent/train/explained_variance    | 0.478        |\n",
      "|    agent/train/learning_rate         | 0.002        |\n",
      "|    agent/train/loss                  | -0.0234      |\n",
      "|    agent/train/n_updates             | 60           |\n",
      "|    agent/train/policy_gradient_loss  | -0.0114      |\n",
      "|    agent/train/std                   | 1.03         |\n",
      "|    agent/train/value_loss            | 0.0907       |\n",
      "-------------------------------------------------------\n"
     ]
    },
    {
     "name": "stderr",
     "output_type": "stream",
     "text": [
      "\r"
     ]
    },
    {
     "name": "stdout",
     "output_type": "stream",
     "text": [
      "Saving video to /imitation/docs/tutorials/generated_videos/rl-video-step-21900-to-step-21950.mp4\n",
      "Moviepy - Building video /imitation/docs/tutorials/generated_videos/rl-video-step-21900-to-step-21950.mp4.\n",
      "Moviepy - Writing video /imitation/docs/tutorials/generated_videos/rl-video-step-21900-to-step-21950.mp4\n",
      "\n"
     ]
    },
    {
     "name": "stderr",
     "output_type": "stream",
     "text": [
      "                                                                                                                                         "
     ]
    },
    {
     "name": "stdout",
     "output_type": "stream",
     "text": [
      "Moviepy - Done !\n",
      "Moviepy - video ready /imitation/docs/tutorials/generated_videos/rl-video-step-21900-to-step-21950.mp4\n"
     ]
    },
    {
     "name": "stderr",
     "output_type": "stream",
     "text": [
      "\r"
     ]
    },
    {
     "name": "stdout",
     "output_type": "stream",
     "text": [
      "Saving video to /imitation/docs/tutorials/generated_videos/rl-video-step-22000-to-step-22050.mp4\n",
      "Moviepy - Building video /imitation/docs/tutorials/generated_videos/rl-video-step-22000-to-step-22050.mp4.\n",
      "Moviepy - Writing video /imitation/docs/tutorials/generated_videos/rl-video-step-22000-to-step-22050.mp4\n",
      "\n"
     ]
    },
    {
     "name": "stderr",
     "output_type": "stream",
     "text": [
      "                                                                                                                                         \r"
     ]
    },
    {
     "name": "stdout",
     "output_type": "stream",
     "text": [
      "Moviepy - Done !\n",
      "Moviepy - video ready /imitation/docs/tutorials/generated_videos/rl-video-step-22000-to-step-22050.mp4\n",
      "Saving video to /imitation/docs/tutorials/generated_videos/rl-video-step-22100-to-step-22150.mp4\n",
      "Moviepy - Building video /imitation/docs/tutorials/generated_videos/rl-video-step-22100-to-step-22150.mp4.\n",
      "Moviepy - Writing video /imitation/docs/tutorials/generated_videos/rl-video-step-22100-to-step-22150.mp4\n",
      "\n"
     ]
    },
    {
     "name": "stderr",
     "output_type": "stream",
     "text": [
      "                                                                                                                                         \r"
     ]
    },
    {
     "name": "stdout",
     "output_type": "stream",
     "text": [
      "Moviepy - Done !\n",
      "Moviepy - video ready /imitation/docs/tutorials/generated_videos/rl-video-step-22100-to-step-22150.mp4\n",
      "Saving video to /imitation/docs/tutorials/generated_videos/rl-video-step-22200-to-step-22250.mp4\n",
      "Moviepy - Building video /imitation/docs/tutorials/generated_videos/rl-video-step-22200-to-step-22250.mp4.\n",
      "Moviepy - Writing video /imitation/docs/tutorials/generated_videos/rl-video-step-22200-to-step-22250.mp4\n",
      "\n"
     ]
    },
    {
     "name": "stderr",
     "output_type": "stream",
     "text": [
      "                                                                                                                                         "
     ]
    },
    {
     "name": "stdout",
     "output_type": "stream",
     "text": [
      "Moviepy - Done !\n",
      "Moviepy - video ready /imitation/docs/tutorials/generated_videos/rl-video-step-22200-to-step-22250.mp4\n"
     ]
    },
    {
     "name": "stderr",
     "output_type": "stream",
     "text": [
      "\r"
     ]
    },
    {
     "name": "stdout",
     "output_type": "stream",
     "text": [
      "Saving video to /imitation/docs/tutorials/generated_videos/rl-video-step-22300-to-step-22350.mp4\n",
      "Moviepy - Building video /imitation/docs/tutorials/generated_videos/rl-video-step-22300-to-step-22350.mp4.\n",
      "Moviepy - Writing video /imitation/docs/tutorials/generated_videos/rl-video-step-22300-to-step-22350.mp4\n",
      "\n"
     ]
    },
    {
     "name": "stderr",
     "output_type": "stream",
     "text": [
      "                                                                                                                                         "
     ]
    },
    {
     "name": "stdout",
     "output_type": "stream",
     "text": [
      "Moviepy - Done !\n",
      "Moviepy - video ready /imitation/docs/tutorials/generated_videos/rl-video-step-22300-to-step-22350.mp4\n"
     ]
    },
    {
     "name": "stderr",
     "output_type": "stream",
     "text": [
      "\r"
     ]
    },
    {
     "name": "stdout",
     "output_type": "stream",
     "text": [
      "Saving video to /imitation/docs/tutorials/generated_videos/rl-video-step-22400-to-step-22450.mp4\n",
      "Moviepy - Building video /imitation/docs/tutorials/generated_videos/rl-video-step-22400-to-step-22450.mp4.\n",
      "Moviepy - Writing video /imitation/docs/tutorials/generated_videos/rl-video-step-22400-to-step-22450.mp4\n",
      "\n"
     ]
    },
    {
     "name": "stderr",
     "output_type": "stream",
     "text": [
      "                                                                                                                                         "
     ]
    },
    {
     "name": "stdout",
     "output_type": "stream",
     "text": [
      "Moviepy - Done !\n",
      "Moviepy - video ready /imitation/docs/tutorials/generated_videos/rl-video-step-22400-to-step-22450.mp4\n"
     ]
    },
    {
     "name": "stderr",
     "output_type": "stream",
     "text": [
      "\r"
     ]
    },
    {
     "name": "stdout",
     "output_type": "stream",
     "text": [
      "Saving video to /imitation/docs/tutorials/generated_videos/rl-video-step-22500-to-step-22550.mp4\n",
      "Moviepy - Building video /imitation/docs/tutorials/generated_videos/rl-video-step-22500-to-step-22550.mp4.\n",
      "Moviepy - Writing video /imitation/docs/tutorials/generated_videos/rl-video-step-22500-to-step-22550.mp4\n",
      "\n"
     ]
    },
    {
     "name": "stderr",
     "output_type": "stream",
     "text": [
      "                                                                                                                                         "
     ]
    },
    {
     "name": "stdout",
     "output_type": "stream",
     "text": [
      "Moviepy - Done !\n",
      "Moviepy - video ready /imitation/docs/tutorials/generated_videos/rl-video-step-22500-to-step-22550.mp4\n"
     ]
    },
    {
     "name": "stderr",
     "output_type": "stream",
     "text": [
      "\r"
     ]
    },
    {
     "name": "stdout",
     "output_type": "stream",
     "text": [
      "Saving video to /imitation/docs/tutorials/generated_videos/rl-video-step-22600-to-step-22650.mp4\n",
      "Moviepy - Building video /imitation/docs/tutorials/generated_videos/rl-video-step-22600-to-step-22650.mp4.\n",
      "Moviepy - Writing video /imitation/docs/tutorials/generated_videos/rl-video-step-22600-to-step-22650.mp4\n",
      "\n"
     ]
    },
    {
     "name": "stderr",
     "output_type": "stream",
     "text": [
      "                                                                                                                                         "
     ]
    },
    {
     "name": "stdout",
     "output_type": "stream",
     "text": [
      "Moviepy - Done !\n",
      "Moviepy - video ready /imitation/docs/tutorials/generated_videos/rl-video-step-22600-to-step-22650.mp4\n"
     ]
    },
    {
     "name": "stderr",
     "output_type": "stream",
     "text": [
      "\r"
     ]
    },
    {
     "name": "stdout",
     "output_type": "stream",
     "text": [
      "Saving video to /imitation/docs/tutorials/generated_videos/rl-video-step-22700-to-step-22750.mp4\n",
      "Moviepy - Building video /imitation/docs/tutorials/generated_videos/rl-video-step-22700-to-step-22750.mp4.\n",
      "Moviepy - Writing video /imitation/docs/tutorials/generated_videos/rl-video-step-22700-to-step-22750.mp4\n",
      "\n"
     ]
    },
    {
     "name": "stderr",
     "output_type": "stream",
     "text": [
      "                                                                                                                                         "
     ]
    },
    {
     "name": "stdout",
     "output_type": "stream",
     "text": [
      "Moviepy - Done !\n",
      "Moviepy - video ready /imitation/docs/tutorials/generated_videos/rl-video-step-22700-to-step-22750.mp4\n"
     ]
    },
    {
     "name": "stderr",
     "output_type": "stream",
     "text": [
      "\r"
     ]
    },
    {
     "name": "stdout",
     "output_type": "stream",
     "text": [
      "Saving video to /imitation/docs/tutorials/generated_videos/rl-video-step-22800-to-step-22850.mp4\n",
      "Moviepy - Building video /imitation/docs/tutorials/generated_videos/rl-video-step-22800-to-step-22850.mp4.\n",
      "Moviepy - Writing video /imitation/docs/tutorials/generated_videos/rl-video-step-22800-to-step-22850.mp4\n",
      "\n"
     ]
    },
    {
     "name": "stderr",
     "output_type": "stream",
     "text": [
      "                                                                                                                                         "
     ]
    },
    {
     "name": "stdout",
     "output_type": "stream",
     "text": [
      "Moviepy - Done !\n",
      "Moviepy - video ready /imitation/docs/tutorials/generated_videos/rl-video-step-22800-to-step-22850.mp4\n"
     ]
    },
    {
     "name": "stderr",
     "output_type": "stream",
     "text": [
      "\r"
     ]
    },
    {
     "name": "stdout",
     "output_type": "stream",
     "text": [
      "Saving video to /imitation/docs/tutorials/generated_videos/rl-video-step-22900-to-step-22950.mp4\n",
      "Moviepy - Building video /imitation/docs/tutorials/generated_videos/rl-video-step-22900-to-step-22950.mp4.\n",
      "Moviepy - Writing video /imitation/docs/tutorials/generated_videos/rl-video-step-22900-to-step-22950.mp4\n",
      "\n"
     ]
    },
    {
     "name": "stderr",
     "output_type": "stream",
     "text": [
      "                                                                                                                                         \r"
     ]
    },
    {
     "name": "stdout",
     "output_type": "stream",
     "text": [
      "Moviepy - Done !\n",
      "Moviepy - video ready /imitation/docs/tutorials/generated_videos/rl-video-step-22900-to-step-22950.mp4\n",
      "Saving video to /imitation/docs/tutorials/generated_videos/rl-video-step-23000-to-step-23050.mp4\n",
      "Moviepy - Building video /imitation/docs/tutorials/generated_videos/rl-video-step-23000-to-step-23050.mp4.\n",
      "Moviepy - Writing video /imitation/docs/tutorials/generated_videos/rl-video-step-23000-to-step-23050.mp4\n",
      "\n"
     ]
    },
    {
     "name": "stderr",
     "output_type": "stream",
     "text": [
      "                                                                                                                                         "
     ]
    },
    {
     "name": "stdout",
     "output_type": "stream",
     "text": [
      "Moviepy - Done !\n",
      "Moviepy - video ready /imitation/docs/tutorials/generated_videos/rl-video-step-23000-to-step-23050.mp4\n"
     ]
    },
    {
     "name": "stderr",
     "output_type": "stream",
     "text": [
      "\r"
     ]
    },
    {
     "name": "stdout",
     "output_type": "stream",
     "text": [
      "Saving video to /imitation/docs/tutorials/generated_videos/rl-video-step-23100-to-step-23150.mp4\n",
      "Moviepy - Building video /imitation/docs/tutorials/generated_videos/rl-video-step-23100-to-step-23150.mp4.\n",
      "Moviepy - Writing video /imitation/docs/tutorials/generated_videos/rl-video-step-23100-to-step-23150.mp4\n",
      "\n"
     ]
    },
    {
     "name": "stderr",
     "output_type": "stream",
     "text": [
      "                                                                                                                                         "
     ]
    },
    {
     "name": "stdout",
     "output_type": "stream",
     "text": [
      "Moviepy - Done !\n",
      "Moviepy - video ready /imitation/docs/tutorials/generated_videos/rl-video-step-23100-to-step-23150.mp4\n"
     ]
    },
    {
     "name": "stderr",
     "output_type": "stream",
     "text": [
      "\r"
     ]
    },
    {
     "name": "stdout",
     "output_type": "stream",
     "text": [
      "Saving video to /imitation/docs/tutorials/generated_videos/rl-video-step-23200-to-step-23250.mp4\n",
      "Moviepy - Building video /imitation/docs/tutorials/generated_videos/rl-video-step-23200-to-step-23250.mp4.\n",
      "Moviepy - Writing video /imitation/docs/tutorials/generated_videos/rl-video-step-23200-to-step-23250.mp4\n",
      "\n"
     ]
    },
    {
     "name": "stderr",
     "output_type": "stream",
     "text": [
      "                                                                                                                                         "
     ]
    },
    {
     "name": "stdout",
     "output_type": "stream",
     "text": [
      "Moviepy - Done !\n",
      "Moviepy - video ready /imitation/docs/tutorials/generated_videos/rl-video-step-23200-to-step-23250.mp4\n"
     ]
    },
    {
     "name": "stderr",
     "output_type": "stream",
     "text": [
      "\r"
     ]
    },
    {
     "name": "stdout",
     "output_type": "stream",
     "text": [
      "Saving video to /imitation/docs/tutorials/generated_videos/rl-video-step-23300-to-step-23350.mp4\n",
      "Moviepy - Building video /imitation/docs/tutorials/generated_videos/rl-video-step-23300-to-step-23350.mp4.\n",
      "Moviepy - Writing video /imitation/docs/tutorials/generated_videos/rl-video-step-23300-to-step-23350.mp4\n",
      "\n"
     ]
    },
    {
     "name": "stderr",
     "output_type": "stream",
     "text": [
      "                                                                                                                                         "
     ]
    },
    {
     "name": "stdout",
     "output_type": "stream",
     "text": [
      "Moviepy - Done !\n",
      "Moviepy - video ready /imitation/docs/tutorials/generated_videos/rl-video-step-23300-to-step-23350.mp4\n"
     ]
    },
    {
     "name": "stderr",
     "output_type": "stream",
     "text": [
      "\r"
     ]
    },
    {
     "name": "stdout",
     "output_type": "stream",
     "text": [
      "Saving video to /imitation/docs/tutorials/generated_videos/rl-video-step-23400-to-step-23450.mp4\n",
      "Moviepy - Building video /imitation/docs/tutorials/generated_videos/rl-video-step-23400-to-step-23450.mp4.\n",
      "Moviepy - Writing video /imitation/docs/tutorials/generated_videos/rl-video-step-23400-to-step-23450.mp4\n",
      "\n"
     ]
    },
    {
     "name": "stderr",
     "output_type": "stream",
     "text": [
      "                                                                                                                                         "
     ]
    },
    {
     "name": "stdout",
     "output_type": "stream",
     "text": [
      "Moviepy - Done !\n",
      "Moviepy - video ready /imitation/docs/tutorials/generated_videos/rl-video-step-23400-to-step-23450.mp4\n"
     ]
    },
    {
     "name": "stderr",
     "output_type": "stream",
     "text": [
      "\r"
     ]
    },
    {
     "name": "stdout",
     "output_type": "stream",
     "text": [
      "Saving video to /imitation/docs/tutorials/generated_videos/rl-video-step-23500-to-step-23550.mp4\n",
      "Moviepy - Building video /imitation/docs/tutorials/generated_videos/rl-video-step-23500-to-step-23550.mp4.\n",
      "Moviepy - Writing video /imitation/docs/tutorials/generated_videos/rl-video-step-23500-to-step-23550.mp4\n",
      "\n"
     ]
    },
    {
     "name": "stderr",
     "output_type": "stream",
     "text": [
      "                                                                                                                                         "
     ]
    },
    {
     "name": "stdout",
     "output_type": "stream",
     "text": [
      "Moviepy - Done !\n",
      "Moviepy - video ready /imitation/docs/tutorials/generated_videos/rl-video-step-23500-to-step-23550.mp4\n"
     ]
    },
    {
     "name": "stderr",
     "output_type": "stream",
     "text": [
      "\r"
     ]
    },
    {
     "name": "stdout",
     "output_type": "stream",
     "text": [
      "Saving video to /imitation/docs/tutorials/generated_videos/rl-video-step-23600-to-step-23650.mp4\n",
      "Moviepy - Building video /imitation/docs/tutorials/generated_videos/rl-video-step-23600-to-step-23650.mp4.\n",
      "Moviepy - Writing video /imitation/docs/tutorials/generated_videos/rl-video-step-23600-to-step-23650.mp4\n",
      "\n"
     ]
    },
    {
     "name": "stderr",
     "output_type": "stream",
     "text": [
      "                                                                                                                                         "
     ]
    },
    {
     "name": "stdout",
     "output_type": "stream",
     "text": [
      "Moviepy - Done !\n",
      "Moviepy - video ready /imitation/docs/tutorials/generated_videos/rl-video-step-23600-to-step-23650.mp4\n"
     ]
    },
    {
     "name": "stderr",
     "output_type": "stream",
     "text": [
      "\r"
     ]
    },
    {
     "name": "stdout",
     "output_type": "stream",
     "text": [
      "Saving video to /imitation/docs/tutorials/generated_videos/rl-video-step-23700-to-step-23750.mp4\n",
      "Moviepy - Building video /imitation/docs/tutorials/generated_videos/rl-video-step-23700-to-step-23750.mp4.\n",
      "Moviepy - Writing video /imitation/docs/tutorials/generated_videos/rl-video-step-23700-to-step-23750.mp4\n",
      "\n"
     ]
    },
    {
     "name": "stderr",
     "output_type": "stream",
     "text": [
      "                                                                                                                                         "
     ]
    },
    {
     "name": "stdout",
     "output_type": "stream",
     "text": [
      "Moviepy - Done !\n",
      "Moviepy - video ready /imitation/docs/tutorials/generated_videos/rl-video-step-23700-to-step-23750.mp4\n"
     ]
    },
    {
     "name": "stderr",
     "output_type": "stream",
     "text": [
      "\r"
     ]
    },
    {
     "name": "stdout",
     "output_type": "stream",
     "text": [
      "Saving video to /imitation/docs/tutorials/generated_videos/rl-video-step-23800-to-step-23850.mp4\n",
      "Moviepy - Building video /imitation/docs/tutorials/generated_videos/rl-video-step-23800-to-step-23850.mp4.\n",
      "Moviepy - Writing video /imitation/docs/tutorials/generated_videos/rl-video-step-23800-to-step-23850.mp4\n",
      "\n"
     ]
    },
    {
     "name": "stderr",
     "output_type": "stream",
     "text": [
      "                                                                                                                                         "
     ]
    },
    {
     "name": "stdout",
     "output_type": "stream",
     "text": [
      "Moviepy - Done !\n",
      "Moviepy - video ready /imitation/docs/tutorials/generated_videos/rl-video-step-23800-to-step-23850.mp4\n"
     ]
    },
    {
     "name": "stderr",
     "output_type": "stream",
     "text": [
      "\r"
     ]
    },
    {
     "name": "stdout",
     "output_type": "stream",
     "text": [
      "------------------------------------------------------\n",
      "| raw/                                 |             |\n",
      "|    agent/rollout/ep_len_mean         | 50          |\n",
      "|    agent/rollout/ep_rew_mean         | -63.2       |\n",
      "|    agent/rollout/ep_rew_wrapped_mean | -5.5        |\n",
      "|    agent/time/fps                    | 123         |\n",
      "|    agent/time/iterations             | 3           |\n",
      "|    agent/time/time_elapsed           | 49          |\n",
      "|    agent/time/total_timesteps        | 16384       |\n",
      "|    agent/train/approx_kl             | 0.006738413 |\n",
      "|    agent/train/clip_fraction         | 0.252       |\n",
      "|    agent/train/clip_range            | 0.1         |\n",
      "|    agent/train/entropy_loss          | -2.89       |\n",
      "|    agent/train/explained_variance    | 0.667       |\n",
      "|    agent/train/learning_rate         | 0.002       |\n",
      "|    agent/train/loss                  | -0.0205     |\n",
      "|    agent/train/n_updates             | 70          |\n",
      "|    agent/train/policy_gradient_loss  | -0.00913    |\n",
      "|    agent/train/std                   | 1.02        |\n",
      "|    agent/train/value_loss            | 0.0485      |\n",
      "------------------------------------------------------\n",
      "Saving video to /imitation/docs/tutorials/generated_videos/rl-video-step-23900-to-step-23950.mp4\n",
      "Moviepy - Building video /imitation/docs/tutorials/generated_videos/rl-video-step-23900-to-step-23950.mp4.\n",
      "Moviepy - Writing video /imitation/docs/tutorials/generated_videos/rl-video-step-23900-to-step-23950.mp4\n",
      "\n"
     ]
    },
    {
     "name": "stderr",
     "output_type": "stream",
     "text": [
      "                                                                                                                                         "
     ]
    },
    {
     "name": "stdout",
     "output_type": "stream",
     "text": [
      "Moviepy - Done !\n",
      "Moviepy - video ready /imitation/docs/tutorials/generated_videos/rl-video-step-23900-to-step-23950.mp4\n"
     ]
    },
    {
     "name": "stderr",
     "output_type": "stream",
     "text": [
      "\r"
     ]
    },
    {
     "name": "stdout",
     "output_type": "stream",
     "text": [
      "Saving video to /imitation/docs/tutorials/generated_videos/rl-video-step-24000-to-step-24050.mp4\n",
      "Moviepy - Building video /imitation/docs/tutorials/generated_videos/rl-video-step-24000-to-step-24050.mp4.\n",
      "Moviepy - Writing video /imitation/docs/tutorials/generated_videos/rl-video-step-24000-to-step-24050.mp4\n",
      "\n"
     ]
    },
    {
     "name": "stderr",
     "output_type": "stream",
     "text": [
      "                                                                                                                                         "
     ]
    },
    {
     "name": "stdout",
     "output_type": "stream",
     "text": [
      "Moviepy - Done !\n",
      "Moviepy - video ready /imitation/docs/tutorials/generated_videos/rl-video-step-24000-to-step-24050.mp4\n"
     ]
    },
    {
     "name": "stderr",
     "output_type": "stream",
     "text": [
      "\r"
     ]
    },
    {
     "name": "stdout",
     "output_type": "stream",
     "text": [
      "Saving video to /imitation/docs/tutorials/generated_videos/rl-video-step-24100-to-step-24150.mp4\n",
      "Moviepy - Building video /imitation/docs/tutorials/generated_videos/rl-video-step-24100-to-step-24150.mp4.\n",
      "Moviepy - Writing video /imitation/docs/tutorials/generated_videos/rl-video-step-24100-to-step-24150.mp4\n",
      "\n"
     ]
    },
    {
     "name": "stderr",
     "output_type": "stream",
     "text": [
      "                                                                                                                                         "
     ]
    },
    {
     "name": "stdout",
     "output_type": "stream",
     "text": [
      "Moviepy - Done !\n",
      "Moviepy - video ready /imitation/docs/tutorials/generated_videos/rl-video-step-24100-to-step-24150.mp4\n"
     ]
    },
    {
     "name": "stderr",
     "output_type": "stream",
     "text": [
      "\r"
     ]
    },
    {
     "name": "stdout",
     "output_type": "stream",
     "text": [
      "Saving video to /imitation/docs/tutorials/generated_videos/rl-video-step-24200-to-step-24250.mp4\n",
      "Moviepy - Building video /imitation/docs/tutorials/generated_videos/rl-video-step-24200-to-step-24250.mp4.\n",
      "Moviepy - Writing video /imitation/docs/tutorials/generated_videos/rl-video-step-24200-to-step-24250.mp4\n",
      "\n"
     ]
    },
    {
     "name": "stderr",
     "output_type": "stream",
     "text": [
      "                                                                                                                                         "
     ]
    },
    {
     "name": "stdout",
     "output_type": "stream",
     "text": [
      "Moviepy - Done !\n",
      "Moviepy - video ready /imitation/docs/tutorials/generated_videos/rl-video-step-24200-to-step-24250.mp4\n"
     ]
    },
    {
     "name": "stderr",
     "output_type": "stream",
     "text": [
      "\r"
     ]
    },
    {
     "name": "stdout",
     "output_type": "stream",
     "text": [
      "Saving video to /imitation/docs/tutorials/generated_videos/rl-video-step-24300-to-step-24350.mp4\n",
      "Moviepy - Building video /imitation/docs/tutorials/generated_videos/rl-video-step-24300-to-step-24350.mp4.\n",
      "Moviepy - Writing video /imitation/docs/tutorials/generated_videos/rl-video-step-24300-to-step-24350.mp4\n",
      "\n"
     ]
    },
    {
     "name": "stderr",
     "output_type": "stream",
     "text": [
      "                                                                                                                                         "
     ]
    },
    {
     "name": "stdout",
     "output_type": "stream",
     "text": [
      "Moviepy - Done !\n",
      "Moviepy - video ready /imitation/docs/tutorials/generated_videos/rl-video-step-24300-to-step-24350.mp4\n"
     ]
    },
    {
     "name": "stderr",
     "output_type": "stream",
     "text": [
      "\r"
     ]
    },
    {
     "name": "stdout",
     "output_type": "stream",
     "text": [
      "Saving video to /imitation/docs/tutorials/generated_videos/rl-video-step-24400-to-step-24450.mp4\n",
      "Moviepy - Building video /imitation/docs/tutorials/generated_videos/rl-video-step-24400-to-step-24450.mp4.\n",
      "Moviepy - Writing video /imitation/docs/tutorials/generated_videos/rl-video-step-24400-to-step-24450.mp4\n",
      "\n"
     ]
    },
    {
     "name": "stderr",
     "output_type": "stream",
     "text": [
      "                                                                                                                                         "
     ]
    },
    {
     "name": "stdout",
     "output_type": "stream",
     "text": [
      "Moviepy - Done !\n",
      "Moviepy - video ready /imitation/docs/tutorials/generated_videos/rl-video-step-24400-to-step-24450.mp4\n"
     ]
    },
    {
     "name": "stderr",
     "output_type": "stream",
     "text": [
      "\r"
     ]
    },
    {
     "name": "stdout",
     "output_type": "stream",
     "text": [
      "Saving video to /imitation/docs/tutorials/generated_videos/rl-video-step-24500-to-step-24550.mp4\n",
      "Moviepy - Building video /imitation/docs/tutorials/generated_videos/rl-video-step-24500-to-step-24550.mp4.\n",
      "Moviepy - Writing video /imitation/docs/tutorials/generated_videos/rl-video-step-24500-to-step-24550.mp4\n",
      "\n"
     ]
    },
    {
     "name": "stderr",
     "output_type": "stream",
     "text": [
      "                                                                                                                                         "
     ]
    },
    {
     "name": "stdout",
     "output_type": "stream",
     "text": [
      "Moviepy - Done !\n",
      "Moviepy - video ready /imitation/docs/tutorials/generated_videos/rl-video-step-24500-to-step-24550.mp4\n"
     ]
    },
    {
     "name": "stderr",
     "output_type": "stream",
     "text": [
      "\r"
     ]
    },
    {
     "name": "stdout",
     "output_type": "stream",
     "text": [
      "Saving video to /imitation/docs/tutorials/generated_videos/rl-video-step-24600-to-step-24650.mp4\n",
      "Moviepy - Building video /imitation/docs/tutorials/generated_videos/rl-video-step-24600-to-step-24650.mp4.\n",
      "Moviepy - Writing video /imitation/docs/tutorials/generated_videos/rl-video-step-24600-to-step-24650.mp4\n",
      "\n"
     ]
    },
    {
     "name": "stderr",
     "output_type": "stream",
     "text": [
      "                                                                                                                                         \r"
     ]
    },
    {
     "name": "stdout",
     "output_type": "stream",
     "text": [
      "Moviepy - Done !\n",
      "Moviepy - video ready /imitation/docs/tutorials/generated_videos/rl-video-step-24600-to-step-24650.mp4\n",
      "Saving video to /imitation/docs/tutorials/generated_videos/rl-video-step-24700-to-step-24750.mp4\n",
      "Moviepy - Building video /imitation/docs/tutorials/generated_videos/rl-video-step-24700-to-step-24750.mp4.\n",
      "Moviepy - Writing video /imitation/docs/tutorials/generated_videos/rl-video-step-24700-to-step-24750.mp4\n",
      "\n"
     ]
    },
    {
     "name": "stderr",
     "output_type": "stream",
     "text": [
      "                                                                                                                                         "
     ]
    },
    {
     "name": "stdout",
     "output_type": "stream",
     "text": [
      "Moviepy - Done !\n",
      "Moviepy - video ready /imitation/docs/tutorials/generated_videos/rl-video-step-24700-to-step-24750.mp4\n"
     ]
    },
    {
     "name": "stderr",
     "output_type": "stream",
     "text": [
      "\r"
     ]
    },
    {
     "name": "stdout",
     "output_type": "stream",
     "text": [
      "Saving video to /imitation/docs/tutorials/generated_videos/rl-video-step-24800-to-step-24850.mp4\n",
      "Moviepy - Building video /imitation/docs/tutorials/generated_videos/rl-video-step-24800-to-step-24850.mp4.\n",
      "Moviepy - Writing video /imitation/docs/tutorials/generated_videos/rl-video-step-24800-to-step-24850.mp4\n",
      "\n"
     ]
    },
    {
     "name": "stderr",
     "output_type": "stream",
     "text": [
      "                                                                                                                                         "
     ]
    },
    {
     "name": "stdout",
     "output_type": "stream",
     "text": [
      "Moviepy - Done !\n",
      "Moviepy - video ready /imitation/docs/tutorials/generated_videos/rl-video-step-24800-to-step-24850.mp4\n"
     ]
    },
    {
     "name": "stderr",
     "output_type": "stream",
     "text": [
      "\r"
     ]
    },
    {
     "name": "stdout",
     "output_type": "stream",
     "text": [
      "Saving video to /imitation/docs/tutorials/generated_videos/rl-video-step-24900-to-step-24950.mp4\n",
      "Moviepy - Building video /imitation/docs/tutorials/generated_videos/rl-video-step-24900-to-step-24950.mp4.\n",
      "Moviepy - Writing video /imitation/docs/tutorials/generated_videos/rl-video-step-24900-to-step-24950.mp4\n",
      "\n"
     ]
    },
    {
     "name": "stderr",
     "output_type": "stream",
     "text": [
      "                                                                                                                                         "
     ]
    },
    {
     "name": "stdout",
     "output_type": "stream",
     "text": [
      "Moviepy - Done !\n",
      "Moviepy - video ready /imitation/docs/tutorials/generated_videos/rl-video-step-24900-to-step-24950.mp4\n"
     ]
    },
    {
     "name": "stderr",
     "output_type": "stream",
     "text": [
      "\r"
     ]
    },
    {
     "name": "stdout",
     "output_type": "stream",
     "text": [
      "Saving video to /imitation/docs/tutorials/generated_videos/rl-video-step-25000-to-step-25050.mp4\n",
      "Moviepy - Building video /imitation/docs/tutorials/generated_videos/rl-video-step-25000-to-step-25050.mp4.\n",
      "Moviepy - Writing video /imitation/docs/tutorials/generated_videos/rl-video-step-25000-to-step-25050.mp4\n",
      "\n"
     ]
    },
    {
     "name": "stderr",
     "output_type": "stream",
     "text": [
      "                                                                                                                                         "
     ]
    },
    {
     "name": "stdout",
     "output_type": "stream",
     "text": [
      "Moviepy - Done !\n",
      "Moviepy - video ready /imitation/docs/tutorials/generated_videos/rl-video-step-25000-to-step-25050.mp4\n"
     ]
    },
    {
     "name": "stderr",
     "output_type": "stream",
     "text": [
      "\r"
     ]
    },
    {
     "name": "stdout",
     "output_type": "stream",
     "text": [
      "Saving video to /imitation/docs/tutorials/generated_videos/rl-video-step-25100-to-step-25150.mp4\n",
      "Moviepy - Building video /imitation/docs/tutorials/generated_videos/rl-video-step-25100-to-step-25150.mp4.\n",
      "Moviepy - Writing video /imitation/docs/tutorials/generated_videos/rl-video-step-25100-to-step-25150.mp4\n",
      "\n"
     ]
    },
    {
     "name": "stderr",
     "output_type": "stream",
     "text": [
      "                                                                                                                                         "
     ]
    },
    {
     "name": "stdout",
     "output_type": "stream",
     "text": [
      "Moviepy - Done !\n",
      "Moviepy - video ready /imitation/docs/tutorials/generated_videos/rl-video-step-25100-to-step-25150.mp4\n"
     ]
    },
    {
     "name": "stderr",
     "output_type": "stream",
     "text": [
      "\r"
     ]
    },
    {
     "name": "stdout",
     "output_type": "stream",
     "text": [
      "Saving video to /imitation/docs/tutorials/generated_videos/rl-video-step-25200-to-step-25250.mp4\n",
      "Moviepy - Building video /imitation/docs/tutorials/generated_videos/rl-video-step-25200-to-step-25250.mp4.\n",
      "Moviepy - Writing video /imitation/docs/tutorials/generated_videos/rl-video-step-25200-to-step-25250.mp4\n",
      "\n"
     ]
    },
    {
     "name": "stderr",
     "output_type": "stream",
     "text": [
      "                                                                                                                                         "
     ]
    },
    {
     "name": "stdout",
     "output_type": "stream",
     "text": [
      "Moviepy - Done !\n",
      "Moviepy - video ready /imitation/docs/tutorials/generated_videos/rl-video-step-25200-to-step-25250.mp4\n"
     ]
    },
    {
     "name": "stderr",
     "output_type": "stream",
     "text": [
      "\r"
     ]
    },
    {
     "name": "stdout",
     "output_type": "stream",
     "text": [
      "Saving video to /imitation/docs/tutorials/generated_videos/rl-video-step-25300-to-step-25350.mp4\n",
      "Moviepy - Building video /imitation/docs/tutorials/generated_videos/rl-video-step-25300-to-step-25350.mp4.\n",
      "Moviepy - Writing video /imitation/docs/tutorials/generated_videos/rl-video-step-25300-to-step-25350.mp4\n",
      "\n"
     ]
    },
    {
     "name": "stderr",
     "output_type": "stream",
     "text": [
      "                                                                                                                                         "
     ]
    },
    {
     "name": "stdout",
     "output_type": "stream",
     "text": [
      "Moviepy - Done !\n",
      "Moviepy - video ready /imitation/docs/tutorials/generated_videos/rl-video-step-25300-to-step-25350.mp4\n"
     ]
    },
    {
     "name": "stderr",
     "output_type": "stream",
     "text": [
      "\r"
     ]
    },
    {
     "name": "stdout",
     "output_type": "stream",
     "text": [
      "Saving video to /imitation/docs/tutorials/generated_videos/rl-video-step-25400-to-step-25450.mp4\n",
      "Moviepy - Building video /imitation/docs/tutorials/generated_videos/rl-video-step-25400-to-step-25450.mp4.\n",
      "Moviepy - Writing video /imitation/docs/tutorials/generated_videos/rl-video-step-25400-to-step-25450.mp4\n",
      "\n"
     ]
    },
    {
     "name": "stderr",
     "output_type": "stream",
     "text": [
      "                                                                                                                                         "
     ]
    },
    {
     "name": "stdout",
     "output_type": "stream",
     "text": [
      "Moviepy - Done !\n",
      "Moviepy - video ready /imitation/docs/tutorials/generated_videos/rl-video-step-25400-to-step-25450.mp4\n"
     ]
    },
    {
     "name": "stderr",
     "output_type": "stream",
     "text": [
      "\r"
     ]
    },
    {
     "name": "stdout",
     "output_type": "stream",
     "text": [
      "Saving video to /imitation/docs/tutorials/generated_videos/rl-video-step-25500-to-step-25550.mp4\n",
      "Moviepy - Building video /imitation/docs/tutorials/generated_videos/rl-video-step-25500-to-step-25550.mp4.\n",
      "Moviepy - Writing video /imitation/docs/tutorials/generated_videos/rl-video-step-25500-to-step-25550.mp4\n",
      "\n"
     ]
    },
    {
     "name": "stderr",
     "output_type": "stream",
     "text": [
      "                                                                                                                                         "
     ]
    },
    {
     "name": "stdout",
     "output_type": "stream",
     "text": [
      "Moviepy - Done !\n",
      "Moviepy - video ready /imitation/docs/tutorials/generated_videos/rl-video-step-25500-to-step-25550.mp4\n"
     ]
    },
    {
     "name": "stderr",
     "output_type": "stream",
     "text": [
      "\r"
     ]
    },
    {
     "name": "stdout",
     "output_type": "stream",
     "text": [
      "Saving video to /imitation/docs/tutorials/generated_videos/rl-video-step-25600-to-step-25650.mp4\n",
      "Moviepy - Building video /imitation/docs/tutorials/generated_videos/rl-video-step-25600-to-step-25650.mp4.\n",
      "Moviepy - Writing video /imitation/docs/tutorials/generated_videos/rl-video-step-25600-to-step-25650.mp4\n",
      "\n"
     ]
    },
    {
     "name": "stderr",
     "output_type": "stream",
     "text": [
      "                                                                                                                                         "
     ]
    },
    {
     "name": "stdout",
     "output_type": "stream",
     "text": [
      "Moviepy - Done !\n",
      "Moviepy - video ready /imitation/docs/tutorials/generated_videos/rl-video-step-25600-to-step-25650.mp4\n"
     ]
    },
    {
     "name": "stderr",
     "output_type": "stream",
     "text": [
      "\r"
     ]
    },
    {
     "name": "stdout",
     "output_type": "stream",
     "text": [
      "Saving video to /imitation/docs/tutorials/generated_videos/rl-video-step-25700-to-step-25750.mp4\n",
      "Moviepy - Building video /imitation/docs/tutorials/generated_videos/rl-video-step-25700-to-step-25750.mp4.\n",
      "Moviepy - Writing video /imitation/docs/tutorials/generated_videos/rl-video-step-25700-to-step-25750.mp4\n",
      "\n"
     ]
    },
    {
     "name": "stderr",
     "output_type": "stream",
     "text": [
      "                                                                                                                                         "
     ]
    },
    {
     "name": "stdout",
     "output_type": "stream",
     "text": [
      "Moviepy - Done !\n",
      "Moviepy - video ready /imitation/docs/tutorials/generated_videos/rl-video-step-25700-to-step-25750.mp4\n"
     ]
    },
    {
     "name": "stderr",
     "output_type": "stream",
     "text": [
      "\r"
     ]
    },
    {
     "name": "stdout",
     "output_type": "stream",
     "text": [
      "Saving video to /imitation/docs/tutorials/generated_videos/rl-video-step-25800-to-step-25850.mp4\n",
      "Moviepy - Building video /imitation/docs/tutorials/generated_videos/rl-video-step-25800-to-step-25850.mp4.\n",
      "Moviepy - Writing video /imitation/docs/tutorials/generated_videos/rl-video-step-25800-to-step-25850.mp4\n",
      "\n"
     ]
    },
    {
     "name": "stderr",
     "output_type": "stream",
     "text": [
      "                                                                                                                                         "
     ]
    },
    {
     "name": "stdout",
     "output_type": "stream",
     "text": [
      "Moviepy - Done !\n",
      "Moviepy - video ready /imitation/docs/tutorials/generated_videos/rl-video-step-25800-to-step-25850.mp4\n"
     ]
    },
    {
     "name": "stderr",
     "output_type": "stream",
     "text": [
      "\r"
     ]
    },
    {
     "name": "stdout",
     "output_type": "stream",
     "text": [
      "Saving video to /imitation/docs/tutorials/generated_videos/rl-video-step-25900-to-step-25950.mp4\n",
      "Moviepy - Building video /imitation/docs/tutorials/generated_videos/rl-video-step-25900-to-step-25950.mp4.\n",
      "Moviepy - Writing video /imitation/docs/tutorials/generated_videos/rl-video-step-25900-to-step-25950.mp4\n",
      "\n"
     ]
    },
    {
     "name": "stderr",
     "output_type": "stream",
     "text": [
      "                                                                                                                                         \r"
     ]
    },
    {
     "name": "stdout",
     "output_type": "stream",
     "text": [
      "Moviepy - Done !\n",
      "Moviepy - video ready /imitation/docs/tutorials/generated_videos/rl-video-step-25900-to-step-25950.mp4\n",
      "-------------------------------------------------------\n",
      "| raw/                                 |              |\n",
      "|    agent/rollout/ep_len_mean         | 50           |\n",
      "|    agent/rollout/ep_rew_mean         | -63.7        |\n",
      "|    agent/rollout/ep_rew_wrapped_mean | -5.82        |\n",
      "|    agent/time/fps                    | 127          |\n",
      "|    agent/time/iterations             | 4            |\n",
      "|    agent/time/time_elapsed           | 64           |\n",
      "|    agent/time/total_timesteps        | 18432        |\n",
      "|    agent/train/approx_kl             | 0.0061527463 |\n",
      "|    agent/train/clip_fraction         | 0.274        |\n",
      "|    agent/train/clip_range            | 0.1          |\n",
      "|    agent/train/entropy_loss          | -2.88        |\n",
      "|    agent/train/explained_variance    | 0.825        |\n",
      "|    agent/train/learning_rate         | 0.002        |\n",
      "|    agent/train/loss                  | -0.0395      |\n",
      "|    agent/train/n_updates             | 80           |\n",
      "|    agent/train/policy_gradient_loss  | -0.0133      |\n",
      "|    agent/train/std                   | 1.02         |\n",
      "|    agent/train/value_loss            | 0.035        |\n",
      "-------------------------------------------------------\n",
      "Saving video to /imitation/docs/tutorials/generated_videos/rl-video-step-26000-to-step-26050.mp4\n",
      "Moviepy - Building video /imitation/docs/tutorials/generated_videos/rl-video-step-26000-to-step-26050.mp4.\n",
      "Moviepy - Writing video /imitation/docs/tutorials/generated_videos/rl-video-step-26000-to-step-26050.mp4\n",
      "\n"
     ]
    },
    {
     "name": "stderr",
     "output_type": "stream",
     "text": [
      "                                                                                                                                         "
     ]
    },
    {
     "name": "stdout",
     "output_type": "stream",
     "text": [
      "Moviepy - Done !\n",
      "Moviepy - video ready /imitation/docs/tutorials/generated_videos/rl-video-step-26000-to-step-26050.mp4\n"
     ]
    },
    {
     "name": "stderr",
     "output_type": "stream",
     "text": [
      "\r"
     ]
    },
    {
     "name": "stdout",
     "output_type": "stream",
     "text": [
      "Saving video to /imitation/docs/tutorials/generated_videos/rl-video-step-26100-to-step-26150.mp4\n",
      "Moviepy - Building video /imitation/docs/tutorials/generated_videos/rl-video-step-26100-to-step-26150.mp4.\n",
      "Moviepy - Writing video /imitation/docs/tutorials/generated_videos/rl-video-step-26100-to-step-26150.mp4\n",
      "\n"
     ]
    },
    {
     "name": "stderr",
     "output_type": "stream",
     "text": [
      "                                                                                                                                         "
     ]
    },
    {
     "name": "stdout",
     "output_type": "stream",
     "text": [
      "Moviepy - Done !\n",
      "Moviepy - video ready /imitation/docs/tutorials/generated_videos/rl-video-step-26100-to-step-26150.mp4\n"
     ]
    },
    {
     "name": "stderr",
     "output_type": "stream",
     "text": [
      "\r"
     ]
    },
    {
     "name": "stdout",
     "output_type": "stream",
     "text": [
      "Saving video to /imitation/docs/tutorials/generated_videos/rl-video-step-26200-to-step-26250.mp4\n",
      "Moviepy - Building video /imitation/docs/tutorials/generated_videos/rl-video-step-26200-to-step-26250.mp4.\n",
      "Moviepy - Writing video /imitation/docs/tutorials/generated_videos/rl-video-step-26200-to-step-26250.mp4\n",
      "\n"
     ]
    },
    {
     "name": "stderr",
     "output_type": "stream",
     "text": [
      "                                                                                                                                         "
     ]
    },
    {
     "name": "stdout",
     "output_type": "stream",
     "text": [
      "Moviepy - Done !\n",
      "Moviepy - video ready /imitation/docs/tutorials/generated_videos/rl-video-step-26200-to-step-26250.mp4\n"
     ]
    },
    {
     "name": "stderr",
     "output_type": "stream",
     "text": [
      "\r"
     ]
    },
    {
     "name": "stdout",
     "output_type": "stream",
     "text": [
      "Saving video to /imitation/docs/tutorials/generated_videos/rl-video-step-26300-to-step-26350.mp4\n",
      "Moviepy - Building video /imitation/docs/tutorials/generated_videos/rl-video-step-26300-to-step-26350.mp4.\n",
      "Moviepy - Writing video /imitation/docs/tutorials/generated_videos/rl-video-step-26300-to-step-26350.mp4\n",
      "\n"
     ]
    },
    {
     "name": "stderr",
     "output_type": "stream",
     "text": [
      "                                                                                                                                         "
     ]
    },
    {
     "name": "stdout",
     "output_type": "stream",
     "text": [
      "Moviepy - Done !\n",
      "Moviepy - video ready /imitation/docs/tutorials/generated_videos/rl-video-step-26300-to-step-26350.mp4\n"
     ]
    },
    {
     "name": "stderr",
     "output_type": "stream",
     "text": [
      "\r"
     ]
    },
    {
     "name": "stdout",
     "output_type": "stream",
     "text": [
      "Saving video to /imitation/docs/tutorials/generated_videos/rl-video-step-26400-to-step-26450.mp4\n",
      "Moviepy - Building video /imitation/docs/tutorials/generated_videos/rl-video-step-26400-to-step-26450.mp4.\n",
      "Moviepy - Writing video /imitation/docs/tutorials/generated_videos/rl-video-step-26400-to-step-26450.mp4\n",
      "\n"
     ]
    },
    {
     "name": "stderr",
     "output_type": "stream",
     "text": [
      "                                                                                                                                         "
     ]
    },
    {
     "name": "stdout",
     "output_type": "stream",
     "text": [
      "Moviepy - Done !\n",
      "Moviepy - video ready /imitation/docs/tutorials/generated_videos/rl-video-step-26400-to-step-26450.mp4\n"
     ]
    },
    {
     "name": "stderr",
     "output_type": "stream",
     "text": [
      "\r"
     ]
    },
    {
     "name": "stdout",
     "output_type": "stream",
     "text": [
      "Saving video to /imitation/docs/tutorials/generated_videos/rl-video-step-26500-to-step-26550.mp4\n",
      "Moviepy - Building video /imitation/docs/tutorials/generated_videos/rl-video-step-26500-to-step-26550.mp4.\n",
      "Moviepy - Writing video /imitation/docs/tutorials/generated_videos/rl-video-step-26500-to-step-26550.mp4\n",
      "\n"
     ]
    },
    {
     "name": "stderr",
     "output_type": "stream",
     "text": [
      "                                                                                                                                         "
     ]
    },
    {
     "name": "stdout",
     "output_type": "stream",
     "text": [
      "Moviepy - Done !\n",
      "Moviepy - video ready /imitation/docs/tutorials/generated_videos/rl-video-step-26500-to-step-26550.mp4\n"
     ]
    },
    {
     "name": "stderr",
     "output_type": "stream",
     "text": [
      "\r"
     ]
    },
    {
     "name": "stdout",
     "output_type": "stream",
     "text": [
      "Saving video to /imitation/docs/tutorials/generated_videos/rl-video-step-26600-to-step-26650.mp4\n",
      "Moviepy - Building video /imitation/docs/tutorials/generated_videos/rl-video-step-26600-to-step-26650.mp4.\n",
      "Moviepy - Writing video /imitation/docs/tutorials/generated_videos/rl-video-step-26600-to-step-26650.mp4\n",
      "\n"
     ]
    },
    {
     "name": "stderr",
     "output_type": "stream",
     "text": [
      "                                                                                                                                         "
     ]
    },
    {
     "name": "stdout",
     "output_type": "stream",
     "text": [
      "Moviepy - Done !\n",
      "Moviepy - video ready /imitation/docs/tutorials/generated_videos/rl-video-step-26600-to-step-26650.mp4\n"
     ]
    },
    {
     "name": "stderr",
     "output_type": "stream",
     "text": [
      "\r"
     ]
    },
    {
     "name": "stdout",
     "output_type": "stream",
     "text": [
      "Saving video to /imitation/docs/tutorials/generated_videos/rl-video-step-26700-to-step-26750.mp4\n",
      "Moviepy - Building video /imitation/docs/tutorials/generated_videos/rl-video-step-26700-to-step-26750.mp4.\n",
      "Moviepy - Writing video /imitation/docs/tutorials/generated_videos/rl-video-step-26700-to-step-26750.mp4\n",
      "\n"
     ]
    },
    {
     "name": "stderr",
     "output_type": "stream",
     "text": [
      "                                                                                                                                         "
     ]
    },
    {
     "name": "stdout",
     "output_type": "stream",
     "text": [
      "Moviepy - Done !\n",
      "Moviepy - video ready /imitation/docs/tutorials/generated_videos/rl-video-step-26700-to-step-26750.mp4\n"
     ]
    },
    {
     "name": "stderr",
     "output_type": "stream",
     "text": [
      "\r"
     ]
    },
    {
     "name": "stdout",
     "output_type": "stream",
     "text": [
      "Saving video to /imitation/docs/tutorials/generated_videos/rl-video-step-26800-to-step-26850.mp4\n",
      "Moviepy - Building video /imitation/docs/tutorials/generated_videos/rl-video-step-26800-to-step-26850.mp4.\n",
      "Moviepy - Writing video /imitation/docs/tutorials/generated_videos/rl-video-step-26800-to-step-26850.mp4\n",
      "\n"
     ]
    },
    {
     "name": "stderr",
     "output_type": "stream",
     "text": [
      "                                                                                                                                         "
     ]
    },
    {
     "name": "stdout",
     "output_type": "stream",
     "text": [
      "Moviepy - Done !\n",
      "Moviepy - video ready /imitation/docs/tutorials/generated_videos/rl-video-step-26800-to-step-26850.mp4\n"
     ]
    },
    {
     "name": "stderr",
     "output_type": "stream",
     "text": [
      "\r"
     ]
    },
    {
     "name": "stdout",
     "output_type": "stream",
     "text": [
      "Saving video to /imitation/docs/tutorials/generated_videos/rl-video-step-26900-to-step-26950.mp4\n",
      "Moviepy - Building video /imitation/docs/tutorials/generated_videos/rl-video-step-26900-to-step-26950.mp4.\n",
      "Moviepy - Writing video /imitation/docs/tutorials/generated_videos/rl-video-step-26900-to-step-26950.mp4\n",
      "\n"
     ]
    },
    {
     "name": "stderr",
     "output_type": "stream",
     "text": [
      "                                                                                                                                         "
     ]
    },
    {
     "name": "stdout",
     "output_type": "stream",
     "text": [
      "Moviepy - Done !\n",
      "Moviepy - video ready /imitation/docs/tutorials/generated_videos/rl-video-step-26900-to-step-26950.mp4\n"
     ]
    },
    {
     "name": "stderr",
     "output_type": "stream",
     "text": [
      "\r"
     ]
    },
    {
     "name": "stdout",
     "output_type": "stream",
     "text": [
      "Saving video to /imitation/docs/tutorials/generated_videos/rl-video-step-27000-to-step-27050.mp4\n",
      "Moviepy - Building video /imitation/docs/tutorials/generated_videos/rl-video-step-27000-to-step-27050.mp4.\n",
      "Moviepy - Writing video /imitation/docs/tutorials/generated_videos/rl-video-step-27000-to-step-27050.mp4\n",
      "\n"
     ]
    },
    {
     "name": "stderr",
     "output_type": "stream",
     "text": [
      "                                                                                                                                         \r"
     ]
    },
    {
     "name": "stdout",
     "output_type": "stream",
     "text": [
      "Moviepy - Done !\n",
      "Moviepy - video ready /imitation/docs/tutorials/generated_videos/rl-video-step-27000-to-step-27050.mp4\n",
      "Saving video to /imitation/docs/tutorials/generated_videos/rl-video-step-27100-to-step-27150.mp4\n",
      "Moviepy - Building video /imitation/docs/tutorials/generated_videos/rl-video-step-27100-to-step-27150.mp4.\n",
      "Moviepy - Writing video /imitation/docs/tutorials/generated_videos/rl-video-step-27100-to-step-27150.mp4\n",
      "\n"
     ]
    },
    {
     "name": "stderr",
     "output_type": "stream",
     "text": [
      "                                                                                                                                         "
     ]
    },
    {
     "name": "stdout",
     "output_type": "stream",
     "text": [
      "Moviepy - Done !\n",
      "Moviepy - video ready /imitation/docs/tutorials/generated_videos/rl-video-step-27100-to-step-27150.mp4\n"
     ]
    },
    {
     "name": "stderr",
     "output_type": "stream",
     "text": [
      "\r"
     ]
    },
    {
     "name": "stdout",
     "output_type": "stream",
     "text": [
      "Saving video to /imitation/docs/tutorials/generated_videos/rl-video-step-27200-to-step-27250.mp4\n",
      "Moviepy - Building video /imitation/docs/tutorials/generated_videos/rl-video-step-27200-to-step-27250.mp4.\n",
      "Moviepy - Writing video /imitation/docs/tutorials/generated_videos/rl-video-step-27200-to-step-27250.mp4\n",
      "\n"
     ]
    },
    {
     "name": "stderr",
     "output_type": "stream",
     "text": [
      "                                                                                                                                         "
     ]
    },
    {
     "name": "stdout",
     "output_type": "stream",
     "text": [
      "Moviepy - Done !\n",
      "Moviepy - video ready /imitation/docs/tutorials/generated_videos/rl-video-step-27200-to-step-27250.mp4\n"
     ]
    },
    {
     "name": "stderr",
     "output_type": "stream",
     "text": [
      "\r"
     ]
    },
    {
     "name": "stdout",
     "output_type": "stream",
     "text": [
      "Saving video to /imitation/docs/tutorials/generated_videos/rl-video-step-27300-to-step-27350.mp4\n",
      "Moviepy - Building video /imitation/docs/tutorials/generated_videos/rl-video-step-27300-to-step-27350.mp4.\n",
      "Moviepy - Writing video /imitation/docs/tutorials/generated_videos/rl-video-step-27300-to-step-27350.mp4\n",
      "\n"
     ]
    },
    {
     "name": "stderr",
     "output_type": "stream",
     "text": [
      "                                                                                                                                         "
     ]
    },
    {
     "name": "stdout",
     "output_type": "stream",
     "text": [
      "Moviepy - Done !\n",
      "Moviepy - video ready /imitation/docs/tutorials/generated_videos/rl-video-step-27300-to-step-27350.mp4\n"
     ]
    },
    {
     "name": "stderr",
     "output_type": "stream",
     "text": [
      "\r"
     ]
    },
    {
     "name": "stdout",
     "output_type": "stream",
     "text": [
      "Saving video to /imitation/docs/tutorials/generated_videos/rl-video-step-27400-to-step-27450.mp4\n",
      "Moviepy - Building video /imitation/docs/tutorials/generated_videos/rl-video-step-27400-to-step-27450.mp4.\n",
      "Moviepy - Writing video /imitation/docs/tutorials/generated_videos/rl-video-step-27400-to-step-27450.mp4\n",
      "\n"
     ]
    },
    {
     "name": "stderr",
     "output_type": "stream",
     "text": [
      "                                                                                                                                         "
     ]
    },
    {
     "name": "stdout",
     "output_type": "stream",
     "text": [
      "Moviepy - Done !\n",
      "Moviepy - video ready /imitation/docs/tutorials/generated_videos/rl-video-step-27400-to-step-27450.mp4\n"
     ]
    },
    {
     "name": "stderr",
     "output_type": "stream",
     "text": [
      "\r"
     ]
    },
    {
     "name": "stdout",
     "output_type": "stream",
     "text": [
      "Saving video to /imitation/docs/tutorials/generated_videos/rl-video-step-27500-to-step-27550.mp4\n",
      "Moviepy - Building video /imitation/docs/tutorials/generated_videos/rl-video-step-27500-to-step-27550.mp4.\n",
      "Moviepy - Writing video /imitation/docs/tutorials/generated_videos/rl-video-step-27500-to-step-27550.mp4\n",
      "\n"
     ]
    },
    {
     "name": "stderr",
     "output_type": "stream",
     "text": [
      "                                                                                                                                         \r"
     ]
    },
    {
     "name": "stdout",
     "output_type": "stream",
     "text": [
      "Moviepy - Done !\n",
      "Moviepy - video ready /imitation/docs/tutorials/generated_videos/rl-video-step-27500-to-step-27550.mp4\n",
      "Saving video to /imitation/docs/tutorials/generated_videos/rl-video-step-27600-to-step-27650.mp4\n",
      "Moviepy - Building video /imitation/docs/tutorials/generated_videos/rl-video-step-27600-to-step-27650.mp4.\n",
      "Moviepy - Writing video /imitation/docs/tutorials/generated_videos/rl-video-step-27600-to-step-27650.mp4\n",
      "\n"
     ]
    },
    {
     "name": "stderr",
     "output_type": "stream",
     "text": [
      "                                                                                                                                         "
     ]
    },
    {
     "name": "stdout",
     "output_type": "stream",
     "text": [
      "Moviepy - Done !\n",
      "Moviepy - video ready /imitation/docs/tutorials/generated_videos/rl-video-step-27600-to-step-27650.mp4\n"
     ]
    },
    {
     "name": "stderr",
     "output_type": "stream",
     "text": [
      "\r"
     ]
    },
    {
     "name": "stdout",
     "output_type": "stream",
     "text": [
      "Saving video to /imitation/docs/tutorials/generated_videos/rl-video-step-27700-to-step-27750.mp4\n",
      "Moviepy - Building video /imitation/docs/tutorials/generated_videos/rl-video-step-27700-to-step-27750.mp4.\n",
      "Moviepy - Writing video /imitation/docs/tutorials/generated_videos/rl-video-step-27700-to-step-27750.mp4\n",
      "\n"
     ]
    },
    {
     "name": "stderr",
     "output_type": "stream",
     "text": [
      "                                                                                                                                         "
     ]
    },
    {
     "name": "stdout",
     "output_type": "stream",
     "text": [
      "Moviepy - Done !\n",
      "Moviepy - video ready /imitation/docs/tutorials/generated_videos/rl-video-step-27700-to-step-27750.mp4\n"
     ]
    },
    {
     "name": "stderr",
     "output_type": "stream",
     "text": [
      "\r"
     ]
    },
    {
     "name": "stdout",
     "output_type": "stream",
     "text": [
      "Saving video to /imitation/docs/tutorials/generated_videos/rl-video-step-27800-to-step-27850.mp4\n",
      "Moviepy - Building video /imitation/docs/tutorials/generated_videos/rl-video-step-27800-to-step-27850.mp4.\n",
      "Moviepy - Writing video /imitation/docs/tutorials/generated_videos/rl-video-step-27800-to-step-27850.mp4\n",
      "\n"
     ]
    },
    {
     "name": "stderr",
     "output_type": "stream",
     "text": [
      "                                                                                                                                         \r"
     ]
    },
    {
     "name": "stdout",
     "output_type": "stream",
     "text": [
      "Moviepy - Done !\n",
      "Moviepy - video ready /imitation/docs/tutorials/generated_videos/rl-video-step-27800-to-step-27850.mp4\n",
      "Saving video to /imitation/docs/tutorials/generated_videos/rl-video-step-27900-to-step-27950.mp4\n",
      "Moviepy - Building video /imitation/docs/tutorials/generated_videos/rl-video-step-27900-to-step-27950.mp4.\n",
      "Moviepy - Writing video /imitation/docs/tutorials/generated_videos/rl-video-step-27900-to-step-27950.mp4\n",
      "\n"
     ]
    },
    {
     "name": "stderr",
     "output_type": "stream",
     "text": [
      "                                                                                                                                         "
     ]
    },
    {
     "name": "stdout",
     "output_type": "stream",
     "text": [
      "Moviepy - Done !\n",
      "Moviepy - video ready /imitation/docs/tutorials/generated_videos/rl-video-step-27900-to-step-27950.mp4\n"
     ]
    },
    {
     "name": "stderr",
     "output_type": "stream",
     "text": [
      "\r"
     ]
    },
    {
     "name": "stdout",
     "output_type": "stream",
     "text": [
      "-------------------------------------------------------\n",
      "| raw/                                 |              |\n",
      "|    agent/rollout/ep_len_mean         | 50           |\n",
      "|    agent/rollout/ep_rew_mean         | -63.4        |\n",
      "|    agent/rollout/ep_rew_wrapped_mean | -5.72        |\n",
      "|    agent/time/fps                    | 127          |\n",
      "|    agent/time/iterations             | 5            |\n",
      "|    agent/time/time_elapsed           | 80           |\n",
      "|    agent/time/total_timesteps        | 20480        |\n",
      "|    agent/train/approx_kl             | 0.0071034823 |\n",
      "|    agent/train/clip_fraction         | 0.269        |\n",
      "|    agent/train/clip_range            | 0.1          |\n",
      "|    agent/train/entropy_loss          | -2.88        |\n",
      "|    agent/train/explained_variance    | 0.779        |\n",
      "|    agent/train/learning_rate         | 0.002        |\n",
      "|    agent/train/loss                  | -0.0499      |\n",
      "|    agent/train/n_updates             | 90           |\n",
      "|    agent/train/policy_gradient_loss  | -0.0104      |\n",
      "|    agent/train/std                   | 1.02         |\n",
      "|    agent/train/value_loss            | 0.0267       |\n",
      "-------------------------------------------------------\n",
      "-----------------------------------------------------\n",
      "| mean/                                  |          |\n",
      "|    agent/rollout/ep_len_mean           | 50       |\n",
      "|    agent/rollout/ep_rew_mean           | -63      |\n",
      "|    agent/rollout/ep_rew_wrapped_mean   | -5.06    |\n",
      "|    agent/time/fps                      | 127      |\n",
      "|    agent/time/iterations               | 3        |\n",
      "|    agent/time/time_elapsed             | 48.2     |\n",
      "|    agent/time/total_timesteps          | 1.64e+04 |\n",
      "|    agent/train/approx_kl               | 0.00669  |\n",
      "|    agent/train/clip_fraction           | 0.262    |\n",
      "|    agent/train/clip_range              | 0.1      |\n",
      "|    agent/train/entropy_loss            | -2.89    |\n",
      "|    agent/train/explained_variance      | 0.715    |\n",
      "|    agent/train/learning_rate           | 0.002    |\n",
      "|    agent/train/loss                    | -0.0337  |\n",
      "|    agent/train/n_updates               | 80       |\n",
      "|    agent/train/policy_gradient_loss    | -0.0114  |\n",
      "|    agent/train/std                     | 1.02     |\n",
      "|    agent/train/value_loss              | 0.0448   |\n",
      "|    preferences/entropy                 | 0.185    |\n",
      "|    reward/epoch-0/train/accuracy       | 0.612    |\n",
      "|    reward/epoch-0/train/gt_reward_loss | 0.182    |\n",
      "|    reward/epoch-0/train/loss           | 0.897    |\n",
      "|    reward/epoch-1/train/accuracy       | 0.61     |\n",
      "|    reward/epoch-1/train/gt_reward_loss | 0.175    |\n",
      "|    reward/epoch-1/train/loss           | 0.806    |\n",
      "|    reward/epoch-2/train/accuracy       | 0.66     |\n",
      "|    reward/epoch-2/train/gt_reward_loss | 0.185    |\n",
      "|    reward/epoch-2/train/loss           | 0.704    |\n",
      "| reward/                                |          |\n",
      "|    final/train/accuracy                | 0.66     |\n",
      "|    final/train/gt_reward_loss          | 0.185    |\n",
      "|    final/train/loss                    | 0.704    |\n",
      "-----------------------------------------------------\n",
      "Collecting 204 fragments (10200 transitions)\n",
      "Sampling 510 exploratory transitions.\n",
      "Moviepy - Building video /imitation/docs/tutorials/generated_videos/rl-video-step-28000-to-step-28050.mp4.\n",
      "Moviepy - Writing video /imitation/docs/tutorials/generated_videos/rl-video-step-28000-to-step-28050.mp4\n",
      "\n"
     ]
    },
    {
     "name": "stderr",
     "output_type": "stream",
     "text": [
      "                                                                                                                                         "
     ]
    },
    {
     "name": "stdout",
     "output_type": "stream",
     "text": [
      "Moviepy - Done !\n",
      "Moviepy - video ready /imitation/docs/tutorials/generated_videos/rl-video-step-28000-to-step-28050.mp4\n"
     ]
    },
    {
     "name": "stderr",
     "output_type": "stream",
     "text": [
      "\r"
     ]
    },
    {
     "name": "stdout",
     "output_type": "stream",
     "text": [
      "Saving video to /imitation/docs/tutorials/generated_videos/rl-video-step-28030-to-step-28080.mp4\n",
      "Moviepy - Building video /imitation/docs/tutorials/generated_videos/rl-video-step-28030-to-step-28080.mp4.\n",
      "Moviepy - Writing video /imitation/docs/tutorials/generated_videos/rl-video-step-28030-to-step-28080.mp4\n",
      "\n"
     ]
    },
    {
     "name": "stderr",
     "output_type": "stream",
     "text": [
      "                                                                                                                                         "
     ]
    },
    {
     "name": "stdout",
     "output_type": "stream",
     "text": [
      "Moviepy - Done !\n",
      "Moviepy - video ready /imitation/docs/tutorials/generated_videos/rl-video-step-28030-to-step-28080.mp4\n"
     ]
    },
    {
     "name": "stderr",
     "output_type": "stream",
     "text": [
      "\r"
     ]
    },
    {
     "name": "stdout",
     "output_type": "stream",
     "text": [
      "Saving video to /imitation/docs/tutorials/generated_videos/rl-video-step-28100-to-step-28150.mp4\n",
      "Moviepy - Building video /imitation/docs/tutorials/generated_videos/rl-video-step-28100-to-step-28150.mp4.\n",
      "Moviepy - Writing video /imitation/docs/tutorials/generated_videos/rl-video-step-28100-to-step-28150.mp4\n",
      "\n"
     ]
    },
    {
     "name": "stderr",
     "output_type": "stream",
     "text": [
      "                                                                                                                                         "
     ]
    },
    {
     "name": "stdout",
     "output_type": "stream",
     "text": [
      "Moviepy - Done !\n",
      "Moviepy - video ready /imitation/docs/tutorials/generated_videos/rl-video-step-28100-to-step-28150.mp4\n"
     ]
    },
    {
     "name": "stderr",
     "output_type": "stream",
     "text": [
      "\r"
     ]
    },
    {
     "name": "stdout",
     "output_type": "stream",
     "text": [
      "Saving video to /imitation/docs/tutorials/generated_videos/rl-video-step-28200-to-step-28250.mp4\n",
      "Moviepy - Building video /imitation/docs/tutorials/generated_videos/rl-video-step-28200-to-step-28250.mp4.\n",
      "Moviepy - Writing video /imitation/docs/tutorials/generated_videos/rl-video-step-28200-to-step-28250.mp4\n",
      "\n"
     ]
    },
    {
     "name": "stderr",
     "output_type": "stream",
     "text": [
      "                                                                                                                                         "
     ]
    },
    {
     "name": "stdout",
     "output_type": "stream",
     "text": [
      "Moviepy - Done !\n",
      "Moviepy - video ready /imitation/docs/tutorials/generated_videos/rl-video-step-28200-to-step-28250.mp4\n"
     ]
    },
    {
     "name": "stderr",
     "output_type": "stream",
     "text": [
      "\r"
     ]
    },
    {
     "name": "stdout",
     "output_type": "stream",
     "text": [
      "Saving video to /imitation/docs/tutorials/generated_videos/rl-video-step-28300-to-step-28350.mp4\n",
      "Moviepy - Building video /imitation/docs/tutorials/generated_videos/rl-video-step-28300-to-step-28350.mp4.\n",
      "Moviepy - Writing video /imitation/docs/tutorials/generated_videos/rl-video-step-28300-to-step-28350.mp4\n",
      "\n"
     ]
    },
    {
     "name": "stderr",
     "output_type": "stream",
     "text": [
      "                                                                                                                                         "
     ]
    },
    {
     "name": "stdout",
     "output_type": "stream",
     "text": [
      "Moviepy - Done !\n",
      "Moviepy - video ready /imitation/docs/tutorials/generated_videos/rl-video-step-28300-to-step-28350.mp4\n"
     ]
    },
    {
     "name": "stderr",
     "output_type": "stream",
     "text": [
      "\r"
     ]
    },
    {
     "name": "stdout",
     "output_type": "stream",
     "text": [
      "Saving video to /imitation/docs/tutorials/generated_videos/rl-video-step-28400-to-step-28450.mp4\n",
      "Moviepy - Building video /imitation/docs/tutorials/generated_videos/rl-video-step-28400-to-step-28450.mp4.\n",
      "Moviepy - Writing video /imitation/docs/tutorials/generated_videos/rl-video-step-28400-to-step-28450.mp4\n",
      "\n"
     ]
    },
    {
     "name": "stderr",
     "output_type": "stream",
     "text": [
      "                                                                                                                                         "
     ]
    },
    {
     "name": "stdout",
     "output_type": "stream",
     "text": [
      "Moviepy - Done !\n",
      "Moviepy - video ready /imitation/docs/tutorials/generated_videos/rl-video-step-28400-to-step-28450.mp4\n"
     ]
    },
    {
     "name": "stderr",
     "output_type": "stream",
     "text": [
      "\r"
     ]
    },
    {
     "name": "stdout",
     "output_type": "stream",
     "text": [
      "Saving video to /imitation/docs/tutorials/generated_videos/rl-video-step-28500-to-step-28550.mp4\n",
      "Moviepy - Building video /imitation/docs/tutorials/generated_videos/rl-video-step-28500-to-step-28550.mp4.\n",
      "Moviepy - Writing video /imitation/docs/tutorials/generated_videos/rl-video-step-28500-to-step-28550.mp4\n",
      "\n"
     ]
    },
    {
     "name": "stderr",
     "output_type": "stream",
     "text": [
      "                                                                                                                                         "
     ]
    },
    {
     "name": "stdout",
     "output_type": "stream",
     "text": [
      "Moviepy - Done !\n",
      "Moviepy - video ready /imitation/docs/tutorials/generated_videos/rl-video-step-28500-to-step-28550.mp4\n",
      "Creating fragment pairs\n"
     ]
    },
    {
     "name": "stderr",
     "output_type": "stream",
     "text": [
      "\r"
     ]
    },
    {
     "name": "stdout",
     "output_type": "stream",
     "text": [
      "Gathering preferences\n",
      "Dataset now contains 279 comparisons\n"
     ]
    },
    {
     "data": {
      "application/vnd.jupyter.widget-view+json": {
       "model_id": "baf0d7c0033b4b36b3cf004c42cb36bf",
       "version_major": 2,
       "version_minor": 0
      },
      "text/plain": [
       "Training reward model:   0%|          | 0/3 [00:00<?, ?it/s]"
      ]
     },
     "metadata": {},
     "output_type": "display_data"
    },
    {
     "name": "stdout",
     "output_type": "stream",
     "text": [
      "Training agent for 10000 timesteps\n",
      "Saving video to /imitation/docs/tutorials/generated_videos/rl-video-step-28600-to-step-28650.mp4\n",
      "Moviepy - Building video /imitation/docs/tutorials/generated_videos/rl-video-step-28600-to-step-28650.mp4.\n",
      "Moviepy - Writing video /imitation/docs/tutorials/generated_videos/rl-video-step-28600-to-step-28650.mp4\n",
      "\n"
     ]
    },
    {
     "name": "stderr",
     "output_type": "stream",
     "text": [
      "                                                                                                                                         "
     ]
    },
    {
     "name": "stdout",
     "output_type": "stream",
     "text": [
      "Moviepy - Done !\n",
      "Moviepy - video ready /imitation/docs/tutorials/generated_videos/rl-video-step-28600-to-step-28650.mp4\n"
     ]
    },
    {
     "name": "stderr",
     "output_type": "stream",
     "text": [
      "\r"
     ]
    },
    {
     "name": "stdout",
     "output_type": "stream",
     "text": [
      "Saving video to /imitation/docs/tutorials/generated_videos/rl-video-step-28700-to-step-28750.mp4\n",
      "Moviepy - Building video /imitation/docs/tutorials/generated_videos/rl-video-step-28700-to-step-28750.mp4.\n",
      "Moviepy - Writing video /imitation/docs/tutorials/generated_videos/rl-video-step-28700-to-step-28750.mp4\n",
      "\n"
     ]
    },
    {
     "name": "stderr",
     "output_type": "stream",
     "text": [
      "                                                                                                                                         "
     ]
    },
    {
     "name": "stdout",
     "output_type": "stream",
     "text": [
      "Moviepy - Done !\n",
      "Moviepy - video ready /imitation/docs/tutorials/generated_videos/rl-video-step-28700-to-step-28750.mp4\n"
     ]
    },
    {
     "name": "stderr",
     "output_type": "stream",
     "text": [
      "\r"
     ]
    },
    {
     "name": "stdout",
     "output_type": "stream",
     "text": [
      "Saving video to /imitation/docs/tutorials/generated_videos/rl-video-step-28800-to-step-28850.mp4\n",
      "Moviepy - Building video /imitation/docs/tutorials/generated_videos/rl-video-step-28800-to-step-28850.mp4.\n",
      "Moviepy - Writing video /imitation/docs/tutorials/generated_videos/rl-video-step-28800-to-step-28850.mp4\n",
      "\n"
     ]
    },
    {
     "name": "stderr",
     "output_type": "stream",
     "text": [
      "                                                                                                                                         "
     ]
    },
    {
     "name": "stdout",
     "output_type": "stream",
     "text": [
      "Moviepy - Done !\n",
      "Moviepy - video ready /imitation/docs/tutorials/generated_videos/rl-video-step-28800-to-step-28850.mp4\n"
     ]
    },
    {
     "name": "stderr",
     "output_type": "stream",
     "text": [
      "\r"
     ]
    },
    {
     "name": "stdout",
     "output_type": "stream",
     "text": [
      "Saving video to /imitation/docs/tutorials/generated_videos/rl-video-step-28900-to-step-28950.mp4\n",
      "Moviepy - Building video /imitation/docs/tutorials/generated_videos/rl-video-step-28900-to-step-28950.mp4.\n",
      "Moviepy - Writing video /imitation/docs/tutorials/generated_videos/rl-video-step-28900-to-step-28950.mp4\n",
      "\n"
     ]
    },
    {
     "name": "stderr",
     "output_type": "stream",
     "text": [
      "                                                                                                                                         "
     ]
    },
    {
     "name": "stdout",
     "output_type": "stream",
     "text": [
      "Moviepy - Done !\n",
      "Moviepy - video ready /imitation/docs/tutorials/generated_videos/rl-video-step-28900-to-step-28950.mp4\n"
     ]
    },
    {
     "name": "stderr",
     "output_type": "stream",
     "text": [
      "\r"
     ]
    },
    {
     "name": "stdout",
     "output_type": "stream",
     "text": [
      "Saving video to /imitation/docs/tutorials/generated_videos/rl-video-step-29000-to-step-29050.mp4\n",
      "Moviepy - Building video /imitation/docs/tutorials/generated_videos/rl-video-step-29000-to-step-29050.mp4.\n",
      "Moviepy - Writing video /imitation/docs/tutorials/generated_videos/rl-video-step-29000-to-step-29050.mp4\n",
      "\n"
     ]
    },
    {
     "name": "stderr",
     "output_type": "stream",
     "text": [
      "                                                                                                                                         "
     ]
    },
    {
     "name": "stdout",
     "output_type": "stream",
     "text": [
      "Moviepy - Done !\n",
      "Moviepy - video ready /imitation/docs/tutorials/generated_videos/rl-video-step-29000-to-step-29050.mp4\n"
     ]
    },
    {
     "name": "stderr",
     "output_type": "stream",
     "text": [
      "\r"
     ]
    },
    {
     "name": "stdout",
     "output_type": "stream",
     "text": [
      "Saving video to /imitation/docs/tutorials/generated_videos/rl-video-step-29100-to-step-29150.mp4\n",
      "Moviepy - Building video /imitation/docs/tutorials/generated_videos/rl-video-step-29100-to-step-29150.mp4.\n",
      "Moviepy - Writing video /imitation/docs/tutorials/generated_videos/rl-video-step-29100-to-step-29150.mp4\n",
      "\n"
     ]
    },
    {
     "name": "stderr",
     "output_type": "stream",
     "text": [
      "                                                                                                                                         "
     ]
    },
    {
     "name": "stdout",
     "output_type": "stream",
     "text": [
      "Moviepy - Done !\n",
      "Moviepy - video ready /imitation/docs/tutorials/generated_videos/rl-video-step-29100-to-step-29150.mp4\n"
     ]
    },
    {
     "name": "stderr",
     "output_type": "stream",
     "text": [
      "\r"
     ]
    },
    {
     "name": "stdout",
     "output_type": "stream",
     "text": [
      "Saving video to /imitation/docs/tutorials/generated_videos/rl-video-step-29200-to-step-29250.mp4\n",
      "Moviepy - Building video /imitation/docs/tutorials/generated_videos/rl-video-step-29200-to-step-29250.mp4.\n",
      "Moviepy - Writing video /imitation/docs/tutorials/generated_videos/rl-video-step-29200-to-step-29250.mp4\n",
      "\n"
     ]
    },
    {
     "name": "stderr",
     "output_type": "stream",
     "text": [
      "                                                                                                                                         "
     ]
    },
    {
     "name": "stdout",
     "output_type": "stream",
     "text": [
      "Moviepy - Done !\n",
      "Moviepy - video ready /imitation/docs/tutorials/generated_videos/rl-video-step-29200-to-step-29250.mp4\n"
     ]
    },
    {
     "name": "stderr",
     "output_type": "stream",
     "text": [
      "\r"
     ]
    },
    {
     "name": "stdout",
     "output_type": "stream",
     "text": [
      "Saving video to /imitation/docs/tutorials/generated_videos/rl-video-step-29300-to-step-29350.mp4\n",
      "Moviepy - Building video /imitation/docs/tutorials/generated_videos/rl-video-step-29300-to-step-29350.mp4.\n",
      "Moviepy - Writing video /imitation/docs/tutorials/generated_videos/rl-video-step-29300-to-step-29350.mp4\n",
      "\n"
     ]
    },
    {
     "name": "stderr",
     "output_type": "stream",
     "text": [
      "                                                                                                                                         "
     ]
    },
    {
     "name": "stdout",
     "output_type": "stream",
     "text": [
      "Moviepy - Done !\n",
      "Moviepy - video ready /imitation/docs/tutorials/generated_videos/rl-video-step-29300-to-step-29350.mp4\n"
     ]
    },
    {
     "name": "stderr",
     "output_type": "stream",
     "text": [
      "\r"
     ]
    },
    {
     "name": "stdout",
     "output_type": "stream",
     "text": [
      "Saving video to /imitation/docs/tutorials/generated_videos/rl-video-step-29400-to-step-29450.mp4\n",
      "Moviepy - Building video /imitation/docs/tutorials/generated_videos/rl-video-step-29400-to-step-29450.mp4.\n",
      "Moviepy - Writing video /imitation/docs/tutorials/generated_videos/rl-video-step-29400-to-step-29450.mp4\n",
      "\n"
     ]
    },
    {
     "name": "stderr",
     "output_type": "stream",
     "text": [
      "                                                                                                                                         "
     ]
    },
    {
     "name": "stdout",
     "output_type": "stream",
     "text": [
      "Moviepy - Done !\n",
      "Moviepy - video ready /imitation/docs/tutorials/generated_videos/rl-video-step-29400-to-step-29450.mp4\n"
     ]
    },
    {
     "name": "stderr",
     "output_type": "stream",
     "text": [
      "\r"
     ]
    },
    {
     "name": "stdout",
     "output_type": "stream",
     "text": [
      "Saving video to /imitation/docs/tutorials/generated_videos/rl-video-step-29500-to-step-29550.mp4\n",
      "Moviepy - Building video /imitation/docs/tutorials/generated_videos/rl-video-step-29500-to-step-29550.mp4.\n",
      "Moviepy - Writing video /imitation/docs/tutorials/generated_videos/rl-video-step-29500-to-step-29550.mp4\n",
      "\n"
     ]
    },
    {
     "name": "stderr",
     "output_type": "stream",
     "text": [
      "                                                                                                                                         "
     ]
    },
    {
     "name": "stdout",
     "output_type": "stream",
     "text": [
      "Moviepy - Done !\n",
      "Moviepy - video ready /imitation/docs/tutorials/generated_videos/rl-video-step-29500-to-step-29550.mp4\n"
     ]
    },
    {
     "name": "stderr",
     "output_type": "stream",
     "text": [
      "\r"
     ]
    },
    {
     "name": "stdout",
     "output_type": "stream",
     "text": [
      "Saving video to /imitation/docs/tutorials/generated_videos/rl-video-step-29600-to-step-29650.mp4\n",
      "Moviepy - Building video /imitation/docs/tutorials/generated_videos/rl-video-step-29600-to-step-29650.mp4.\n",
      "Moviepy - Writing video /imitation/docs/tutorials/generated_videos/rl-video-step-29600-to-step-29650.mp4\n",
      "\n"
     ]
    },
    {
     "name": "stderr",
     "output_type": "stream",
     "text": [
      "                                                                                                                                         \r"
     ]
    },
    {
     "name": "stdout",
     "output_type": "stream",
     "text": [
      "Moviepy - Done !\n",
      "Moviepy - video ready /imitation/docs/tutorials/generated_videos/rl-video-step-29600-to-step-29650.mp4\n",
      "Saving video to /imitation/docs/tutorials/generated_videos/rl-video-step-29700-to-step-29750.mp4\n",
      "Moviepy - Building video /imitation/docs/tutorials/generated_videos/rl-video-step-29700-to-step-29750.mp4.\n",
      "Moviepy - Writing video /imitation/docs/tutorials/generated_videos/rl-video-step-29700-to-step-29750.mp4\n",
      "\n"
     ]
    },
    {
     "name": "stderr",
     "output_type": "stream",
     "text": [
      "                                                                                                                                         \r"
     ]
    },
    {
     "name": "stdout",
     "output_type": "stream",
     "text": [
      "Moviepy - Done !\n",
      "Moviepy - video ready /imitation/docs/tutorials/generated_videos/rl-video-step-29700-to-step-29750.mp4\n",
      "Saving video to /imitation/docs/tutorials/generated_videos/rl-video-step-29800-to-step-29850.mp4\n",
      "Moviepy - Building video /imitation/docs/tutorials/generated_videos/rl-video-step-29800-to-step-29850.mp4.\n",
      "Moviepy - Writing video /imitation/docs/tutorials/generated_videos/rl-video-step-29800-to-step-29850.mp4\n",
      "\n"
     ]
    },
    {
     "name": "stderr",
     "output_type": "stream",
     "text": [
      "                                                                                                                                         \r"
     ]
    },
    {
     "name": "stdout",
     "output_type": "stream",
     "text": [
      "Moviepy - Done !\n",
      "Moviepy - video ready /imitation/docs/tutorials/generated_videos/rl-video-step-29800-to-step-29850.mp4\n",
      "Saving video to /imitation/docs/tutorials/generated_videos/rl-video-step-29900-to-step-29950.mp4\n",
      "Moviepy - Building video /imitation/docs/tutorials/generated_videos/rl-video-step-29900-to-step-29950.mp4.\n",
      "Moviepy - Writing video /imitation/docs/tutorials/generated_videos/rl-video-step-29900-to-step-29950.mp4\n",
      "\n"
     ]
    },
    {
     "name": "stderr",
     "output_type": "stream",
     "text": [
      "                                                                                                                                         "
     ]
    },
    {
     "name": "stdout",
     "output_type": "stream",
     "text": [
      "Moviepy - Done !\n",
      "Moviepy - video ready /imitation/docs/tutorials/generated_videos/rl-video-step-29900-to-step-29950.mp4\n"
     ]
    },
    {
     "name": "stderr",
     "output_type": "stream",
     "text": [
      "\r"
     ]
    },
    {
     "name": "stdout",
     "output_type": "stream",
     "text": [
      "Saving video to /imitation/docs/tutorials/generated_videos/rl-video-step-30000-to-step-30050.mp4\n",
      "Moviepy - Building video /imitation/docs/tutorials/generated_videos/rl-video-step-30000-to-step-30050.mp4.\n",
      "Moviepy - Writing video /imitation/docs/tutorials/generated_videos/rl-video-step-30000-to-step-30050.mp4\n",
      "\n"
     ]
    },
    {
     "name": "stderr",
     "output_type": "stream",
     "text": [
      "                                                                                                                                         "
     ]
    },
    {
     "name": "stdout",
     "output_type": "stream",
     "text": [
      "Moviepy - Done !\n",
      "Moviepy - video ready /imitation/docs/tutorials/generated_videos/rl-video-step-30000-to-step-30050.mp4\n"
     ]
    },
    {
     "name": "stderr",
     "output_type": "stream",
     "text": [
      "\r"
     ]
    },
    {
     "name": "stdout",
     "output_type": "stream",
     "text": [
      "Saving video to /imitation/docs/tutorials/generated_videos/rl-video-step-30100-to-step-30150.mp4\n",
      "Moviepy - Building video /imitation/docs/tutorials/generated_videos/rl-video-step-30100-to-step-30150.mp4.\n",
      "Moviepy - Writing video /imitation/docs/tutorials/generated_videos/rl-video-step-30100-to-step-30150.mp4\n",
      "\n"
     ]
    },
    {
     "name": "stderr",
     "output_type": "stream",
     "text": [
      "                                                                                                                                         "
     ]
    },
    {
     "name": "stdout",
     "output_type": "stream",
     "text": [
      "Moviepy - Done !\n",
      "Moviepy - video ready /imitation/docs/tutorials/generated_videos/rl-video-step-30100-to-step-30150.mp4\n"
     ]
    },
    {
     "name": "stderr",
     "output_type": "stream",
     "text": [
      "\r"
     ]
    },
    {
     "name": "stdout",
     "output_type": "stream",
     "text": [
      "Saving video to /imitation/docs/tutorials/generated_videos/rl-video-step-30200-to-step-30250.mp4\n",
      "Moviepy - Building video /imitation/docs/tutorials/generated_videos/rl-video-step-30200-to-step-30250.mp4.\n",
      "Moviepy - Writing video /imitation/docs/tutorials/generated_videos/rl-video-step-30200-to-step-30250.mp4\n",
      "\n"
     ]
    },
    {
     "name": "stderr",
     "output_type": "stream",
     "text": [
      "                                                                                                                                         "
     ]
    },
    {
     "name": "stdout",
     "output_type": "stream",
     "text": [
      "Moviepy - Done !\n",
      "Moviepy - video ready /imitation/docs/tutorials/generated_videos/rl-video-step-30200-to-step-30250.mp4\n"
     ]
    },
    {
     "name": "stderr",
     "output_type": "stream",
     "text": [
      "\r"
     ]
    },
    {
     "name": "stdout",
     "output_type": "stream",
     "text": [
      "Saving video to /imitation/docs/tutorials/generated_videos/rl-video-step-30300-to-step-30350.mp4\n",
      "Moviepy - Building video /imitation/docs/tutorials/generated_videos/rl-video-step-30300-to-step-30350.mp4.\n",
      "Moviepy - Writing video /imitation/docs/tutorials/generated_videos/rl-video-step-30300-to-step-30350.mp4\n",
      "\n"
     ]
    },
    {
     "name": "stderr",
     "output_type": "stream",
     "text": [
      "                                                                                                                                         "
     ]
    },
    {
     "name": "stdout",
     "output_type": "stream",
     "text": [
      "Moviepy - Done !\n",
      "Moviepy - video ready /imitation/docs/tutorials/generated_videos/rl-video-step-30300-to-step-30350.mp4\n"
     ]
    },
    {
     "name": "stderr",
     "output_type": "stream",
     "text": [
      "\r"
     ]
    },
    {
     "name": "stdout",
     "output_type": "stream",
     "text": [
      "Saving video to /imitation/docs/tutorials/generated_videos/rl-video-step-30400-to-step-30450.mp4\n",
      "Moviepy - Building video /imitation/docs/tutorials/generated_videos/rl-video-step-30400-to-step-30450.mp4.\n",
      "Moviepy - Writing video /imitation/docs/tutorials/generated_videos/rl-video-step-30400-to-step-30450.mp4\n",
      "\n"
     ]
    },
    {
     "name": "stderr",
     "output_type": "stream",
     "text": [
      "                                                                                                                                         "
     ]
    },
    {
     "name": "stdout",
     "output_type": "stream",
     "text": [
      "Moviepy - Done !\n",
      "Moviepy - video ready /imitation/docs/tutorials/generated_videos/rl-video-step-30400-to-step-30450.mp4\n"
     ]
    },
    {
     "name": "stderr",
     "output_type": "stream",
     "text": [
      "\r"
     ]
    },
    {
     "name": "stdout",
     "output_type": "stream",
     "text": [
      "Saving video to /imitation/docs/tutorials/generated_videos/rl-video-step-30500-to-step-30550.mp4\n",
      "Moviepy - Building video /imitation/docs/tutorials/generated_videos/rl-video-step-30500-to-step-30550.mp4.\n",
      "Moviepy - Writing video /imitation/docs/tutorials/generated_videos/rl-video-step-30500-to-step-30550.mp4\n",
      "\n"
     ]
    },
    {
     "name": "stderr",
     "output_type": "stream",
     "text": [
      "                                                                                                                                         "
     ]
    },
    {
     "name": "stdout",
     "output_type": "stream",
     "text": [
      "Moviepy - Done !\n",
      "Moviepy - video ready /imitation/docs/tutorials/generated_videos/rl-video-step-30500-to-step-30550.mp4\n"
     ]
    },
    {
     "name": "stderr",
     "output_type": "stream",
     "text": [
      "\r"
     ]
    },
    {
     "name": "stdout",
     "output_type": "stream",
     "text": [
      "------------------------------------------------------\n",
      "| raw/                                 |             |\n",
      "|    agent/rollout/ep_len_mean         | 50          |\n",
      "|    agent/rollout/ep_rew_mean         | -63.4       |\n",
      "|    agent/rollout/ep_rew_wrapped_mean | -5.51       |\n",
      "|    agent/time/fps                    | 142         |\n",
      "|    agent/time/iterations             | 1           |\n",
      "|    agent/time/time_elapsed           | 14          |\n",
      "|    agent/time/total_timesteps        | 22528       |\n",
      "|    agent/train/approx_kl             | 0.007419626 |\n",
      "|    agent/train/clip_fraction         | 0.275       |\n",
      "|    agent/train/clip_range            | 0.1         |\n",
      "|    agent/train/entropy_loss          | -2.89       |\n",
      "|    agent/train/explained_variance    | 0.827       |\n",
      "|    agent/train/learning_rate         | 0.002       |\n",
      "|    agent/train/loss                  | -0.035      |\n",
      "|    agent/train/n_updates             | 100         |\n",
      "|    agent/train/policy_gradient_loss  | -0.0127     |\n",
      "|    agent/train/std                   | 1.03        |\n",
      "|    agent/train/value_loss            | 0.0232      |\n",
      "------------------------------------------------------\n",
      "Saving video to /imitation/docs/tutorials/generated_videos/rl-video-step-30600-to-step-30650.mp4\n",
      "Moviepy - Building video /imitation/docs/tutorials/generated_videos/rl-video-step-30600-to-step-30650.mp4.\n",
      "Moviepy - Writing video /imitation/docs/tutorials/generated_videos/rl-video-step-30600-to-step-30650.mp4\n",
      "\n"
     ]
    },
    {
     "name": "stderr",
     "output_type": "stream",
     "text": [
      "                                                                                                                                         "
     ]
    },
    {
     "name": "stdout",
     "output_type": "stream",
     "text": [
      "Moviepy - Done !\n",
      "Moviepy - video ready /imitation/docs/tutorials/generated_videos/rl-video-step-30600-to-step-30650.mp4\n"
     ]
    },
    {
     "name": "stderr",
     "output_type": "stream",
     "text": [
      "\r"
     ]
    },
    {
     "name": "stdout",
     "output_type": "stream",
     "text": [
      "Saving video to /imitation/docs/tutorials/generated_videos/rl-video-step-30700-to-step-30750.mp4\n",
      "Moviepy - Building video /imitation/docs/tutorials/generated_videos/rl-video-step-30700-to-step-30750.mp4.\n",
      "Moviepy - Writing video /imitation/docs/tutorials/generated_videos/rl-video-step-30700-to-step-30750.mp4\n",
      "\n"
     ]
    },
    {
     "name": "stderr",
     "output_type": "stream",
     "text": [
      "                                                                                                                                         "
     ]
    },
    {
     "name": "stdout",
     "output_type": "stream",
     "text": [
      "Moviepy - Done !\n",
      "Moviepy - video ready /imitation/docs/tutorials/generated_videos/rl-video-step-30700-to-step-30750.mp4\n"
     ]
    },
    {
     "name": "stderr",
     "output_type": "stream",
     "text": [
      "\r"
     ]
    },
    {
     "name": "stdout",
     "output_type": "stream",
     "text": [
      "Saving video to /imitation/docs/tutorials/generated_videos/rl-video-step-30800-to-step-30850.mp4\n",
      "Moviepy - Building video /imitation/docs/tutorials/generated_videos/rl-video-step-30800-to-step-30850.mp4.\n",
      "Moviepy - Writing video /imitation/docs/tutorials/generated_videos/rl-video-step-30800-to-step-30850.mp4\n",
      "\n"
     ]
    },
    {
     "name": "stderr",
     "output_type": "stream",
     "text": [
      "                                                                                                                                         "
     ]
    },
    {
     "name": "stdout",
     "output_type": "stream",
     "text": [
      "Moviepy - Done !\n",
      "Moviepy - video ready /imitation/docs/tutorials/generated_videos/rl-video-step-30800-to-step-30850.mp4\n"
     ]
    },
    {
     "name": "stderr",
     "output_type": "stream",
     "text": [
      "\r"
     ]
    },
    {
     "name": "stdout",
     "output_type": "stream",
     "text": [
      "Saving video to /imitation/docs/tutorials/generated_videos/rl-video-step-30900-to-step-30950.mp4\n",
      "Moviepy - Building video /imitation/docs/tutorials/generated_videos/rl-video-step-30900-to-step-30950.mp4.\n",
      "Moviepy - Writing video /imitation/docs/tutorials/generated_videos/rl-video-step-30900-to-step-30950.mp4\n",
      "\n"
     ]
    },
    {
     "name": "stderr",
     "output_type": "stream",
     "text": [
      "                                                                                                                                         "
     ]
    },
    {
     "name": "stdout",
     "output_type": "stream",
     "text": [
      "Moviepy - Done !\n",
      "Moviepy - video ready /imitation/docs/tutorials/generated_videos/rl-video-step-30900-to-step-30950.mp4\n"
     ]
    },
    {
     "name": "stderr",
     "output_type": "stream",
     "text": [
      "\r"
     ]
    },
    {
     "name": "stdout",
     "output_type": "stream",
     "text": [
      "Saving video to /imitation/docs/tutorials/generated_videos/rl-video-step-31000-to-step-31050.mp4\n",
      "Moviepy - Building video /imitation/docs/tutorials/generated_videos/rl-video-step-31000-to-step-31050.mp4.\n",
      "Moviepy - Writing video /imitation/docs/tutorials/generated_videos/rl-video-step-31000-to-step-31050.mp4\n",
      "\n"
     ]
    },
    {
     "name": "stderr",
     "output_type": "stream",
     "text": [
      "                                                                                                                                         "
     ]
    },
    {
     "name": "stdout",
     "output_type": "stream",
     "text": [
      "Moviepy - Done !\n",
      "Moviepy - video ready /imitation/docs/tutorials/generated_videos/rl-video-step-31000-to-step-31050.mp4\n"
     ]
    },
    {
     "name": "stderr",
     "output_type": "stream",
     "text": [
      "\r"
     ]
    },
    {
     "name": "stdout",
     "output_type": "stream",
     "text": [
      "Saving video to /imitation/docs/tutorials/generated_videos/rl-video-step-31100-to-step-31150.mp4\n",
      "Moviepy - Building video /imitation/docs/tutorials/generated_videos/rl-video-step-31100-to-step-31150.mp4.\n",
      "Moviepy - Writing video /imitation/docs/tutorials/generated_videos/rl-video-step-31100-to-step-31150.mp4\n",
      "\n"
     ]
    },
    {
     "name": "stderr",
     "output_type": "stream",
     "text": [
      "                                                                                                                                         "
     ]
    },
    {
     "name": "stdout",
     "output_type": "stream",
     "text": [
      "Moviepy - Done !\n",
      "Moviepy - video ready /imitation/docs/tutorials/generated_videos/rl-video-step-31100-to-step-31150.mp4\n"
     ]
    },
    {
     "name": "stderr",
     "output_type": "stream",
     "text": [
      "\r"
     ]
    },
    {
     "name": "stdout",
     "output_type": "stream",
     "text": [
      "Saving video to /imitation/docs/tutorials/generated_videos/rl-video-step-31200-to-step-31250.mp4\n",
      "Moviepy - Building video /imitation/docs/tutorials/generated_videos/rl-video-step-31200-to-step-31250.mp4.\n",
      "Moviepy - Writing video /imitation/docs/tutorials/generated_videos/rl-video-step-31200-to-step-31250.mp4\n",
      "\n"
     ]
    },
    {
     "name": "stderr",
     "output_type": "stream",
     "text": [
      "                                                                                                                                         "
     ]
    },
    {
     "name": "stdout",
     "output_type": "stream",
     "text": [
      "Moviepy - Done !\n",
      "Moviepy - video ready /imitation/docs/tutorials/generated_videos/rl-video-step-31200-to-step-31250.mp4\n"
     ]
    },
    {
     "name": "stderr",
     "output_type": "stream",
     "text": [
      "\r"
     ]
    },
    {
     "name": "stdout",
     "output_type": "stream",
     "text": [
      "Saving video to /imitation/docs/tutorials/generated_videos/rl-video-step-31300-to-step-31350.mp4\n",
      "Moviepy - Building video /imitation/docs/tutorials/generated_videos/rl-video-step-31300-to-step-31350.mp4.\n",
      "Moviepy - Writing video /imitation/docs/tutorials/generated_videos/rl-video-step-31300-to-step-31350.mp4\n",
      "\n"
     ]
    },
    {
     "name": "stderr",
     "output_type": "stream",
     "text": [
      "                                                                                                                                         "
     ]
    },
    {
     "name": "stdout",
     "output_type": "stream",
     "text": [
      "Moviepy - Done !\n",
      "Moviepy - video ready /imitation/docs/tutorials/generated_videos/rl-video-step-31300-to-step-31350.mp4\n"
     ]
    },
    {
     "name": "stderr",
     "output_type": "stream",
     "text": [
      "\r"
     ]
    },
    {
     "name": "stdout",
     "output_type": "stream",
     "text": [
      "Saving video to /imitation/docs/tutorials/generated_videos/rl-video-step-31400-to-step-31450.mp4\n",
      "Moviepy - Building video /imitation/docs/tutorials/generated_videos/rl-video-step-31400-to-step-31450.mp4.\n",
      "Moviepy - Writing video /imitation/docs/tutorials/generated_videos/rl-video-step-31400-to-step-31450.mp4\n",
      "\n"
     ]
    },
    {
     "name": "stderr",
     "output_type": "stream",
     "text": [
      "                                                                                                                                         "
     ]
    },
    {
     "name": "stdout",
     "output_type": "stream",
     "text": [
      "Moviepy - Done !\n",
      "Moviepy - video ready /imitation/docs/tutorials/generated_videos/rl-video-step-31400-to-step-31450.mp4\n"
     ]
    },
    {
     "name": "stderr",
     "output_type": "stream",
     "text": [
      "\r"
     ]
    },
    {
     "name": "stdout",
     "output_type": "stream",
     "text": [
      "Saving video to /imitation/docs/tutorials/generated_videos/rl-video-step-31500-to-step-31550.mp4\n",
      "Moviepy - Building video /imitation/docs/tutorials/generated_videos/rl-video-step-31500-to-step-31550.mp4.\n",
      "Moviepy - Writing video /imitation/docs/tutorials/generated_videos/rl-video-step-31500-to-step-31550.mp4\n",
      "\n"
     ]
    },
    {
     "name": "stderr",
     "output_type": "stream",
     "text": [
      "                                                                                                                                         "
     ]
    },
    {
     "name": "stdout",
     "output_type": "stream",
     "text": [
      "Moviepy - Done !\n",
      "Moviepy - video ready /imitation/docs/tutorials/generated_videos/rl-video-step-31500-to-step-31550.mp4\n"
     ]
    },
    {
     "name": "stderr",
     "output_type": "stream",
     "text": [
      "\r"
     ]
    },
    {
     "name": "stdout",
     "output_type": "stream",
     "text": [
      "Saving video to /imitation/docs/tutorials/generated_videos/rl-video-step-31600-to-step-31650.mp4\n",
      "Moviepy - Building video /imitation/docs/tutorials/generated_videos/rl-video-step-31600-to-step-31650.mp4.\n",
      "Moviepy - Writing video /imitation/docs/tutorials/generated_videos/rl-video-step-31600-to-step-31650.mp4\n",
      "\n"
     ]
    },
    {
     "name": "stderr",
     "output_type": "stream",
     "text": [
      "                                                                                                                                         "
     ]
    },
    {
     "name": "stdout",
     "output_type": "stream",
     "text": [
      "Moviepy - Done !\n",
      "Moviepy - video ready /imitation/docs/tutorials/generated_videos/rl-video-step-31600-to-step-31650.mp4\n"
     ]
    },
    {
     "name": "stderr",
     "output_type": "stream",
     "text": [
      "\r"
     ]
    },
    {
     "name": "stdout",
     "output_type": "stream",
     "text": [
      "Saving video to /imitation/docs/tutorials/generated_videos/rl-video-step-31700-to-step-31750.mp4\n",
      "Moviepy - Building video /imitation/docs/tutorials/generated_videos/rl-video-step-31700-to-step-31750.mp4.\n",
      "Moviepy - Writing video /imitation/docs/tutorials/generated_videos/rl-video-step-31700-to-step-31750.mp4\n",
      "\n"
     ]
    },
    {
     "name": "stderr",
     "output_type": "stream",
     "text": [
      "                                                                                                                                         "
     ]
    },
    {
     "name": "stdout",
     "output_type": "stream",
     "text": [
      "Moviepy - Done !\n",
      "Moviepy - video ready /imitation/docs/tutorials/generated_videos/rl-video-step-31700-to-step-31750.mp4\n"
     ]
    },
    {
     "name": "stderr",
     "output_type": "stream",
     "text": [
      "\r"
     ]
    },
    {
     "name": "stdout",
     "output_type": "stream",
     "text": [
      "Saving video to /imitation/docs/tutorials/generated_videos/rl-video-step-31800-to-step-31850.mp4\n",
      "Moviepy - Building video /imitation/docs/tutorials/generated_videos/rl-video-step-31800-to-step-31850.mp4.\n",
      "Moviepy - Writing video /imitation/docs/tutorials/generated_videos/rl-video-step-31800-to-step-31850.mp4\n",
      "\n"
     ]
    },
    {
     "name": "stderr",
     "output_type": "stream",
     "text": [
      "                                                                                                                                         "
     ]
    },
    {
     "name": "stdout",
     "output_type": "stream",
     "text": [
      "Moviepy - Done !\n",
      "Moviepy - video ready /imitation/docs/tutorials/generated_videos/rl-video-step-31800-to-step-31850.mp4\n"
     ]
    },
    {
     "name": "stderr",
     "output_type": "stream",
     "text": [
      "\r"
     ]
    },
    {
     "name": "stdout",
     "output_type": "stream",
     "text": [
      "Saving video to /imitation/docs/tutorials/generated_videos/rl-video-step-31900-to-step-31950.mp4\n",
      "Moviepy - Building video /imitation/docs/tutorials/generated_videos/rl-video-step-31900-to-step-31950.mp4.\n",
      "Moviepy - Writing video /imitation/docs/tutorials/generated_videos/rl-video-step-31900-to-step-31950.mp4\n",
      "\n"
     ]
    },
    {
     "name": "stderr",
     "output_type": "stream",
     "text": [
      "                                                                                                                                         "
     ]
    },
    {
     "name": "stdout",
     "output_type": "stream",
     "text": [
      "Moviepy - Done !\n",
      "Moviepy - video ready /imitation/docs/tutorials/generated_videos/rl-video-step-31900-to-step-31950.mp4\n"
     ]
    },
    {
     "name": "stderr",
     "output_type": "stream",
     "text": [
      "\r"
     ]
    },
    {
     "name": "stdout",
     "output_type": "stream",
     "text": [
      "Saving video to /imitation/docs/tutorials/generated_videos/rl-video-step-32000-to-step-32050.mp4\n",
      "Moviepy - Building video /imitation/docs/tutorials/generated_videos/rl-video-step-32000-to-step-32050.mp4.\n",
      "Moviepy - Writing video /imitation/docs/tutorials/generated_videos/rl-video-step-32000-to-step-32050.mp4\n",
      "\n"
     ]
    },
    {
     "name": "stderr",
     "output_type": "stream",
     "text": [
      "                                                                                                                                         "
     ]
    },
    {
     "name": "stdout",
     "output_type": "stream",
     "text": [
      "Moviepy - Done !\n",
      "Moviepy - video ready /imitation/docs/tutorials/generated_videos/rl-video-step-32000-to-step-32050.mp4\n"
     ]
    },
    {
     "name": "stderr",
     "output_type": "stream",
     "text": [
      "\r"
     ]
    },
    {
     "name": "stdout",
     "output_type": "stream",
     "text": [
      "Saving video to /imitation/docs/tutorials/generated_videos/rl-video-step-32100-to-step-32150.mp4\n",
      "Moviepy - Building video /imitation/docs/tutorials/generated_videos/rl-video-step-32100-to-step-32150.mp4.\n",
      "Moviepy - Writing video /imitation/docs/tutorials/generated_videos/rl-video-step-32100-to-step-32150.mp4\n",
      "\n"
     ]
    },
    {
     "name": "stderr",
     "output_type": "stream",
     "text": [
      "                                                                                                                                         "
     ]
    },
    {
     "name": "stdout",
     "output_type": "stream",
     "text": [
      "Moviepy - Done !\n",
      "Moviepy - video ready /imitation/docs/tutorials/generated_videos/rl-video-step-32100-to-step-32150.mp4\n"
     ]
    },
    {
     "name": "stderr",
     "output_type": "stream",
     "text": [
      "\r"
     ]
    },
    {
     "name": "stdout",
     "output_type": "stream",
     "text": [
      "Saving video to /imitation/docs/tutorials/generated_videos/rl-video-step-32200-to-step-32250.mp4\n",
      "Moviepy - Building video /imitation/docs/tutorials/generated_videos/rl-video-step-32200-to-step-32250.mp4.\n",
      "Moviepy - Writing video /imitation/docs/tutorials/generated_videos/rl-video-step-32200-to-step-32250.mp4\n",
      "\n"
     ]
    },
    {
     "name": "stderr",
     "output_type": "stream",
     "text": [
      "                                                                                                                                         "
     ]
    },
    {
     "name": "stdout",
     "output_type": "stream",
     "text": [
      "Moviepy - Done !\n",
      "Moviepy - video ready /imitation/docs/tutorials/generated_videos/rl-video-step-32200-to-step-32250.mp4\n"
     ]
    },
    {
     "name": "stderr",
     "output_type": "stream",
     "text": [
      "\r"
     ]
    },
    {
     "name": "stdout",
     "output_type": "stream",
     "text": [
      "Saving video to /imitation/docs/tutorials/generated_videos/rl-video-step-32300-to-step-32350.mp4\n",
      "Moviepy - Building video /imitation/docs/tutorials/generated_videos/rl-video-step-32300-to-step-32350.mp4.\n",
      "Moviepy - Writing video /imitation/docs/tutorials/generated_videos/rl-video-step-32300-to-step-32350.mp4\n",
      "\n"
     ]
    },
    {
     "name": "stderr",
     "output_type": "stream",
     "text": [
      "                                                                                                                                         "
     ]
    },
    {
     "name": "stdout",
     "output_type": "stream",
     "text": [
      "Moviepy - Done !\n",
      "Moviepy - video ready /imitation/docs/tutorials/generated_videos/rl-video-step-32300-to-step-32350.mp4\n"
     ]
    },
    {
     "name": "stderr",
     "output_type": "stream",
     "text": [
      "\r"
     ]
    },
    {
     "name": "stdout",
     "output_type": "stream",
     "text": [
      "Saving video to /imitation/docs/tutorials/generated_videos/rl-video-step-32400-to-step-32450.mp4\n",
      "Moviepy - Building video /imitation/docs/tutorials/generated_videos/rl-video-step-32400-to-step-32450.mp4.\n",
      "Moviepy - Writing video /imitation/docs/tutorials/generated_videos/rl-video-step-32400-to-step-32450.mp4\n",
      "\n"
     ]
    },
    {
     "name": "stderr",
     "output_type": "stream",
     "text": [
      "                                                                                                                                         "
     ]
    },
    {
     "name": "stdout",
     "output_type": "stream",
     "text": [
      "Moviepy - Done !\n",
      "Moviepy - video ready /imitation/docs/tutorials/generated_videos/rl-video-step-32400-to-step-32450.mp4\n"
     ]
    },
    {
     "name": "stderr",
     "output_type": "stream",
     "text": [
      "\r"
     ]
    },
    {
     "name": "stdout",
     "output_type": "stream",
     "text": [
      "Saving video to /imitation/docs/tutorials/generated_videos/rl-video-step-32500-to-step-32550.mp4\n",
      "Moviepy - Building video /imitation/docs/tutorials/generated_videos/rl-video-step-32500-to-step-32550.mp4.\n",
      "Moviepy - Writing video /imitation/docs/tutorials/generated_videos/rl-video-step-32500-to-step-32550.mp4\n",
      "\n"
     ]
    },
    {
     "name": "stderr",
     "output_type": "stream",
     "text": [
      "                                                                                                                                         "
     ]
    },
    {
     "name": "stdout",
     "output_type": "stream",
     "text": [
      "Moviepy - Done !\n",
      "Moviepy - video ready /imitation/docs/tutorials/generated_videos/rl-video-step-32500-to-step-32550.mp4\n"
     ]
    },
    {
     "name": "stderr",
     "output_type": "stream",
     "text": [
      "\r"
     ]
    },
    {
     "name": "stdout",
     "output_type": "stream",
     "text": [
      "Saving video to /imitation/docs/tutorials/generated_videos/rl-video-step-32600-to-step-32650.mp4\n",
      "Moviepy - Building video /imitation/docs/tutorials/generated_videos/rl-video-step-32600-to-step-32650.mp4.\n",
      "Moviepy - Writing video /imitation/docs/tutorials/generated_videos/rl-video-step-32600-to-step-32650.mp4\n",
      "\n"
     ]
    },
    {
     "name": "stderr",
     "output_type": "stream",
     "text": [
      "                                                                                                                                         "
     ]
    },
    {
     "name": "stdout",
     "output_type": "stream",
     "text": [
      "Moviepy - Done !\n",
      "Moviepy - video ready /imitation/docs/tutorials/generated_videos/rl-video-step-32600-to-step-32650.mp4\n",
      "------------------------------------------------------\n",
      "| raw/                                 |             |\n",
      "|    agent/rollout/ep_len_mean         | 50          |\n",
      "|    agent/rollout/ep_rew_mean         | -64.3       |\n",
      "|    agent/rollout/ep_rew_wrapped_mean | -6.24       |\n",
      "|    agent/time/fps                    | 140         |\n",
      "|    agent/time/iterations             | 2           |\n",
      "|    agent/time/time_elapsed           | 29          |\n",
      "|    agent/time/total_timesteps        | 24576       |\n",
      "|    agent/train/approx_kl             | 0.005693705 |\n",
      "|    agent/train/clip_fraction         | 0.238       |\n",
      "|    agent/train/clip_range            | 0.1         |\n",
      "|    agent/train/entropy_loss          | -2.89       |\n",
      "|    agent/train/explained_variance    | 0.862       |\n",
      "|    agent/train/learning_rate         | 0.002       |\n",
      "|    agent/train/loss                  | -0.0167     |\n",
      "|    agent/train/n_updates             | 110         |\n",
      "|    agent/train/policy_gradient_loss  | -0.0089     |\n",
      "|    agent/train/std                   | 1.03        |\n",
      "|    agent/train/value_loss            | 0.0488      |\n",
      "------------------------------------------------------\n"
     ]
    },
    {
     "name": "stderr",
     "output_type": "stream",
     "text": [
      "\r"
     ]
    },
    {
     "name": "stdout",
     "output_type": "stream",
     "text": [
      "Saving video to /imitation/docs/tutorials/generated_videos/rl-video-step-32700-to-step-32750.mp4\n",
      "Moviepy - Building video /imitation/docs/tutorials/generated_videos/rl-video-step-32700-to-step-32750.mp4.\n",
      "Moviepy - Writing video /imitation/docs/tutorials/generated_videos/rl-video-step-32700-to-step-32750.mp4\n",
      "\n"
     ]
    },
    {
     "name": "stderr",
     "output_type": "stream",
     "text": [
      "                                                                                                                                         "
     ]
    },
    {
     "name": "stdout",
     "output_type": "stream",
     "text": [
      "Moviepy - Done !\n",
      "Moviepy - video ready /imitation/docs/tutorials/generated_videos/rl-video-step-32700-to-step-32750.mp4\n"
     ]
    },
    {
     "name": "stderr",
     "output_type": "stream",
     "text": [
      "\r"
     ]
    },
    {
     "name": "stdout",
     "output_type": "stream",
     "text": [
      "Saving video to /imitation/docs/tutorials/generated_videos/rl-video-step-32800-to-step-32850.mp4\n",
      "Moviepy - Building video /imitation/docs/tutorials/generated_videos/rl-video-step-32800-to-step-32850.mp4.\n",
      "Moviepy - Writing video /imitation/docs/tutorials/generated_videos/rl-video-step-32800-to-step-32850.mp4\n",
      "\n"
     ]
    },
    {
     "name": "stderr",
     "output_type": "stream",
     "text": [
      "                                                                                                                                         "
     ]
    },
    {
     "name": "stdout",
     "output_type": "stream",
     "text": [
      "Moviepy - Done !\n",
      "Moviepy - video ready /imitation/docs/tutorials/generated_videos/rl-video-step-32800-to-step-32850.mp4\n"
     ]
    },
    {
     "name": "stderr",
     "output_type": "stream",
     "text": [
      "\r"
     ]
    },
    {
     "name": "stdout",
     "output_type": "stream",
     "text": [
      "Saving video to /imitation/docs/tutorials/generated_videos/rl-video-step-32900-to-step-32950.mp4\n",
      "Moviepy - Building video /imitation/docs/tutorials/generated_videos/rl-video-step-32900-to-step-32950.mp4.\n",
      "Moviepy - Writing video /imitation/docs/tutorials/generated_videos/rl-video-step-32900-to-step-32950.mp4\n",
      "\n"
     ]
    },
    {
     "name": "stderr",
     "output_type": "stream",
     "text": [
      "                                                                                                                                         "
     ]
    },
    {
     "name": "stdout",
     "output_type": "stream",
     "text": [
      "Moviepy - Done !\n",
      "Moviepy - video ready /imitation/docs/tutorials/generated_videos/rl-video-step-32900-to-step-32950.mp4\n"
     ]
    },
    {
     "name": "stderr",
     "output_type": "stream",
     "text": [
      "\r"
     ]
    },
    {
     "name": "stdout",
     "output_type": "stream",
     "text": [
      "Saving video to /imitation/docs/tutorials/generated_videos/rl-video-step-33000-to-step-33050.mp4\n",
      "Moviepy - Building video /imitation/docs/tutorials/generated_videos/rl-video-step-33000-to-step-33050.mp4.\n",
      "Moviepy - Writing video /imitation/docs/tutorials/generated_videos/rl-video-step-33000-to-step-33050.mp4\n",
      "\n"
     ]
    },
    {
     "name": "stderr",
     "output_type": "stream",
     "text": [
      "                                                                                                                                         "
     ]
    },
    {
     "name": "stdout",
     "output_type": "stream",
     "text": [
      "Moviepy - Done !\n",
      "Moviepy - video ready /imitation/docs/tutorials/generated_videos/rl-video-step-33000-to-step-33050.mp4\n"
     ]
    },
    {
     "name": "stderr",
     "output_type": "stream",
     "text": [
      "\r"
     ]
    },
    {
     "name": "stdout",
     "output_type": "stream",
     "text": [
      "Saving video to /imitation/docs/tutorials/generated_videos/rl-video-step-33100-to-step-33150.mp4\n",
      "Moviepy - Building video /imitation/docs/tutorials/generated_videos/rl-video-step-33100-to-step-33150.mp4.\n",
      "Moviepy - Writing video /imitation/docs/tutorials/generated_videos/rl-video-step-33100-to-step-33150.mp4\n",
      "\n"
     ]
    },
    {
     "name": "stderr",
     "output_type": "stream",
     "text": [
      "                                                                                                                                         "
     ]
    },
    {
     "name": "stdout",
     "output_type": "stream",
     "text": [
      "Moviepy - Done !\n",
      "Moviepy - video ready /imitation/docs/tutorials/generated_videos/rl-video-step-33100-to-step-33150.mp4\n"
     ]
    },
    {
     "name": "stderr",
     "output_type": "stream",
     "text": [
      "\r"
     ]
    },
    {
     "name": "stdout",
     "output_type": "stream",
     "text": [
      "Saving video to /imitation/docs/tutorials/generated_videos/rl-video-step-33200-to-step-33250.mp4\n",
      "Moviepy - Building video /imitation/docs/tutorials/generated_videos/rl-video-step-33200-to-step-33250.mp4.\n",
      "Moviepy - Writing video /imitation/docs/tutorials/generated_videos/rl-video-step-33200-to-step-33250.mp4\n",
      "\n"
     ]
    },
    {
     "name": "stderr",
     "output_type": "stream",
     "text": [
      "                                                                                                                                         "
     ]
    },
    {
     "name": "stdout",
     "output_type": "stream",
     "text": [
      "Moviepy - Done !\n",
      "Moviepy - video ready /imitation/docs/tutorials/generated_videos/rl-video-step-33200-to-step-33250.mp4\n"
     ]
    },
    {
     "name": "stderr",
     "output_type": "stream",
     "text": [
      "\r"
     ]
    },
    {
     "name": "stdout",
     "output_type": "stream",
     "text": [
      "Saving video to /imitation/docs/tutorials/generated_videos/rl-video-step-33300-to-step-33350.mp4\n",
      "Moviepy - Building video /imitation/docs/tutorials/generated_videos/rl-video-step-33300-to-step-33350.mp4.\n",
      "Moviepy - Writing video /imitation/docs/tutorials/generated_videos/rl-video-step-33300-to-step-33350.mp4\n",
      "\n"
     ]
    },
    {
     "name": "stderr",
     "output_type": "stream",
     "text": [
      "                                                                                                                                         "
     ]
    },
    {
     "name": "stdout",
     "output_type": "stream",
     "text": [
      "Moviepy - Done !\n",
      "Moviepy - video ready /imitation/docs/tutorials/generated_videos/rl-video-step-33300-to-step-33350.mp4\n"
     ]
    },
    {
     "name": "stderr",
     "output_type": "stream",
     "text": [
      "\r"
     ]
    },
    {
     "name": "stdout",
     "output_type": "stream",
     "text": [
      "Saving video to /imitation/docs/tutorials/generated_videos/rl-video-step-33400-to-step-33450.mp4\n",
      "Moviepy - Building video /imitation/docs/tutorials/generated_videos/rl-video-step-33400-to-step-33450.mp4.\n",
      "Moviepy - Writing video /imitation/docs/tutorials/generated_videos/rl-video-step-33400-to-step-33450.mp4\n",
      "\n"
     ]
    },
    {
     "name": "stderr",
     "output_type": "stream",
     "text": [
      "                                                                                                                                         "
     ]
    },
    {
     "name": "stdout",
     "output_type": "stream",
     "text": [
      "Moviepy - Done !\n",
      "Moviepy - video ready /imitation/docs/tutorials/generated_videos/rl-video-step-33400-to-step-33450.mp4\n"
     ]
    },
    {
     "name": "stderr",
     "output_type": "stream",
     "text": [
      "\r"
     ]
    },
    {
     "name": "stdout",
     "output_type": "stream",
     "text": [
      "Saving video to /imitation/docs/tutorials/generated_videos/rl-video-step-33500-to-step-33550.mp4\n",
      "Moviepy - Building video /imitation/docs/tutorials/generated_videos/rl-video-step-33500-to-step-33550.mp4.\n",
      "Moviepy - Writing video /imitation/docs/tutorials/generated_videos/rl-video-step-33500-to-step-33550.mp4\n",
      "\n"
     ]
    },
    {
     "name": "stderr",
     "output_type": "stream",
     "text": [
      "                                                                                                                                         "
     ]
    },
    {
     "name": "stdout",
     "output_type": "stream",
     "text": [
      "Moviepy - Done !\n",
      "Moviepy - video ready /imitation/docs/tutorials/generated_videos/rl-video-step-33500-to-step-33550.mp4\n"
     ]
    },
    {
     "name": "stderr",
     "output_type": "stream",
     "text": [
      "\r"
     ]
    },
    {
     "name": "stdout",
     "output_type": "stream",
     "text": [
      "Saving video to /imitation/docs/tutorials/generated_videos/rl-video-step-33600-to-step-33650.mp4\n",
      "Moviepy - Building video /imitation/docs/tutorials/generated_videos/rl-video-step-33600-to-step-33650.mp4.\n",
      "Moviepy - Writing video /imitation/docs/tutorials/generated_videos/rl-video-step-33600-to-step-33650.mp4\n",
      "\n"
     ]
    },
    {
     "name": "stderr",
     "output_type": "stream",
     "text": [
      "                                                                                                                                         "
     ]
    },
    {
     "name": "stdout",
     "output_type": "stream",
     "text": [
      "Moviepy - Done !\n",
      "Moviepy - video ready /imitation/docs/tutorials/generated_videos/rl-video-step-33600-to-step-33650.mp4\n"
     ]
    },
    {
     "name": "stderr",
     "output_type": "stream",
     "text": [
      "\r"
     ]
    },
    {
     "name": "stdout",
     "output_type": "stream",
     "text": [
      "Saving video to /imitation/docs/tutorials/generated_videos/rl-video-step-33700-to-step-33750.mp4\n",
      "Moviepy - Building video /imitation/docs/tutorials/generated_videos/rl-video-step-33700-to-step-33750.mp4.\n",
      "Moviepy - Writing video /imitation/docs/tutorials/generated_videos/rl-video-step-33700-to-step-33750.mp4\n",
      "\n"
     ]
    },
    {
     "name": "stderr",
     "output_type": "stream",
     "text": [
      "                                                                                                                                         "
     ]
    },
    {
     "name": "stdout",
     "output_type": "stream",
     "text": [
      "Moviepy - Done !\n",
      "Moviepy - video ready /imitation/docs/tutorials/generated_videos/rl-video-step-33700-to-step-33750.mp4\n"
     ]
    },
    {
     "name": "stderr",
     "output_type": "stream",
     "text": [
      "\r"
     ]
    },
    {
     "name": "stdout",
     "output_type": "stream",
     "text": [
      "Saving video to /imitation/docs/tutorials/generated_videos/rl-video-step-33800-to-step-33850.mp4\n",
      "Moviepy - Building video /imitation/docs/tutorials/generated_videos/rl-video-step-33800-to-step-33850.mp4.\n",
      "Moviepy - Writing video /imitation/docs/tutorials/generated_videos/rl-video-step-33800-to-step-33850.mp4\n",
      "\n"
     ]
    },
    {
     "name": "stderr",
     "output_type": "stream",
     "text": [
      "                                                                                                                                         "
     ]
    },
    {
     "name": "stdout",
     "output_type": "stream",
     "text": [
      "Moviepy - Done !\n",
      "Moviepy - video ready /imitation/docs/tutorials/generated_videos/rl-video-step-33800-to-step-33850.mp4\n"
     ]
    },
    {
     "name": "stderr",
     "output_type": "stream",
     "text": [
      "\r"
     ]
    },
    {
     "name": "stdout",
     "output_type": "stream",
     "text": [
      "Saving video to /imitation/docs/tutorials/generated_videos/rl-video-step-33900-to-step-33950.mp4\n",
      "Moviepy - Building video /imitation/docs/tutorials/generated_videos/rl-video-step-33900-to-step-33950.mp4.\n",
      "Moviepy - Writing video /imitation/docs/tutorials/generated_videos/rl-video-step-33900-to-step-33950.mp4\n",
      "\n"
     ]
    },
    {
     "name": "stderr",
     "output_type": "stream",
     "text": [
      "                                                                                                                                         "
     ]
    },
    {
     "name": "stdout",
     "output_type": "stream",
     "text": [
      "Moviepy - Done !\n",
      "Moviepy - video ready /imitation/docs/tutorials/generated_videos/rl-video-step-33900-to-step-33950.mp4\n"
     ]
    },
    {
     "name": "stderr",
     "output_type": "stream",
     "text": [
      "\r"
     ]
    },
    {
     "name": "stdout",
     "output_type": "stream",
     "text": [
      "Saving video to /imitation/docs/tutorials/generated_videos/rl-video-step-34000-to-step-34050.mp4\n",
      "Moviepy - Building video /imitation/docs/tutorials/generated_videos/rl-video-step-34000-to-step-34050.mp4.\n",
      "Moviepy - Writing video /imitation/docs/tutorials/generated_videos/rl-video-step-34000-to-step-34050.mp4\n",
      "\n"
     ]
    },
    {
     "name": "stderr",
     "output_type": "stream",
     "text": [
      "                                                                                                                                         "
     ]
    },
    {
     "name": "stdout",
     "output_type": "stream",
     "text": [
      "Moviepy - Done !\n",
      "Moviepy - video ready /imitation/docs/tutorials/generated_videos/rl-video-step-34000-to-step-34050.mp4\n"
     ]
    },
    {
     "name": "stderr",
     "output_type": "stream",
     "text": [
      "\r"
     ]
    },
    {
     "name": "stdout",
     "output_type": "stream",
     "text": [
      "Saving video to /imitation/docs/tutorials/generated_videos/rl-video-step-34100-to-step-34150.mp4\n",
      "Moviepy - Building video /imitation/docs/tutorials/generated_videos/rl-video-step-34100-to-step-34150.mp4.\n",
      "Moviepy - Writing video /imitation/docs/tutorials/generated_videos/rl-video-step-34100-to-step-34150.mp4\n",
      "\n"
     ]
    },
    {
     "name": "stderr",
     "output_type": "stream",
     "text": [
      "                                                                                                                                         "
     ]
    },
    {
     "name": "stdout",
     "output_type": "stream",
     "text": [
      "Moviepy - Done !\n",
      "Moviepy - video ready /imitation/docs/tutorials/generated_videos/rl-video-step-34100-to-step-34150.mp4\n"
     ]
    },
    {
     "name": "stderr",
     "output_type": "stream",
     "text": [
      "\r"
     ]
    },
    {
     "name": "stdout",
     "output_type": "stream",
     "text": [
      "Saving video to /imitation/docs/tutorials/generated_videos/rl-video-step-34200-to-step-34250.mp4\n",
      "Moviepy - Building video /imitation/docs/tutorials/generated_videos/rl-video-step-34200-to-step-34250.mp4.\n",
      "Moviepy - Writing video /imitation/docs/tutorials/generated_videos/rl-video-step-34200-to-step-34250.mp4\n",
      "\n"
     ]
    },
    {
     "name": "stderr",
     "output_type": "stream",
     "text": [
      "                                                                                                                                         "
     ]
    },
    {
     "name": "stdout",
     "output_type": "stream",
     "text": [
      "Moviepy - Done !\n",
      "Moviepy - video ready /imitation/docs/tutorials/generated_videos/rl-video-step-34200-to-step-34250.mp4\n"
     ]
    },
    {
     "name": "stderr",
     "output_type": "stream",
     "text": [
      "\r"
     ]
    },
    {
     "name": "stdout",
     "output_type": "stream",
     "text": [
      "Saving video to /imitation/docs/tutorials/generated_videos/rl-video-step-34300-to-step-34350.mp4\n",
      "Moviepy - Building video /imitation/docs/tutorials/generated_videos/rl-video-step-34300-to-step-34350.mp4.\n",
      "Moviepy - Writing video /imitation/docs/tutorials/generated_videos/rl-video-step-34300-to-step-34350.mp4\n",
      "\n"
     ]
    },
    {
     "name": "stderr",
     "output_type": "stream",
     "text": [
      "                                                                                                                                         "
     ]
    },
    {
     "name": "stdout",
     "output_type": "stream",
     "text": [
      "Moviepy - Done !\n",
      "Moviepy - video ready /imitation/docs/tutorials/generated_videos/rl-video-step-34300-to-step-34350.mp4\n"
     ]
    },
    {
     "name": "stderr",
     "output_type": "stream",
     "text": [
      "\r"
     ]
    },
    {
     "name": "stdout",
     "output_type": "stream",
     "text": [
      "Saving video to /imitation/docs/tutorials/generated_videos/rl-video-step-34400-to-step-34450.mp4\n",
      "Moviepy - Building video /imitation/docs/tutorials/generated_videos/rl-video-step-34400-to-step-34450.mp4.\n",
      "Moviepy - Writing video /imitation/docs/tutorials/generated_videos/rl-video-step-34400-to-step-34450.mp4\n",
      "\n"
     ]
    },
    {
     "name": "stderr",
     "output_type": "stream",
     "text": [
      "                                                                                                                                         "
     ]
    },
    {
     "name": "stdout",
     "output_type": "stream",
     "text": [
      "Moviepy - Done !\n",
      "Moviepy - video ready /imitation/docs/tutorials/generated_videos/rl-video-step-34400-to-step-34450.mp4\n"
     ]
    },
    {
     "name": "stderr",
     "output_type": "stream",
     "text": [
      "\r"
     ]
    },
    {
     "name": "stdout",
     "output_type": "stream",
     "text": [
      "Saving video to /imitation/docs/tutorials/generated_videos/rl-video-step-34500-to-step-34550.mp4\n",
      "Moviepy - Building video /imitation/docs/tutorials/generated_videos/rl-video-step-34500-to-step-34550.mp4.\n",
      "Moviepy - Writing video /imitation/docs/tutorials/generated_videos/rl-video-step-34500-to-step-34550.mp4\n",
      "\n"
     ]
    },
    {
     "name": "stderr",
     "output_type": "stream",
     "text": [
      "                                                                                                                                         "
     ]
    },
    {
     "name": "stdout",
     "output_type": "stream",
     "text": [
      "Moviepy - Done !\n",
      "Moviepy - video ready /imitation/docs/tutorials/generated_videos/rl-video-step-34500-to-step-34550.mp4\n"
     ]
    },
    {
     "name": "stderr",
     "output_type": "stream",
     "text": [
      "\r"
     ]
    },
    {
     "name": "stdout",
     "output_type": "stream",
     "text": [
      "Saving video to /imitation/docs/tutorials/generated_videos/rl-video-step-34600-to-step-34650.mp4\n",
      "Moviepy - Building video /imitation/docs/tutorials/generated_videos/rl-video-step-34600-to-step-34650.mp4.\n",
      "Moviepy - Writing video /imitation/docs/tutorials/generated_videos/rl-video-step-34600-to-step-34650.mp4\n",
      "\n"
     ]
    },
    {
     "name": "stderr",
     "output_type": "stream",
     "text": [
      "                                                                                                                                         "
     ]
    },
    {
     "name": "stdout",
     "output_type": "stream",
     "text": [
      "Moviepy - Done !\n",
      "Moviepy - video ready /imitation/docs/tutorials/generated_videos/rl-video-step-34600-to-step-34650.mp4\n"
     ]
    },
    {
     "name": "stderr",
     "output_type": "stream",
     "text": [
      "\r"
     ]
    },
    {
     "name": "stdout",
     "output_type": "stream",
     "text": [
      "-------------------------------------------------------\n",
      "| raw/                                 |              |\n",
      "|    agent/rollout/ep_len_mean         | 50           |\n",
      "|    agent/rollout/ep_rew_mean         | -64.6        |\n",
      "|    agent/rollout/ep_rew_wrapped_mean | -6.83        |\n",
      "|    agent/time/fps                    | 141          |\n",
      "|    agent/time/iterations             | 3            |\n",
      "|    agent/time/time_elapsed           | 43           |\n",
      "|    agent/time/total_timesteps        | 26624        |\n",
      "|    agent/train/approx_kl             | 0.0077783526 |\n",
      "|    agent/train/clip_fraction         | 0.284        |\n",
      "|    agent/train/clip_range            | 0.1          |\n",
      "|    agent/train/entropy_loss          | -2.89        |\n",
      "|    agent/train/explained_variance    | 0.865        |\n",
      "|    agent/train/learning_rate         | 0.002        |\n",
      "|    agent/train/loss                  | -0.034       |\n",
      "|    agent/train/n_updates             | 120          |\n",
      "|    agent/train/policy_gradient_loss  | -0.0108      |\n",
      "|    agent/train/std                   | 1.02         |\n",
      "|    agent/train/value_loss            | 0.0352       |\n",
      "-------------------------------------------------------\n",
      "Saving video to /imitation/docs/tutorials/generated_videos/rl-video-step-34700-to-step-34750.mp4\n",
      "Moviepy - Building video /imitation/docs/tutorials/generated_videos/rl-video-step-34700-to-step-34750.mp4.\n",
      "Moviepy - Writing video /imitation/docs/tutorials/generated_videos/rl-video-step-34700-to-step-34750.mp4\n",
      "\n"
     ]
    },
    {
     "name": "stderr",
     "output_type": "stream",
     "text": [
      "                                                                                                                                         "
     ]
    },
    {
     "name": "stdout",
     "output_type": "stream",
     "text": [
      "Moviepy - Done !\n",
      "Moviepy - video ready /imitation/docs/tutorials/generated_videos/rl-video-step-34700-to-step-34750.mp4\n"
     ]
    },
    {
     "name": "stderr",
     "output_type": "stream",
     "text": [
      "\r"
     ]
    },
    {
     "name": "stdout",
     "output_type": "stream",
     "text": [
      "Saving video to /imitation/docs/tutorials/generated_videos/rl-video-step-34800-to-step-34850.mp4\n",
      "Moviepy - Building video /imitation/docs/tutorials/generated_videos/rl-video-step-34800-to-step-34850.mp4.\n",
      "Moviepy - Writing video /imitation/docs/tutorials/generated_videos/rl-video-step-34800-to-step-34850.mp4\n",
      "\n"
     ]
    },
    {
     "name": "stderr",
     "output_type": "stream",
     "text": [
      "                                                                                                                                         "
     ]
    },
    {
     "name": "stdout",
     "output_type": "stream",
     "text": [
      "Moviepy - Done !\n",
      "Moviepy - video ready /imitation/docs/tutorials/generated_videos/rl-video-step-34800-to-step-34850.mp4\n"
     ]
    },
    {
     "name": "stderr",
     "output_type": "stream",
     "text": [
      "\r"
     ]
    },
    {
     "name": "stdout",
     "output_type": "stream",
     "text": [
      "Saving video to /imitation/docs/tutorials/generated_videos/rl-video-step-34900-to-step-34950.mp4\n",
      "Moviepy - Building video /imitation/docs/tutorials/generated_videos/rl-video-step-34900-to-step-34950.mp4.\n",
      "Moviepy - Writing video /imitation/docs/tutorials/generated_videos/rl-video-step-34900-to-step-34950.mp4\n",
      "\n"
     ]
    },
    {
     "name": "stderr",
     "output_type": "stream",
     "text": [
      "                                                                                                                                         "
     ]
    },
    {
     "name": "stdout",
     "output_type": "stream",
     "text": [
      "Moviepy - Done !\n",
      "Moviepy - video ready /imitation/docs/tutorials/generated_videos/rl-video-step-34900-to-step-34950.mp4\n"
     ]
    },
    {
     "name": "stderr",
     "output_type": "stream",
     "text": [
      "\r"
     ]
    },
    {
     "name": "stdout",
     "output_type": "stream",
     "text": [
      "Saving video to /imitation/docs/tutorials/generated_videos/rl-video-step-35000-to-step-35050.mp4\n",
      "Moviepy - Building video /imitation/docs/tutorials/generated_videos/rl-video-step-35000-to-step-35050.mp4.\n",
      "Moviepy - Writing video /imitation/docs/tutorials/generated_videos/rl-video-step-35000-to-step-35050.mp4\n",
      "\n"
     ]
    },
    {
     "name": "stderr",
     "output_type": "stream",
     "text": [
      "                                                                                                                                         "
     ]
    },
    {
     "name": "stdout",
     "output_type": "stream",
     "text": [
      "Moviepy - Done !\n",
      "Moviepy - video ready /imitation/docs/tutorials/generated_videos/rl-video-step-35000-to-step-35050.mp4\n"
     ]
    },
    {
     "name": "stderr",
     "output_type": "stream",
     "text": [
      "\r"
     ]
    },
    {
     "name": "stdout",
     "output_type": "stream",
     "text": [
      "Saving video to /imitation/docs/tutorials/generated_videos/rl-video-step-35100-to-step-35150.mp4\n",
      "Moviepy - Building video /imitation/docs/tutorials/generated_videos/rl-video-step-35100-to-step-35150.mp4.\n",
      "Moviepy - Writing video /imitation/docs/tutorials/generated_videos/rl-video-step-35100-to-step-35150.mp4\n",
      "\n"
     ]
    },
    {
     "name": "stderr",
     "output_type": "stream",
     "text": [
      "                                                                                                                                         "
     ]
    },
    {
     "name": "stdout",
     "output_type": "stream",
     "text": [
      "Moviepy - Done !\n",
      "Moviepy - video ready /imitation/docs/tutorials/generated_videos/rl-video-step-35100-to-step-35150.mp4\n"
     ]
    },
    {
     "name": "stderr",
     "output_type": "stream",
     "text": [
      "\r"
     ]
    },
    {
     "name": "stdout",
     "output_type": "stream",
     "text": [
      "Saving video to /imitation/docs/tutorials/generated_videos/rl-video-step-35200-to-step-35250.mp4\n",
      "Moviepy - Building video /imitation/docs/tutorials/generated_videos/rl-video-step-35200-to-step-35250.mp4.\n",
      "Moviepy - Writing video /imitation/docs/tutorials/generated_videos/rl-video-step-35200-to-step-35250.mp4\n",
      "\n"
     ]
    },
    {
     "name": "stderr",
     "output_type": "stream",
     "text": [
      "                                                                                                                                         "
     ]
    },
    {
     "name": "stdout",
     "output_type": "stream",
     "text": [
      "Moviepy - Done !\n",
      "Moviepy - video ready /imitation/docs/tutorials/generated_videos/rl-video-step-35200-to-step-35250.mp4\n"
     ]
    },
    {
     "name": "stderr",
     "output_type": "stream",
     "text": [
      "\r"
     ]
    },
    {
     "name": "stdout",
     "output_type": "stream",
     "text": [
      "Saving video to /imitation/docs/tutorials/generated_videos/rl-video-step-35300-to-step-35350.mp4\n",
      "Moviepy - Building video /imitation/docs/tutorials/generated_videos/rl-video-step-35300-to-step-35350.mp4.\n",
      "Moviepy - Writing video /imitation/docs/tutorials/generated_videos/rl-video-step-35300-to-step-35350.mp4\n",
      "\n"
     ]
    },
    {
     "name": "stderr",
     "output_type": "stream",
     "text": [
      "                                                                                                                                         "
     ]
    },
    {
     "name": "stdout",
     "output_type": "stream",
     "text": [
      "Moviepy - Done !\n",
      "Moviepy - video ready /imitation/docs/tutorials/generated_videos/rl-video-step-35300-to-step-35350.mp4\n"
     ]
    },
    {
     "name": "stderr",
     "output_type": "stream",
     "text": [
      "\r"
     ]
    },
    {
     "name": "stdout",
     "output_type": "stream",
     "text": [
      "Saving video to /imitation/docs/tutorials/generated_videos/rl-video-step-35400-to-step-35450.mp4\n",
      "Moviepy - Building video /imitation/docs/tutorials/generated_videos/rl-video-step-35400-to-step-35450.mp4.\n",
      "Moviepy - Writing video /imitation/docs/tutorials/generated_videos/rl-video-step-35400-to-step-35450.mp4\n",
      "\n"
     ]
    },
    {
     "name": "stderr",
     "output_type": "stream",
     "text": [
      "                                                                                                                                         "
     ]
    },
    {
     "name": "stdout",
     "output_type": "stream",
     "text": [
      "Moviepy - Done !\n",
      "Moviepy - video ready /imitation/docs/tutorials/generated_videos/rl-video-step-35400-to-step-35450.mp4\n"
     ]
    },
    {
     "name": "stderr",
     "output_type": "stream",
     "text": [
      "\r"
     ]
    },
    {
     "name": "stdout",
     "output_type": "stream",
     "text": [
      "Saving video to /imitation/docs/tutorials/generated_videos/rl-video-step-35500-to-step-35550.mp4\n",
      "Moviepy - Building video /imitation/docs/tutorials/generated_videos/rl-video-step-35500-to-step-35550.mp4.\n",
      "Moviepy - Writing video /imitation/docs/tutorials/generated_videos/rl-video-step-35500-to-step-35550.mp4\n",
      "\n"
     ]
    },
    {
     "name": "stderr",
     "output_type": "stream",
     "text": [
      "                                                                                                                                         "
     ]
    },
    {
     "name": "stdout",
     "output_type": "stream",
     "text": [
      "Moviepy - Done !\n",
      "Moviepy - video ready /imitation/docs/tutorials/generated_videos/rl-video-step-35500-to-step-35550.mp4\n"
     ]
    },
    {
     "name": "stderr",
     "output_type": "stream",
     "text": [
      "\r"
     ]
    },
    {
     "name": "stdout",
     "output_type": "stream",
     "text": [
      "Saving video to /imitation/docs/tutorials/generated_videos/rl-video-step-35600-to-step-35650.mp4\n",
      "Moviepy - Building video /imitation/docs/tutorials/generated_videos/rl-video-step-35600-to-step-35650.mp4.\n",
      "Moviepy - Writing video /imitation/docs/tutorials/generated_videos/rl-video-step-35600-to-step-35650.mp4\n",
      "\n"
     ]
    },
    {
     "name": "stderr",
     "output_type": "stream",
     "text": [
      "                                                                                                                                         "
     ]
    },
    {
     "name": "stdout",
     "output_type": "stream",
     "text": [
      "Moviepy - Done !\n",
      "Moviepy - video ready /imitation/docs/tutorials/generated_videos/rl-video-step-35600-to-step-35650.mp4\n"
     ]
    },
    {
     "name": "stderr",
     "output_type": "stream",
     "text": [
      "\r"
     ]
    },
    {
     "name": "stdout",
     "output_type": "stream",
     "text": [
      "Saving video to /imitation/docs/tutorials/generated_videos/rl-video-step-35700-to-step-35750.mp4\n",
      "Moviepy - Building video /imitation/docs/tutorials/generated_videos/rl-video-step-35700-to-step-35750.mp4.\n",
      "Moviepy - Writing video /imitation/docs/tutorials/generated_videos/rl-video-step-35700-to-step-35750.mp4\n",
      "\n"
     ]
    },
    {
     "name": "stderr",
     "output_type": "stream",
     "text": [
      "                                                                                                                                         "
     ]
    },
    {
     "name": "stdout",
     "output_type": "stream",
     "text": [
      "Moviepy - Done !\n",
      "Moviepy - video ready /imitation/docs/tutorials/generated_videos/rl-video-step-35700-to-step-35750.mp4\n"
     ]
    },
    {
     "name": "stderr",
     "output_type": "stream",
     "text": [
      "\r"
     ]
    },
    {
     "name": "stdout",
     "output_type": "stream",
     "text": [
      "Saving video to /imitation/docs/tutorials/generated_videos/rl-video-step-35800-to-step-35850.mp4\n",
      "Moviepy - Building video /imitation/docs/tutorials/generated_videos/rl-video-step-35800-to-step-35850.mp4.\n",
      "Moviepy - Writing video /imitation/docs/tutorials/generated_videos/rl-video-step-35800-to-step-35850.mp4\n",
      "\n"
     ]
    },
    {
     "name": "stderr",
     "output_type": "stream",
     "text": [
      "                                                                                                                                         "
     ]
    },
    {
     "name": "stdout",
     "output_type": "stream",
     "text": [
      "Moviepy - Done !\n",
      "Moviepy - video ready /imitation/docs/tutorials/generated_videos/rl-video-step-35800-to-step-35850.mp4\n"
     ]
    },
    {
     "name": "stderr",
     "output_type": "stream",
     "text": [
      "\r"
     ]
    },
    {
     "name": "stdout",
     "output_type": "stream",
     "text": [
      "Saving video to /imitation/docs/tutorials/generated_videos/rl-video-step-35900-to-step-35950.mp4\n",
      "Moviepy - Building video /imitation/docs/tutorials/generated_videos/rl-video-step-35900-to-step-35950.mp4.\n",
      "Moviepy - Writing video /imitation/docs/tutorials/generated_videos/rl-video-step-35900-to-step-35950.mp4\n",
      "\n"
     ]
    },
    {
     "name": "stderr",
     "output_type": "stream",
     "text": [
      "                                                                                                                                         "
     ]
    },
    {
     "name": "stdout",
     "output_type": "stream",
     "text": [
      "Moviepy - Done !\n",
      "Moviepy - video ready /imitation/docs/tutorials/generated_videos/rl-video-step-35900-to-step-35950.mp4\n"
     ]
    },
    {
     "name": "stderr",
     "output_type": "stream",
     "text": [
      "\r"
     ]
    },
    {
     "name": "stdout",
     "output_type": "stream",
     "text": [
      "Saving video to /imitation/docs/tutorials/generated_videos/rl-video-step-36000-to-step-36050.mp4\n",
      "Moviepy - Building video /imitation/docs/tutorials/generated_videos/rl-video-step-36000-to-step-36050.mp4.\n",
      "Moviepy - Writing video /imitation/docs/tutorials/generated_videos/rl-video-step-36000-to-step-36050.mp4\n",
      "\n"
     ]
    },
    {
     "name": "stderr",
     "output_type": "stream",
     "text": [
      "                                                                                                                                         "
     ]
    },
    {
     "name": "stdout",
     "output_type": "stream",
     "text": [
      "Moviepy - Done !\n",
      "Moviepy - video ready /imitation/docs/tutorials/generated_videos/rl-video-step-36000-to-step-36050.mp4\n"
     ]
    },
    {
     "name": "stderr",
     "output_type": "stream",
     "text": [
      "\r"
     ]
    },
    {
     "name": "stdout",
     "output_type": "stream",
     "text": [
      "Saving video to /imitation/docs/tutorials/generated_videos/rl-video-step-36100-to-step-36150.mp4\n",
      "Moviepy - Building video /imitation/docs/tutorials/generated_videos/rl-video-step-36100-to-step-36150.mp4.\n",
      "Moviepy - Writing video /imitation/docs/tutorials/generated_videos/rl-video-step-36100-to-step-36150.mp4\n",
      "\n"
     ]
    },
    {
     "name": "stderr",
     "output_type": "stream",
     "text": [
      "                                                                                                                                         "
     ]
    },
    {
     "name": "stdout",
     "output_type": "stream",
     "text": [
      "Moviepy - Done !\n",
      "Moviepy - video ready /imitation/docs/tutorials/generated_videos/rl-video-step-36100-to-step-36150.mp4\n"
     ]
    },
    {
     "name": "stderr",
     "output_type": "stream",
     "text": [
      "\r"
     ]
    },
    {
     "name": "stdout",
     "output_type": "stream",
     "text": [
      "Saving video to /imitation/docs/tutorials/generated_videos/rl-video-step-36200-to-step-36250.mp4\n",
      "Moviepy - Building video /imitation/docs/tutorials/generated_videos/rl-video-step-36200-to-step-36250.mp4.\n",
      "Moviepy - Writing video /imitation/docs/tutorials/generated_videos/rl-video-step-36200-to-step-36250.mp4\n",
      "\n"
     ]
    },
    {
     "name": "stderr",
     "output_type": "stream",
     "text": [
      "                                                                                                                                         "
     ]
    },
    {
     "name": "stdout",
     "output_type": "stream",
     "text": [
      "Moviepy - Done !\n",
      "Moviepy - video ready /imitation/docs/tutorials/generated_videos/rl-video-step-36200-to-step-36250.mp4\n"
     ]
    },
    {
     "name": "stderr",
     "output_type": "stream",
     "text": [
      "\r"
     ]
    },
    {
     "name": "stdout",
     "output_type": "stream",
     "text": [
      "Saving video to /imitation/docs/tutorials/generated_videos/rl-video-step-36300-to-step-36350.mp4\n",
      "Moviepy - Building video /imitation/docs/tutorials/generated_videos/rl-video-step-36300-to-step-36350.mp4.\n",
      "Moviepy - Writing video /imitation/docs/tutorials/generated_videos/rl-video-step-36300-to-step-36350.mp4\n",
      "\n"
     ]
    },
    {
     "name": "stderr",
     "output_type": "stream",
     "text": [
      "                                                                                                                                         "
     ]
    },
    {
     "name": "stdout",
     "output_type": "stream",
     "text": [
      "Moviepy - Done !\n",
      "Moviepy - video ready /imitation/docs/tutorials/generated_videos/rl-video-step-36300-to-step-36350.mp4\n"
     ]
    },
    {
     "name": "stderr",
     "output_type": "stream",
     "text": [
      "\r"
     ]
    },
    {
     "name": "stdout",
     "output_type": "stream",
     "text": [
      "Saving video to /imitation/docs/tutorials/generated_videos/rl-video-step-36400-to-step-36450.mp4\n",
      "Moviepy - Building video /imitation/docs/tutorials/generated_videos/rl-video-step-36400-to-step-36450.mp4.\n",
      "Moviepy - Writing video /imitation/docs/tutorials/generated_videos/rl-video-step-36400-to-step-36450.mp4\n",
      "\n"
     ]
    },
    {
     "name": "stderr",
     "output_type": "stream",
     "text": [
      "                                                                                                                                         "
     ]
    },
    {
     "name": "stdout",
     "output_type": "stream",
     "text": [
      "Moviepy - Done !\n",
      "Moviepy - video ready /imitation/docs/tutorials/generated_videos/rl-video-step-36400-to-step-36450.mp4\n"
     ]
    },
    {
     "name": "stderr",
     "output_type": "stream",
     "text": [
      "\r"
     ]
    },
    {
     "name": "stdout",
     "output_type": "stream",
     "text": [
      "Saving video to /imitation/docs/tutorials/generated_videos/rl-video-step-36500-to-step-36550.mp4\n",
      "Moviepy - Building video /imitation/docs/tutorials/generated_videos/rl-video-step-36500-to-step-36550.mp4.\n",
      "Moviepy - Writing video /imitation/docs/tutorials/generated_videos/rl-video-step-36500-to-step-36550.mp4\n",
      "\n"
     ]
    },
    {
     "name": "stderr",
     "output_type": "stream",
     "text": [
      "                                                                                                                                         "
     ]
    },
    {
     "name": "stdout",
     "output_type": "stream",
     "text": [
      "Moviepy - Done !\n",
      "Moviepy - video ready /imitation/docs/tutorials/generated_videos/rl-video-step-36500-to-step-36550.mp4\n"
     ]
    },
    {
     "name": "stderr",
     "output_type": "stream",
     "text": [
      "\r"
     ]
    },
    {
     "name": "stdout",
     "output_type": "stream",
     "text": [
      "Saving video to /imitation/docs/tutorials/generated_videos/rl-video-step-36600-to-step-36650.mp4\n",
      "Moviepy - Building video /imitation/docs/tutorials/generated_videos/rl-video-step-36600-to-step-36650.mp4.\n",
      "Moviepy - Writing video /imitation/docs/tutorials/generated_videos/rl-video-step-36600-to-step-36650.mp4\n",
      "\n"
     ]
    },
    {
     "name": "stderr",
     "output_type": "stream",
     "text": [
      "                                                                                                                                         "
     ]
    },
    {
     "name": "stdout",
     "output_type": "stream",
     "text": [
      "Moviepy - Done !\n",
      "Moviepy - video ready /imitation/docs/tutorials/generated_videos/rl-video-step-36600-to-step-36650.mp4\n"
     ]
    },
    {
     "name": "stderr",
     "output_type": "stream",
     "text": [
      "\r"
     ]
    },
    {
     "name": "stdout",
     "output_type": "stream",
     "text": [
      "Saving video to /imitation/docs/tutorials/generated_videos/rl-video-step-36700-to-step-36750.mp4\n",
      "Moviepy - Building video /imitation/docs/tutorials/generated_videos/rl-video-step-36700-to-step-36750.mp4.\n",
      "Moviepy - Writing video /imitation/docs/tutorials/generated_videos/rl-video-step-36700-to-step-36750.mp4\n",
      "\n"
     ]
    },
    {
     "name": "stderr",
     "output_type": "stream",
     "text": [
      "                                                                                                                                         "
     ]
    },
    {
     "name": "stdout",
     "output_type": "stream",
     "text": [
      "Moviepy - Done !\n",
      "Moviepy - video ready /imitation/docs/tutorials/generated_videos/rl-video-step-36700-to-step-36750.mp4\n",
      "------------------------------------------------------\n",
      "| raw/                                 |             |\n",
      "|    agent/rollout/ep_len_mean         | 50          |\n",
      "|    agent/rollout/ep_rew_mean         | -63.6       |\n",
      "|    agent/rollout/ep_rew_wrapped_mean | -7.14       |\n",
      "|    agent/time/fps                    | 141         |\n",
      "|    agent/time/iterations             | 4           |\n",
      "|    agent/time/time_elapsed           | 57          |\n",
      "|    agent/time/total_timesteps        | 28672       |\n",
      "|    agent/train/approx_kl             | 0.007905561 |\n",
      "|    agent/train/clip_fraction         | 0.292       |\n",
      "|    agent/train/clip_range            | 0.1         |\n",
      "|    agent/train/entropy_loss          | -2.86       |\n",
      "|    agent/train/explained_variance    | 0.902       |\n",
      "|    agent/train/learning_rate         | 0.002       |\n",
      "|    agent/train/loss                  | -0.0405     |\n",
      "|    agent/train/n_updates             | 130         |\n",
      "|    agent/train/policy_gradient_loss  | -0.0127     |\n",
      "|    agent/train/std                   | 1.01        |\n",
      "|    agent/train/value_loss            | 0.0248      |\n",
      "------------------------------------------------------\n"
     ]
    },
    {
     "name": "stderr",
     "output_type": "stream",
     "text": [
      "\r"
     ]
    },
    {
     "name": "stdout",
     "output_type": "stream",
     "text": [
      "Saving video to /imitation/docs/tutorials/generated_videos/rl-video-step-36800-to-step-36850.mp4\n",
      "Moviepy - Building video /imitation/docs/tutorials/generated_videos/rl-video-step-36800-to-step-36850.mp4.\n",
      "Moviepy - Writing video /imitation/docs/tutorials/generated_videos/rl-video-step-36800-to-step-36850.mp4\n",
      "\n"
     ]
    },
    {
     "name": "stderr",
     "output_type": "stream",
     "text": [
      "                                                                                                                                         "
     ]
    },
    {
     "name": "stdout",
     "output_type": "stream",
     "text": [
      "Moviepy - Done !\n",
      "Moviepy - video ready /imitation/docs/tutorials/generated_videos/rl-video-step-36800-to-step-36850.mp4\n"
     ]
    },
    {
     "name": "stderr",
     "output_type": "stream",
     "text": [
      "\r"
     ]
    },
    {
     "name": "stdout",
     "output_type": "stream",
     "text": [
      "Saving video to /imitation/docs/tutorials/generated_videos/rl-video-step-36900-to-step-36950.mp4\n",
      "Moviepy - Building video /imitation/docs/tutorials/generated_videos/rl-video-step-36900-to-step-36950.mp4.\n",
      "Moviepy - Writing video /imitation/docs/tutorials/generated_videos/rl-video-step-36900-to-step-36950.mp4\n",
      "\n"
     ]
    },
    {
     "name": "stderr",
     "output_type": "stream",
     "text": [
      "                                                                                                                                         "
     ]
    },
    {
     "name": "stdout",
     "output_type": "stream",
     "text": [
      "Moviepy - Done !\n",
      "Moviepy - video ready /imitation/docs/tutorials/generated_videos/rl-video-step-36900-to-step-36950.mp4\n"
     ]
    },
    {
     "name": "stderr",
     "output_type": "stream",
     "text": [
      "\r"
     ]
    },
    {
     "name": "stdout",
     "output_type": "stream",
     "text": [
      "Saving video to /imitation/docs/tutorials/generated_videos/rl-video-step-37000-to-step-37050.mp4\n",
      "Moviepy - Building video /imitation/docs/tutorials/generated_videos/rl-video-step-37000-to-step-37050.mp4.\n",
      "Moviepy - Writing video /imitation/docs/tutorials/generated_videos/rl-video-step-37000-to-step-37050.mp4\n",
      "\n"
     ]
    },
    {
     "name": "stderr",
     "output_type": "stream",
     "text": [
      "                                                                                                                                         "
     ]
    },
    {
     "name": "stdout",
     "output_type": "stream",
     "text": [
      "Moviepy - Done !\n",
      "Moviepy - video ready /imitation/docs/tutorials/generated_videos/rl-video-step-37000-to-step-37050.mp4\n"
     ]
    },
    {
     "name": "stderr",
     "output_type": "stream",
     "text": [
      "\r"
     ]
    },
    {
     "name": "stdout",
     "output_type": "stream",
     "text": [
      "Saving video to /imitation/docs/tutorials/generated_videos/rl-video-step-37100-to-step-37150.mp4\n",
      "Moviepy - Building video /imitation/docs/tutorials/generated_videos/rl-video-step-37100-to-step-37150.mp4.\n",
      "Moviepy - Writing video /imitation/docs/tutorials/generated_videos/rl-video-step-37100-to-step-37150.mp4\n",
      "\n"
     ]
    },
    {
     "name": "stderr",
     "output_type": "stream",
     "text": [
      "                                                                                                                                         "
     ]
    },
    {
     "name": "stdout",
     "output_type": "stream",
     "text": [
      "Moviepy - Done !\n",
      "Moviepy - video ready /imitation/docs/tutorials/generated_videos/rl-video-step-37100-to-step-37150.mp4\n"
     ]
    },
    {
     "name": "stderr",
     "output_type": "stream",
     "text": [
      "\r"
     ]
    },
    {
     "name": "stdout",
     "output_type": "stream",
     "text": [
      "Saving video to /imitation/docs/tutorials/generated_videos/rl-video-step-37200-to-step-37250.mp4\n",
      "Moviepy - Building video /imitation/docs/tutorials/generated_videos/rl-video-step-37200-to-step-37250.mp4.\n",
      "Moviepy - Writing video /imitation/docs/tutorials/generated_videos/rl-video-step-37200-to-step-37250.mp4\n",
      "\n"
     ]
    },
    {
     "name": "stderr",
     "output_type": "stream",
     "text": [
      "                                                                                                                                         "
     ]
    },
    {
     "name": "stdout",
     "output_type": "stream",
     "text": [
      "Moviepy - Done !\n",
      "Moviepy - video ready /imitation/docs/tutorials/generated_videos/rl-video-step-37200-to-step-37250.mp4\n"
     ]
    },
    {
     "name": "stderr",
     "output_type": "stream",
     "text": [
      "\r"
     ]
    },
    {
     "name": "stdout",
     "output_type": "stream",
     "text": [
      "Saving video to /imitation/docs/tutorials/generated_videos/rl-video-step-37300-to-step-37350.mp4\n",
      "Moviepy - Building video /imitation/docs/tutorials/generated_videos/rl-video-step-37300-to-step-37350.mp4.\n",
      "Moviepy - Writing video /imitation/docs/tutorials/generated_videos/rl-video-step-37300-to-step-37350.mp4\n",
      "\n"
     ]
    },
    {
     "name": "stderr",
     "output_type": "stream",
     "text": [
      "                                                                                                                                         "
     ]
    },
    {
     "name": "stdout",
     "output_type": "stream",
     "text": [
      "Moviepy - Done !\n",
      "Moviepy - video ready /imitation/docs/tutorials/generated_videos/rl-video-step-37300-to-step-37350.mp4\n"
     ]
    },
    {
     "name": "stderr",
     "output_type": "stream",
     "text": [
      "\r"
     ]
    },
    {
     "name": "stdout",
     "output_type": "stream",
     "text": [
      "Saving video to /imitation/docs/tutorials/generated_videos/rl-video-step-37400-to-step-37450.mp4\n",
      "Moviepy - Building video /imitation/docs/tutorials/generated_videos/rl-video-step-37400-to-step-37450.mp4.\n",
      "Moviepy - Writing video /imitation/docs/tutorials/generated_videos/rl-video-step-37400-to-step-37450.mp4\n",
      "\n"
     ]
    },
    {
     "name": "stderr",
     "output_type": "stream",
     "text": [
      "                                                                                                                                         "
     ]
    },
    {
     "name": "stdout",
     "output_type": "stream",
     "text": [
      "Moviepy - Done !\n",
      "Moviepy - video ready /imitation/docs/tutorials/generated_videos/rl-video-step-37400-to-step-37450.mp4\n"
     ]
    },
    {
     "name": "stderr",
     "output_type": "stream",
     "text": [
      "\r"
     ]
    },
    {
     "name": "stdout",
     "output_type": "stream",
     "text": [
      "Saving video to /imitation/docs/tutorials/generated_videos/rl-video-step-37500-to-step-37550.mp4\n",
      "Moviepy - Building video /imitation/docs/tutorials/generated_videos/rl-video-step-37500-to-step-37550.mp4.\n",
      "Moviepy - Writing video /imitation/docs/tutorials/generated_videos/rl-video-step-37500-to-step-37550.mp4\n",
      "\n"
     ]
    },
    {
     "name": "stderr",
     "output_type": "stream",
     "text": [
      "                                                                                                                                         "
     ]
    },
    {
     "name": "stdout",
     "output_type": "stream",
     "text": [
      "Moviepy - Done !\n",
      "Moviepy - video ready /imitation/docs/tutorials/generated_videos/rl-video-step-37500-to-step-37550.mp4\n"
     ]
    },
    {
     "name": "stderr",
     "output_type": "stream",
     "text": [
      "\r"
     ]
    },
    {
     "name": "stdout",
     "output_type": "stream",
     "text": [
      "Saving video to /imitation/docs/tutorials/generated_videos/rl-video-step-37600-to-step-37650.mp4\n",
      "Moviepy - Building video /imitation/docs/tutorials/generated_videos/rl-video-step-37600-to-step-37650.mp4.\n",
      "Moviepy - Writing video /imitation/docs/tutorials/generated_videos/rl-video-step-37600-to-step-37650.mp4\n",
      "\n"
     ]
    },
    {
     "name": "stderr",
     "output_type": "stream",
     "text": [
      "                                                                                                                                         "
     ]
    },
    {
     "name": "stdout",
     "output_type": "stream",
     "text": [
      "Moviepy - Done !\n",
      "Moviepy - video ready /imitation/docs/tutorials/generated_videos/rl-video-step-37600-to-step-37650.mp4\n"
     ]
    },
    {
     "name": "stderr",
     "output_type": "stream",
     "text": [
      "\r"
     ]
    },
    {
     "name": "stdout",
     "output_type": "stream",
     "text": [
      "Saving video to /imitation/docs/tutorials/generated_videos/rl-video-step-37700-to-step-37750.mp4\n",
      "Moviepy - Building video /imitation/docs/tutorials/generated_videos/rl-video-step-37700-to-step-37750.mp4.\n",
      "Moviepy - Writing video /imitation/docs/tutorials/generated_videos/rl-video-step-37700-to-step-37750.mp4\n",
      "\n"
     ]
    },
    {
     "name": "stderr",
     "output_type": "stream",
     "text": [
      "                                                                                                                                         "
     ]
    },
    {
     "name": "stdout",
     "output_type": "stream",
     "text": [
      "Moviepy - Done !\n",
      "Moviepy - video ready /imitation/docs/tutorials/generated_videos/rl-video-step-37700-to-step-37750.mp4\n"
     ]
    },
    {
     "name": "stderr",
     "output_type": "stream",
     "text": [
      "\r"
     ]
    },
    {
     "name": "stdout",
     "output_type": "stream",
     "text": [
      "Saving video to /imitation/docs/tutorials/generated_videos/rl-video-step-37800-to-step-37850.mp4\n",
      "Moviepy - Building video /imitation/docs/tutorials/generated_videos/rl-video-step-37800-to-step-37850.mp4.\n",
      "Moviepy - Writing video /imitation/docs/tutorials/generated_videos/rl-video-step-37800-to-step-37850.mp4\n",
      "\n"
     ]
    },
    {
     "name": "stderr",
     "output_type": "stream",
     "text": [
      "                                                                                                                                         "
     ]
    },
    {
     "name": "stdout",
     "output_type": "stream",
     "text": [
      "Moviepy - Done !\n",
      "Moviepy - video ready /imitation/docs/tutorials/generated_videos/rl-video-step-37800-to-step-37850.mp4\n"
     ]
    },
    {
     "name": "stderr",
     "output_type": "stream",
     "text": [
      "\r"
     ]
    },
    {
     "name": "stdout",
     "output_type": "stream",
     "text": [
      "Saving video to /imitation/docs/tutorials/generated_videos/rl-video-step-37900-to-step-37950.mp4\n",
      "Moviepy - Building video /imitation/docs/tutorials/generated_videos/rl-video-step-37900-to-step-37950.mp4.\n",
      "Moviepy - Writing video /imitation/docs/tutorials/generated_videos/rl-video-step-37900-to-step-37950.mp4\n",
      "\n"
     ]
    },
    {
     "name": "stderr",
     "output_type": "stream",
     "text": [
      "                                                                                                                                         "
     ]
    },
    {
     "name": "stdout",
     "output_type": "stream",
     "text": [
      "Moviepy - Done !\n",
      "Moviepy - video ready /imitation/docs/tutorials/generated_videos/rl-video-step-37900-to-step-37950.mp4\n"
     ]
    },
    {
     "name": "stderr",
     "output_type": "stream",
     "text": [
      "\r"
     ]
    },
    {
     "name": "stdout",
     "output_type": "stream",
     "text": [
      "Saving video to /imitation/docs/tutorials/generated_videos/rl-video-step-38000-to-step-38050.mp4\n",
      "Moviepy - Building video /imitation/docs/tutorials/generated_videos/rl-video-step-38000-to-step-38050.mp4.\n",
      "Moviepy - Writing video /imitation/docs/tutorials/generated_videos/rl-video-step-38000-to-step-38050.mp4\n",
      "\n"
     ]
    },
    {
     "name": "stderr",
     "output_type": "stream",
     "text": [
      "                                                                                                                                         "
     ]
    },
    {
     "name": "stdout",
     "output_type": "stream",
     "text": [
      "Moviepy - Done !\n",
      "Moviepy - video ready /imitation/docs/tutorials/generated_videos/rl-video-step-38000-to-step-38050.mp4\n"
     ]
    },
    {
     "name": "stderr",
     "output_type": "stream",
     "text": [
      "\r"
     ]
    },
    {
     "name": "stdout",
     "output_type": "stream",
     "text": [
      "Saving video to /imitation/docs/tutorials/generated_videos/rl-video-step-38100-to-step-38150.mp4\n",
      "Moviepy - Building video /imitation/docs/tutorials/generated_videos/rl-video-step-38100-to-step-38150.mp4.\n",
      "Moviepy - Writing video /imitation/docs/tutorials/generated_videos/rl-video-step-38100-to-step-38150.mp4\n",
      "\n"
     ]
    },
    {
     "name": "stderr",
     "output_type": "stream",
     "text": [
      "                                                                                                                                         "
     ]
    },
    {
     "name": "stdout",
     "output_type": "stream",
     "text": [
      "Moviepy - Done !\n",
      "Moviepy - video ready /imitation/docs/tutorials/generated_videos/rl-video-step-38100-to-step-38150.mp4\n"
     ]
    },
    {
     "name": "stderr",
     "output_type": "stream",
     "text": [
      "\r"
     ]
    },
    {
     "name": "stdout",
     "output_type": "stream",
     "text": [
      "Saving video to /imitation/docs/tutorials/generated_videos/rl-video-step-38200-to-step-38250.mp4\n",
      "Moviepy - Building video /imitation/docs/tutorials/generated_videos/rl-video-step-38200-to-step-38250.mp4.\n",
      "Moviepy - Writing video /imitation/docs/tutorials/generated_videos/rl-video-step-38200-to-step-38250.mp4\n",
      "\n"
     ]
    },
    {
     "name": "stderr",
     "output_type": "stream",
     "text": [
      "                                                                                                                                         "
     ]
    },
    {
     "name": "stdout",
     "output_type": "stream",
     "text": [
      "Moviepy - Done !\n",
      "Moviepy - video ready /imitation/docs/tutorials/generated_videos/rl-video-step-38200-to-step-38250.mp4\n"
     ]
    },
    {
     "name": "stderr",
     "output_type": "stream",
     "text": [
      "\r"
     ]
    },
    {
     "name": "stdout",
     "output_type": "stream",
     "text": [
      "Saving video to /imitation/docs/tutorials/generated_videos/rl-video-step-38300-to-step-38350.mp4\n",
      "Moviepy - Building video /imitation/docs/tutorials/generated_videos/rl-video-step-38300-to-step-38350.mp4.\n",
      "Moviepy - Writing video /imitation/docs/tutorials/generated_videos/rl-video-step-38300-to-step-38350.mp4\n",
      "\n"
     ]
    },
    {
     "name": "stderr",
     "output_type": "stream",
     "text": [
      "                                                                                                                                         "
     ]
    },
    {
     "name": "stdout",
     "output_type": "stream",
     "text": [
      "Moviepy - Done !\n",
      "Moviepy - video ready /imitation/docs/tutorials/generated_videos/rl-video-step-38300-to-step-38350.mp4\n"
     ]
    },
    {
     "name": "stderr",
     "output_type": "stream",
     "text": [
      "\r"
     ]
    },
    {
     "name": "stdout",
     "output_type": "stream",
     "text": [
      "Saving video to /imitation/docs/tutorials/generated_videos/rl-video-step-38400-to-step-38450.mp4\n",
      "Moviepy - Building video /imitation/docs/tutorials/generated_videos/rl-video-step-38400-to-step-38450.mp4.\n",
      "Moviepy - Writing video /imitation/docs/tutorials/generated_videos/rl-video-step-38400-to-step-38450.mp4\n",
      "\n"
     ]
    },
    {
     "name": "stderr",
     "output_type": "stream",
     "text": [
      "                                                                                                                                         "
     ]
    },
    {
     "name": "stdout",
     "output_type": "stream",
     "text": [
      "Moviepy - Done !\n",
      "Moviepy - video ready /imitation/docs/tutorials/generated_videos/rl-video-step-38400-to-step-38450.mp4\n"
     ]
    },
    {
     "name": "stderr",
     "output_type": "stream",
     "text": [
      "\r"
     ]
    },
    {
     "name": "stdout",
     "output_type": "stream",
     "text": [
      "Saving video to /imitation/docs/tutorials/generated_videos/rl-video-step-38500-to-step-38550.mp4\n",
      "Moviepy - Building video /imitation/docs/tutorials/generated_videos/rl-video-step-38500-to-step-38550.mp4.\n",
      "Moviepy - Writing video /imitation/docs/tutorials/generated_videos/rl-video-step-38500-to-step-38550.mp4\n",
      "\n"
     ]
    },
    {
     "name": "stderr",
     "output_type": "stream",
     "text": [
      "                                                                                                                                         "
     ]
    },
    {
     "name": "stdout",
     "output_type": "stream",
     "text": [
      "Moviepy - Done !\n",
      "Moviepy - video ready /imitation/docs/tutorials/generated_videos/rl-video-step-38500-to-step-38550.mp4\n"
     ]
    },
    {
     "name": "stderr",
     "output_type": "stream",
     "text": [
      "\r"
     ]
    },
    {
     "name": "stdout",
     "output_type": "stream",
     "text": [
      "Saving video to /imitation/docs/tutorials/generated_videos/rl-video-step-38600-to-step-38650.mp4\n",
      "Moviepy - Building video /imitation/docs/tutorials/generated_videos/rl-video-step-38600-to-step-38650.mp4.\n",
      "Moviepy - Writing video /imitation/docs/tutorials/generated_videos/rl-video-step-38600-to-step-38650.mp4\n",
      "\n"
     ]
    },
    {
     "name": "stderr",
     "output_type": "stream",
     "text": [
      "                                                                                                                                         "
     ]
    },
    {
     "name": "stdout",
     "output_type": "stream",
     "text": [
      "Moviepy - Done !\n",
      "Moviepy - video ready /imitation/docs/tutorials/generated_videos/rl-video-step-38600-to-step-38650.mp4\n"
     ]
    },
    {
     "name": "stderr",
     "output_type": "stream",
     "text": [
      "\r"
     ]
    },
    {
     "name": "stdout",
     "output_type": "stream",
     "text": [
      "Saving video to /imitation/docs/tutorials/generated_videos/rl-video-step-38700-to-step-38750.mp4\n",
      "Moviepy - Building video /imitation/docs/tutorials/generated_videos/rl-video-step-38700-to-step-38750.mp4.\n",
      "Moviepy - Writing video /imitation/docs/tutorials/generated_videos/rl-video-step-38700-to-step-38750.mp4\n",
      "\n"
     ]
    },
    {
     "name": "stderr",
     "output_type": "stream",
     "text": [
      "                                                                                                                                         "
     ]
    },
    {
     "name": "stdout",
     "output_type": "stream",
     "text": [
      "Moviepy - Done !\n",
      "Moviepy - video ready /imitation/docs/tutorials/generated_videos/rl-video-step-38700-to-step-38750.mp4\n"
     ]
    },
    {
     "name": "stderr",
     "output_type": "stream",
     "text": [
      "\r"
     ]
    },
    {
     "name": "stdout",
     "output_type": "stream",
     "text": [
      "-------------------------------------------------------\n",
      "| raw/                                 |              |\n",
      "|    agent/rollout/ep_len_mean         | 50           |\n",
      "|    agent/rollout/ep_rew_mean         | -63.3        |\n",
      "|    agent/rollout/ep_rew_wrapped_mean | -6.99        |\n",
      "|    agent/time/fps                    | 142          |\n",
      "|    agent/time/iterations             | 5            |\n",
      "|    agent/time/time_elapsed           | 72           |\n",
      "|    agent/time/total_timesteps        | 30720        |\n",
      "|    agent/train/approx_kl             | 0.0067904936 |\n",
      "|    agent/train/clip_fraction         | 0.273        |\n",
      "|    agent/train/clip_range            | 0.1          |\n",
      "|    agent/train/entropy_loss          | -2.86        |\n",
      "|    agent/train/explained_variance    | 0.952        |\n",
      "|    agent/train/learning_rate         | 0.002        |\n",
      "|    agent/train/loss                  | -0.0264      |\n",
      "|    agent/train/n_updates             | 140          |\n",
      "|    agent/train/policy_gradient_loss  | -0.01        |\n",
      "|    agent/train/std                   | 1.01         |\n",
      "|    agent/train/value_loss            | 0.0169       |\n",
      "-------------------------------------------------------\n",
      "-----------------------------------------------------\n",
      "| mean/                                  |          |\n",
      "|    agent/rollout/ep_len_mean           | 50       |\n",
      "|    agent/rollout/ep_rew_mean           | -63.8    |\n",
      "|    agent/rollout/ep_rew_wrapped_mean   | -6.54    |\n",
      "|    agent/time/fps                      | 141      |\n",
      "|    agent/time/iterations               | 3        |\n",
      "|    agent/time/time_elapsed             | 43       |\n",
      "|    agent/time/total_timesteps          | 2.66e+04 |\n",
      "|    agent/train/approx_kl               | 0.00751  |\n",
      "|    agent/train/clip_fraction           | 0.282    |\n",
      "|    agent/train/clip_range              | 0.1      |\n",
      "|    agent/train/entropy_loss            | -2.87    |\n",
      "|    agent/train/explained_variance      | 0.909    |\n",
      "|    agent/train/learning_rate           | 0.002    |\n",
      "|    agent/train/loss                    | -0.03    |\n",
      "|    agent/train/n_updates               | 130      |\n",
      "|    agent/train/policy_gradient_loss    | -0.0111  |\n",
      "|    agent/train/std                     | 1.02     |\n",
      "|    agent/train/value_loss              | 0.0277   |\n",
      "|    preferences/entropy                 | 0.181    |\n",
      "|    reward/epoch-0/train/accuracy       | 0.701    |\n",
      "|    reward/epoch-0/train/gt_reward_loss | 0.172    |\n",
      "|    reward/epoch-0/train/loss           | 0.632    |\n",
      "|    reward/epoch-1/train/accuracy       | 0.685    |\n",
      "|    reward/epoch-1/train/gt_reward_loss | 0.173    |\n",
      "|    reward/epoch-1/train/loss           | 0.603    |\n",
      "|    reward/epoch-2/train/accuracy       | 0.705    |\n",
      "|    reward/epoch-2/train/gt_reward_loss | 0.173    |\n",
      "|    reward/epoch-2/train/loss           | 0.572    |\n",
      "| reward/                                |          |\n",
      "|    final/train/accuracy                | 0.705    |\n",
      "|    final/train/gt_reward_loss          | 0.173    |\n",
      "|    final/train/loss                    | 0.572    |\n",
      "-----------------------------------------------------\n",
      "Collecting 170 fragments (8500 transitions)\n",
      "Sampling 425 exploratory transitions.\n",
      "Moviepy - Building video /imitation/docs/tutorials/generated_videos/rl-video-step-38800-to-step-38850.mp4.\n",
      "Moviepy - Writing video /imitation/docs/tutorials/generated_videos/rl-video-step-38800-to-step-38850.mp4\n",
      "\n"
     ]
    },
    {
     "name": "stderr",
     "output_type": "stream",
     "text": [
      "                                                                                                                                         "
     ]
    },
    {
     "name": "stdout",
     "output_type": "stream",
     "text": [
      "Moviepy - Done !\n",
      "Moviepy - video ready /imitation/docs/tutorials/generated_videos/rl-video-step-38800-to-step-38850.mp4\n"
     ]
    },
    {
     "name": "stderr",
     "output_type": "stream",
     "text": [
      "\r"
     ]
    },
    {
     "name": "stdout",
     "output_type": "stream",
     "text": [
      "Saving video to /imitation/docs/tutorials/generated_videos/rl-video-step-38820-to-step-38870.mp4\n",
      "Moviepy - Building video /imitation/docs/tutorials/generated_videos/rl-video-step-38820-to-step-38870.mp4.\n",
      "Moviepy - Writing video /imitation/docs/tutorials/generated_videos/rl-video-step-38820-to-step-38870.mp4\n",
      "\n"
     ]
    },
    {
     "name": "stderr",
     "output_type": "stream",
     "text": [
      "                                                                                                                                         "
     ]
    },
    {
     "name": "stdout",
     "output_type": "stream",
     "text": [
      "Moviepy - Done !\n",
      "Moviepy - video ready /imitation/docs/tutorials/generated_videos/rl-video-step-38820-to-step-38870.mp4\n"
     ]
    },
    {
     "name": "stderr",
     "output_type": "stream",
     "text": [
      "\r"
     ]
    },
    {
     "name": "stdout",
     "output_type": "stream",
     "text": [
      "Saving video to /imitation/docs/tutorials/generated_videos/rl-video-step-38900-to-step-38950.mp4\n",
      "Moviepy - Building video /imitation/docs/tutorials/generated_videos/rl-video-step-38900-to-step-38950.mp4.\n",
      "Moviepy - Writing video /imitation/docs/tutorials/generated_videos/rl-video-step-38900-to-step-38950.mp4\n",
      "\n"
     ]
    },
    {
     "name": "stderr",
     "output_type": "stream",
     "text": [
      "                                                                                                                                         "
     ]
    },
    {
     "name": "stdout",
     "output_type": "stream",
     "text": [
      "Moviepy - Done !\n",
      "Moviepy - video ready /imitation/docs/tutorials/generated_videos/rl-video-step-38900-to-step-38950.mp4\n"
     ]
    },
    {
     "name": "stderr",
     "output_type": "stream",
     "text": [
      "\r"
     ]
    },
    {
     "name": "stdout",
     "output_type": "stream",
     "text": [
      "Saving video to /imitation/docs/tutorials/generated_videos/rl-video-step-39000-to-step-39050.mp4\n",
      "Moviepy - Building video /imitation/docs/tutorials/generated_videos/rl-video-step-39000-to-step-39050.mp4.\n",
      "Moviepy - Writing video /imitation/docs/tutorials/generated_videos/rl-video-step-39000-to-step-39050.mp4\n",
      "\n"
     ]
    },
    {
     "name": "stderr",
     "output_type": "stream",
     "text": [
      "                                                                                                                                         "
     ]
    },
    {
     "name": "stdout",
     "output_type": "stream",
     "text": [
      "Moviepy - Done !\n",
      "Moviepy - video ready /imitation/docs/tutorials/generated_videos/rl-video-step-39000-to-step-39050.mp4\n"
     ]
    },
    {
     "name": "stderr",
     "output_type": "stream",
     "text": [
      "\r"
     ]
    },
    {
     "name": "stdout",
     "output_type": "stream",
     "text": [
      "Saving video to /imitation/docs/tutorials/generated_videos/rl-video-step-39100-to-step-39150.mp4\n",
      "Moviepy - Building video /imitation/docs/tutorials/generated_videos/rl-video-step-39100-to-step-39150.mp4.\n",
      "Moviepy - Writing video /imitation/docs/tutorials/generated_videos/rl-video-step-39100-to-step-39150.mp4\n",
      "\n"
     ]
    },
    {
     "name": "stderr",
     "output_type": "stream",
     "text": [
      "                                                                                                                                         "
     ]
    },
    {
     "name": "stdout",
     "output_type": "stream",
     "text": [
      "Moviepy - Done !\n",
      "Moviepy - video ready /imitation/docs/tutorials/generated_videos/rl-video-step-39100-to-step-39150.mp4\n"
     ]
    },
    {
     "name": "stderr",
     "output_type": "stream",
     "text": [
      "\r"
     ]
    },
    {
     "name": "stdout",
     "output_type": "stream",
     "text": [
      "Saving video to /imitation/docs/tutorials/generated_videos/rl-video-step-39200-to-step-39250.mp4\n",
      "Moviepy - Building video /imitation/docs/tutorials/generated_videos/rl-video-step-39200-to-step-39250.mp4.\n",
      "Moviepy - Writing video /imitation/docs/tutorials/generated_videos/rl-video-step-39200-to-step-39250.mp4\n",
      "\n"
     ]
    },
    {
     "name": "stderr",
     "output_type": "stream",
     "text": [
      "                                                                                                                                         "
     ]
    },
    {
     "name": "stdout",
     "output_type": "stream",
     "text": [
      "Moviepy - Done !\n",
      "Moviepy - video ready /imitation/docs/tutorials/generated_videos/rl-video-step-39200-to-step-39250.mp4\n",
      "Creating fragment pairs\n",
      "Gathering preferences\n",
      "Dataset now contains 364 comparisons\n"
     ]
    },
    {
     "name": "stderr",
     "output_type": "stream",
     "text": [
      "\r"
     ]
    },
    {
     "data": {
      "application/vnd.jupyter.widget-view+json": {
       "model_id": "bfdebd7c0a5a4493942df4dda26bf223",
       "version_major": 2,
       "version_minor": 0
      },
      "text/plain": [
       "Training reward model:   0%|          | 0/3 [00:00<?, ?it/s]"
      ]
     },
     "metadata": {},
     "output_type": "display_data"
    },
    {
     "name": "stdout",
     "output_type": "stream",
     "text": [
      "Training agent for 10000 timesteps\n",
      "Saving video to /imitation/docs/tutorials/generated_videos/rl-video-step-39300-to-step-39350.mp4\n",
      "Moviepy - Building video /imitation/docs/tutorials/generated_videos/rl-video-step-39300-to-step-39350.mp4.\n",
      "Moviepy - Writing video /imitation/docs/tutorials/generated_videos/rl-video-step-39300-to-step-39350.mp4\n",
      "\n"
     ]
    },
    {
     "name": "stderr",
     "output_type": "stream",
     "text": [
      "                                                                                                                                         "
     ]
    },
    {
     "name": "stdout",
     "output_type": "stream",
     "text": [
      "Moviepy - Done !\n",
      "Moviepy - video ready /imitation/docs/tutorials/generated_videos/rl-video-step-39300-to-step-39350.mp4\n"
     ]
    },
    {
     "name": "stderr",
     "output_type": "stream",
     "text": [
      "\r"
     ]
    },
    {
     "name": "stdout",
     "output_type": "stream",
     "text": [
      "Saving video to /imitation/docs/tutorials/generated_videos/rl-video-step-39400-to-step-39450.mp4\n",
      "Moviepy - Building video /imitation/docs/tutorials/generated_videos/rl-video-step-39400-to-step-39450.mp4.\n",
      "Moviepy - Writing video /imitation/docs/tutorials/generated_videos/rl-video-step-39400-to-step-39450.mp4\n",
      "\n"
     ]
    },
    {
     "name": "stderr",
     "output_type": "stream",
     "text": [
      "                                                                                                                                         "
     ]
    },
    {
     "name": "stdout",
     "output_type": "stream",
     "text": [
      "Moviepy - Done !\n",
      "Moviepy - video ready /imitation/docs/tutorials/generated_videos/rl-video-step-39400-to-step-39450.mp4\n"
     ]
    },
    {
     "name": "stderr",
     "output_type": "stream",
     "text": [
      "\r"
     ]
    },
    {
     "name": "stdout",
     "output_type": "stream",
     "text": [
      "Saving video to /imitation/docs/tutorials/generated_videos/rl-video-step-39500-to-step-39550.mp4\n",
      "Moviepy - Building video /imitation/docs/tutorials/generated_videos/rl-video-step-39500-to-step-39550.mp4.\n",
      "Moviepy - Writing video /imitation/docs/tutorials/generated_videos/rl-video-step-39500-to-step-39550.mp4\n",
      "\n"
     ]
    },
    {
     "name": "stderr",
     "output_type": "stream",
     "text": [
      "                                                                                                                                         "
     ]
    },
    {
     "name": "stdout",
     "output_type": "stream",
     "text": [
      "Moviepy - Done !\n",
      "Moviepy - video ready /imitation/docs/tutorials/generated_videos/rl-video-step-39500-to-step-39550.mp4\n"
     ]
    },
    {
     "name": "stderr",
     "output_type": "stream",
     "text": [
      "\r"
     ]
    },
    {
     "name": "stdout",
     "output_type": "stream",
     "text": [
      "Saving video to /imitation/docs/tutorials/generated_videos/rl-video-step-39600-to-step-39650.mp4\n",
      "Moviepy - Building video /imitation/docs/tutorials/generated_videos/rl-video-step-39600-to-step-39650.mp4.\n",
      "Moviepy - Writing video /imitation/docs/tutorials/generated_videos/rl-video-step-39600-to-step-39650.mp4\n",
      "\n"
     ]
    },
    {
     "name": "stderr",
     "output_type": "stream",
     "text": [
      "                                                                                                                                         "
     ]
    },
    {
     "name": "stdout",
     "output_type": "stream",
     "text": [
      "Moviepy - Done !\n",
      "Moviepy - video ready /imitation/docs/tutorials/generated_videos/rl-video-step-39600-to-step-39650.mp4\n"
     ]
    },
    {
     "name": "stderr",
     "output_type": "stream",
     "text": [
      "\r"
     ]
    },
    {
     "name": "stdout",
     "output_type": "stream",
     "text": [
      "Saving video to /imitation/docs/tutorials/generated_videos/rl-video-step-39700-to-step-39750.mp4\n",
      "Moviepy - Building video /imitation/docs/tutorials/generated_videos/rl-video-step-39700-to-step-39750.mp4.\n",
      "Moviepy - Writing video /imitation/docs/tutorials/generated_videos/rl-video-step-39700-to-step-39750.mp4\n",
      "\n"
     ]
    },
    {
     "name": "stderr",
     "output_type": "stream",
     "text": [
      "                                                                                                                                         "
     ]
    },
    {
     "name": "stdout",
     "output_type": "stream",
     "text": [
      "Moviepy - Done !\n",
      "Moviepy - video ready /imitation/docs/tutorials/generated_videos/rl-video-step-39700-to-step-39750.mp4\n"
     ]
    },
    {
     "name": "stderr",
     "output_type": "stream",
     "text": [
      "\r"
     ]
    },
    {
     "name": "stdout",
     "output_type": "stream",
     "text": [
      "Saving video to /imitation/docs/tutorials/generated_videos/rl-video-step-39800-to-step-39850.mp4\n",
      "Moviepy - Building video /imitation/docs/tutorials/generated_videos/rl-video-step-39800-to-step-39850.mp4.\n",
      "Moviepy - Writing video /imitation/docs/tutorials/generated_videos/rl-video-step-39800-to-step-39850.mp4\n",
      "\n"
     ]
    },
    {
     "name": "stderr",
     "output_type": "stream",
     "text": [
      "                                                                                                                                         "
     ]
    },
    {
     "name": "stdout",
     "output_type": "stream",
     "text": [
      "Moviepy - Done !\n",
      "Moviepy - video ready /imitation/docs/tutorials/generated_videos/rl-video-step-39800-to-step-39850.mp4\n"
     ]
    },
    {
     "name": "stderr",
     "output_type": "stream",
     "text": [
      "\r"
     ]
    },
    {
     "name": "stdout",
     "output_type": "stream",
     "text": [
      "Saving video to /imitation/docs/tutorials/generated_videos/rl-video-step-39900-to-step-39950.mp4\n",
      "Moviepy - Building video /imitation/docs/tutorials/generated_videos/rl-video-step-39900-to-step-39950.mp4.\n",
      "Moviepy - Writing video /imitation/docs/tutorials/generated_videos/rl-video-step-39900-to-step-39950.mp4\n",
      "\n"
     ]
    },
    {
     "name": "stderr",
     "output_type": "stream",
     "text": [
      "                                                                                                                                         "
     ]
    },
    {
     "name": "stdout",
     "output_type": "stream",
     "text": [
      "Moviepy - Done !\n",
      "Moviepy - video ready /imitation/docs/tutorials/generated_videos/rl-video-step-39900-to-step-39950.mp4\n"
     ]
    },
    {
     "name": "stderr",
     "output_type": "stream",
     "text": [
      "\r"
     ]
    },
    {
     "name": "stdout",
     "output_type": "stream",
     "text": [
      "Saving video to /imitation/docs/tutorials/generated_videos/rl-video-step-40000-to-step-40050.mp4\n",
      "Moviepy - Building video /imitation/docs/tutorials/generated_videos/rl-video-step-40000-to-step-40050.mp4.\n",
      "Moviepy - Writing video /imitation/docs/tutorials/generated_videos/rl-video-step-40000-to-step-40050.mp4\n",
      "\n"
     ]
    },
    {
     "name": "stderr",
     "output_type": "stream",
     "text": [
      "                                                                                                                                         "
     ]
    },
    {
     "name": "stdout",
     "output_type": "stream",
     "text": [
      "Moviepy - Done !\n",
      "Moviepy - video ready /imitation/docs/tutorials/generated_videos/rl-video-step-40000-to-step-40050.mp4\n"
     ]
    },
    {
     "name": "stderr",
     "output_type": "stream",
     "text": [
      "\r"
     ]
    },
    {
     "name": "stdout",
     "output_type": "stream",
     "text": [
      "Saving video to /imitation/docs/tutorials/generated_videos/rl-video-step-40100-to-step-40150.mp4\n",
      "Moviepy - Building video /imitation/docs/tutorials/generated_videos/rl-video-step-40100-to-step-40150.mp4.\n",
      "Moviepy - Writing video /imitation/docs/tutorials/generated_videos/rl-video-step-40100-to-step-40150.mp4\n",
      "\n"
     ]
    },
    {
     "name": "stderr",
     "output_type": "stream",
     "text": [
      "                                                                                                                                         "
     ]
    },
    {
     "name": "stdout",
     "output_type": "stream",
     "text": [
      "Moviepy - Done !\n",
      "Moviepy - video ready /imitation/docs/tutorials/generated_videos/rl-video-step-40100-to-step-40150.mp4\n"
     ]
    },
    {
     "name": "stderr",
     "output_type": "stream",
     "text": [
      "\r"
     ]
    },
    {
     "name": "stdout",
     "output_type": "stream",
     "text": [
      "Saving video to /imitation/docs/tutorials/generated_videos/rl-video-step-40200-to-step-40250.mp4\n",
      "Moviepy - Building video /imitation/docs/tutorials/generated_videos/rl-video-step-40200-to-step-40250.mp4.\n",
      "Moviepy - Writing video /imitation/docs/tutorials/generated_videos/rl-video-step-40200-to-step-40250.mp4\n",
      "\n"
     ]
    },
    {
     "name": "stderr",
     "output_type": "stream",
     "text": [
      "                                                                                                                                         "
     ]
    },
    {
     "name": "stdout",
     "output_type": "stream",
     "text": [
      "Moviepy - Done !\n",
      "Moviepy - video ready /imitation/docs/tutorials/generated_videos/rl-video-step-40200-to-step-40250.mp4\n"
     ]
    },
    {
     "name": "stderr",
     "output_type": "stream",
     "text": [
      "\r"
     ]
    },
    {
     "name": "stdout",
     "output_type": "stream",
     "text": [
      "Saving video to /imitation/docs/tutorials/generated_videos/rl-video-step-40300-to-step-40350.mp4\n",
      "Moviepy - Building video /imitation/docs/tutorials/generated_videos/rl-video-step-40300-to-step-40350.mp4.\n",
      "Moviepy - Writing video /imitation/docs/tutorials/generated_videos/rl-video-step-40300-to-step-40350.mp4\n",
      "\n"
     ]
    },
    {
     "name": "stderr",
     "output_type": "stream",
     "text": [
      "                                                                                                                                         "
     ]
    },
    {
     "name": "stdout",
     "output_type": "stream",
     "text": [
      "Moviepy - Done !\n",
      "Moviepy - video ready /imitation/docs/tutorials/generated_videos/rl-video-step-40300-to-step-40350.mp4\n"
     ]
    },
    {
     "name": "stderr",
     "output_type": "stream",
     "text": [
      "\r"
     ]
    },
    {
     "name": "stdout",
     "output_type": "stream",
     "text": [
      "Saving video to /imitation/docs/tutorials/generated_videos/rl-video-step-40400-to-step-40450.mp4\n",
      "Moviepy - Building video /imitation/docs/tutorials/generated_videos/rl-video-step-40400-to-step-40450.mp4.\n",
      "Moviepy - Writing video /imitation/docs/tutorials/generated_videos/rl-video-step-40400-to-step-40450.mp4\n",
      "\n"
     ]
    },
    {
     "name": "stderr",
     "output_type": "stream",
     "text": [
      "                                                                                                                                         \r"
     ]
    },
    {
     "name": "stdout",
     "output_type": "stream",
     "text": [
      "Moviepy - Done !\n",
      "Moviepy - video ready /imitation/docs/tutorials/generated_videos/rl-video-step-40400-to-step-40450.mp4\n",
      "Saving video to /imitation/docs/tutorials/generated_videos/rl-video-step-40500-to-step-40550.mp4\n",
      "Moviepy - Building video /imitation/docs/tutorials/generated_videos/rl-video-step-40500-to-step-40550.mp4.\n",
      "Moviepy - Writing video /imitation/docs/tutorials/generated_videos/rl-video-step-40500-to-step-40550.mp4\n",
      "\n"
     ]
    },
    {
     "name": "stderr",
     "output_type": "stream",
     "text": [
      "                                                                                                                                         "
     ]
    },
    {
     "name": "stdout",
     "output_type": "stream",
     "text": [
      "Moviepy - Done !\n",
      "Moviepy - video ready /imitation/docs/tutorials/generated_videos/rl-video-step-40500-to-step-40550.mp4\n"
     ]
    },
    {
     "name": "stderr",
     "output_type": "stream",
     "text": [
      "\r"
     ]
    },
    {
     "name": "stdout",
     "output_type": "stream",
     "text": [
      "Saving video to /imitation/docs/tutorials/generated_videos/rl-video-step-40600-to-step-40650.mp4\n",
      "Moviepy - Building video /imitation/docs/tutorials/generated_videos/rl-video-step-40600-to-step-40650.mp4.\n",
      "Moviepy - Writing video /imitation/docs/tutorials/generated_videos/rl-video-step-40600-to-step-40650.mp4\n",
      "\n"
     ]
    },
    {
     "name": "stderr",
     "output_type": "stream",
     "text": [
      "                                                                                                                                         "
     ]
    },
    {
     "name": "stdout",
     "output_type": "stream",
     "text": [
      "Moviepy - Done !\n",
      "Moviepy - video ready /imitation/docs/tutorials/generated_videos/rl-video-step-40600-to-step-40650.mp4\n"
     ]
    },
    {
     "name": "stderr",
     "output_type": "stream",
     "text": [
      "\r"
     ]
    },
    {
     "name": "stdout",
     "output_type": "stream",
     "text": [
      "Saving video to /imitation/docs/tutorials/generated_videos/rl-video-step-40700-to-step-40750.mp4\n",
      "Moviepy - Building video /imitation/docs/tutorials/generated_videos/rl-video-step-40700-to-step-40750.mp4.\n",
      "Moviepy - Writing video /imitation/docs/tutorials/generated_videos/rl-video-step-40700-to-step-40750.mp4\n",
      "\n"
     ]
    },
    {
     "name": "stderr",
     "output_type": "stream",
     "text": [
      "                                                                                                                                         "
     ]
    },
    {
     "name": "stdout",
     "output_type": "stream",
     "text": [
      "Moviepy - Done !\n",
      "Moviepy - video ready /imitation/docs/tutorials/generated_videos/rl-video-step-40700-to-step-40750.mp4\n"
     ]
    },
    {
     "name": "stderr",
     "output_type": "stream",
     "text": [
      "\r"
     ]
    },
    {
     "name": "stdout",
     "output_type": "stream",
     "text": [
      "Saving video to /imitation/docs/tutorials/generated_videos/rl-video-step-40800-to-step-40850.mp4\n",
      "Moviepy - Building video /imitation/docs/tutorials/generated_videos/rl-video-step-40800-to-step-40850.mp4.\n",
      "Moviepy - Writing video /imitation/docs/tutorials/generated_videos/rl-video-step-40800-to-step-40850.mp4\n",
      "\n"
     ]
    },
    {
     "name": "stderr",
     "output_type": "stream",
     "text": [
      "                                                                                                                                         "
     ]
    },
    {
     "name": "stdout",
     "output_type": "stream",
     "text": [
      "Moviepy - Done !\n",
      "Moviepy - video ready /imitation/docs/tutorials/generated_videos/rl-video-step-40800-to-step-40850.mp4\n"
     ]
    },
    {
     "name": "stderr",
     "output_type": "stream",
     "text": [
      "\r"
     ]
    },
    {
     "name": "stdout",
     "output_type": "stream",
     "text": [
      "Saving video to /imitation/docs/tutorials/generated_videos/rl-video-step-40900-to-step-40950.mp4\n",
      "Moviepy - Building video /imitation/docs/tutorials/generated_videos/rl-video-step-40900-to-step-40950.mp4.\n",
      "Moviepy - Writing video /imitation/docs/tutorials/generated_videos/rl-video-step-40900-to-step-40950.mp4\n",
      "\n"
     ]
    },
    {
     "name": "stderr",
     "output_type": "stream",
     "text": [
      "                                                                                                                                         "
     ]
    },
    {
     "name": "stdout",
     "output_type": "stream",
     "text": [
      "Moviepy - Done !\n",
      "Moviepy - video ready /imitation/docs/tutorials/generated_videos/rl-video-step-40900-to-step-40950.mp4\n"
     ]
    },
    {
     "name": "stderr",
     "output_type": "stream",
     "text": [
      "\r"
     ]
    },
    {
     "name": "stdout",
     "output_type": "stream",
     "text": [
      "Saving video to /imitation/docs/tutorials/generated_videos/rl-video-step-41000-to-step-41050.mp4\n",
      "Moviepy - Building video /imitation/docs/tutorials/generated_videos/rl-video-step-41000-to-step-41050.mp4.\n",
      "Moviepy - Writing video /imitation/docs/tutorials/generated_videos/rl-video-step-41000-to-step-41050.mp4\n",
      "\n"
     ]
    },
    {
     "name": "stderr",
     "output_type": "stream",
     "text": [
      "                                                                                                                                         "
     ]
    },
    {
     "name": "stdout",
     "output_type": "stream",
     "text": [
      "Moviepy - Done !\n",
      "Moviepy - video ready /imitation/docs/tutorials/generated_videos/rl-video-step-41000-to-step-41050.mp4\n"
     ]
    },
    {
     "name": "stderr",
     "output_type": "stream",
     "text": [
      "\r"
     ]
    },
    {
     "name": "stdout",
     "output_type": "stream",
     "text": [
      "Saving video to /imitation/docs/tutorials/generated_videos/rl-video-step-41100-to-step-41150.mp4\n",
      "Moviepy - Building video /imitation/docs/tutorials/generated_videos/rl-video-step-41100-to-step-41150.mp4.\n",
      "Moviepy - Writing video /imitation/docs/tutorials/generated_videos/rl-video-step-41100-to-step-41150.mp4\n",
      "\n"
     ]
    },
    {
     "name": "stderr",
     "output_type": "stream",
     "text": [
      "                                                                                                                                         "
     ]
    },
    {
     "name": "stdout",
     "output_type": "stream",
     "text": [
      "Moviepy - Done !\n",
      "Moviepy - video ready /imitation/docs/tutorials/generated_videos/rl-video-step-41100-to-step-41150.mp4\n"
     ]
    },
    {
     "name": "stderr",
     "output_type": "stream",
     "text": [
      "\r"
     ]
    },
    {
     "name": "stdout",
     "output_type": "stream",
     "text": [
      "Saving video to /imitation/docs/tutorials/generated_videos/rl-video-step-41200-to-step-41250.mp4\n",
      "Moviepy - Building video /imitation/docs/tutorials/generated_videos/rl-video-step-41200-to-step-41250.mp4.\n",
      "Moviepy - Writing video /imitation/docs/tutorials/generated_videos/rl-video-step-41200-to-step-41250.mp4\n",
      "\n"
     ]
    },
    {
     "name": "stderr",
     "output_type": "stream",
     "text": [
      "                                                                                                                                         "
     ]
    },
    {
     "name": "stdout",
     "output_type": "stream",
     "text": [
      "Moviepy - Done !\n",
      "Moviepy - video ready /imitation/docs/tutorials/generated_videos/rl-video-step-41200-to-step-41250.mp4\n"
     ]
    },
    {
     "name": "stderr",
     "output_type": "stream",
     "text": [
      "\r"
     ]
    },
    {
     "name": "stdout",
     "output_type": "stream",
     "text": [
      "-------------------------------------------------------\n",
      "| raw/                                 |              |\n",
      "|    agent/rollout/ep_len_mean         | 50           |\n",
      "|    agent/rollout/ep_rew_mean         | -63.7        |\n",
      "|    agent/rollout/ep_rew_wrapped_mean | -6.83        |\n",
      "|    agent/time/fps                    | 154          |\n",
      "|    agent/time/iterations             | 1            |\n",
      "|    agent/time/time_elapsed           | 13           |\n",
      "|    agent/time/total_timesteps        | 32768        |\n",
      "|    agent/train/approx_kl             | 0.0093733985 |\n",
      "|    agent/train/clip_fraction         | 0.325        |\n",
      "|    agent/train/clip_range            | 0.1          |\n",
      "|    agent/train/entropy_loss          | -2.84        |\n",
      "|    agent/train/explained_variance    | 0.962        |\n",
      "|    agent/train/learning_rate         | 0.002        |\n",
      "|    agent/train/loss                  | -0.0323      |\n",
      "|    agent/train/n_updates             | 150          |\n",
      "|    agent/train/policy_gradient_loss  | -0.0132      |\n",
      "|    agent/train/std                   | 1            |\n",
      "|    agent/train/value_loss            | 0.0125       |\n",
      "-------------------------------------------------------\n",
      "Saving video to /imitation/docs/tutorials/generated_videos/rl-video-step-41300-to-step-41350.mp4\n",
      "Moviepy - Building video /imitation/docs/tutorials/generated_videos/rl-video-step-41300-to-step-41350.mp4.\n",
      "Moviepy - Writing video /imitation/docs/tutorials/generated_videos/rl-video-step-41300-to-step-41350.mp4\n",
      "\n"
     ]
    },
    {
     "name": "stderr",
     "output_type": "stream",
     "text": [
      "                                                                                                                                         "
     ]
    },
    {
     "name": "stdout",
     "output_type": "stream",
     "text": [
      "Moviepy - Done !\n",
      "Moviepy - video ready /imitation/docs/tutorials/generated_videos/rl-video-step-41300-to-step-41350.mp4\n"
     ]
    },
    {
     "name": "stderr",
     "output_type": "stream",
     "text": [
      "\r"
     ]
    },
    {
     "name": "stdout",
     "output_type": "stream",
     "text": [
      "Saving video to /imitation/docs/tutorials/generated_videos/rl-video-step-41400-to-step-41450.mp4\n",
      "Moviepy - Building video /imitation/docs/tutorials/generated_videos/rl-video-step-41400-to-step-41450.mp4.\n",
      "Moviepy - Writing video /imitation/docs/tutorials/generated_videos/rl-video-step-41400-to-step-41450.mp4\n",
      "\n"
     ]
    },
    {
     "name": "stderr",
     "output_type": "stream",
     "text": [
      "                                                                                                                                         "
     ]
    },
    {
     "name": "stdout",
     "output_type": "stream",
     "text": [
      "Moviepy - Done !\n",
      "Moviepy - video ready /imitation/docs/tutorials/generated_videos/rl-video-step-41400-to-step-41450.mp4\n"
     ]
    },
    {
     "name": "stderr",
     "output_type": "stream",
     "text": [
      "\r"
     ]
    },
    {
     "name": "stdout",
     "output_type": "stream",
     "text": [
      "Saving video to /imitation/docs/tutorials/generated_videos/rl-video-step-41500-to-step-41550.mp4\n",
      "Moviepy - Building video /imitation/docs/tutorials/generated_videos/rl-video-step-41500-to-step-41550.mp4.\n",
      "Moviepy - Writing video /imitation/docs/tutorials/generated_videos/rl-video-step-41500-to-step-41550.mp4\n",
      "\n"
     ]
    },
    {
     "name": "stderr",
     "output_type": "stream",
     "text": [
      "                                                                                                                                         "
     ]
    },
    {
     "name": "stdout",
     "output_type": "stream",
     "text": [
      "Moviepy - Done !\n",
      "Moviepy - video ready /imitation/docs/tutorials/generated_videos/rl-video-step-41500-to-step-41550.mp4\n"
     ]
    },
    {
     "name": "stderr",
     "output_type": "stream",
     "text": [
      "\r"
     ]
    },
    {
     "name": "stdout",
     "output_type": "stream",
     "text": [
      "Saving video to /imitation/docs/tutorials/generated_videos/rl-video-step-41600-to-step-41650.mp4\n",
      "Moviepy - Building video /imitation/docs/tutorials/generated_videos/rl-video-step-41600-to-step-41650.mp4.\n",
      "Moviepy - Writing video /imitation/docs/tutorials/generated_videos/rl-video-step-41600-to-step-41650.mp4\n",
      "\n"
     ]
    },
    {
     "name": "stderr",
     "output_type": "stream",
     "text": [
      "                                                                                                                                         "
     ]
    },
    {
     "name": "stdout",
     "output_type": "stream",
     "text": [
      "Moviepy - Done !\n",
      "Moviepy - video ready /imitation/docs/tutorials/generated_videos/rl-video-step-41600-to-step-41650.mp4\n"
     ]
    },
    {
     "name": "stderr",
     "output_type": "stream",
     "text": [
      "\r"
     ]
    },
    {
     "name": "stdout",
     "output_type": "stream",
     "text": [
      "Saving video to /imitation/docs/tutorials/generated_videos/rl-video-step-41700-to-step-41750.mp4\n",
      "Moviepy - Building video /imitation/docs/tutorials/generated_videos/rl-video-step-41700-to-step-41750.mp4.\n",
      "Moviepy - Writing video /imitation/docs/tutorials/generated_videos/rl-video-step-41700-to-step-41750.mp4\n",
      "\n"
     ]
    },
    {
     "name": "stderr",
     "output_type": "stream",
     "text": [
      "                                                                                                                                         "
     ]
    },
    {
     "name": "stdout",
     "output_type": "stream",
     "text": [
      "Moviepy - Done !\n",
      "Moviepy - video ready /imitation/docs/tutorials/generated_videos/rl-video-step-41700-to-step-41750.mp4\n"
     ]
    },
    {
     "name": "stderr",
     "output_type": "stream",
     "text": [
      "\r"
     ]
    },
    {
     "name": "stdout",
     "output_type": "stream",
     "text": [
      "Saving video to /imitation/docs/tutorials/generated_videos/rl-video-step-41800-to-step-41850.mp4\n",
      "Moviepy - Building video /imitation/docs/tutorials/generated_videos/rl-video-step-41800-to-step-41850.mp4.\n",
      "Moviepy - Writing video /imitation/docs/tutorials/generated_videos/rl-video-step-41800-to-step-41850.mp4\n",
      "\n"
     ]
    },
    {
     "name": "stderr",
     "output_type": "stream",
     "text": [
      "                                                                                                                                         "
     ]
    },
    {
     "name": "stdout",
     "output_type": "stream",
     "text": [
      "Moviepy - Done !\n",
      "Moviepy - video ready /imitation/docs/tutorials/generated_videos/rl-video-step-41800-to-step-41850.mp4\n"
     ]
    },
    {
     "name": "stderr",
     "output_type": "stream",
     "text": [
      "\r"
     ]
    },
    {
     "name": "stdout",
     "output_type": "stream",
     "text": [
      "Saving video to /imitation/docs/tutorials/generated_videos/rl-video-step-41900-to-step-41950.mp4\n",
      "Moviepy - Building video /imitation/docs/tutorials/generated_videos/rl-video-step-41900-to-step-41950.mp4.\n",
      "Moviepy - Writing video /imitation/docs/tutorials/generated_videos/rl-video-step-41900-to-step-41950.mp4\n",
      "\n"
     ]
    },
    {
     "name": "stderr",
     "output_type": "stream",
     "text": [
      "                                                                                                                                         "
     ]
    },
    {
     "name": "stdout",
     "output_type": "stream",
     "text": [
      "Moviepy - Done !\n",
      "Moviepy - video ready /imitation/docs/tutorials/generated_videos/rl-video-step-41900-to-step-41950.mp4\n"
     ]
    },
    {
     "name": "stderr",
     "output_type": "stream",
     "text": [
      "\r"
     ]
    },
    {
     "name": "stdout",
     "output_type": "stream",
     "text": [
      "Saving video to /imitation/docs/tutorials/generated_videos/rl-video-step-42000-to-step-42050.mp4\n",
      "Moviepy - Building video /imitation/docs/tutorials/generated_videos/rl-video-step-42000-to-step-42050.mp4.\n",
      "Moviepy - Writing video /imitation/docs/tutorials/generated_videos/rl-video-step-42000-to-step-42050.mp4\n",
      "\n"
     ]
    },
    {
     "name": "stderr",
     "output_type": "stream",
     "text": [
      "                                                                                                                                         "
     ]
    },
    {
     "name": "stdout",
     "output_type": "stream",
     "text": [
      "Moviepy - Done !\n",
      "Moviepy - video ready /imitation/docs/tutorials/generated_videos/rl-video-step-42000-to-step-42050.mp4\n"
     ]
    },
    {
     "name": "stderr",
     "output_type": "stream",
     "text": [
      "\r"
     ]
    },
    {
     "name": "stdout",
     "output_type": "stream",
     "text": [
      "Saving video to /imitation/docs/tutorials/generated_videos/rl-video-step-42100-to-step-42150.mp4\n",
      "Moviepy - Building video /imitation/docs/tutorials/generated_videos/rl-video-step-42100-to-step-42150.mp4.\n",
      "Moviepy - Writing video /imitation/docs/tutorials/generated_videos/rl-video-step-42100-to-step-42150.mp4\n",
      "\n"
     ]
    },
    {
     "name": "stderr",
     "output_type": "stream",
     "text": [
      "                                                                                                                                         "
     ]
    },
    {
     "name": "stdout",
     "output_type": "stream",
     "text": [
      "Moviepy - Done !\n",
      "Moviepy - video ready /imitation/docs/tutorials/generated_videos/rl-video-step-42100-to-step-42150.mp4\n"
     ]
    },
    {
     "name": "stderr",
     "output_type": "stream",
     "text": [
      "\r"
     ]
    },
    {
     "name": "stdout",
     "output_type": "stream",
     "text": [
      "Saving video to /imitation/docs/tutorials/generated_videos/rl-video-step-42200-to-step-42250.mp4\n",
      "Moviepy - Building video /imitation/docs/tutorials/generated_videos/rl-video-step-42200-to-step-42250.mp4.\n",
      "Moviepy - Writing video /imitation/docs/tutorials/generated_videos/rl-video-step-42200-to-step-42250.mp4\n",
      "\n"
     ]
    },
    {
     "name": "stderr",
     "output_type": "stream",
     "text": [
      "                                                                                                                                         "
     ]
    },
    {
     "name": "stdout",
     "output_type": "stream",
     "text": [
      "Moviepy - Done !\n",
      "Moviepy - video ready /imitation/docs/tutorials/generated_videos/rl-video-step-42200-to-step-42250.mp4\n"
     ]
    },
    {
     "name": "stderr",
     "output_type": "stream",
     "text": [
      "\r"
     ]
    },
    {
     "name": "stdout",
     "output_type": "stream",
     "text": [
      "Saving video to /imitation/docs/tutorials/generated_videos/rl-video-step-42300-to-step-42350.mp4\n",
      "Moviepy - Building video /imitation/docs/tutorials/generated_videos/rl-video-step-42300-to-step-42350.mp4.\n",
      "Moviepy - Writing video /imitation/docs/tutorials/generated_videos/rl-video-step-42300-to-step-42350.mp4\n",
      "\n"
     ]
    },
    {
     "name": "stderr",
     "output_type": "stream",
     "text": [
      "                                                                                                                                         "
     ]
    },
    {
     "name": "stdout",
     "output_type": "stream",
     "text": [
      "Moviepy - Done !\n",
      "Moviepy - video ready /imitation/docs/tutorials/generated_videos/rl-video-step-42300-to-step-42350.mp4\n"
     ]
    },
    {
     "name": "stderr",
     "output_type": "stream",
     "text": [
      "\r"
     ]
    },
    {
     "name": "stdout",
     "output_type": "stream",
     "text": [
      "Saving video to /imitation/docs/tutorials/generated_videos/rl-video-step-42400-to-step-42450.mp4\n",
      "Moviepy - Building video /imitation/docs/tutorials/generated_videos/rl-video-step-42400-to-step-42450.mp4.\n",
      "Moviepy - Writing video /imitation/docs/tutorials/generated_videos/rl-video-step-42400-to-step-42450.mp4\n",
      "\n"
     ]
    },
    {
     "name": "stderr",
     "output_type": "stream",
     "text": [
      "                                                                                                                                         "
     ]
    },
    {
     "name": "stdout",
     "output_type": "stream",
     "text": [
      "Moviepy - Done !\n",
      "Moviepy - video ready /imitation/docs/tutorials/generated_videos/rl-video-step-42400-to-step-42450.mp4\n"
     ]
    },
    {
     "name": "stderr",
     "output_type": "stream",
     "text": [
      "\r"
     ]
    },
    {
     "name": "stdout",
     "output_type": "stream",
     "text": [
      "Saving video to /imitation/docs/tutorials/generated_videos/rl-video-step-42500-to-step-42550.mp4\n",
      "Moviepy - Building video /imitation/docs/tutorials/generated_videos/rl-video-step-42500-to-step-42550.mp4.\n",
      "Moviepy - Writing video /imitation/docs/tutorials/generated_videos/rl-video-step-42500-to-step-42550.mp4\n",
      "\n"
     ]
    },
    {
     "name": "stderr",
     "output_type": "stream",
     "text": [
      "                                                                                                                                         "
     ]
    },
    {
     "name": "stdout",
     "output_type": "stream",
     "text": [
      "Moviepy - Done !\n",
      "Moviepy - video ready /imitation/docs/tutorials/generated_videos/rl-video-step-42500-to-step-42550.mp4\n"
     ]
    },
    {
     "name": "stderr",
     "output_type": "stream",
     "text": [
      "\r"
     ]
    },
    {
     "name": "stdout",
     "output_type": "stream",
     "text": [
      "Saving video to /imitation/docs/tutorials/generated_videos/rl-video-step-42600-to-step-42650.mp4\n",
      "Moviepy - Building video /imitation/docs/tutorials/generated_videos/rl-video-step-42600-to-step-42650.mp4.\n",
      "Moviepy - Writing video /imitation/docs/tutorials/generated_videos/rl-video-step-42600-to-step-42650.mp4\n",
      "\n"
     ]
    },
    {
     "name": "stderr",
     "output_type": "stream",
     "text": [
      "                                                                                                                                         "
     ]
    },
    {
     "name": "stdout",
     "output_type": "stream",
     "text": [
      "Moviepy - Done !\n",
      "Moviepy - video ready /imitation/docs/tutorials/generated_videos/rl-video-step-42600-to-step-42650.mp4\n"
     ]
    },
    {
     "name": "stderr",
     "output_type": "stream",
     "text": [
      "\r"
     ]
    },
    {
     "name": "stdout",
     "output_type": "stream",
     "text": [
      "Saving video to /imitation/docs/tutorials/generated_videos/rl-video-step-42700-to-step-42750.mp4\n",
      "Moviepy - Building video /imitation/docs/tutorials/generated_videos/rl-video-step-42700-to-step-42750.mp4.\n",
      "Moviepy - Writing video /imitation/docs/tutorials/generated_videos/rl-video-step-42700-to-step-42750.mp4\n",
      "\n"
     ]
    },
    {
     "name": "stderr",
     "output_type": "stream",
     "text": [
      "                                                                                                                                         "
     ]
    },
    {
     "name": "stdout",
     "output_type": "stream",
     "text": [
      "Moviepy - Done !\n",
      "Moviepy - video ready /imitation/docs/tutorials/generated_videos/rl-video-step-42700-to-step-42750.mp4\n"
     ]
    },
    {
     "name": "stderr",
     "output_type": "stream",
     "text": [
      "\r"
     ]
    },
    {
     "name": "stdout",
     "output_type": "stream",
     "text": [
      "Saving video to /imitation/docs/tutorials/generated_videos/rl-video-step-42800-to-step-42850.mp4\n",
      "Moviepy - Building video /imitation/docs/tutorials/generated_videos/rl-video-step-42800-to-step-42850.mp4.\n",
      "Moviepy - Writing video /imitation/docs/tutorials/generated_videos/rl-video-step-42800-to-step-42850.mp4\n",
      "\n"
     ]
    },
    {
     "name": "stderr",
     "output_type": "stream",
     "text": [
      "                                                                                                                                         "
     ]
    },
    {
     "name": "stdout",
     "output_type": "stream",
     "text": [
      "Moviepy - Done !\n",
      "Moviepy - video ready /imitation/docs/tutorials/generated_videos/rl-video-step-42800-to-step-42850.mp4\n"
     ]
    },
    {
     "name": "stderr",
     "output_type": "stream",
     "text": [
      "\r"
     ]
    },
    {
     "name": "stdout",
     "output_type": "stream",
     "text": [
      "Saving video to /imitation/docs/tutorials/generated_videos/rl-video-step-42900-to-step-42950.mp4\n",
      "Moviepy - Building video /imitation/docs/tutorials/generated_videos/rl-video-step-42900-to-step-42950.mp4.\n",
      "Moviepy - Writing video /imitation/docs/tutorials/generated_videos/rl-video-step-42900-to-step-42950.mp4\n",
      "\n"
     ]
    },
    {
     "name": "stderr",
     "output_type": "stream",
     "text": [
      "                                                                                                                                         "
     ]
    },
    {
     "name": "stdout",
     "output_type": "stream",
     "text": [
      "Moviepy - Done !\n",
      "Moviepy - video ready /imitation/docs/tutorials/generated_videos/rl-video-step-42900-to-step-42950.mp4\n"
     ]
    },
    {
     "name": "stderr",
     "output_type": "stream",
     "text": [
      "\r"
     ]
    },
    {
     "name": "stdout",
     "output_type": "stream",
     "text": [
      "Saving video to /imitation/docs/tutorials/generated_videos/rl-video-step-43000-to-step-43050.mp4\n",
      "Moviepy - Building video /imitation/docs/tutorials/generated_videos/rl-video-step-43000-to-step-43050.mp4.\n",
      "Moviepy - Writing video /imitation/docs/tutorials/generated_videos/rl-video-step-43000-to-step-43050.mp4\n",
      "\n"
     ]
    },
    {
     "name": "stderr",
     "output_type": "stream",
     "text": [
      "                                                                                                                                         "
     ]
    },
    {
     "name": "stdout",
     "output_type": "stream",
     "text": [
      "Moviepy - Done !\n",
      "Moviepy - video ready /imitation/docs/tutorials/generated_videos/rl-video-step-43000-to-step-43050.mp4\n"
     ]
    },
    {
     "name": "stderr",
     "output_type": "stream",
     "text": [
      "\r"
     ]
    },
    {
     "name": "stdout",
     "output_type": "stream",
     "text": [
      "Saving video to /imitation/docs/tutorials/generated_videos/rl-video-step-43100-to-step-43150.mp4\n",
      "Moviepy - Building video /imitation/docs/tutorials/generated_videos/rl-video-step-43100-to-step-43150.mp4.\n",
      "Moviepy - Writing video /imitation/docs/tutorials/generated_videos/rl-video-step-43100-to-step-43150.mp4\n",
      "\n"
     ]
    },
    {
     "name": "stderr",
     "output_type": "stream",
     "text": [
      "                                                                                                                                         "
     ]
    },
    {
     "name": "stdout",
     "output_type": "stream",
     "text": [
      "Moviepy - Done !\n",
      "Moviepy - video ready /imitation/docs/tutorials/generated_videos/rl-video-step-43100-to-step-43150.mp4\n"
     ]
    },
    {
     "name": "stderr",
     "output_type": "stream",
     "text": [
      "\r"
     ]
    },
    {
     "name": "stdout",
     "output_type": "stream",
     "text": [
      "Saving video to /imitation/docs/tutorials/generated_videos/rl-video-step-43200-to-step-43250.mp4\n",
      "Moviepy - Building video /imitation/docs/tutorials/generated_videos/rl-video-step-43200-to-step-43250.mp4.\n",
      "Moviepy - Writing video /imitation/docs/tutorials/generated_videos/rl-video-step-43200-to-step-43250.mp4\n",
      "\n"
     ]
    },
    {
     "name": "stderr",
     "output_type": "stream",
     "text": [
      "                                                                                                                                         "
     ]
    },
    {
     "name": "stdout",
     "output_type": "stream",
     "text": [
      "Moviepy - Done !\n",
      "Moviepy - video ready /imitation/docs/tutorials/generated_videos/rl-video-step-43200-to-step-43250.mp4\n"
     ]
    },
    {
     "name": "stderr",
     "output_type": "stream",
     "text": [
      "\r"
     ]
    },
    {
     "name": "stdout",
     "output_type": "stream",
     "text": [
      "Saving video to /imitation/docs/tutorials/generated_videos/rl-video-step-43300-to-step-43350.mp4\n",
      "Moviepy - Building video /imitation/docs/tutorials/generated_videos/rl-video-step-43300-to-step-43350.mp4.\n",
      "Moviepy - Writing video /imitation/docs/tutorials/generated_videos/rl-video-step-43300-to-step-43350.mp4\n",
      "\n"
     ]
    },
    {
     "name": "stderr",
     "output_type": "stream",
     "text": [
      "                                                                                                                                         "
     ]
    },
    {
     "name": "stdout",
     "output_type": "stream",
     "text": [
      "Moviepy - Done !\n",
      "Moviepy - video ready /imitation/docs/tutorials/generated_videos/rl-video-step-43300-to-step-43350.mp4\n",
      "-------------------------------------------------------\n",
      "| raw/                                 |              |\n",
      "|    agent/rollout/ep_len_mean         | 50           |\n",
      "|    agent/rollout/ep_rew_mean         | -64.1        |\n",
      "|    agent/rollout/ep_rew_wrapped_mean | -7.42        |\n",
      "|    agent/time/fps                    | 147          |\n",
      "|    agent/time/iterations             | 2            |\n",
      "|    agent/time/time_elapsed           | 27           |\n",
      "|    agent/time/total_timesteps        | 34816        |\n",
      "|    agent/train/approx_kl             | 0.0058473763 |\n",
      "|    agent/train/clip_fraction         | 0.255        |\n",
      "|    agent/train/clip_range            | 0.1          |\n",
      "|    agent/train/entropy_loss          | -2.86        |\n",
      "|    agent/train/explained_variance    | 0.878        |\n",
      "|    agent/train/learning_rate         | 0.002        |\n",
      "|    agent/train/loss                  | -0.0328      |\n",
      "|    agent/train/n_updates             | 160          |\n",
      "|    agent/train/policy_gradient_loss  | -0.00608     |\n",
      "|    agent/train/std                   | 1.01         |\n",
      "|    agent/train/value_loss            | 0.0274       |\n",
      "-------------------------------------------------------\n"
     ]
    },
    {
     "name": "stderr",
     "output_type": "stream",
     "text": [
      "\r"
     ]
    },
    {
     "name": "stdout",
     "output_type": "stream",
     "text": [
      "Saving video to /imitation/docs/tutorials/generated_videos/rl-video-step-43400-to-step-43450.mp4\n",
      "Moviepy - Building video /imitation/docs/tutorials/generated_videos/rl-video-step-43400-to-step-43450.mp4.\n",
      "Moviepy - Writing video /imitation/docs/tutorials/generated_videos/rl-video-step-43400-to-step-43450.mp4\n",
      "\n"
     ]
    },
    {
     "name": "stderr",
     "output_type": "stream",
     "text": [
      "                                                                                                                                         "
     ]
    },
    {
     "name": "stdout",
     "output_type": "stream",
     "text": [
      "Moviepy - Done !\n",
      "Moviepy - video ready /imitation/docs/tutorials/generated_videos/rl-video-step-43400-to-step-43450.mp4\n"
     ]
    },
    {
     "name": "stderr",
     "output_type": "stream",
     "text": [
      "\r"
     ]
    },
    {
     "name": "stdout",
     "output_type": "stream",
     "text": [
      "Saving video to /imitation/docs/tutorials/generated_videos/rl-video-step-43500-to-step-43550.mp4\n",
      "Moviepy - Building video /imitation/docs/tutorials/generated_videos/rl-video-step-43500-to-step-43550.mp4.\n",
      "Moviepy - Writing video /imitation/docs/tutorials/generated_videos/rl-video-step-43500-to-step-43550.mp4\n",
      "\n"
     ]
    },
    {
     "name": "stderr",
     "output_type": "stream",
     "text": [
      "                                                                                                                                         "
     ]
    },
    {
     "name": "stdout",
     "output_type": "stream",
     "text": [
      "Moviepy - Done !\n",
      "Moviepy - video ready /imitation/docs/tutorials/generated_videos/rl-video-step-43500-to-step-43550.mp4\n"
     ]
    },
    {
     "name": "stderr",
     "output_type": "stream",
     "text": [
      "\r"
     ]
    },
    {
     "name": "stdout",
     "output_type": "stream",
     "text": [
      "Saving video to /imitation/docs/tutorials/generated_videos/rl-video-step-43600-to-step-43650.mp4\n",
      "Moviepy - Building video /imitation/docs/tutorials/generated_videos/rl-video-step-43600-to-step-43650.mp4.\n",
      "Moviepy - Writing video /imitation/docs/tutorials/generated_videos/rl-video-step-43600-to-step-43650.mp4\n",
      "\n"
     ]
    },
    {
     "name": "stderr",
     "output_type": "stream",
     "text": [
      "                                                                                                                                         "
     ]
    },
    {
     "name": "stdout",
     "output_type": "stream",
     "text": [
      "Moviepy - Done !\n",
      "Moviepy - video ready /imitation/docs/tutorials/generated_videos/rl-video-step-43600-to-step-43650.mp4\n"
     ]
    },
    {
     "name": "stderr",
     "output_type": "stream",
     "text": [
      "\r"
     ]
    },
    {
     "name": "stdout",
     "output_type": "stream",
     "text": [
      "Saving video to /imitation/docs/tutorials/generated_videos/rl-video-step-43700-to-step-43750.mp4\n",
      "Moviepy - Building video /imitation/docs/tutorials/generated_videos/rl-video-step-43700-to-step-43750.mp4.\n",
      "Moviepy - Writing video /imitation/docs/tutorials/generated_videos/rl-video-step-43700-to-step-43750.mp4\n",
      "\n"
     ]
    },
    {
     "name": "stderr",
     "output_type": "stream",
     "text": [
      "                                                                                                                                         "
     ]
    },
    {
     "name": "stdout",
     "output_type": "stream",
     "text": [
      "Moviepy - Done !\n",
      "Moviepy - video ready /imitation/docs/tutorials/generated_videos/rl-video-step-43700-to-step-43750.mp4\n"
     ]
    },
    {
     "name": "stderr",
     "output_type": "stream",
     "text": [
      "\r"
     ]
    },
    {
     "name": "stdout",
     "output_type": "stream",
     "text": [
      "Saving video to /imitation/docs/tutorials/generated_videos/rl-video-step-43800-to-step-43850.mp4\n",
      "Moviepy - Building video /imitation/docs/tutorials/generated_videos/rl-video-step-43800-to-step-43850.mp4.\n",
      "Moviepy - Writing video /imitation/docs/tutorials/generated_videos/rl-video-step-43800-to-step-43850.mp4\n",
      "\n"
     ]
    },
    {
     "name": "stderr",
     "output_type": "stream",
     "text": [
      "                                                                                                                                         "
     ]
    },
    {
     "name": "stdout",
     "output_type": "stream",
     "text": [
      "Moviepy - Done !\n",
      "Moviepy - video ready /imitation/docs/tutorials/generated_videos/rl-video-step-43800-to-step-43850.mp4\n"
     ]
    },
    {
     "name": "stderr",
     "output_type": "stream",
     "text": [
      "\r"
     ]
    },
    {
     "name": "stdout",
     "output_type": "stream",
     "text": [
      "Saving video to /imitation/docs/tutorials/generated_videos/rl-video-step-43900-to-step-43950.mp4\n",
      "Moviepy - Building video /imitation/docs/tutorials/generated_videos/rl-video-step-43900-to-step-43950.mp4.\n",
      "Moviepy - Writing video /imitation/docs/tutorials/generated_videos/rl-video-step-43900-to-step-43950.mp4\n",
      "\n"
     ]
    },
    {
     "name": "stderr",
     "output_type": "stream",
     "text": [
      "                                                                                                                                         "
     ]
    },
    {
     "name": "stdout",
     "output_type": "stream",
     "text": [
      "Moviepy - Done !\n",
      "Moviepy - video ready /imitation/docs/tutorials/generated_videos/rl-video-step-43900-to-step-43950.mp4\n"
     ]
    },
    {
     "name": "stderr",
     "output_type": "stream",
     "text": [
      "\r"
     ]
    },
    {
     "name": "stdout",
     "output_type": "stream",
     "text": [
      "Saving video to /imitation/docs/tutorials/generated_videos/rl-video-step-44000-to-step-44050.mp4\n",
      "Moviepy - Building video /imitation/docs/tutorials/generated_videos/rl-video-step-44000-to-step-44050.mp4.\n",
      "Moviepy - Writing video /imitation/docs/tutorials/generated_videos/rl-video-step-44000-to-step-44050.mp4\n",
      "\n"
     ]
    },
    {
     "name": "stderr",
     "output_type": "stream",
     "text": [
      "                                                                                                                                         "
     ]
    },
    {
     "name": "stdout",
     "output_type": "stream",
     "text": [
      "Moviepy - Done !\n",
      "Moviepy - video ready /imitation/docs/tutorials/generated_videos/rl-video-step-44000-to-step-44050.mp4\n"
     ]
    },
    {
     "name": "stderr",
     "output_type": "stream",
     "text": [
      "\r"
     ]
    },
    {
     "name": "stdout",
     "output_type": "stream",
     "text": [
      "Saving video to /imitation/docs/tutorials/generated_videos/rl-video-step-44100-to-step-44150.mp4\n",
      "Moviepy - Building video /imitation/docs/tutorials/generated_videos/rl-video-step-44100-to-step-44150.mp4.\n",
      "Moviepy - Writing video /imitation/docs/tutorials/generated_videos/rl-video-step-44100-to-step-44150.mp4\n",
      "\n"
     ]
    },
    {
     "name": "stderr",
     "output_type": "stream",
     "text": [
      "                                                                                                                                         "
     ]
    },
    {
     "name": "stdout",
     "output_type": "stream",
     "text": [
      "Moviepy - Done !\n",
      "Moviepy - video ready /imitation/docs/tutorials/generated_videos/rl-video-step-44100-to-step-44150.mp4\n"
     ]
    },
    {
     "name": "stderr",
     "output_type": "stream",
     "text": [
      "\r"
     ]
    },
    {
     "name": "stdout",
     "output_type": "stream",
     "text": [
      "Saving video to /imitation/docs/tutorials/generated_videos/rl-video-step-44200-to-step-44250.mp4\n",
      "Moviepy - Building video /imitation/docs/tutorials/generated_videos/rl-video-step-44200-to-step-44250.mp4.\n",
      "Moviepy - Writing video /imitation/docs/tutorials/generated_videos/rl-video-step-44200-to-step-44250.mp4\n",
      "\n"
     ]
    },
    {
     "name": "stderr",
     "output_type": "stream",
     "text": [
      "                                                                                                                                         "
     ]
    },
    {
     "name": "stdout",
     "output_type": "stream",
     "text": [
      "Moviepy - Done !\n",
      "Moviepy - video ready /imitation/docs/tutorials/generated_videos/rl-video-step-44200-to-step-44250.mp4\n"
     ]
    },
    {
     "name": "stderr",
     "output_type": "stream",
     "text": [
      "\r"
     ]
    },
    {
     "name": "stdout",
     "output_type": "stream",
     "text": [
      "Saving video to /imitation/docs/tutorials/generated_videos/rl-video-step-44300-to-step-44350.mp4\n",
      "Moviepy - Building video /imitation/docs/tutorials/generated_videos/rl-video-step-44300-to-step-44350.mp4.\n",
      "Moviepy - Writing video /imitation/docs/tutorials/generated_videos/rl-video-step-44300-to-step-44350.mp4\n",
      "\n"
     ]
    },
    {
     "name": "stderr",
     "output_type": "stream",
     "text": [
      "                                                                                                                                         "
     ]
    },
    {
     "name": "stdout",
     "output_type": "stream",
     "text": [
      "Moviepy - Done !\n",
      "Moviepy - video ready /imitation/docs/tutorials/generated_videos/rl-video-step-44300-to-step-44350.mp4\n"
     ]
    },
    {
     "name": "stderr",
     "output_type": "stream",
     "text": [
      "\r"
     ]
    },
    {
     "name": "stdout",
     "output_type": "stream",
     "text": [
      "Saving video to /imitation/docs/tutorials/generated_videos/rl-video-step-44400-to-step-44450.mp4\n",
      "Moviepy - Building video /imitation/docs/tutorials/generated_videos/rl-video-step-44400-to-step-44450.mp4.\n",
      "Moviepy - Writing video /imitation/docs/tutorials/generated_videos/rl-video-step-44400-to-step-44450.mp4\n",
      "\n"
     ]
    },
    {
     "name": "stderr",
     "output_type": "stream",
     "text": [
      "                                                                                                                                         "
     ]
    },
    {
     "name": "stdout",
     "output_type": "stream",
     "text": [
      "Moviepy - Done !\n",
      "Moviepy - video ready /imitation/docs/tutorials/generated_videos/rl-video-step-44400-to-step-44450.mp4\n"
     ]
    },
    {
     "name": "stderr",
     "output_type": "stream",
     "text": [
      "\r"
     ]
    },
    {
     "name": "stdout",
     "output_type": "stream",
     "text": [
      "Saving video to /imitation/docs/tutorials/generated_videos/rl-video-step-44500-to-step-44550.mp4\n",
      "Moviepy - Building video /imitation/docs/tutorials/generated_videos/rl-video-step-44500-to-step-44550.mp4.\n",
      "Moviepy - Writing video /imitation/docs/tutorials/generated_videos/rl-video-step-44500-to-step-44550.mp4\n",
      "\n"
     ]
    },
    {
     "name": "stderr",
     "output_type": "stream",
     "text": [
      "                                                                                                                                         "
     ]
    },
    {
     "name": "stdout",
     "output_type": "stream",
     "text": [
      "Moviepy - Done !\n",
      "Moviepy - video ready /imitation/docs/tutorials/generated_videos/rl-video-step-44500-to-step-44550.mp4\n"
     ]
    },
    {
     "name": "stderr",
     "output_type": "stream",
     "text": [
      "\r"
     ]
    },
    {
     "name": "stdout",
     "output_type": "stream",
     "text": [
      "Saving video to /imitation/docs/tutorials/generated_videos/rl-video-step-44600-to-step-44650.mp4\n",
      "Moviepy - Building video /imitation/docs/tutorials/generated_videos/rl-video-step-44600-to-step-44650.mp4.\n",
      "Moviepy - Writing video /imitation/docs/tutorials/generated_videos/rl-video-step-44600-to-step-44650.mp4\n",
      "\n"
     ]
    },
    {
     "name": "stderr",
     "output_type": "stream",
     "text": [
      "                                                                                                                                         "
     ]
    },
    {
     "name": "stdout",
     "output_type": "stream",
     "text": [
      "Moviepy - Done !\n",
      "Moviepy - video ready /imitation/docs/tutorials/generated_videos/rl-video-step-44600-to-step-44650.mp4\n"
     ]
    },
    {
     "name": "stderr",
     "output_type": "stream",
     "text": [
      "\r"
     ]
    },
    {
     "name": "stdout",
     "output_type": "stream",
     "text": [
      "Saving video to /imitation/docs/tutorials/generated_videos/rl-video-step-44700-to-step-44750.mp4\n",
      "Moviepy - Building video /imitation/docs/tutorials/generated_videos/rl-video-step-44700-to-step-44750.mp4.\n",
      "Moviepy - Writing video /imitation/docs/tutorials/generated_videos/rl-video-step-44700-to-step-44750.mp4\n",
      "\n"
     ]
    },
    {
     "name": "stderr",
     "output_type": "stream",
     "text": [
      "                                                                                                                                         "
     ]
    },
    {
     "name": "stdout",
     "output_type": "stream",
     "text": [
      "Moviepy - Done !\n",
      "Moviepy - video ready /imitation/docs/tutorials/generated_videos/rl-video-step-44700-to-step-44750.mp4\n"
     ]
    },
    {
     "name": "stderr",
     "output_type": "stream",
     "text": [
      "\r"
     ]
    },
    {
     "name": "stdout",
     "output_type": "stream",
     "text": [
      "Saving video to /imitation/docs/tutorials/generated_videos/rl-video-step-44800-to-step-44850.mp4\n",
      "Moviepy - Building video /imitation/docs/tutorials/generated_videos/rl-video-step-44800-to-step-44850.mp4.\n",
      "Moviepy - Writing video /imitation/docs/tutorials/generated_videos/rl-video-step-44800-to-step-44850.mp4\n",
      "\n"
     ]
    },
    {
     "name": "stderr",
     "output_type": "stream",
     "text": [
      "                                                                                                                                         "
     ]
    },
    {
     "name": "stdout",
     "output_type": "stream",
     "text": [
      "Moviepy - Done !\n",
      "Moviepy - video ready /imitation/docs/tutorials/generated_videos/rl-video-step-44800-to-step-44850.mp4\n"
     ]
    },
    {
     "name": "stderr",
     "output_type": "stream",
     "text": [
      "\r"
     ]
    },
    {
     "name": "stdout",
     "output_type": "stream",
     "text": [
      "Saving video to /imitation/docs/tutorials/generated_videos/rl-video-step-44900-to-step-44950.mp4\n",
      "Moviepy - Building video /imitation/docs/tutorials/generated_videos/rl-video-step-44900-to-step-44950.mp4.\n",
      "Moviepy - Writing video /imitation/docs/tutorials/generated_videos/rl-video-step-44900-to-step-44950.mp4\n",
      "\n"
     ]
    },
    {
     "name": "stderr",
     "output_type": "stream",
     "text": [
      "                                                                                                                                         "
     ]
    },
    {
     "name": "stdout",
     "output_type": "stream",
     "text": [
      "Moviepy - Done !\n",
      "Moviepy - video ready /imitation/docs/tutorials/generated_videos/rl-video-step-44900-to-step-44950.mp4\n"
     ]
    },
    {
     "name": "stderr",
     "output_type": "stream",
     "text": [
      "\r"
     ]
    },
    {
     "name": "stdout",
     "output_type": "stream",
     "text": [
      "Saving video to /imitation/docs/tutorials/generated_videos/rl-video-step-45000-to-step-45050.mp4\n",
      "Moviepy - Building video /imitation/docs/tutorials/generated_videos/rl-video-step-45000-to-step-45050.mp4.\n",
      "Moviepy - Writing video /imitation/docs/tutorials/generated_videos/rl-video-step-45000-to-step-45050.mp4\n",
      "\n"
     ]
    },
    {
     "name": "stderr",
     "output_type": "stream",
     "text": [
      "                                                                                                                                         "
     ]
    },
    {
     "name": "stdout",
     "output_type": "stream",
     "text": [
      "Moviepy - Done !\n",
      "Moviepy - video ready /imitation/docs/tutorials/generated_videos/rl-video-step-45000-to-step-45050.mp4\n"
     ]
    },
    {
     "name": "stderr",
     "output_type": "stream",
     "text": [
      "\r"
     ]
    },
    {
     "name": "stdout",
     "output_type": "stream",
     "text": [
      "Saving video to /imitation/docs/tutorials/generated_videos/rl-video-step-45100-to-step-45150.mp4\n",
      "Moviepy - Building video /imitation/docs/tutorials/generated_videos/rl-video-step-45100-to-step-45150.mp4.\n",
      "Moviepy - Writing video /imitation/docs/tutorials/generated_videos/rl-video-step-45100-to-step-45150.mp4\n",
      "\n"
     ]
    },
    {
     "name": "stderr",
     "output_type": "stream",
     "text": [
      "                                                                                                                                         "
     ]
    },
    {
     "name": "stdout",
     "output_type": "stream",
     "text": [
      "Moviepy - Done !\n",
      "Moviepy - video ready /imitation/docs/tutorials/generated_videos/rl-video-step-45100-to-step-45150.mp4\n"
     ]
    },
    {
     "name": "stderr",
     "output_type": "stream",
     "text": [
      "\r"
     ]
    },
    {
     "name": "stdout",
     "output_type": "stream",
     "text": [
      "Saving video to /imitation/docs/tutorials/generated_videos/rl-video-step-45200-to-step-45250.mp4\n",
      "Moviepy - Building video /imitation/docs/tutorials/generated_videos/rl-video-step-45200-to-step-45250.mp4.\n",
      "Moviepy - Writing video /imitation/docs/tutorials/generated_videos/rl-video-step-45200-to-step-45250.mp4\n",
      "\n"
     ]
    },
    {
     "name": "stderr",
     "output_type": "stream",
     "text": [
      "                                                                                                                                         "
     ]
    },
    {
     "name": "stdout",
     "output_type": "stream",
     "text": [
      "Moviepy - Done !\n",
      "Moviepy - video ready /imitation/docs/tutorials/generated_videos/rl-video-step-45200-to-step-45250.mp4\n"
     ]
    },
    {
     "name": "stderr",
     "output_type": "stream",
     "text": [
      "\r"
     ]
    },
    {
     "name": "stdout",
     "output_type": "stream",
     "text": [
      "Saving video to /imitation/docs/tutorials/generated_videos/rl-video-step-45300-to-step-45350.mp4\n",
      "Moviepy - Building video /imitation/docs/tutorials/generated_videos/rl-video-step-45300-to-step-45350.mp4.\n",
      "Moviepy - Writing video /imitation/docs/tutorials/generated_videos/rl-video-step-45300-to-step-45350.mp4\n",
      "\n"
     ]
    },
    {
     "name": "stderr",
     "output_type": "stream",
     "text": [
      "                                                                                                                                         "
     ]
    },
    {
     "name": "stdout",
     "output_type": "stream",
     "text": [
      "Moviepy - Done !\n",
      "Moviepy - video ready /imitation/docs/tutorials/generated_videos/rl-video-step-45300-to-step-45350.mp4\n"
     ]
    },
    {
     "name": "stderr",
     "output_type": "stream",
     "text": [
      "\r"
     ]
    },
    {
     "name": "stdout",
     "output_type": "stream",
     "text": [
      "------------------------------------------------------\n",
      "| raw/                                 |             |\n",
      "|    agent/rollout/ep_len_mean         | 50          |\n",
      "|    agent/rollout/ep_rew_mean         | -63.5       |\n",
      "|    agent/rollout/ep_rew_wrapped_mean | -8.03       |\n",
      "|    agent/time/fps                    | 146         |\n",
      "|    agent/time/iterations             | 3           |\n",
      "|    agent/time/time_elapsed           | 41          |\n",
      "|    agent/time/total_timesteps        | 36864       |\n",
      "|    agent/train/approx_kl             | 0.008763848 |\n",
      "|    agent/train/clip_fraction         | 0.286       |\n",
      "|    agent/train/clip_range            | 0.1         |\n",
      "|    agent/train/entropy_loss          | -2.82       |\n",
      "|    agent/train/explained_variance    | 0.912       |\n",
      "|    agent/train/learning_rate         | 0.002       |\n",
      "|    agent/train/loss                  | -0.0427     |\n",
      "|    agent/train/n_updates             | 170         |\n",
      "|    agent/train/policy_gradient_loss  | -0.00867    |\n",
      "|    agent/train/std                   | 0.991       |\n",
      "|    agent/train/value_loss            | 0.0246      |\n",
      "------------------------------------------------------\n",
      "Saving video to /imitation/docs/tutorials/generated_videos/rl-video-step-45400-to-step-45450.mp4\n",
      "Moviepy - Building video /imitation/docs/tutorials/generated_videos/rl-video-step-45400-to-step-45450.mp4.\n",
      "Moviepy - Writing video /imitation/docs/tutorials/generated_videos/rl-video-step-45400-to-step-45450.mp4\n",
      "\n"
     ]
    },
    {
     "name": "stderr",
     "output_type": "stream",
     "text": [
      "                                                                                                                                         "
     ]
    },
    {
     "name": "stdout",
     "output_type": "stream",
     "text": [
      "Moviepy - Done !\n",
      "Moviepy - video ready /imitation/docs/tutorials/generated_videos/rl-video-step-45400-to-step-45450.mp4\n"
     ]
    },
    {
     "name": "stderr",
     "output_type": "stream",
     "text": [
      "\r"
     ]
    },
    {
     "name": "stdout",
     "output_type": "stream",
     "text": [
      "Saving video to /imitation/docs/tutorials/generated_videos/rl-video-step-45500-to-step-45550.mp4\n",
      "Moviepy - Building video /imitation/docs/tutorials/generated_videos/rl-video-step-45500-to-step-45550.mp4.\n",
      "Moviepy - Writing video /imitation/docs/tutorials/generated_videos/rl-video-step-45500-to-step-45550.mp4\n",
      "\n"
     ]
    },
    {
     "name": "stderr",
     "output_type": "stream",
     "text": [
      "                                                                                                                                         "
     ]
    },
    {
     "name": "stdout",
     "output_type": "stream",
     "text": [
      "Moviepy - Done !\n",
      "Moviepy - video ready /imitation/docs/tutorials/generated_videos/rl-video-step-45500-to-step-45550.mp4\n"
     ]
    },
    {
     "name": "stderr",
     "output_type": "stream",
     "text": [
      "\r"
     ]
    },
    {
     "name": "stdout",
     "output_type": "stream",
     "text": [
      "Saving video to /imitation/docs/tutorials/generated_videos/rl-video-step-45600-to-step-45650.mp4\n",
      "Moviepy - Building video /imitation/docs/tutorials/generated_videos/rl-video-step-45600-to-step-45650.mp4.\n",
      "Moviepy - Writing video /imitation/docs/tutorials/generated_videos/rl-video-step-45600-to-step-45650.mp4\n",
      "\n"
     ]
    },
    {
     "name": "stderr",
     "output_type": "stream",
     "text": [
      "                                                                                                                                         "
     ]
    },
    {
     "name": "stdout",
     "output_type": "stream",
     "text": [
      "Moviepy - Done !\n",
      "Moviepy - video ready /imitation/docs/tutorials/generated_videos/rl-video-step-45600-to-step-45650.mp4\n"
     ]
    },
    {
     "name": "stderr",
     "output_type": "stream",
     "text": [
      "\r"
     ]
    },
    {
     "name": "stdout",
     "output_type": "stream",
     "text": [
      "Saving video to /imitation/docs/tutorials/generated_videos/rl-video-step-45700-to-step-45750.mp4\n",
      "Moviepy - Building video /imitation/docs/tutorials/generated_videos/rl-video-step-45700-to-step-45750.mp4.\n",
      "Moviepy - Writing video /imitation/docs/tutorials/generated_videos/rl-video-step-45700-to-step-45750.mp4\n",
      "\n"
     ]
    },
    {
     "name": "stderr",
     "output_type": "stream",
     "text": [
      "                                                                                                                                         "
     ]
    },
    {
     "name": "stdout",
     "output_type": "stream",
     "text": [
      "Moviepy - Done !\n",
      "Moviepy - video ready /imitation/docs/tutorials/generated_videos/rl-video-step-45700-to-step-45750.mp4\n"
     ]
    },
    {
     "name": "stderr",
     "output_type": "stream",
     "text": [
      "\r"
     ]
    },
    {
     "name": "stdout",
     "output_type": "stream",
     "text": [
      "Saving video to /imitation/docs/tutorials/generated_videos/rl-video-step-45800-to-step-45850.mp4\n",
      "Moviepy - Building video /imitation/docs/tutorials/generated_videos/rl-video-step-45800-to-step-45850.mp4.\n",
      "Moviepy - Writing video /imitation/docs/tutorials/generated_videos/rl-video-step-45800-to-step-45850.mp4\n",
      "\n"
     ]
    },
    {
     "name": "stderr",
     "output_type": "stream",
     "text": [
      "                                                                                                                                         "
     ]
    },
    {
     "name": "stdout",
     "output_type": "stream",
     "text": [
      "Moviepy - Done !\n",
      "Moviepy - video ready /imitation/docs/tutorials/generated_videos/rl-video-step-45800-to-step-45850.mp4\n"
     ]
    },
    {
     "name": "stderr",
     "output_type": "stream",
     "text": [
      "\r"
     ]
    },
    {
     "name": "stdout",
     "output_type": "stream",
     "text": [
      "Saving video to /imitation/docs/tutorials/generated_videos/rl-video-step-45900-to-step-45950.mp4\n",
      "Moviepy - Building video /imitation/docs/tutorials/generated_videos/rl-video-step-45900-to-step-45950.mp4.\n",
      "Moviepy - Writing video /imitation/docs/tutorials/generated_videos/rl-video-step-45900-to-step-45950.mp4\n",
      "\n"
     ]
    },
    {
     "name": "stderr",
     "output_type": "stream",
     "text": [
      "                                                                                                                                         "
     ]
    },
    {
     "name": "stdout",
     "output_type": "stream",
     "text": [
      "Moviepy - Done !\n",
      "Moviepy - video ready /imitation/docs/tutorials/generated_videos/rl-video-step-45900-to-step-45950.mp4\n"
     ]
    },
    {
     "name": "stderr",
     "output_type": "stream",
     "text": [
      "\r"
     ]
    },
    {
     "name": "stdout",
     "output_type": "stream",
     "text": [
      "Saving video to /imitation/docs/tutorials/generated_videos/rl-video-step-46000-to-step-46050.mp4\n",
      "Moviepy - Building video /imitation/docs/tutorials/generated_videos/rl-video-step-46000-to-step-46050.mp4.\n",
      "Moviepy - Writing video /imitation/docs/tutorials/generated_videos/rl-video-step-46000-to-step-46050.mp4\n",
      "\n"
     ]
    },
    {
     "name": "stderr",
     "output_type": "stream",
     "text": [
      "                                                                                                                                         "
     ]
    },
    {
     "name": "stdout",
     "output_type": "stream",
     "text": [
      "Moviepy - Done !\n",
      "Moviepy - video ready /imitation/docs/tutorials/generated_videos/rl-video-step-46000-to-step-46050.mp4\n"
     ]
    },
    {
     "name": "stderr",
     "output_type": "stream",
     "text": [
      "\r"
     ]
    },
    {
     "name": "stdout",
     "output_type": "stream",
     "text": [
      "Saving video to /imitation/docs/tutorials/generated_videos/rl-video-step-46100-to-step-46150.mp4\n",
      "Moviepy - Building video /imitation/docs/tutorials/generated_videos/rl-video-step-46100-to-step-46150.mp4.\n",
      "Moviepy - Writing video /imitation/docs/tutorials/generated_videos/rl-video-step-46100-to-step-46150.mp4\n",
      "\n"
     ]
    },
    {
     "name": "stderr",
     "output_type": "stream",
     "text": [
      "                                                                                                                                         "
     ]
    },
    {
     "name": "stdout",
     "output_type": "stream",
     "text": [
      "Moviepy - Done !\n",
      "Moviepy - video ready /imitation/docs/tutorials/generated_videos/rl-video-step-46100-to-step-46150.mp4\n"
     ]
    },
    {
     "name": "stderr",
     "output_type": "stream",
     "text": [
      "\r"
     ]
    },
    {
     "name": "stdout",
     "output_type": "stream",
     "text": [
      "Saving video to /imitation/docs/tutorials/generated_videos/rl-video-step-46200-to-step-46250.mp4\n",
      "Moviepy - Building video /imitation/docs/tutorials/generated_videos/rl-video-step-46200-to-step-46250.mp4.\n",
      "Moviepy - Writing video /imitation/docs/tutorials/generated_videos/rl-video-step-46200-to-step-46250.mp4\n",
      "\n"
     ]
    },
    {
     "name": "stderr",
     "output_type": "stream",
     "text": [
      "                                                                                                                                         "
     ]
    },
    {
     "name": "stdout",
     "output_type": "stream",
     "text": [
      "Moviepy - Done !\n",
      "Moviepy - video ready /imitation/docs/tutorials/generated_videos/rl-video-step-46200-to-step-46250.mp4\n"
     ]
    },
    {
     "name": "stderr",
     "output_type": "stream",
     "text": [
      "\r"
     ]
    },
    {
     "name": "stdout",
     "output_type": "stream",
     "text": [
      "Saving video to /imitation/docs/tutorials/generated_videos/rl-video-step-46300-to-step-46350.mp4\n",
      "Moviepy - Building video /imitation/docs/tutorials/generated_videos/rl-video-step-46300-to-step-46350.mp4.\n",
      "Moviepy - Writing video /imitation/docs/tutorials/generated_videos/rl-video-step-46300-to-step-46350.mp4\n",
      "\n"
     ]
    },
    {
     "name": "stderr",
     "output_type": "stream",
     "text": [
      "                                                                                                                                         "
     ]
    },
    {
     "name": "stdout",
     "output_type": "stream",
     "text": [
      "Moviepy - Done !\n",
      "Moviepy - video ready /imitation/docs/tutorials/generated_videos/rl-video-step-46300-to-step-46350.mp4\n"
     ]
    },
    {
     "name": "stderr",
     "output_type": "stream",
     "text": [
      "\r"
     ]
    },
    {
     "name": "stdout",
     "output_type": "stream",
     "text": [
      "Saving video to /imitation/docs/tutorials/generated_videos/rl-video-step-46400-to-step-46450.mp4\n",
      "Moviepy - Building video /imitation/docs/tutorials/generated_videos/rl-video-step-46400-to-step-46450.mp4.\n",
      "Moviepy - Writing video /imitation/docs/tutorials/generated_videos/rl-video-step-46400-to-step-46450.mp4\n",
      "\n"
     ]
    },
    {
     "name": "stderr",
     "output_type": "stream",
     "text": [
      "                                                                                                                                         "
     ]
    },
    {
     "name": "stdout",
     "output_type": "stream",
     "text": [
      "Moviepy - Done !\n",
      "Moviepy - video ready /imitation/docs/tutorials/generated_videos/rl-video-step-46400-to-step-46450.mp4\n"
     ]
    },
    {
     "name": "stderr",
     "output_type": "stream",
     "text": [
      "\r"
     ]
    },
    {
     "name": "stdout",
     "output_type": "stream",
     "text": [
      "Saving video to /imitation/docs/tutorials/generated_videos/rl-video-step-46500-to-step-46550.mp4\n",
      "Moviepy - Building video /imitation/docs/tutorials/generated_videos/rl-video-step-46500-to-step-46550.mp4.\n",
      "Moviepy - Writing video /imitation/docs/tutorials/generated_videos/rl-video-step-46500-to-step-46550.mp4\n",
      "\n"
     ]
    },
    {
     "name": "stderr",
     "output_type": "stream",
     "text": [
      "                                                                                                                                         "
     ]
    },
    {
     "name": "stdout",
     "output_type": "stream",
     "text": [
      "Moviepy - Done !\n",
      "Moviepy - video ready /imitation/docs/tutorials/generated_videos/rl-video-step-46500-to-step-46550.mp4\n"
     ]
    },
    {
     "name": "stderr",
     "output_type": "stream",
     "text": [
      "\r"
     ]
    },
    {
     "name": "stdout",
     "output_type": "stream",
     "text": [
      "Saving video to /imitation/docs/tutorials/generated_videos/rl-video-step-46600-to-step-46650.mp4\n",
      "Moviepy - Building video /imitation/docs/tutorials/generated_videos/rl-video-step-46600-to-step-46650.mp4.\n",
      "Moviepy - Writing video /imitation/docs/tutorials/generated_videos/rl-video-step-46600-to-step-46650.mp4\n",
      "\n"
     ]
    },
    {
     "name": "stderr",
     "output_type": "stream",
     "text": [
      "                                                                                                                                         "
     ]
    },
    {
     "name": "stdout",
     "output_type": "stream",
     "text": [
      "Moviepy - Done !\n",
      "Moviepy - video ready /imitation/docs/tutorials/generated_videos/rl-video-step-46600-to-step-46650.mp4\n"
     ]
    },
    {
     "name": "stderr",
     "output_type": "stream",
     "text": [
      "\r"
     ]
    },
    {
     "name": "stdout",
     "output_type": "stream",
     "text": [
      "Saving video to /imitation/docs/tutorials/generated_videos/rl-video-step-46700-to-step-46750.mp4\n",
      "Moviepy - Building video /imitation/docs/tutorials/generated_videos/rl-video-step-46700-to-step-46750.mp4.\n",
      "Moviepy - Writing video /imitation/docs/tutorials/generated_videos/rl-video-step-46700-to-step-46750.mp4\n",
      "\n"
     ]
    },
    {
     "name": "stderr",
     "output_type": "stream",
     "text": [
      "                                                                                                                                         "
     ]
    },
    {
     "name": "stdout",
     "output_type": "stream",
     "text": [
      "Moviepy - Done !\n",
      "Moviepy - video ready /imitation/docs/tutorials/generated_videos/rl-video-step-46700-to-step-46750.mp4\n"
     ]
    },
    {
     "name": "stderr",
     "output_type": "stream",
     "text": [
      "\r"
     ]
    },
    {
     "name": "stdout",
     "output_type": "stream",
     "text": [
      "Saving video to /imitation/docs/tutorials/generated_videos/rl-video-step-46800-to-step-46850.mp4\n",
      "Moviepy - Building video /imitation/docs/tutorials/generated_videos/rl-video-step-46800-to-step-46850.mp4.\n",
      "Moviepy - Writing video /imitation/docs/tutorials/generated_videos/rl-video-step-46800-to-step-46850.mp4\n",
      "\n"
     ]
    },
    {
     "name": "stderr",
     "output_type": "stream",
     "text": [
      "                                                                                                                                         "
     ]
    },
    {
     "name": "stdout",
     "output_type": "stream",
     "text": [
      "Moviepy - Done !\n",
      "Moviepy - video ready /imitation/docs/tutorials/generated_videos/rl-video-step-46800-to-step-46850.mp4\n"
     ]
    },
    {
     "name": "stderr",
     "output_type": "stream",
     "text": [
      "\r"
     ]
    },
    {
     "name": "stdout",
     "output_type": "stream",
     "text": [
      "Saving video to /imitation/docs/tutorials/generated_videos/rl-video-step-46900-to-step-46950.mp4\n",
      "Moviepy - Building video /imitation/docs/tutorials/generated_videos/rl-video-step-46900-to-step-46950.mp4.\n",
      "Moviepy - Writing video /imitation/docs/tutorials/generated_videos/rl-video-step-46900-to-step-46950.mp4\n",
      "\n"
     ]
    },
    {
     "name": "stderr",
     "output_type": "stream",
     "text": [
      "                                                                                                                                         "
     ]
    },
    {
     "name": "stdout",
     "output_type": "stream",
     "text": [
      "Moviepy - Done !\n",
      "Moviepy - video ready /imitation/docs/tutorials/generated_videos/rl-video-step-46900-to-step-46950.mp4\n"
     ]
    },
    {
     "name": "stderr",
     "output_type": "stream",
     "text": [
      "\r"
     ]
    },
    {
     "name": "stdout",
     "output_type": "stream",
     "text": [
      "Saving video to /imitation/docs/tutorials/generated_videos/rl-video-step-47000-to-step-47050.mp4\n",
      "Moviepy - Building video /imitation/docs/tutorials/generated_videos/rl-video-step-47000-to-step-47050.mp4.\n",
      "Moviepy - Writing video /imitation/docs/tutorials/generated_videos/rl-video-step-47000-to-step-47050.mp4\n",
      "\n"
     ]
    },
    {
     "name": "stderr",
     "output_type": "stream",
     "text": [
      "                                                                                                                                         "
     ]
    },
    {
     "name": "stdout",
     "output_type": "stream",
     "text": [
      "Moviepy - Done !\n",
      "Moviepy - video ready /imitation/docs/tutorials/generated_videos/rl-video-step-47000-to-step-47050.mp4\n"
     ]
    },
    {
     "name": "stderr",
     "output_type": "stream",
     "text": [
      "\r"
     ]
    },
    {
     "name": "stdout",
     "output_type": "stream",
     "text": [
      "Saving video to /imitation/docs/tutorials/generated_videos/rl-video-step-47100-to-step-47150.mp4\n",
      "Moviepy - Building video /imitation/docs/tutorials/generated_videos/rl-video-step-47100-to-step-47150.mp4.\n",
      "Moviepy - Writing video /imitation/docs/tutorials/generated_videos/rl-video-step-47100-to-step-47150.mp4\n",
      "\n"
     ]
    },
    {
     "name": "stderr",
     "output_type": "stream",
     "text": [
      "                                                                                                                                         "
     ]
    },
    {
     "name": "stdout",
     "output_type": "stream",
     "text": [
      "Moviepy - Done !\n",
      "Moviepy - video ready /imitation/docs/tutorials/generated_videos/rl-video-step-47100-to-step-47150.mp4\n"
     ]
    },
    {
     "name": "stderr",
     "output_type": "stream",
     "text": [
      "\r"
     ]
    },
    {
     "name": "stdout",
     "output_type": "stream",
     "text": [
      "Saving video to /imitation/docs/tutorials/generated_videos/rl-video-step-47200-to-step-47250.mp4\n",
      "Moviepy - Building video /imitation/docs/tutorials/generated_videos/rl-video-step-47200-to-step-47250.mp4.\n",
      "Moviepy - Writing video /imitation/docs/tutorials/generated_videos/rl-video-step-47200-to-step-47250.mp4\n",
      "\n"
     ]
    },
    {
     "name": "stderr",
     "output_type": "stream",
     "text": [
      "                                                                                                                                         "
     ]
    },
    {
     "name": "stdout",
     "output_type": "stream",
     "text": [
      "Moviepy - Done !\n",
      "Moviepy - video ready /imitation/docs/tutorials/generated_videos/rl-video-step-47200-to-step-47250.mp4\n"
     ]
    },
    {
     "name": "stderr",
     "output_type": "stream",
     "text": [
      "\r"
     ]
    },
    {
     "name": "stdout",
     "output_type": "stream",
     "text": [
      "Saving video to /imitation/docs/tutorials/generated_videos/rl-video-step-47300-to-step-47350.mp4\n",
      "Moviepy - Building video /imitation/docs/tutorials/generated_videos/rl-video-step-47300-to-step-47350.mp4.\n",
      "Moviepy - Writing video /imitation/docs/tutorials/generated_videos/rl-video-step-47300-to-step-47350.mp4\n",
      "\n"
     ]
    },
    {
     "name": "stderr",
     "output_type": "stream",
     "text": [
      "                                                                                                                                         "
     ]
    },
    {
     "name": "stdout",
     "output_type": "stream",
     "text": [
      "Moviepy - Done !\n",
      "Moviepy - video ready /imitation/docs/tutorials/generated_videos/rl-video-step-47300-to-step-47350.mp4\n"
     ]
    },
    {
     "name": "stderr",
     "output_type": "stream",
     "text": [
      "\r"
     ]
    },
    {
     "name": "stdout",
     "output_type": "stream",
     "text": [
      "Saving video to /imitation/docs/tutorials/generated_videos/rl-video-step-47400-to-step-47450.mp4\n",
      "Moviepy - Building video /imitation/docs/tutorials/generated_videos/rl-video-step-47400-to-step-47450.mp4.\n",
      "Moviepy - Writing video /imitation/docs/tutorials/generated_videos/rl-video-step-47400-to-step-47450.mp4\n",
      "\n"
     ]
    },
    {
     "name": "stderr",
     "output_type": "stream",
     "text": [
      "                                                                                                                                         "
     ]
    },
    {
     "name": "stdout",
     "output_type": "stream",
     "text": [
      "Moviepy - Done !\n",
      "Moviepy - video ready /imitation/docs/tutorials/generated_videos/rl-video-step-47400-to-step-47450.mp4\n",
      "------------------------------------------------------\n",
      "| raw/                                 |             |\n",
      "|    agent/rollout/ep_len_mean         | 50          |\n",
      "|    agent/rollout/ep_rew_mean         | -62.7       |\n",
      "|    agent/rollout/ep_rew_wrapped_mean | -8.28       |\n",
      "|    agent/time/fps                    | 145         |\n",
      "|    agent/time/iterations             | 4           |\n",
      "|    agent/time/time_elapsed           | 56          |\n",
      "|    agent/time/total_timesteps        | 38912       |\n",
      "|    agent/train/approx_kl             | 0.007231047 |\n",
      "|    agent/train/clip_fraction         | 0.281       |\n",
      "|    agent/train/clip_range            | 0.1         |\n",
      "|    agent/train/entropy_loss          | -2.81       |\n",
      "|    agent/train/explained_variance    | 0.919       |\n",
      "|    agent/train/learning_rate         | 0.002       |\n",
      "|    agent/train/loss                  | -0.0307     |\n",
      "|    agent/train/n_updates             | 180         |\n",
      "|    agent/train/policy_gradient_loss  | -0.00924    |\n",
      "|    agent/train/std                   | 0.987       |\n",
      "|    agent/train/value_loss            | 0.0157      |\n",
      "------------------------------------------------------\n"
     ]
    },
    {
     "name": "stderr",
     "output_type": "stream",
     "text": [
      "\r"
     ]
    },
    {
     "name": "stdout",
     "output_type": "stream",
     "text": [
      "Saving video to /imitation/docs/tutorials/generated_videos/rl-video-step-47500-to-step-47550.mp4\n",
      "Moviepy - Building video /imitation/docs/tutorials/generated_videos/rl-video-step-47500-to-step-47550.mp4.\n",
      "Moviepy - Writing video /imitation/docs/tutorials/generated_videos/rl-video-step-47500-to-step-47550.mp4\n",
      "\n"
     ]
    },
    {
     "name": "stderr",
     "output_type": "stream",
     "text": [
      "                                                                                                                                         "
     ]
    },
    {
     "name": "stdout",
     "output_type": "stream",
     "text": [
      "Moviepy - Done !\n",
      "Moviepy - video ready /imitation/docs/tutorials/generated_videos/rl-video-step-47500-to-step-47550.mp4\n"
     ]
    },
    {
     "name": "stderr",
     "output_type": "stream",
     "text": [
      "\r"
     ]
    },
    {
     "name": "stdout",
     "output_type": "stream",
     "text": [
      "Saving video to /imitation/docs/tutorials/generated_videos/rl-video-step-47600-to-step-47650.mp4\n",
      "Moviepy - Building video /imitation/docs/tutorials/generated_videos/rl-video-step-47600-to-step-47650.mp4.\n",
      "Moviepy - Writing video /imitation/docs/tutorials/generated_videos/rl-video-step-47600-to-step-47650.mp4\n",
      "\n"
     ]
    },
    {
     "name": "stderr",
     "output_type": "stream",
     "text": [
      "                                                                                                                                         "
     ]
    },
    {
     "name": "stdout",
     "output_type": "stream",
     "text": [
      "Moviepy - Done !\n",
      "Moviepy - video ready /imitation/docs/tutorials/generated_videos/rl-video-step-47600-to-step-47650.mp4\n"
     ]
    },
    {
     "name": "stderr",
     "output_type": "stream",
     "text": [
      "\r"
     ]
    },
    {
     "name": "stdout",
     "output_type": "stream",
     "text": [
      "Saving video to /imitation/docs/tutorials/generated_videos/rl-video-step-47700-to-step-47750.mp4\n",
      "Moviepy - Building video /imitation/docs/tutorials/generated_videos/rl-video-step-47700-to-step-47750.mp4.\n",
      "Moviepy - Writing video /imitation/docs/tutorials/generated_videos/rl-video-step-47700-to-step-47750.mp4\n",
      "\n"
     ]
    },
    {
     "name": "stderr",
     "output_type": "stream",
     "text": [
      "                                                                                                                                         "
     ]
    },
    {
     "name": "stdout",
     "output_type": "stream",
     "text": [
      "Moviepy - Done !\n",
      "Moviepy - video ready /imitation/docs/tutorials/generated_videos/rl-video-step-47700-to-step-47750.mp4\n"
     ]
    },
    {
     "name": "stderr",
     "output_type": "stream",
     "text": [
      "\r"
     ]
    },
    {
     "name": "stdout",
     "output_type": "stream",
     "text": [
      "Saving video to /imitation/docs/tutorials/generated_videos/rl-video-step-47800-to-step-47850.mp4\n",
      "Moviepy - Building video /imitation/docs/tutorials/generated_videos/rl-video-step-47800-to-step-47850.mp4.\n",
      "Moviepy - Writing video /imitation/docs/tutorials/generated_videos/rl-video-step-47800-to-step-47850.mp4\n",
      "\n"
     ]
    },
    {
     "name": "stderr",
     "output_type": "stream",
     "text": [
      "                                                                                                                                         "
     ]
    },
    {
     "name": "stdout",
     "output_type": "stream",
     "text": [
      "Moviepy - Done !\n",
      "Moviepy - video ready /imitation/docs/tutorials/generated_videos/rl-video-step-47800-to-step-47850.mp4\n"
     ]
    },
    {
     "name": "stderr",
     "output_type": "stream",
     "text": [
      "\r"
     ]
    },
    {
     "name": "stdout",
     "output_type": "stream",
     "text": [
      "Saving video to /imitation/docs/tutorials/generated_videos/rl-video-step-47900-to-step-47950.mp4\n",
      "Moviepy - Building video /imitation/docs/tutorials/generated_videos/rl-video-step-47900-to-step-47950.mp4.\n",
      "Moviepy - Writing video /imitation/docs/tutorials/generated_videos/rl-video-step-47900-to-step-47950.mp4\n",
      "\n"
     ]
    },
    {
     "name": "stderr",
     "output_type": "stream",
     "text": [
      "                                                                                                                                         "
     ]
    },
    {
     "name": "stdout",
     "output_type": "stream",
     "text": [
      "Moviepy - Done !\n",
      "Moviepy - video ready /imitation/docs/tutorials/generated_videos/rl-video-step-47900-to-step-47950.mp4\n"
     ]
    },
    {
     "name": "stderr",
     "output_type": "stream",
     "text": [
      "\r"
     ]
    },
    {
     "name": "stdout",
     "output_type": "stream",
     "text": [
      "Saving video to /imitation/docs/tutorials/generated_videos/rl-video-step-48000-to-step-48050.mp4\n",
      "Moviepy - Building video /imitation/docs/tutorials/generated_videos/rl-video-step-48000-to-step-48050.mp4.\n",
      "Moviepy - Writing video /imitation/docs/tutorials/generated_videos/rl-video-step-48000-to-step-48050.mp4\n",
      "\n"
     ]
    },
    {
     "name": "stderr",
     "output_type": "stream",
     "text": [
      "                                                                                                                                         "
     ]
    },
    {
     "name": "stdout",
     "output_type": "stream",
     "text": [
      "Moviepy - Done !\n",
      "Moviepy - video ready /imitation/docs/tutorials/generated_videos/rl-video-step-48000-to-step-48050.mp4\n"
     ]
    },
    {
     "name": "stderr",
     "output_type": "stream",
     "text": [
      "\r"
     ]
    },
    {
     "name": "stdout",
     "output_type": "stream",
     "text": [
      "Saving video to /imitation/docs/tutorials/generated_videos/rl-video-step-48100-to-step-48150.mp4\n",
      "Moviepy - Building video /imitation/docs/tutorials/generated_videos/rl-video-step-48100-to-step-48150.mp4.\n",
      "Moviepy - Writing video /imitation/docs/tutorials/generated_videos/rl-video-step-48100-to-step-48150.mp4\n",
      "\n"
     ]
    },
    {
     "name": "stderr",
     "output_type": "stream",
     "text": [
      "                                                                                                                                         "
     ]
    },
    {
     "name": "stdout",
     "output_type": "stream",
     "text": [
      "Moviepy - Done !\n",
      "Moviepy - video ready /imitation/docs/tutorials/generated_videos/rl-video-step-48100-to-step-48150.mp4\n"
     ]
    },
    {
     "name": "stderr",
     "output_type": "stream",
     "text": [
      "\r"
     ]
    },
    {
     "name": "stdout",
     "output_type": "stream",
     "text": [
      "Saving video to /imitation/docs/tutorials/generated_videos/rl-video-step-48200-to-step-48250.mp4\n",
      "Moviepy - Building video /imitation/docs/tutorials/generated_videos/rl-video-step-48200-to-step-48250.mp4.\n",
      "Moviepy - Writing video /imitation/docs/tutorials/generated_videos/rl-video-step-48200-to-step-48250.mp4\n",
      "\n"
     ]
    },
    {
     "name": "stderr",
     "output_type": "stream",
     "text": [
      "                                                                                                                                         "
     ]
    },
    {
     "name": "stdout",
     "output_type": "stream",
     "text": [
      "Moviepy - Done !\n",
      "Moviepy - video ready /imitation/docs/tutorials/generated_videos/rl-video-step-48200-to-step-48250.mp4\n"
     ]
    },
    {
     "name": "stderr",
     "output_type": "stream",
     "text": [
      "\r"
     ]
    },
    {
     "name": "stdout",
     "output_type": "stream",
     "text": [
      "Saving video to /imitation/docs/tutorials/generated_videos/rl-video-step-48300-to-step-48350.mp4\n",
      "Moviepy - Building video /imitation/docs/tutorials/generated_videos/rl-video-step-48300-to-step-48350.mp4.\n",
      "Moviepy - Writing video /imitation/docs/tutorials/generated_videos/rl-video-step-48300-to-step-48350.mp4\n",
      "\n"
     ]
    },
    {
     "name": "stderr",
     "output_type": "stream",
     "text": [
      "                                                                                                                                         "
     ]
    },
    {
     "name": "stdout",
     "output_type": "stream",
     "text": [
      "Moviepy - Done !\n",
      "Moviepy - video ready /imitation/docs/tutorials/generated_videos/rl-video-step-48300-to-step-48350.mp4\n"
     ]
    },
    {
     "name": "stderr",
     "output_type": "stream",
     "text": [
      "\r"
     ]
    },
    {
     "name": "stdout",
     "output_type": "stream",
     "text": [
      "Saving video to /imitation/docs/tutorials/generated_videos/rl-video-step-48400-to-step-48450.mp4\n",
      "Moviepy - Building video /imitation/docs/tutorials/generated_videos/rl-video-step-48400-to-step-48450.mp4.\n",
      "Moviepy - Writing video /imitation/docs/tutorials/generated_videos/rl-video-step-48400-to-step-48450.mp4\n",
      "\n"
     ]
    },
    {
     "name": "stderr",
     "output_type": "stream",
     "text": [
      "                                                                                                                                         "
     ]
    },
    {
     "name": "stdout",
     "output_type": "stream",
     "text": [
      "Moviepy - Done !\n",
      "Moviepy - video ready /imitation/docs/tutorials/generated_videos/rl-video-step-48400-to-step-48450.mp4\n"
     ]
    },
    {
     "name": "stderr",
     "output_type": "stream",
     "text": [
      "\r"
     ]
    },
    {
     "name": "stdout",
     "output_type": "stream",
     "text": [
      "Saving video to /imitation/docs/tutorials/generated_videos/rl-video-step-48500-to-step-48550.mp4\n",
      "Moviepy - Building video /imitation/docs/tutorials/generated_videos/rl-video-step-48500-to-step-48550.mp4.\n",
      "Moviepy - Writing video /imitation/docs/tutorials/generated_videos/rl-video-step-48500-to-step-48550.mp4\n",
      "\n"
     ]
    },
    {
     "name": "stderr",
     "output_type": "stream",
     "text": [
      "                                                                                                                                         "
     ]
    },
    {
     "name": "stdout",
     "output_type": "stream",
     "text": [
      "Moviepy - Done !\n",
      "Moviepy - video ready /imitation/docs/tutorials/generated_videos/rl-video-step-48500-to-step-48550.mp4\n"
     ]
    },
    {
     "name": "stderr",
     "output_type": "stream",
     "text": [
      "\r"
     ]
    },
    {
     "name": "stdout",
     "output_type": "stream",
     "text": [
      "Saving video to /imitation/docs/tutorials/generated_videos/rl-video-step-48600-to-step-48650.mp4\n",
      "Moviepy - Building video /imitation/docs/tutorials/generated_videos/rl-video-step-48600-to-step-48650.mp4.\n",
      "Moviepy - Writing video /imitation/docs/tutorials/generated_videos/rl-video-step-48600-to-step-48650.mp4\n",
      "\n"
     ]
    },
    {
     "name": "stderr",
     "output_type": "stream",
     "text": [
      "                                                                                                                                         "
     ]
    },
    {
     "name": "stdout",
     "output_type": "stream",
     "text": [
      "Moviepy - Done !\n",
      "Moviepy - video ready /imitation/docs/tutorials/generated_videos/rl-video-step-48600-to-step-48650.mp4\n"
     ]
    },
    {
     "name": "stderr",
     "output_type": "stream",
     "text": [
      "\r"
     ]
    },
    {
     "name": "stdout",
     "output_type": "stream",
     "text": [
      "Saving video to /imitation/docs/tutorials/generated_videos/rl-video-step-48700-to-step-48750.mp4\n",
      "Moviepy - Building video /imitation/docs/tutorials/generated_videos/rl-video-step-48700-to-step-48750.mp4.\n",
      "Moviepy - Writing video /imitation/docs/tutorials/generated_videos/rl-video-step-48700-to-step-48750.mp4\n",
      "\n"
     ]
    },
    {
     "name": "stderr",
     "output_type": "stream",
     "text": [
      "                                                                                                                                         "
     ]
    },
    {
     "name": "stdout",
     "output_type": "stream",
     "text": [
      "Moviepy - Done !\n",
      "Moviepy - video ready /imitation/docs/tutorials/generated_videos/rl-video-step-48700-to-step-48750.mp4\n"
     ]
    },
    {
     "name": "stderr",
     "output_type": "stream",
     "text": [
      "\r"
     ]
    },
    {
     "name": "stdout",
     "output_type": "stream",
     "text": [
      "Saving video to /imitation/docs/tutorials/generated_videos/rl-video-step-48800-to-step-48850.mp4\n",
      "Moviepy - Building video /imitation/docs/tutorials/generated_videos/rl-video-step-48800-to-step-48850.mp4.\n",
      "Moviepy - Writing video /imitation/docs/tutorials/generated_videos/rl-video-step-48800-to-step-48850.mp4\n",
      "\n"
     ]
    },
    {
     "name": "stderr",
     "output_type": "stream",
     "text": [
      "                                                                                                                                         "
     ]
    },
    {
     "name": "stdout",
     "output_type": "stream",
     "text": [
      "Moviepy - Done !\n",
      "Moviepy - video ready /imitation/docs/tutorials/generated_videos/rl-video-step-48800-to-step-48850.mp4\n"
     ]
    },
    {
     "name": "stderr",
     "output_type": "stream",
     "text": [
      "\r"
     ]
    },
    {
     "name": "stdout",
     "output_type": "stream",
     "text": [
      "Saving video to /imitation/docs/tutorials/generated_videos/rl-video-step-48900-to-step-48950.mp4\n",
      "Moviepy - Building video /imitation/docs/tutorials/generated_videos/rl-video-step-48900-to-step-48950.mp4.\n",
      "Moviepy - Writing video /imitation/docs/tutorials/generated_videos/rl-video-step-48900-to-step-48950.mp4\n",
      "\n"
     ]
    },
    {
     "name": "stderr",
     "output_type": "stream",
     "text": [
      "                                                                                                                                         "
     ]
    },
    {
     "name": "stdout",
     "output_type": "stream",
     "text": [
      "Moviepy - Done !\n",
      "Moviepy - video ready /imitation/docs/tutorials/generated_videos/rl-video-step-48900-to-step-48950.mp4\n"
     ]
    },
    {
     "name": "stderr",
     "output_type": "stream",
     "text": [
      "\r"
     ]
    },
    {
     "name": "stdout",
     "output_type": "stream",
     "text": [
      "Saving video to /imitation/docs/tutorials/generated_videos/rl-video-step-49000-to-step-49050.mp4\n",
      "Moviepy - Building video /imitation/docs/tutorials/generated_videos/rl-video-step-49000-to-step-49050.mp4.\n",
      "Moviepy - Writing video /imitation/docs/tutorials/generated_videos/rl-video-step-49000-to-step-49050.mp4\n",
      "\n"
     ]
    },
    {
     "name": "stderr",
     "output_type": "stream",
     "text": [
      "                                                                                                                                         "
     ]
    },
    {
     "name": "stdout",
     "output_type": "stream",
     "text": [
      "Moviepy - Done !\n",
      "Moviepy - video ready /imitation/docs/tutorials/generated_videos/rl-video-step-49000-to-step-49050.mp4\n"
     ]
    },
    {
     "name": "stderr",
     "output_type": "stream",
     "text": [
      "\r"
     ]
    },
    {
     "name": "stdout",
     "output_type": "stream",
     "text": [
      "Saving video to /imitation/docs/tutorials/generated_videos/rl-video-step-49100-to-step-49150.mp4\n",
      "Moviepy - Building video /imitation/docs/tutorials/generated_videos/rl-video-step-49100-to-step-49150.mp4.\n",
      "Moviepy - Writing video /imitation/docs/tutorials/generated_videos/rl-video-step-49100-to-step-49150.mp4\n",
      "\n"
     ]
    },
    {
     "name": "stderr",
     "output_type": "stream",
     "text": [
      "                                                                                                                                         "
     ]
    },
    {
     "name": "stdout",
     "output_type": "stream",
     "text": [
      "Moviepy - Done !\n",
      "Moviepy - video ready /imitation/docs/tutorials/generated_videos/rl-video-step-49100-to-step-49150.mp4\n"
     ]
    },
    {
     "name": "stderr",
     "output_type": "stream",
     "text": [
      "\r"
     ]
    },
    {
     "name": "stdout",
     "output_type": "stream",
     "text": [
      "Saving video to /imitation/docs/tutorials/generated_videos/rl-video-step-49200-to-step-49250.mp4\n",
      "Moviepy - Building video /imitation/docs/tutorials/generated_videos/rl-video-step-49200-to-step-49250.mp4.\n",
      "Moviepy - Writing video /imitation/docs/tutorials/generated_videos/rl-video-step-49200-to-step-49250.mp4\n",
      "\n"
     ]
    },
    {
     "name": "stderr",
     "output_type": "stream",
     "text": [
      "                                                                                                                                         "
     ]
    },
    {
     "name": "stdout",
     "output_type": "stream",
     "text": [
      "Moviepy - Done !\n",
      "Moviepy - video ready /imitation/docs/tutorials/generated_videos/rl-video-step-49200-to-step-49250.mp4\n"
     ]
    },
    {
     "name": "stderr",
     "output_type": "stream",
     "text": [
      "\r"
     ]
    },
    {
     "name": "stdout",
     "output_type": "stream",
     "text": [
      "Saving video to /imitation/docs/tutorials/generated_videos/rl-video-step-49300-to-step-49350.mp4\n",
      "Moviepy - Building video /imitation/docs/tutorials/generated_videos/rl-video-step-49300-to-step-49350.mp4.\n",
      "Moviepy - Writing video /imitation/docs/tutorials/generated_videos/rl-video-step-49300-to-step-49350.mp4\n",
      "\n"
     ]
    },
    {
     "name": "stderr",
     "output_type": "stream",
     "text": [
      "                                                                                                                                         "
     ]
    },
    {
     "name": "stdout",
     "output_type": "stream",
     "text": [
      "Moviepy - Done !\n",
      "Moviepy - video ready /imitation/docs/tutorials/generated_videos/rl-video-step-49300-to-step-49350.mp4\n"
     ]
    },
    {
     "name": "stderr",
     "output_type": "stream",
     "text": [
      "\r"
     ]
    },
    {
     "name": "stdout",
     "output_type": "stream",
     "text": [
      "Saving video to /imitation/docs/tutorials/generated_videos/rl-video-step-49400-to-step-49450.mp4\n",
      "Moviepy - Building video /imitation/docs/tutorials/generated_videos/rl-video-step-49400-to-step-49450.mp4.\n",
      "Moviepy - Writing video /imitation/docs/tutorials/generated_videos/rl-video-step-49400-to-step-49450.mp4\n",
      "\n"
     ]
    },
    {
     "name": "stderr",
     "output_type": "stream",
     "text": [
      "                                                                                                                                         "
     ]
    },
    {
     "name": "stdout",
     "output_type": "stream",
     "text": [
      "Moviepy - Done !\n",
      "Moviepy - video ready /imitation/docs/tutorials/generated_videos/rl-video-step-49400-to-step-49450.mp4\n"
     ]
    },
    {
     "name": "stderr",
     "output_type": "stream",
     "text": [
      "\r"
     ]
    },
    {
     "name": "stdout",
     "output_type": "stream",
     "text": [
      "------------------------------------------------------\n",
      "| raw/                                 |             |\n",
      "|    agent/rollout/ep_len_mean         | 50          |\n",
      "|    agent/rollout/ep_rew_mean         | -62.6       |\n",
      "|    agent/rollout/ep_rew_wrapped_mean | -8.12       |\n",
      "|    agent/time/fps                    | 144         |\n",
      "|    agent/time/iterations             | 5           |\n",
      "|    agent/time/time_elapsed           | 70          |\n",
      "|    agent/time/total_timesteps        | 40960       |\n",
      "|    agent/train/approx_kl             | 0.009654111 |\n",
      "|    agent/train/clip_fraction         | 0.331       |\n",
      "|    agent/train/clip_range            | 0.1         |\n",
      "|    agent/train/entropy_loss          | -2.78       |\n",
      "|    agent/train/explained_variance    | 0.943       |\n",
      "|    agent/train/learning_rate         | 0.002       |\n",
      "|    agent/train/loss                  | -0.0311     |\n",
      "|    agent/train/n_updates             | 190         |\n",
      "|    agent/train/policy_gradient_loss  | -0.0117     |\n",
      "|    agent/train/std                   | 0.968       |\n",
      "|    agent/train/value_loss            | 0.0117      |\n",
      "------------------------------------------------------\n",
      "-----------------------------------------------------\n",
      "| mean/                                  |          |\n",
      "|    agent/rollout/ep_len_mean           | 50       |\n",
      "|    agent/rollout/ep_rew_mean           | -63.3    |\n",
      "|    agent/rollout/ep_rew_wrapped_mean   | -7.74    |\n",
      "|    agent/time/fps                      | 147      |\n",
      "|    agent/time/iterations               | 3        |\n",
      "|    agent/time/time_elapsed             | 41.4     |\n",
      "|    agent/time/total_timesteps          | 3.69e+04 |\n",
      "|    agent/train/approx_kl               | 0.00828  |\n",
      "|    agent/train/clip_fraction           | 0.294    |\n",
      "|    agent/train/clip_range              | 0.1      |\n",
      "|    agent/train/entropy_loss            | -2.8     |\n",
      "|    agent/train/explained_variance      | 0.923    |\n",
      "|    agent/train/learning_rate           | 0.002    |\n",
      "|    agent/train/loss                    | -0.0391  |\n",
      "|    agent/train/n_updates               | 180      |\n",
      "|    agent/train/policy_gradient_loss    | -0.00938 |\n",
      "|    agent/train/std                     | 0.98     |\n",
      "|    agent/train/value_loss              | 0.0177   |\n",
      "|    preferences/entropy                 | 0.208    |\n",
      "|    reward/epoch-0/train/accuracy       | 0.685    |\n",
      "|    reward/epoch-0/train/gt_reward_loss | 0.178    |\n",
      "|    reward/epoch-0/train/loss           | 0.577    |\n",
      "|    reward/epoch-1/train/accuracy       | 0.705    |\n",
      "|    reward/epoch-1/train/gt_reward_loss | 0.19     |\n",
      "|    reward/epoch-1/train/loss           | 0.543    |\n",
      "|    reward/epoch-2/train/accuracy       | 0.727    |\n",
      "|    reward/epoch-2/train/gt_reward_loss | 0.181    |\n",
      "|    reward/epoch-2/train/loss           | 0.534    |\n",
      "| reward/                                |          |\n",
      "|    final/train/accuracy                | 0.727    |\n",
      "|    final/train/gt_reward_loss          | 0.181    |\n",
      "|    final/train/loss                    | 0.534    |\n",
      "-----------------------------------------------------\n",
      "Collecting 146 fragments (7300 transitions)\n",
      "Sampling 365 exploratory transitions.\n",
      "Moviepy - Building video /imitation/docs/tutorials/generated_videos/rl-video-step-49500-to-step-49550.mp4.\n",
      "Moviepy - Writing video /imitation/docs/tutorials/generated_videos/rl-video-step-49500-to-step-49550.mp4\n",
      "\n"
     ]
    },
    {
     "name": "stderr",
     "output_type": "stream",
     "text": [
      "                                                                                                                                         "
     ]
    },
    {
     "name": "stdout",
     "output_type": "stream",
     "text": [
      "Moviepy - Done !\n",
      "Moviepy - video ready /imitation/docs/tutorials/generated_videos/rl-video-step-49500-to-step-49550.mp4\n"
     ]
    },
    {
     "name": "stderr",
     "output_type": "stream",
     "text": [
      "\r"
     ]
    },
    {
     "name": "stdout",
     "output_type": "stream",
     "text": [
      "Saving video to /imitation/docs/tutorials/generated_videos/rl-video-step-49510-to-step-49560.mp4\n",
      "Moviepy - Building video /imitation/docs/tutorials/generated_videos/rl-video-step-49510-to-step-49560.mp4.\n",
      "Moviepy - Writing video /imitation/docs/tutorials/generated_videos/rl-video-step-49510-to-step-49560.mp4\n",
      "\n"
     ]
    },
    {
     "name": "stderr",
     "output_type": "stream",
     "text": [
      "                                                                                                                                         "
     ]
    },
    {
     "name": "stdout",
     "output_type": "stream",
     "text": [
      "Moviepy - Done !\n",
      "Moviepy - video ready /imitation/docs/tutorials/generated_videos/rl-video-step-49510-to-step-49560.mp4\n"
     ]
    },
    {
     "name": "stderr",
     "output_type": "stream",
     "text": [
      "\r"
     ]
    },
    {
     "name": "stdout",
     "output_type": "stream",
     "text": [
      "Saving video to /imitation/docs/tutorials/generated_videos/rl-video-step-49600-to-step-49650.mp4\n",
      "Moviepy - Building video /imitation/docs/tutorials/generated_videos/rl-video-step-49600-to-step-49650.mp4.\n",
      "Moviepy - Writing video /imitation/docs/tutorials/generated_videos/rl-video-step-49600-to-step-49650.mp4\n",
      "\n"
     ]
    },
    {
     "name": "stderr",
     "output_type": "stream",
     "text": [
      "                                                                                                                                         "
     ]
    },
    {
     "name": "stdout",
     "output_type": "stream",
     "text": [
      "Moviepy - Done !\n",
      "Moviepy - video ready /imitation/docs/tutorials/generated_videos/rl-video-step-49600-to-step-49650.mp4\n"
     ]
    },
    {
     "name": "stderr",
     "output_type": "stream",
     "text": [
      "\r"
     ]
    },
    {
     "name": "stdout",
     "output_type": "stream",
     "text": [
      "Saving video to /imitation/docs/tutorials/generated_videos/rl-video-step-49700-to-step-49750.mp4\n",
      "Moviepy - Building video /imitation/docs/tutorials/generated_videos/rl-video-step-49700-to-step-49750.mp4.\n",
      "Moviepy - Writing video /imitation/docs/tutorials/generated_videos/rl-video-step-49700-to-step-49750.mp4\n",
      "\n"
     ]
    },
    {
     "name": "stderr",
     "output_type": "stream",
     "text": [
      "                                                                                                                                         "
     ]
    },
    {
     "name": "stdout",
     "output_type": "stream",
     "text": [
      "Moviepy - Done !\n",
      "Moviepy - video ready /imitation/docs/tutorials/generated_videos/rl-video-step-49700-to-step-49750.mp4\n"
     ]
    },
    {
     "name": "stderr",
     "output_type": "stream",
     "text": [
      "\r"
     ]
    },
    {
     "name": "stdout",
     "output_type": "stream",
     "text": [
      "Saving video to /imitation/docs/tutorials/generated_videos/rl-video-step-49800-to-step-49850.mp4\n",
      "Moviepy - Building video /imitation/docs/tutorials/generated_videos/rl-video-step-49800-to-step-49850.mp4.\n",
      "Moviepy - Writing video /imitation/docs/tutorials/generated_videos/rl-video-step-49800-to-step-49850.mp4\n",
      "\n"
     ]
    },
    {
     "name": "stderr",
     "output_type": "stream",
     "text": [
      "                                                                                                                                         "
     ]
    },
    {
     "name": "stdout",
     "output_type": "stream",
     "text": [
      "Moviepy - Done !\n",
      "Moviepy - video ready /imitation/docs/tutorials/generated_videos/rl-video-step-49800-to-step-49850.mp4\n"
     ]
    },
    {
     "name": "stderr",
     "output_type": "stream",
     "text": [
      "\r"
     ]
    },
    {
     "name": "stdout",
     "output_type": "stream",
     "text": [
      "Creating fragment pairs\n",
      "Gathering preferences\n",
      "Dataset now contains 437 comparisons\n"
     ]
    },
    {
     "data": {
      "application/vnd.jupyter.widget-view+json": {
       "model_id": "29c00a1320b1484a87f3709595ec5c63",
       "version_major": 2,
       "version_minor": 0
      },
      "text/plain": [
       "Training reward model:   0%|          | 0/3 [00:00<?, ?it/s]"
      ]
     },
     "metadata": {},
     "output_type": "display_data"
    },
    {
     "name": "stdout",
     "output_type": "stream",
     "text": [
      "Training agent for 10000 timesteps\n",
      "Saving video to /imitation/docs/tutorials/generated_videos/rl-video-step-49900-to-step-49950.mp4\n",
      "Moviepy - Building video /imitation/docs/tutorials/generated_videos/rl-video-step-49900-to-step-49950.mp4.\n",
      "Moviepy - Writing video /imitation/docs/tutorials/generated_videos/rl-video-step-49900-to-step-49950.mp4\n",
      "\n"
     ]
    },
    {
     "name": "stderr",
     "output_type": "stream",
     "text": [
      "                                                                                                                                         "
     ]
    },
    {
     "name": "stdout",
     "output_type": "stream",
     "text": [
      "Moviepy - Done !\n",
      "Moviepy - video ready /imitation/docs/tutorials/generated_videos/rl-video-step-49900-to-step-49950.mp4\n"
     ]
    },
    {
     "name": "stderr",
     "output_type": "stream",
     "text": [
      "\r"
     ]
    },
    {
     "name": "stdout",
     "output_type": "stream",
     "text": [
      "Saving video to /imitation/docs/tutorials/generated_videos/rl-video-step-50000-to-step-50050.mp4\n",
      "Moviepy - Building video /imitation/docs/tutorials/generated_videos/rl-video-step-50000-to-step-50050.mp4.\n",
      "Moviepy - Writing video /imitation/docs/tutorials/generated_videos/rl-video-step-50000-to-step-50050.mp4\n",
      "\n"
     ]
    },
    {
     "name": "stderr",
     "output_type": "stream",
     "text": [
      "                                                                                                                                         "
     ]
    },
    {
     "name": "stdout",
     "output_type": "stream",
     "text": [
      "Moviepy - Done !\n",
      "Moviepy - video ready /imitation/docs/tutorials/generated_videos/rl-video-step-50000-to-step-50050.mp4\n"
     ]
    },
    {
     "name": "stderr",
     "output_type": "stream",
     "text": [
      "\r"
     ]
    },
    {
     "name": "stdout",
     "output_type": "stream",
     "text": [
      "Saving video to /imitation/docs/tutorials/generated_videos/rl-video-step-50100-to-step-50150.mp4\n",
      "Moviepy - Building video /imitation/docs/tutorials/generated_videos/rl-video-step-50100-to-step-50150.mp4.\n",
      "Moviepy - Writing video /imitation/docs/tutorials/generated_videos/rl-video-step-50100-to-step-50150.mp4\n",
      "\n"
     ]
    },
    {
     "name": "stderr",
     "output_type": "stream",
     "text": [
      "                                                                                                                                         "
     ]
    },
    {
     "name": "stdout",
     "output_type": "stream",
     "text": [
      "Moviepy - Done !\n",
      "Moviepy - video ready /imitation/docs/tutorials/generated_videos/rl-video-step-50100-to-step-50150.mp4\n"
     ]
    },
    {
     "name": "stderr",
     "output_type": "stream",
     "text": [
      "\r"
     ]
    },
    {
     "name": "stdout",
     "output_type": "stream",
     "text": [
      "Saving video to /imitation/docs/tutorials/generated_videos/rl-video-step-50200-to-step-50250.mp4\n",
      "Moviepy - Building video /imitation/docs/tutorials/generated_videos/rl-video-step-50200-to-step-50250.mp4.\n",
      "Moviepy - Writing video /imitation/docs/tutorials/generated_videos/rl-video-step-50200-to-step-50250.mp4\n",
      "\n"
     ]
    },
    {
     "name": "stderr",
     "output_type": "stream",
     "text": [
      "                                                                                                                                         "
     ]
    },
    {
     "name": "stdout",
     "output_type": "stream",
     "text": [
      "Moviepy - Done !\n",
      "Moviepy - video ready /imitation/docs/tutorials/generated_videos/rl-video-step-50200-to-step-50250.mp4\n"
     ]
    },
    {
     "name": "stderr",
     "output_type": "stream",
     "text": [
      "\r"
     ]
    },
    {
     "name": "stdout",
     "output_type": "stream",
     "text": [
      "Saving video to /imitation/docs/tutorials/generated_videos/rl-video-step-50300-to-step-50350.mp4\n",
      "Moviepy - Building video /imitation/docs/tutorials/generated_videos/rl-video-step-50300-to-step-50350.mp4.\n",
      "Moviepy - Writing video /imitation/docs/tutorials/generated_videos/rl-video-step-50300-to-step-50350.mp4\n",
      "\n"
     ]
    },
    {
     "name": "stderr",
     "output_type": "stream",
     "text": [
      "                                                                                                                                         "
     ]
    },
    {
     "name": "stdout",
     "output_type": "stream",
     "text": [
      "Moviepy - Done !\n",
      "Moviepy - video ready /imitation/docs/tutorials/generated_videos/rl-video-step-50300-to-step-50350.mp4\n"
     ]
    },
    {
     "name": "stderr",
     "output_type": "stream",
     "text": [
      "\r"
     ]
    },
    {
     "name": "stdout",
     "output_type": "stream",
     "text": [
      "Saving video to /imitation/docs/tutorials/generated_videos/rl-video-step-50400-to-step-50450.mp4\n",
      "Moviepy - Building video /imitation/docs/tutorials/generated_videos/rl-video-step-50400-to-step-50450.mp4.\n",
      "Moviepy - Writing video /imitation/docs/tutorials/generated_videos/rl-video-step-50400-to-step-50450.mp4\n",
      "\n"
     ]
    },
    {
     "name": "stderr",
     "output_type": "stream",
     "text": [
      "                                                                                                                                         "
     ]
    },
    {
     "name": "stdout",
     "output_type": "stream",
     "text": [
      "Moviepy - Done !\n",
      "Moviepy - video ready /imitation/docs/tutorials/generated_videos/rl-video-step-50400-to-step-50450.mp4\n"
     ]
    },
    {
     "name": "stderr",
     "output_type": "stream",
     "text": [
      "\r"
     ]
    },
    {
     "name": "stdout",
     "output_type": "stream",
     "text": [
      "Saving video to /imitation/docs/tutorials/generated_videos/rl-video-step-50500-to-step-50550.mp4\n",
      "Moviepy - Building video /imitation/docs/tutorials/generated_videos/rl-video-step-50500-to-step-50550.mp4.\n",
      "Moviepy - Writing video /imitation/docs/tutorials/generated_videos/rl-video-step-50500-to-step-50550.mp4\n",
      "\n"
     ]
    },
    {
     "name": "stderr",
     "output_type": "stream",
     "text": [
      "                                                                                                                                         "
     ]
    },
    {
     "name": "stdout",
     "output_type": "stream",
     "text": [
      "Moviepy - Done !\n",
      "Moviepy - video ready /imitation/docs/tutorials/generated_videos/rl-video-step-50500-to-step-50550.mp4\n"
     ]
    },
    {
     "name": "stderr",
     "output_type": "stream",
     "text": [
      "\r"
     ]
    },
    {
     "name": "stdout",
     "output_type": "stream",
     "text": [
      "Saving video to /imitation/docs/tutorials/generated_videos/rl-video-step-50600-to-step-50650.mp4\n",
      "Moviepy - Building video /imitation/docs/tutorials/generated_videos/rl-video-step-50600-to-step-50650.mp4.\n",
      "Moviepy - Writing video /imitation/docs/tutorials/generated_videos/rl-video-step-50600-to-step-50650.mp4\n",
      "\n"
     ]
    },
    {
     "name": "stderr",
     "output_type": "stream",
     "text": [
      "                                                                                                                                         "
     ]
    },
    {
     "name": "stdout",
     "output_type": "stream",
     "text": [
      "Moviepy - Done !\n",
      "Moviepy - video ready /imitation/docs/tutorials/generated_videos/rl-video-step-50600-to-step-50650.mp4\n"
     ]
    },
    {
     "name": "stderr",
     "output_type": "stream",
     "text": [
      "\r"
     ]
    },
    {
     "name": "stdout",
     "output_type": "stream",
     "text": [
      "Saving video to /imitation/docs/tutorials/generated_videos/rl-video-step-50700-to-step-50750.mp4\n",
      "Moviepy - Building video /imitation/docs/tutorials/generated_videos/rl-video-step-50700-to-step-50750.mp4.\n",
      "Moviepy - Writing video /imitation/docs/tutorials/generated_videos/rl-video-step-50700-to-step-50750.mp4\n",
      "\n"
     ]
    },
    {
     "name": "stderr",
     "output_type": "stream",
     "text": [
      "                                                                                                                                         "
     ]
    },
    {
     "name": "stdout",
     "output_type": "stream",
     "text": [
      "Moviepy - Done !\n",
      "Moviepy - video ready /imitation/docs/tutorials/generated_videos/rl-video-step-50700-to-step-50750.mp4\n"
     ]
    },
    {
     "name": "stderr",
     "output_type": "stream",
     "text": [
      "\r"
     ]
    },
    {
     "name": "stdout",
     "output_type": "stream",
     "text": [
      "Saving video to /imitation/docs/tutorials/generated_videos/rl-video-step-50800-to-step-50850.mp4\n",
      "Moviepy - Building video /imitation/docs/tutorials/generated_videos/rl-video-step-50800-to-step-50850.mp4.\n",
      "Moviepy - Writing video /imitation/docs/tutorials/generated_videos/rl-video-step-50800-to-step-50850.mp4\n",
      "\n"
     ]
    },
    {
     "name": "stderr",
     "output_type": "stream",
     "text": [
      "                                                                                                                                         "
     ]
    },
    {
     "name": "stdout",
     "output_type": "stream",
     "text": [
      "Moviepy - Done !\n",
      "Moviepy - video ready /imitation/docs/tutorials/generated_videos/rl-video-step-50800-to-step-50850.mp4\n"
     ]
    },
    {
     "name": "stderr",
     "output_type": "stream",
     "text": [
      "\r"
     ]
    },
    {
     "name": "stdout",
     "output_type": "stream",
     "text": [
      "Saving video to /imitation/docs/tutorials/generated_videos/rl-video-step-50900-to-step-50950.mp4\n",
      "Moviepy - Building video /imitation/docs/tutorials/generated_videos/rl-video-step-50900-to-step-50950.mp4.\n",
      "Moviepy - Writing video /imitation/docs/tutorials/generated_videos/rl-video-step-50900-to-step-50950.mp4\n",
      "\n"
     ]
    },
    {
     "name": "stderr",
     "output_type": "stream",
     "text": [
      "                                                                                                                                         "
     ]
    },
    {
     "name": "stdout",
     "output_type": "stream",
     "text": [
      "Moviepy - Done !\n",
      "Moviepy - video ready /imitation/docs/tutorials/generated_videos/rl-video-step-50900-to-step-50950.mp4\n"
     ]
    },
    {
     "name": "stderr",
     "output_type": "stream",
     "text": [
      "\r"
     ]
    },
    {
     "name": "stdout",
     "output_type": "stream",
     "text": [
      "Saving video to /imitation/docs/tutorials/generated_videos/rl-video-step-51000-to-step-51050.mp4\n",
      "Moviepy - Building video /imitation/docs/tutorials/generated_videos/rl-video-step-51000-to-step-51050.mp4.\n",
      "Moviepy - Writing video /imitation/docs/tutorials/generated_videos/rl-video-step-51000-to-step-51050.mp4\n",
      "\n"
     ]
    },
    {
     "name": "stderr",
     "output_type": "stream",
     "text": [
      "                                                                                                                                         "
     ]
    },
    {
     "name": "stdout",
     "output_type": "stream",
     "text": [
      "Moviepy - Done !\n",
      "Moviepy - video ready /imitation/docs/tutorials/generated_videos/rl-video-step-51000-to-step-51050.mp4\n"
     ]
    },
    {
     "name": "stderr",
     "output_type": "stream",
     "text": [
      "\r"
     ]
    },
    {
     "name": "stdout",
     "output_type": "stream",
     "text": [
      "Saving video to /imitation/docs/tutorials/generated_videos/rl-video-step-51100-to-step-51150.mp4\n",
      "Moviepy - Building video /imitation/docs/tutorials/generated_videos/rl-video-step-51100-to-step-51150.mp4.\n",
      "Moviepy - Writing video /imitation/docs/tutorials/generated_videos/rl-video-step-51100-to-step-51150.mp4\n",
      "\n"
     ]
    },
    {
     "name": "stderr",
     "output_type": "stream",
     "text": [
      "                                                                                                                                         "
     ]
    },
    {
     "name": "stdout",
     "output_type": "stream",
     "text": [
      "Moviepy - Done !\n",
      "Moviepy - video ready /imitation/docs/tutorials/generated_videos/rl-video-step-51100-to-step-51150.mp4\n"
     ]
    },
    {
     "name": "stderr",
     "output_type": "stream",
     "text": [
      "\r"
     ]
    },
    {
     "name": "stdout",
     "output_type": "stream",
     "text": [
      "Saving video to /imitation/docs/tutorials/generated_videos/rl-video-step-51200-to-step-51250.mp4\n",
      "Moviepy - Building video /imitation/docs/tutorials/generated_videos/rl-video-step-51200-to-step-51250.mp4.\n",
      "Moviepy - Writing video /imitation/docs/tutorials/generated_videos/rl-video-step-51200-to-step-51250.mp4\n",
      "\n"
     ]
    },
    {
     "name": "stderr",
     "output_type": "stream",
     "text": [
      "                                                                                                                                         "
     ]
    },
    {
     "name": "stdout",
     "output_type": "stream",
     "text": [
      "Moviepy - Done !\n",
      "Moviepy - video ready /imitation/docs/tutorials/generated_videos/rl-video-step-51200-to-step-51250.mp4\n"
     ]
    },
    {
     "name": "stderr",
     "output_type": "stream",
     "text": [
      "\r"
     ]
    },
    {
     "name": "stdout",
     "output_type": "stream",
     "text": [
      "Saving video to /imitation/docs/tutorials/generated_videos/rl-video-step-51300-to-step-51350.mp4\n",
      "Moviepy - Building video /imitation/docs/tutorials/generated_videos/rl-video-step-51300-to-step-51350.mp4.\n",
      "Moviepy - Writing video /imitation/docs/tutorials/generated_videos/rl-video-step-51300-to-step-51350.mp4\n",
      "\n"
     ]
    },
    {
     "name": "stderr",
     "output_type": "stream",
     "text": [
      "                                                                                                                                         "
     ]
    },
    {
     "name": "stdout",
     "output_type": "stream",
     "text": [
      "Moviepy - Done !\n",
      "Moviepy - video ready /imitation/docs/tutorials/generated_videos/rl-video-step-51300-to-step-51350.mp4\n"
     ]
    },
    {
     "name": "stderr",
     "output_type": "stream",
     "text": [
      "\r"
     ]
    },
    {
     "name": "stdout",
     "output_type": "stream",
     "text": [
      "Saving video to /imitation/docs/tutorials/generated_videos/rl-video-step-51400-to-step-51450.mp4\n",
      "Moviepy - Building video /imitation/docs/tutorials/generated_videos/rl-video-step-51400-to-step-51450.mp4.\n",
      "Moviepy - Writing video /imitation/docs/tutorials/generated_videos/rl-video-step-51400-to-step-51450.mp4\n",
      "\n"
     ]
    },
    {
     "name": "stderr",
     "output_type": "stream",
     "text": [
      "                                                                                                                                         "
     ]
    },
    {
     "name": "stdout",
     "output_type": "stream",
     "text": [
      "Moviepy - Done !\n",
      "Moviepy - video ready /imitation/docs/tutorials/generated_videos/rl-video-step-51400-to-step-51450.mp4\n"
     ]
    },
    {
     "name": "stderr",
     "output_type": "stream",
     "text": [
      "\r"
     ]
    },
    {
     "name": "stdout",
     "output_type": "stream",
     "text": [
      "Saving video to /imitation/docs/tutorials/generated_videos/rl-video-step-51500-to-step-51550.mp4\n",
      "Moviepy - Building video /imitation/docs/tutorials/generated_videos/rl-video-step-51500-to-step-51550.mp4.\n",
      "Moviepy - Writing video /imitation/docs/tutorials/generated_videos/rl-video-step-51500-to-step-51550.mp4\n",
      "\n"
     ]
    },
    {
     "name": "stderr",
     "output_type": "stream",
     "text": [
      "                                                                                                                                         "
     ]
    },
    {
     "name": "stdout",
     "output_type": "stream",
     "text": [
      "Moviepy - Done !\n",
      "Moviepy - video ready /imitation/docs/tutorials/generated_videos/rl-video-step-51500-to-step-51550.mp4\n"
     ]
    },
    {
     "name": "stderr",
     "output_type": "stream",
     "text": [
      "\r"
     ]
    },
    {
     "name": "stdout",
     "output_type": "stream",
     "text": [
      "Saving video to /imitation/docs/tutorials/generated_videos/rl-video-step-51600-to-step-51650.mp4\n",
      "Moviepy - Building video /imitation/docs/tutorials/generated_videos/rl-video-step-51600-to-step-51650.mp4.\n",
      "Moviepy - Writing video /imitation/docs/tutorials/generated_videos/rl-video-step-51600-to-step-51650.mp4\n",
      "\n"
     ]
    },
    {
     "name": "stderr",
     "output_type": "stream",
     "text": [
      "                                                                                                                                         "
     ]
    },
    {
     "name": "stdout",
     "output_type": "stream",
     "text": [
      "Moviepy - Done !\n",
      "Moviepy - video ready /imitation/docs/tutorials/generated_videos/rl-video-step-51600-to-step-51650.mp4\n"
     ]
    },
    {
     "name": "stderr",
     "output_type": "stream",
     "text": [
      "\r"
     ]
    },
    {
     "name": "stdout",
     "output_type": "stream",
     "text": [
      "Saving video to /imitation/docs/tutorials/generated_videos/rl-video-step-51700-to-step-51750.mp4\n",
      "Moviepy - Building video /imitation/docs/tutorials/generated_videos/rl-video-step-51700-to-step-51750.mp4.\n",
      "Moviepy - Writing video /imitation/docs/tutorials/generated_videos/rl-video-step-51700-to-step-51750.mp4\n",
      "\n"
     ]
    },
    {
     "name": "stderr",
     "output_type": "stream",
     "text": [
      "                                                                                                                                         "
     ]
    },
    {
     "name": "stdout",
     "output_type": "stream",
     "text": [
      "Moviepy - Done !\n",
      "Moviepy - video ready /imitation/docs/tutorials/generated_videos/rl-video-step-51700-to-step-51750.mp4\n"
     ]
    },
    {
     "name": "stderr",
     "output_type": "stream",
     "text": [
      "\r"
     ]
    },
    {
     "name": "stdout",
     "output_type": "stream",
     "text": [
      "Saving video to /imitation/docs/tutorials/generated_videos/rl-video-step-51800-to-step-51850.mp4\n",
      "Moviepy - Building video /imitation/docs/tutorials/generated_videos/rl-video-step-51800-to-step-51850.mp4.\n",
      "Moviepy - Writing video /imitation/docs/tutorials/generated_videos/rl-video-step-51800-to-step-51850.mp4\n",
      "\n"
     ]
    },
    {
     "name": "stderr",
     "output_type": "stream",
     "text": [
      "                                                                                                                                         "
     ]
    },
    {
     "name": "stdout",
     "output_type": "stream",
     "text": [
      "Moviepy - Done !\n",
      "Moviepy - video ready /imitation/docs/tutorials/generated_videos/rl-video-step-51800-to-step-51850.mp4\n"
     ]
    },
    {
     "name": "stderr",
     "output_type": "stream",
     "text": [
      "\r"
     ]
    },
    {
     "name": "stdout",
     "output_type": "stream",
     "text": [
      "Saving video to /imitation/docs/tutorials/generated_videos/rl-video-step-51900-to-step-51950.mp4\n",
      "Moviepy - Building video /imitation/docs/tutorials/generated_videos/rl-video-step-51900-to-step-51950.mp4.\n",
      "Moviepy - Writing video /imitation/docs/tutorials/generated_videos/rl-video-step-51900-to-step-51950.mp4\n",
      "\n"
     ]
    },
    {
     "name": "stderr",
     "output_type": "stream",
     "text": [
      "                                                                                                                                         "
     ]
    },
    {
     "name": "stdout",
     "output_type": "stream",
     "text": [
      "Moviepy - Done !\n",
      "Moviepy - video ready /imitation/docs/tutorials/generated_videos/rl-video-step-51900-to-step-51950.mp4\n",
      "-----------------------------------------------------\n",
      "| raw/                                 |            |\n",
      "|    agent/rollout/ep_len_mean         | 50         |\n",
      "|    agent/rollout/ep_rew_mean         | -62.5      |\n",
      "|    agent/rollout/ep_rew_wrapped_mean | -8.09      |\n",
      "|    agent/time/fps                    | 150        |\n",
      "|    agent/time/iterations             | 1          |\n",
      "|    agent/time/time_elapsed           | 13         |\n",
      "|    agent/time/total_timesteps        | 43008      |\n",
      "|    agent/train/approx_kl             | 0.00991743 |\n",
      "|    agent/train/clip_fraction         | 0.319      |\n",
      "|    agent/train/clip_range            | 0.1        |\n",
      "|    agent/train/entropy_loss          | -2.74      |\n",
      "|    agent/train/explained_variance    | 0.964      |\n",
      "|    agent/train/learning_rate         | 0.002      |\n",
      "|    agent/train/loss                  | -0.0581    |\n",
      "|    agent/train/n_updates             | 200        |\n",
      "|    agent/train/policy_gradient_loss  | -0.0112    |\n",
      "|    agent/train/std                   | 0.949      |\n",
      "|    agent/train/value_loss            | 0.00884    |\n",
      "-----------------------------------------------------\n"
     ]
    },
    {
     "name": "stderr",
     "output_type": "stream",
     "text": [
      "\r"
     ]
    },
    {
     "name": "stdout",
     "output_type": "stream",
     "text": [
      "Saving video to /imitation/docs/tutorials/generated_videos/rl-video-step-52000-to-step-52050.mp4\n",
      "Moviepy - Building video /imitation/docs/tutorials/generated_videos/rl-video-step-52000-to-step-52050.mp4.\n",
      "Moviepy - Writing video /imitation/docs/tutorials/generated_videos/rl-video-step-52000-to-step-52050.mp4\n",
      "\n"
     ]
    },
    {
     "name": "stderr",
     "output_type": "stream",
     "text": [
      "                                                                                                                                         "
     ]
    },
    {
     "name": "stdout",
     "output_type": "stream",
     "text": [
      "Moviepy - Done !\n",
      "Moviepy - video ready /imitation/docs/tutorials/generated_videos/rl-video-step-52000-to-step-52050.mp4\n"
     ]
    },
    {
     "name": "stderr",
     "output_type": "stream",
     "text": [
      "\r"
     ]
    },
    {
     "name": "stdout",
     "output_type": "stream",
     "text": [
      "Saving video to /imitation/docs/tutorials/generated_videos/rl-video-step-52100-to-step-52150.mp4\n",
      "Moviepy - Building video /imitation/docs/tutorials/generated_videos/rl-video-step-52100-to-step-52150.mp4.\n",
      "Moviepy - Writing video /imitation/docs/tutorials/generated_videos/rl-video-step-52100-to-step-52150.mp4\n",
      "\n"
     ]
    },
    {
     "name": "stderr",
     "output_type": "stream",
     "text": [
      "                                                                                                                                         "
     ]
    },
    {
     "name": "stdout",
     "output_type": "stream",
     "text": [
      "Moviepy - Done !\n",
      "Moviepy - video ready /imitation/docs/tutorials/generated_videos/rl-video-step-52100-to-step-52150.mp4\n"
     ]
    },
    {
     "name": "stderr",
     "output_type": "stream",
     "text": [
      "\r"
     ]
    },
    {
     "name": "stdout",
     "output_type": "stream",
     "text": [
      "Saving video to /imitation/docs/tutorials/generated_videos/rl-video-step-52200-to-step-52250.mp4\n",
      "Moviepy - Building video /imitation/docs/tutorials/generated_videos/rl-video-step-52200-to-step-52250.mp4.\n",
      "Moviepy - Writing video /imitation/docs/tutorials/generated_videos/rl-video-step-52200-to-step-52250.mp4\n",
      "\n"
     ]
    },
    {
     "name": "stderr",
     "output_type": "stream",
     "text": [
      "                                                                                                                                         "
     ]
    },
    {
     "name": "stdout",
     "output_type": "stream",
     "text": [
      "Moviepy - Done !\n",
      "Moviepy - video ready /imitation/docs/tutorials/generated_videos/rl-video-step-52200-to-step-52250.mp4\n"
     ]
    },
    {
     "name": "stderr",
     "output_type": "stream",
     "text": [
      "\r"
     ]
    },
    {
     "name": "stdout",
     "output_type": "stream",
     "text": [
      "Saving video to /imitation/docs/tutorials/generated_videos/rl-video-step-52300-to-step-52350.mp4\n",
      "Moviepy - Building video /imitation/docs/tutorials/generated_videos/rl-video-step-52300-to-step-52350.mp4.\n",
      "Moviepy - Writing video /imitation/docs/tutorials/generated_videos/rl-video-step-52300-to-step-52350.mp4\n",
      "\n"
     ]
    },
    {
     "name": "stderr",
     "output_type": "stream",
     "text": [
      "                                                                                                                                         "
     ]
    },
    {
     "name": "stdout",
     "output_type": "stream",
     "text": [
      "Moviepy - Done !\n",
      "Moviepy - video ready /imitation/docs/tutorials/generated_videos/rl-video-step-52300-to-step-52350.mp4\n"
     ]
    },
    {
     "name": "stderr",
     "output_type": "stream",
     "text": [
      "\r"
     ]
    },
    {
     "name": "stdout",
     "output_type": "stream",
     "text": [
      "Saving video to /imitation/docs/tutorials/generated_videos/rl-video-step-52400-to-step-52450.mp4\n",
      "Moviepy - Building video /imitation/docs/tutorials/generated_videos/rl-video-step-52400-to-step-52450.mp4.\n",
      "Moviepy - Writing video /imitation/docs/tutorials/generated_videos/rl-video-step-52400-to-step-52450.mp4\n",
      "\n"
     ]
    },
    {
     "name": "stderr",
     "output_type": "stream",
     "text": [
      "                                                                                                                                         \r"
     ]
    },
    {
     "name": "stdout",
     "output_type": "stream",
     "text": [
      "Moviepy - Done !\n",
      "Moviepy - video ready /imitation/docs/tutorials/generated_videos/rl-video-step-52400-to-step-52450.mp4\n",
      "Saving video to /imitation/docs/tutorials/generated_videos/rl-video-step-52500-to-step-52550.mp4\n",
      "Moviepy - Building video /imitation/docs/tutorials/generated_videos/rl-video-step-52500-to-step-52550.mp4.\n",
      "Moviepy - Writing video /imitation/docs/tutorials/generated_videos/rl-video-step-52500-to-step-52550.mp4\n",
      "\n"
     ]
    },
    {
     "name": "stderr",
     "output_type": "stream",
     "text": [
      "                                                                                                                                         "
     ]
    },
    {
     "name": "stdout",
     "output_type": "stream",
     "text": [
      "Moviepy - Done !\n",
      "Moviepy - video ready /imitation/docs/tutorials/generated_videos/rl-video-step-52500-to-step-52550.mp4\n"
     ]
    },
    {
     "name": "stderr",
     "output_type": "stream",
     "text": [
      "\r"
     ]
    },
    {
     "name": "stdout",
     "output_type": "stream",
     "text": [
      "Saving video to /imitation/docs/tutorials/generated_videos/rl-video-step-52600-to-step-52650.mp4\n",
      "Moviepy - Building video /imitation/docs/tutorials/generated_videos/rl-video-step-52600-to-step-52650.mp4.\n",
      "Moviepy - Writing video /imitation/docs/tutorials/generated_videos/rl-video-step-52600-to-step-52650.mp4\n",
      "\n"
     ]
    },
    {
     "name": "stderr",
     "output_type": "stream",
     "text": [
      "                                                                                                                                         "
     ]
    },
    {
     "name": "stdout",
     "output_type": "stream",
     "text": [
      "Moviepy - Done !\n",
      "Moviepy - video ready /imitation/docs/tutorials/generated_videos/rl-video-step-52600-to-step-52650.mp4\n"
     ]
    },
    {
     "name": "stderr",
     "output_type": "stream",
     "text": [
      "\r"
     ]
    },
    {
     "name": "stdout",
     "output_type": "stream",
     "text": [
      "Saving video to /imitation/docs/tutorials/generated_videos/rl-video-step-52700-to-step-52750.mp4\n",
      "Moviepy - Building video /imitation/docs/tutorials/generated_videos/rl-video-step-52700-to-step-52750.mp4.\n",
      "Moviepy - Writing video /imitation/docs/tutorials/generated_videos/rl-video-step-52700-to-step-52750.mp4\n",
      "\n"
     ]
    },
    {
     "name": "stderr",
     "output_type": "stream",
     "text": [
      "                                                                                                                                         "
     ]
    },
    {
     "name": "stdout",
     "output_type": "stream",
     "text": [
      "Moviepy - Done !\n",
      "Moviepy - video ready /imitation/docs/tutorials/generated_videos/rl-video-step-52700-to-step-52750.mp4\n"
     ]
    },
    {
     "name": "stderr",
     "output_type": "stream",
     "text": [
      "\r"
     ]
    },
    {
     "name": "stdout",
     "output_type": "stream",
     "text": [
      "Saving video to /imitation/docs/tutorials/generated_videos/rl-video-step-52800-to-step-52850.mp4\n",
      "Moviepy - Building video /imitation/docs/tutorials/generated_videos/rl-video-step-52800-to-step-52850.mp4.\n",
      "Moviepy - Writing video /imitation/docs/tutorials/generated_videos/rl-video-step-52800-to-step-52850.mp4\n",
      "\n"
     ]
    },
    {
     "name": "stderr",
     "output_type": "stream",
     "text": [
      "                                                                                                                                         "
     ]
    },
    {
     "name": "stdout",
     "output_type": "stream",
     "text": [
      "Moviepy - Done !\n",
      "Moviepy - video ready /imitation/docs/tutorials/generated_videos/rl-video-step-52800-to-step-52850.mp4\n"
     ]
    },
    {
     "name": "stderr",
     "output_type": "stream",
     "text": [
      "\r"
     ]
    },
    {
     "name": "stdout",
     "output_type": "stream",
     "text": [
      "Saving video to /imitation/docs/tutorials/generated_videos/rl-video-step-52900-to-step-52950.mp4\n",
      "Moviepy - Building video /imitation/docs/tutorials/generated_videos/rl-video-step-52900-to-step-52950.mp4.\n",
      "Moviepy - Writing video /imitation/docs/tutorials/generated_videos/rl-video-step-52900-to-step-52950.mp4\n",
      "\n"
     ]
    },
    {
     "name": "stderr",
     "output_type": "stream",
     "text": [
      "                                                                                                                                         "
     ]
    },
    {
     "name": "stdout",
     "output_type": "stream",
     "text": [
      "Moviepy - Done !\n",
      "Moviepy - video ready /imitation/docs/tutorials/generated_videos/rl-video-step-52900-to-step-52950.mp4\n"
     ]
    },
    {
     "name": "stderr",
     "output_type": "stream",
     "text": [
      "\r"
     ]
    },
    {
     "name": "stdout",
     "output_type": "stream",
     "text": [
      "Saving video to /imitation/docs/tutorials/generated_videos/rl-video-step-53000-to-step-53050.mp4\n",
      "Moviepy - Building video /imitation/docs/tutorials/generated_videos/rl-video-step-53000-to-step-53050.mp4.\n",
      "Moviepy - Writing video /imitation/docs/tutorials/generated_videos/rl-video-step-53000-to-step-53050.mp4\n",
      "\n"
     ]
    },
    {
     "name": "stderr",
     "output_type": "stream",
     "text": [
      "                                                                                                                                         "
     ]
    },
    {
     "name": "stdout",
     "output_type": "stream",
     "text": [
      "Moviepy - Done !\n",
      "Moviepy - video ready /imitation/docs/tutorials/generated_videos/rl-video-step-53000-to-step-53050.mp4\n"
     ]
    },
    {
     "name": "stderr",
     "output_type": "stream",
     "text": [
      "\r"
     ]
    },
    {
     "name": "stdout",
     "output_type": "stream",
     "text": [
      "Saving video to /imitation/docs/tutorials/generated_videos/rl-video-step-53100-to-step-53150.mp4\n",
      "Moviepy - Building video /imitation/docs/tutorials/generated_videos/rl-video-step-53100-to-step-53150.mp4.\n",
      "Moviepy - Writing video /imitation/docs/tutorials/generated_videos/rl-video-step-53100-to-step-53150.mp4\n",
      "\n"
     ]
    },
    {
     "name": "stderr",
     "output_type": "stream",
     "text": [
      "                                                                                                                                         "
     ]
    },
    {
     "name": "stdout",
     "output_type": "stream",
     "text": [
      "Moviepy - Done !\n",
      "Moviepy - video ready /imitation/docs/tutorials/generated_videos/rl-video-step-53100-to-step-53150.mp4\n"
     ]
    },
    {
     "name": "stderr",
     "output_type": "stream",
     "text": [
      "\r"
     ]
    },
    {
     "name": "stdout",
     "output_type": "stream",
     "text": [
      "Saving video to /imitation/docs/tutorials/generated_videos/rl-video-step-53200-to-step-53250.mp4\n",
      "Moviepy - Building video /imitation/docs/tutorials/generated_videos/rl-video-step-53200-to-step-53250.mp4.\n",
      "Moviepy - Writing video /imitation/docs/tutorials/generated_videos/rl-video-step-53200-to-step-53250.mp4\n",
      "\n"
     ]
    },
    {
     "name": "stderr",
     "output_type": "stream",
     "text": [
      "                                                                                                                                         "
     ]
    },
    {
     "name": "stdout",
     "output_type": "stream",
     "text": [
      "Moviepy - Done !\n",
      "Moviepy - video ready /imitation/docs/tutorials/generated_videos/rl-video-step-53200-to-step-53250.mp4\n"
     ]
    },
    {
     "name": "stderr",
     "output_type": "stream",
     "text": [
      "\r"
     ]
    },
    {
     "name": "stdout",
     "output_type": "stream",
     "text": [
      "Saving video to /imitation/docs/tutorials/generated_videos/rl-video-step-53300-to-step-53350.mp4\n",
      "Moviepy - Building video /imitation/docs/tutorials/generated_videos/rl-video-step-53300-to-step-53350.mp4.\n",
      "Moviepy - Writing video /imitation/docs/tutorials/generated_videos/rl-video-step-53300-to-step-53350.mp4\n",
      "\n"
     ]
    },
    {
     "name": "stderr",
     "output_type": "stream",
     "text": [
      "                                                                                                                                         "
     ]
    },
    {
     "name": "stdout",
     "output_type": "stream",
     "text": [
      "Moviepy - Done !\n",
      "Moviepy - video ready /imitation/docs/tutorials/generated_videos/rl-video-step-53300-to-step-53350.mp4\n"
     ]
    },
    {
     "name": "stderr",
     "output_type": "stream",
     "text": [
      "\r"
     ]
    },
    {
     "name": "stdout",
     "output_type": "stream",
     "text": [
      "Saving video to /imitation/docs/tutorials/generated_videos/rl-video-step-53400-to-step-53450.mp4\n",
      "Moviepy - Building video /imitation/docs/tutorials/generated_videos/rl-video-step-53400-to-step-53450.mp4.\n",
      "Moviepy - Writing video /imitation/docs/tutorials/generated_videos/rl-video-step-53400-to-step-53450.mp4\n",
      "\n"
     ]
    },
    {
     "name": "stderr",
     "output_type": "stream",
     "text": [
      "                                                                                                                                         "
     ]
    },
    {
     "name": "stdout",
     "output_type": "stream",
     "text": [
      "Moviepy - Done !\n",
      "Moviepy - video ready /imitation/docs/tutorials/generated_videos/rl-video-step-53400-to-step-53450.mp4\n"
     ]
    },
    {
     "name": "stderr",
     "output_type": "stream",
     "text": [
      "\r"
     ]
    },
    {
     "name": "stdout",
     "output_type": "stream",
     "text": [
      "Saving video to /imitation/docs/tutorials/generated_videos/rl-video-step-53500-to-step-53550.mp4\n",
      "Moviepy - Building video /imitation/docs/tutorials/generated_videos/rl-video-step-53500-to-step-53550.mp4.\n",
      "Moviepy - Writing video /imitation/docs/tutorials/generated_videos/rl-video-step-53500-to-step-53550.mp4\n",
      "\n"
     ]
    },
    {
     "name": "stderr",
     "output_type": "stream",
     "text": [
      "                                                                                                                                         "
     ]
    },
    {
     "name": "stdout",
     "output_type": "stream",
     "text": [
      "Moviepy - Done !\n",
      "Moviepy - video ready /imitation/docs/tutorials/generated_videos/rl-video-step-53500-to-step-53550.mp4\n"
     ]
    },
    {
     "name": "stderr",
     "output_type": "stream",
     "text": [
      "\r"
     ]
    },
    {
     "name": "stdout",
     "output_type": "stream",
     "text": [
      "Saving video to /imitation/docs/tutorials/generated_videos/rl-video-step-53600-to-step-53650.mp4\n",
      "Moviepy - Building video /imitation/docs/tutorials/generated_videos/rl-video-step-53600-to-step-53650.mp4.\n",
      "Moviepy - Writing video /imitation/docs/tutorials/generated_videos/rl-video-step-53600-to-step-53650.mp4\n",
      "\n"
     ]
    },
    {
     "name": "stderr",
     "output_type": "stream",
     "text": [
      "                                                                                                                                         "
     ]
    },
    {
     "name": "stdout",
     "output_type": "stream",
     "text": [
      "Moviepy - Done !\n",
      "Moviepy - video ready /imitation/docs/tutorials/generated_videos/rl-video-step-53600-to-step-53650.mp4\n"
     ]
    },
    {
     "name": "stderr",
     "output_type": "stream",
     "text": [
      "\r"
     ]
    },
    {
     "name": "stdout",
     "output_type": "stream",
     "text": [
      "Saving video to /imitation/docs/tutorials/generated_videos/rl-video-step-53700-to-step-53750.mp4\n",
      "Moviepy - Building video /imitation/docs/tutorials/generated_videos/rl-video-step-53700-to-step-53750.mp4.\n",
      "Moviepy - Writing video /imitation/docs/tutorials/generated_videos/rl-video-step-53700-to-step-53750.mp4\n",
      "\n"
     ]
    },
    {
     "name": "stderr",
     "output_type": "stream",
     "text": [
      "                                                                                                                                         "
     ]
    },
    {
     "name": "stdout",
     "output_type": "stream",
     "text": [
      "Moviepy - Done !\n",
      "Moviepy - video ready /imitation/docs/tutorials/generated_videos/rl-video-step-53700-to-step-53750.mp4\n"
     ]
    },
    {
     "name": "stderr",
     "output_type": "stream",
     "text": [
      "\r"
     ]
    },
    {
     "name": "stdout",
     "output_type": "stream",
     "text": [
      "Saving video to /imitation/docs/tutorials/generated_videos/rl-video-step-53800-to-step-53850.mp4\n",
      "Moviepy - Building video /imitation/docs/tutorials/generated_videos/rl-video-step-53800-to-step-53850.mp4.\n",
      "Moviepy - Writing video /imitation/docs/tutorials/generated_videos/rl-video-step-53800-to-step-53850.mp4\n",
      "\n"
     ]
    },
    {
     "name": "stderr",
     "output_type": "stream",
     "text": [
      "                                                                                                                                         "
     ]
    },
    {
     "name": "stdout",
     "output_type": "stream",
     "text": [
      "Moviepy - Done !\n",
      "Moviepy - video ready /imitation/docs/tutorials/generated_videos/rl-video-step-53800-to-step-53850.mp4\n"
     ]
    },
    {
     "name": "stderr",
     "output_type": "stream",
     "text": [
      "\r"
     ]
    },
    {
     "name": "stdout",
     "output_type": "stream",
     "text": [
      "Saving video to /imitation/docs/tutorials/generated_videos/rl-video-step-53900-to-step-53950.mp4\n",
      "Moviepy - Building video /imitation/docs/tutorials/generated_videos/rl-video-step-53900-to-step-53950.mp4.\n",
      "Moviepy - Writing video /imitation/docs/tutorials/generated_videos/rl-video-step-53900-to-step-53950.mp4\n",
      "\n"
     ]
    },
    {
     "name": "stderr",
     "output_type": "stream",
     "text": [
      "                                                                                                                                         "
     ]
    },
    {
     "name": "stdout",
     "output_type": "stream",
     "text": [
      "Moviepy - Done !\n",
      "Moviepy - video ready /imitation/docs/tutorials/generated_videos/rl-video-step-53900-to-step-53950.mp4\n"
     ]
    },
    {
     "name": "stderr",
     "output_type": "stream",
     "text": [
      "\r"
     ]
    },
    {
     "name": "stdout",
     "output_type": "stream",
     "text": [
      "------------------------------------------------------\n",
      "| raw/                                 |             |\n",
      "|    agent/rollout/ep_len_mean         | 50          |\n",
      "|    agent/rollout/ep_rew_mean         | -62.3       |\n",
      "|    agent/rollout/ep_rew_wrapped_mean | -8.64       |\n",
      "|    agent/time/fps                    | 145         |\n",
      "|    agent/time/iterations             | 2           |\n",
      "|    agent/time/time_elapsed           | 28          |\n",
      "|    agent/time/total_timesteps        | 45056       |\n",
      "|    agent/train/approx_kl             | 0.007360231 |\n",
      "|    agent/train/clip_fraction         | 0.272       |\n",
      "|    agent/train/clip_range            | 0.1         |\n",
      "|    agent/train/entropy_loss          | -2.72       |\n",
      "|    agent/train/explained_variance    | 0.848       |\n",
      "|    agent/train/learning_rate         | 0.002       |\n",
      "|    agent/train/loss                  | -0.0201     |\n",
      "|    agent/train/n_updates             | 210         |\n",
      "|    agent/train/policy_gradient_loss  | -0.00528    |\n",
      "|    agent/train/std                   | 0.941       |\n",
      "|    agent/train/value_loss            | 0.0214      |\n",
      "------------------------------------------------------\n",
      "Saving video to /imitation/docs/tutorials/generated_videos/rl-video-step-54000-to-step-54050.mp4\n",
      "Moviepy - Building video /imitation/docs/tutorials/generated_videos/rl-video-step-54000-to-step-54050.mp4.\n",
      "Moviepy - Writing video /imitation/docs/tutorials/generated_videos/rl-video-step-54000-to-step-54050.mp4\n",
      "\n"
     ]
    },
    {
     "name": "stderr",
     "output_type": "stream",
     "text": [
      "                                                                                                                                         "
     ]
    },
    {
     "name": "stdout",
     "output_type": "stream",
     "text": [
      "Moviepy - Done !\n",
      "Moviepy - video ready /imitation/docs/tutorials/generated_videos/rl-video-step-54000-to-step-54050.mp4\n"
     ]
    },
    {
     "name": "stderr",
     "output_type": "stream",
     "text": [
      "\r"
     ]
    },
    {
     "name": "stdout",
     "output_type": "stream",
     "text": [
      "Saving video to /imitation/docs/tutorials/generated_videos/rl-video-step-54100-to-step-54150.mp4\n",
      "Moviepy - Building video /imitation/docs/tutorials/generated_videos/rl-video-step-54100-to-step-54150.mp4.\n",
      "Moviepy - Writing video /imitation/docs/tutorials/generated_videos/rl-video-step-54100-to-step-54150.mp4\n",
      "\n"
     ]
    },
    {
     "name": "stderr",
     "output_type": "stream",
     "text": [
      "                                                                                                                                         "
     ]
    },
    {
     "name": "stdout",
     "output_type": "stream",
     "text": [
      "Moviepy - Done !\n",
      "Moviepy - video ready /imitation/docs/tutorials/generated_videos/rl-video-step-54100-to-step-54150.mp4\n"
     ]
    },
    {
     "name": "stderr",
     "output_type": "stream",
     "text": [
      "\r"
     ]
    },
    {
     "name": "stdout",
     "output_type": "stream",
     "text": [
      "Saving video to /imitation/docs/tutorials/generated_videos/rl-video-step-54200-to-step-54250.mp4\n",
      "Moviepy - Building video /imitation/docs/tutorials/generated_videos/rl-video-step-54200-to-step-54250.mp4.\n",
      "Moviepy - Writing video /imitation/docs/tutorials/generated_videos/rl-video-step-54200-to-step-54250.mp4\n",
      "\n"
     ]
    },
    {
     "name": "stderr",
     "output_type": "stream",
     "text": [
      "                                                                                                                                         "
     ]
    },
    {
     "name": "stdout",
     "output_type": "stream",
     "text": [
      "Moviepy - Done !\n",
      "Moviepy - video ready /imitation/docs/tutorials/generated_videos/rl-video-step-54200-to-step-54250.mp4\n"
     ]
    },
    {
     "name": "stderr",
     "output_type": "stream",
     "text": [
      "\r"
     ]
    },
    {
     "name": "stdout",
     "output_type": "stream",
     "text": [
      "Saving video to /imitation/docs/tutorials/generated_videos/rl-video-step-54300-to-step-54350.mp4\n",
      "Moviepy - Building video /imitation/docs/tutorials/generated_videos/rl-video-step-54300-to-step-54350.mp4.\n",
      "Moviepy - Writing video /imitation/docs/tutorials/generated_videos/rl-video-step-54300-to-step-54350.mp4\n",
      "\n"
     ]
    },
    {
     "name": "stderr",
     "output_type": "stream",
     "text": [
      "                                                                                                                                         "
     ]
    },
    {
     "name": "stdout",
     "output_type": "stream",
     "text": [
      "Moviepy - Done !\n",
      "Moviepy - video ready /imitation/docs/tutorials/generated_videos/rl-video-step-54300-to-step-54350.mp4\n"
     ]
    },
    {
     "name": "stderr",
     "output_type": "stream",
     "text": [
      "\r"
     ]
    },
    {
     "name": "stdout",
     "output_type": "stream",
     "text": [
      "Saving video to /imitation/docs/tutorials/generated_videos/rl-video-step-54400-to-step-54450.mp4\n",
      "Moviepy - Building video /imitation/docs/tutorials/generated_videos/rl-video-step-54400-to-step-54450.mp4.\n",
      "Moviepy - Writing video /imitation/docs/tutorials/generated_videos/rl-video-step-54400-to-step-54450.mp4\n",
      "\n"
     ]
    },
    {
     "name": "stderr",
     "output_type": "stream",
     "text": [
      "                                                                                                                                         "
     ]
    },
    {
     "name": "stdout",
     "output_type": "stream",
     "text": [
      "Moviepy - Done !\n",
      "Moviepy - video ready /imitation/docs/tutorials/generated_videos/rl-video-step-54400-to-step-54450.mp4\n"
     ]
    },
    {
     "name": "stderr",
     "output_type": "stream",
     "text": [
      "\r"
     ]
    },
    {
     "name": "stdout",
     "output_type": "stream",
     "text": [
      "Saving video to /imitation/docs/tutorials/generated_videos/rl-video-step-54500-to-step-54550.mp4\n",
      "Moviepy - Building video /imitation/docs/tutorials/generated_videos/rl-video-step-54500-to-step-54550.mp4.\n",
      "Moviepy - Writing video /imitation/docs/tutorials/generated_videos/rl-video-step-54500-to-step-54550.mp4\n",
      "\n"
     ]
    },
    {
     "name": "stderr",
     "output_type": "stream",
     "text": [
      "                                                                                                                                         "
     ]
    },
    {
     "name": "stdout",
     "output_type": "stream",
     "text": [
      "Moviepy - Done !\n",
      "Moviepy - video ready /imitation/docs/tutorials/generated_videos/rl-video-step-54500-to-step-54550.mp4\n"
     ]
    },
    {
     "name": "stderr",
     "output_type": "stream",
     "text": [
      "\r"
     ]
    },
    {
     "name": "stdout",
     "output_type": "stream",
     "text": [
      "Saving video to /imitation/docs/tutorials/generated_videos/rl-video-step-54600-to-step-54650.mp4\n",
      "Moviepy - Building video /imitation/docs/tutorials/generated_videos/rl-video-step-54600-to-step-54650.mp4.\n",
      "Moviepy - Writing video /imitation/docs/tutorials/generated_videos/rl-video-step-54600-to-step-54650.mp4\n",
      "\n"
     ]
    },
    {
     "name": "stderr",
     "output_type": "stream",
     "text": [
      "                                                                                                                                         "
     ]
    },
    {
     "name": "stdout",
     "output_type": "stream",
     "text": [
      "Moviepy - Done !\n",
      "Moviepy - video ready /imitation/docs/tutorials/generated_videos/rl-video-step-54600-to-step-54650.mp4\n"
     ]
    },
    {
     "name": "stderr",
     "output_type": "stream",
     "text": [
      "\r"
     ]
    },
    {
     "name": "stdout",
     "output_type": "stream",
     "text": [
      "Saving video to /imitation/docs/tutorials/generated_videos/rl-video-step-54700-to-step-54750.mp4\n",
      "Moviepy - Building video /imitation/docs/tutorials/generated_videos/rl-video-step-54700-to-step-54750.mp4.\n",
      "Moviepy - Writing video /imitation/docs/tutorials/generated_videos/rl-video-step-54700-to-step-54750.mp4\n",
      "\n"
     ]
    },
    {
     "name": "stderr",
     "output_type": "stream",
     "text": [
      "                                                                                                                                         "
     ]
    },
    {
     "name": "stdout",
     "output_type": "stream",
     "text": [
      "Moviepy - Done !\n",
      "Moviepy - video ready /imitation/docs/tutorials/generated_videos/rl-video-step-54700-to-step-54750.mp4\n"
     ]
    },
    {
     "name": "stderr",
     "output_type": "stream",
     "text": [
      "\r"
     ]
    },
    {
     "name": "stdout",
     "output_type": "stream",
     "text": [
      "Saving video to /imitation/docs/tutorials/generated_videos/rl-video-step-54800-to-step-54850.mp4\n",
      "Moviepy - Building video /imitation/docs/tutorials/generated_videos/rl-video-step-54800-to-step-54850.mp4.\n",
      "Moviepy - Writing video /imitation/docs/tutorials/generated_videos/rl-video-step-54800-to-step-54850.mp4\n",
      "\n"
     ]
    },
    {
     "name": "stderr",
     "output_type": "stream",
     "text": [
      "                                                                                                                                         "
     ]
    },
    {
     "name": "stdout",
     "output_type": "stream",
     "text": [
      "Moviepy - Done !\n",
      "Moviepy - video ready /imitation/docs/tutorials/generated_videos/rl-video-step-54800-to-step-54850.mp4\n"
     ]
    },
    {
     "name": "stderr",
     "output_type": "stream",
     "text": [
      "\r"
     ]
    },
    {
     "name": "stdout",
     "output_type": "stream",
     "text": [
      "Saving video to /imitation/docs/tutorials/generated_videos/rl-video-step-54900-to-step-54950.mp4\n",
      "Moviepy - Building video /imitation/docs/tutorials/generated_videos/rl-video-step-54900-to-step-54950.mp4.\n",
      "Moviepy - Writing video /imitation/docs/tutorials/generated_videos/rl-video-step-54900-to-step-54950.mp4\n",
      "\n"
     ]
    },
    {
     "name": "stderr",
     "output_type": "stream",
     "text": [
      "                                                                                                                                         "
     ]
    },
    {
     "name": "stdout",
     "output_type": "stream",
     "text": [
      "Moviepy - Done !\n",
      "Moviepy - video ready /imitation/docs/tutorials/generated_videos/rl-video-step-54900-to-step-54950.mp4\n"
     ]
    },
    {
     "name": "stderr",
     "output_type": "stream",
     "text": [
      "\r"
     ]
    },
    {
     "name": "stdout",
     "output_type": "stream",
     "text": [
      "Saving video to /imitation/docs/tutorials/generated_videos/rl-video-step-55000-to-step-55050.mp4\n",
      "Moviepy - Building video /imitation/docs/tutorials/generated_videos/rl-video-step-55000-to-step-55050.mp4.\n",
      "Moviepy - Writing video /imitation/docs/tutorials/generated_videos/rl-video-step-55000-to-step-55050.mp4\n",
      "\n"
     ]
    },
    {
     "name": "stderr",
     "output_type": "stream",
     "text": [
      "                                                                                                                                         \r"
     ]
    },
    {
     "name": "stdout",
     "output_type": "stream",
     "text": [
      "Moviepy - Done !\n",
      "Moviepy - video ready /imitation/docs/tutorials/generated_videos/rl-video-step-55000-to-step-55050.mp4\n",
      "Saving video to /imitation/docs/tutorials/generated_videos/rl-video-step-55100-to-step-55150.mp4\n",
      "Moviepy - Building video /imitation/docs/tutorials/generated_videos/rl-video-step-55100-to-step-55150.mp4.\n",
      "Moviepy - Writing video /imitation/docs/tutorials/generated_videos/rl-video-step-55100-to-step-55150.mp4\n",
      "\n"
     ]
    },
    {
     "name": "stderr",
     "output_type": "stream",
     "text": [
      "                                                                                                                                         \r"
     ]
    },
    {
     "name": "stdout",
     "output_type": "stream",
     "text": [
      "Moviepy - Done !\n",
      "Moviepy - video ready /imitation/docs/tutorials/generated_videos/rl-video-step-55100-to-step-55150.mp4\n",
      "Saving video to /imitation/docs/tutorials/generated_videos/rl-video-step-55200-to-step-55250.mp4\n",
      "Moviepy - Building video /imitation/docs/tutorials/generated_videos/rl-video-step-55200-to-step-55250.mp4.\n",
      "Moviepy - Writing video /imitation/docs/tutorials/generated_videos/rl-video-step-55200-to-step-55250.mp4\n",
      "\n"
     ]
    },
    {
     "name": "stderr",
     "output_type": "stream",
     "text": [
      "                                                                                                                                         "
     ]
    },
    {
     "name": "stdout",
     "output_type": "stream",
     "text": [
      "Moviepy - Done !\n",
      "Moviepy - video ready /imitation/docs/tutorials/generated_videos/rl-video-step-55200-to-step-55250.mp4\n"
     ]
    },
    {
     "name": "stderr",
     "output_type": "stream",
     "text": [
      "\r"
     ]
    },
    {
     "name": "stdout",
     "output_type": "stream",
     "text": [
      "Saving video to /imitation/docs/tutorials/generated_videos/rl-video-step-55300-to-step-55350.mp4\n",
      "Moviepy - Building video /imitation/docs/tutorials/generated_videos/rl-video-step-55300-to-step-55350.mp4.\n",
      "Moviepy - Writing video /imitation/docs/tutorials/generated_videos/rl-video-step-55300-to-step-55350.mp4\n",
      "\n"
     ]
    },
    {
     "name": "stderr",
     "output_type": "stream",
     "text": [
      "                                                                                                                                         "
     ]
    },
    {
     "name": "stdout",
     "output_type": "stream",
     "text": [
      "Moviepy - Done !\n",
      "Moviepy - video ready /imitation/docs/tutorials/generated_videos/rl-video-step-55300-to-step-55350.mp4\n"
     ]
    },
    {
     "name": "stderr",
     "output_type": "stream",
     "text": [
      "\r"
     ]
    },
    {
     "name": "stdout",
     "output_type": "stream",
     "text": [
      "Saving video to /imitation/docs/tutorials/generated_videos/rl-video-step-55400-to-step-55450.mp4\n",
      "Moviepy - Building video /imitation/docs/tutorials/generated_videos/rl-video-step-55400-to-step-55450.mp4.\n",
      "Moviepy - Writing video /imitation/docs/tutorials/generated_videos/rl-video-step-55400-to-step-55450.mp4\n",
      "\n"
     ]
    },
    {
     "name": "stderr",
     "output_type": "stream",
     "text": [
      "                                                                                                                                         \r"
     ]
    },
    {
     "name": "stdout",
     "output_type": "stream",
     "text": [
      "Moviepy - Done !\n",
      "Moviepy - video ready /imitation/docs/tutorials/generated_videos/rl-video-step-55400-to-step-55450.mp4\n",
      "Saving video to /imitation/docs/tutorials/generated_videos/rl-video-step-55500-to-step-55550.mp4\n",
      "Moviepy - Building video /imitation/docs/tutorials/generated_videos/rl-video-step-55500-to-step-55550.mp4.\n",
      "Moviepy - Writing video /imitation/docs/tutorials/generated_videos/rl-video-step-55500-to-step-55550.mp4\n",
      "\n"
     ]
    },
    {
     "name": "stderr",
     "output_type": "stream",
     "text": [
      "                                                                                                                                         \r"
     ]
    },
    {
     "name": "stdout",
     "output_type": "stream",
     "text": [
      "Moviepy - Done !\n",
      "Moviepy - video ready /imitation/docs/tutorials/generated_videos/rl-video-step-55500-to-step-55550.mp4\n",
      "Saving video to /imitation/docs/tutorials/generated_videos/rl-video-step-55600-to-step-55650.mp4\n",
      "Moviepy - Building video /imitation/docs/tutorials/generated_videos/rl-video-step-55600-to-step-55650.mp4.\n",
      "Moviepy - Writing video /imitation/docs/tutorials/generated_videos/rl-video-step-55600-to-step-55650.mp4\n",
      "\n"
     ]
    },
    {
     "name": "stderr",
     "output_type": "stream",
     "text": [
      "                                                                                                                                         "
     ]
    },
    {
     "name": "stdout",
     "output_type": "stream",
     "text": [
      "Moviepy - Done !\n",
      "Moviepy - video ready /imitation/docs/tutorials/generated_videos/rl-video-step-55600-to-step-55650.mp4\n"
     ]
    },
    {
     "name": "stderr",
     "output_type": "stream",
     "text": [
      "\r"
     ]
    },
    {
     "name": "stdout",
     "output_type": "stream",
     "text": [
      "Saving video to /imitation/docs/tutorials/generated_videos/rl-video-step-55700-to-step-55750.mp4\n",
      "Moviepy - Building video /imitation/docs/tutorials/generated_videos/rl-video-step-55700-to-step-55750.mp4.\n",
      "Moviepy - Writing video /imitation/docs/tutorials/generated_videos/rl-video-step-55700-to-step-55750.mp4\n",
      "\n"
     ]
    },
    {
     "name": "stderr",
     "output_type": "stream",
     "text": [
      "                                                                                                                                         "
     ]
    },
    {
     "name": "stdout",
     "output_type": "stream",
     "text": [
      "Moviepy - Done !\n",
      "Moviepy - video ready /imitation/docs/tutorials/generated_videos/rl-video-step-55700-to-step-55750.mp4\n"
     ]
    },
    {
     "name": "stderr",
     "output_type": "stream",
     "text": [
      "\r"
     ]
    },
    {
     "name": "stdout",
     "output_type": "stream",
     "text": [
      "Saving video to /imitation/docs/tutorials/generated_videos/rl-video-step-55800-to-step-55850.mp4\n",
      "Moviepy - Building video /imitation/docs/tutorials/generated_videos/rl-video-step-55800-to-step-55850.mp4.\n",
      "Moviepy - Writing video /imitation/docs/tutorials/generated_videos/rl-video-step-55800-to-step-55850.mp4\n",
      "\n"
     ]
    },
    {
     "name": "stderr",
     "output_type": "stream",
     "text": [
      "                                                                                                                                         "
     ]
    },
    {
     "name": "stdout",
     "output_type": "stream",
     "text": [
      "Moviepy - Done !\n",
      "Moviepy - video ready /imitation/docs/tutorials/generated_videos/rl-video-step-55800-to-step-55850.mp4\n"
     ]
    },
    {
     "name": "stderr",
     "output_type": "stream",
     "text": [
      "\r"
     ]
    },
    {
     "name": "stdout",
     "output_type": "stream",
     "text": [
      "Saving video to /imitation/docs/tutorials/generated_videos/rl-video-step-55900-to-step-55950.mp4\n",
      "Moviepy - Building video /imitation/docs/tutorials/generated_videos/rl-video-step-55900-to-step-55950.mp4.\n",
      "Moviepy - Writing video /imitation/docs/tutorials/generated_videos/rl-video-step-55900-to-step-55950.mp4\n",
      "\n"
     ]
    },
    {
     "name": "stderr",
     "output_type": "stream",
     "text": [
      "                                                                                                                                         "
     ]
    },
    {
     "name": "stdout",
     "output_type": "stream",
     "text": [
      "Moviepy - Done !\n",
      "Moviepy - video ready /imitation/docs/tutorials/generated_videos/rl-video-step-55900-to-step-55950.mp4\n"
     ]
    },
    {
     "name": "stderr",
     "output_type": "stream",
     "text": [
      "\r"
     ]
    },
    {
     "name": "stdout",
     "output_type": "stream",
     "text": [
      "Saving video to /imitation/docs/tutorials/generated_videos/rl-video-step-56000-to-step-56050.mp4\n",
      "Moviepy - Building video /imitation/docs/tutorials/generated_videos/rl-video-step-56000-to-step-56050.mp4.\n",
      "Moviepy - Writing video /imitation/docs/tutorials/generated_videos/rl-video-step-56000-to-step-56050.mp4\n",
      "\n"
     ]
    },
    {
     "name": "stderr",
     "output_type": "stream",
     "text": [
      "                                                                                                                                         "
     ]
    },
    {
     "name": "stdout",
     "output_type": "stream",
     "text": [
      "Moviepy - Done !\n",
      "Moviepy - video ready /imitation/docs/tutorials/generated_videos/rl-video-step-56000-to-step-56050.mp4\n",
      "------------------------------------------------------\n",
      "| raw/                                 |             |\n",
      "|    agent/rollout/ep_len_mean         | 50          |\n",
      "|    agent/rollout/ep_rew_mean         | -62.4       |\n",
      "|    agent/rollout/ep_rew_wrapped_mean | -9.29       |\n",
      "|    agent/time/fps                    | 138         |\n",
      "|    agent/time/iterations             | 3           |\n",
      "|    agent/time/time_elapsed           | 44          |\n",
      "|    agent/time/total_timesteps        | 47104       |\n",
      "|    agent/train/approx_kl             | 0.008820539 |\n",
      "|    agent/train/clip_fraction         | 0.319       |\n",
      "|    agent/train/clip_range            | 0.1         |\n",
      "|    agent/train/entropy_loss          | -2.69       |\n",
      "|    agent/train/explained_variance    | 0.922       |\n",
      "|    agent/train/learning_rate         | 0.002       |\n",
      "|    agent/train/loss                  | -0.0355     |\n",
      "|    agent/train/n_updates             | 220         |\n",
      "|    agent/train/policy_gradient_loss  | -0.00942    |\n",
      "|    agent/train/std                   | 0.926       |\n",
      "|    agent/train/value_loss            | 0.0175      |\n",
      "------------------------------------------------------\n"
     ]
    },
    {
     "name": "stderr",
     "output_type": "stream",
     "text": [
      "\r"
     ]
    },
    {
     "name": "stdout",
     "output_type": "stream",
     "text": [
      "Saving video to /imitation/docs/tutorials/generated_videos/rl-video-step-56100-to-step-56150.mp4\n",
      "Moviepy - Building video /imitation/docs/tutorials/generated_videos/rl-video-step-56100-to-step-56150.mp4.\n",
      "Moviepy - Writing video /imitation/docs/tutorials/generated_videos/rl-video-step-56100-to-step-56150.mp4\n",
      "\n"
     ]
    },
    {
     "name": "stderr",
     "output_type": "stream",
     "text": [
      "                                                                                                                                         "
     ]
    },
    {
     "name": "stdout",
     "output_type": "stream",
     "text": [
      "Moviepy - Done !\n",
      "Moviepy - video ready /imitation/docs/tutorials/generated_videos/rl-video-step-56100-to-step-56150.mp4\n"
     ]
    },
    {
     "name": "stderr",
     "output_type": "stream",
     "text": [
      "\r"
     ]
    },
    {
     "name": "stdout",
     "output_type": "stream",
     "text": [
      "Saving video to /imitation/docs/tutorials/generated_videos/rl-video-step-56200-to-step-56250.mp4\n",
      "Moviepy - Building video /imitation/docs/tutorials/generated_videos/rl-video-step-56200-to-step-56250.mp4.\n",
      "Moviepy - Writing video /imitation/docs/tutorials/generated_videos/rl-video-step-56200-to-step-56250.mp4\n",
      "\n"
     ]
    },
    {
     "name": "stderr",
     "output_type": "stream",
     "text": [
      "                                                                                                                                         "
     ]
    },
    {
     "name": "stdout",
     "output_type": "stream",
     "text": [
      "Moviepy - Done !\n",
      "Moviepy - video ready /imitation/docs/tutorials/generated_videos/rl-video-step-56200-to-step-56250.mp4\n"
     ]
    },
    {
     "name": "stderr",
     "output_type": "stream",
     "text": [
      "\r"
     ]
    },
    {
     "name": "stdout",
     "output_type": "stream",
     "text": [
      "Saving video to /imitation/docs/tutorials/generated_videos/rl-video-step-56300-to-step-56350.mp4\n",
      "Moviepy - Building video /imitation/docs/tutorials/generated_videos/rl-video-step-56300-to-step-56350.mp4.\n",
      "Moviepy - Writing video /imitation/docs/tutorials/generated_videos/rl-video-step-56300-to-step-56350.mp4\n",
      "\n"
     ]
    },
    {
     "name": "stderr",
     "output_type": "stream",
     "text": [
      "                                                                                                                                         "
     ]
    },
    {
     "name": "stdout",
     "output_type": "stream",
     "text": [
      "Moviepy - Done !\n",
      "Moviepy - video ready /imitation/docs/tutorials/generated_videos/rl-video-step-56300-to-step-56350.mp4\n"
     ]
    },
    {
     "name": "stderr",
     "output_type": "stream",
     "text": [
      "\r"
     ]
    },
    {
     "name": "stdout",
     "output_type": "stream",
     "text": [
      "Saving video to /imitation/docs/tutorials/generated_videos/rl-video-step-56400-to-step-56450.mp4\n",
      "Moviepy - Building video /imitation/docs/tutorials/generated_videos/rl-video-step-56400-to-step-56450.mp4.\n",
      "Moviepy - Writing video /imitation/docs/tutorials/generated_videos/rl-video-step-56400-to-step-56450.mp4\n",
      "\n"
     ]
    },
    {
     "name": "stderr",
     "output_type": "stream",
     "text": [
      "                                                                                                                                         "
     ]
    },
    {
     "name": "stdout",
     "output_type": "stream",
     "text": [
      "Moviepy - Done !\n",
      "Moviepy - video ready /imitation/docs/tutorials/generated_videos/rl-video-step-56400-to-step-56450.mp4\n"
     ]
    },
    {
     "name": "stderr",
     "output_type": "stream",
     "text": [
      "\r"
     ]
    },
    {
     "name": "stdout",
     "output_type": "stream",
     "text": [
      "Saving video to /imitation/docs/tutorials/generated_videos/rl-video-step-56500-to-step-56550.mp4\n",
      "Moviepy - Building video /imitation/docs/tutorials/generated_videos/rl-video-step-56500-to-step-56550.mp4.\n",
      "Moviepy - Writing video /imitation/docs/tutorials/generated_videos/rl-video-step-56500-to-step-56550.mp4\n",
      "\n"
     ]
    },
    {
     "name": "stderr",
     "output_type": "stream",
     "text": [
      "                                                                                                                                         "
     ]
    },
    {
     "name": "stdout",
     "output_type": "stream",
     "text": [
      "Moviepy - Done !\n",
      "Moviepy - video ready /imitation/docs/tutorials/generated_videos/rl-video-step-56500-to-step-56550.mp4\n"
     ]
    },
    {
     "name": "stderr",
     "output_type": "stream",
     "text": [
      "\r"
     ]
    },
    {
     "name": "stdout",
     "output_type": "stream",
     "text": [
      "Saving video to /imitation/docs/tutorials/generated_videos/rl-video-step-56600-to-step-56650.mp4\n",
      "Moviepy - Building video /imitation/docs/tutorials/generated_videos/rl-video-step-56600-to-step-56650.mp4.\n",
      "Moviepy - Writing video /imitation/docs/tutorials/generated_videos/rl-video-step-56600-to-step-56650.mp4\n",
      "\n"
     ]
    },
    {
     "name": "stderr",
     "output_type": "stream",
     "text": [
      "                                                                                                                                         "
     ]
    },
    {
     "name": "stdout",
     "output_type": "stream",
     "text": [
      "Moviepy - Done !\n",
      "Moviepy - video ready /imitation/docs/tutorials/generated_videos/rl-video-step-56600-to-step-56650.mp4\n"
     ]
    },
    {
     "name": "stderr",
     "output_type": "stream",
     "text": [
      "\r"
     ]
    },
    {
     "name": "stdout",
     "output_type": "stream",
     "text": [
      "Saving video to /imitation/docs/tutorials/generated_videos/rl-video-step-56700-to-step-56750.mp4\n",
      "Moviepy - Building video /imitation/docs/tutorials/generated_videos/rl-video-step-56700-to-step-56750.mp4.\n",
      "Moviepy - Writing video /imitation/docs/tutorials/generated_videos/rl-video-step-56700-to-step-56750.mp4\n",
      "\n"
     ]
    },
    {
     "name": "stderr",
     "output_type": "stream",
     "text": [
      "                                                                                                                                         \r"
     ]
    },
    {
     "name": "stdout",
     "output_type": "stream",
     "text": [
      "Moviepy - Done !\n",
      "Moviepy - video ready /imitation/docs/tutorials/generated_videos/rl-video-step-56700-to-step-56750.mp4\n",
      "Saving video to /imitation/docs/tutorials/generated_videos/rl-video-step-56800-to-step-56850.mp4\n",
      "Moviepy - Building video /imitation/docs/tutorials/generated_videos/rl-video-step-56800-to-step-56850.mp4.\n",
      "Moviepy - Writing video /imitation/docs/tutorials/generated_videos/rl-video-step-56800-to-step-56850.mp4\n",
      "\n"
     ]
    },
    {
     "name": "stderr",
     "output_type": "stream",
     "text": [
      "                                                                                                                                         "
     ]
    },
    {
     "name": "stdout",
     "output_type": "stream",
     "text": [
      "Moviepy - Done !\n",
      "Moviepy - video ready /imitation/docs/tutorials/generated_videos/rl-video-step-56800-to-step-56850.mp4\n"
     ]
    },
    {
     "name": "stderr",
     "output_type": "stream",
     "text": [
      "\r"
     ]
    },
    {
     "name": "stdout",
     "output_type": "stream",
     "text": [
      "Saving video to /imitation/docs/tutorials/generated_videos/rl-video-step-56900-to-step-56950.mp4\n",
      "Moviepy - Building video /imitation/docs/tutorials/generated_videos/rl-video-step-56900-to-step-56950.mp4.\n",
      "Moviepy - Writing video /imitation/docs/tutorials/generated_videos/rl-video-step-56900-to-step-56950.mp4\n",
      "\n"
     ]
    },
    {
     "name": "stderr",
     "output_type": "stream",
     "text": [
      "                                                                                                                                         "
     ]
    },
    {
     "name": "stdout",
     "output_type": "stream",
     "text": [
      "Moviepy - Done !\n",
      "Moviepy - video ready /imitation/docs/tutorials/generated_videos/rl-video-step-56900-to-step-56950.mp4\n"
     ]
    },
    {
     "name": "stderr",
     "output_type": "stream",
     "text": [
      "\r"
     ]
    },
    {
     "name": "stdout",
     "output_type": "stream",
     "text": [
      "Saving video to /imitation/docs/tutorials/generated_videos/rl-video-step-57000-to-step-57050.mp4\n",
      "Moviepy - Building video /imitation/docs/tutorials/generated_videos/rl-video-step-57000-to-step-57050.mp4.\n",
      "Moviepy - Writing video /imitation/docs/tutorials/generated_videos/rl-video-step-57000-to-step-57050.mp4\n",
      "\n"
     ]
    },
    {
     "name": "stderr",
     "output_type": "stream",
     "text": [
      "                                                                                                                                         "
     ]
    },
    {
     "name": "stdout",
     "output_type": "stream",
     "text": [
      "Moviepy - Done !\n",
      "Moviepy - video ready /imitation/docs/tutorials/generated_videos/rl-video-step-57000-to-step-57050.mp4\n"
     ]
    },
    {
     "name": "stderr",
     "output_type": "stream",
     "text": [
      "\r"
     ]
    },
    {
     "name": "stdout",
     "output_type": "stream",
     "text": [
      "Saving video to /imitation/docs/tutorials/generated_videos/rl-video-step-57100-to-step-57150.mp4\n",
      "Moviepy - Building video /imitation/docs/tutorials/generated_videos/rl-video-step-57100-to-step-57150.mp4.\n",
      "Moviepy - Writing video /imitation/docs/tutorials/generated_videos/rl-video-step-57100-to-step-57150.mp4\n",
      "\n"
     ]
    },
    {
     "name": "stderr",
     "output_type": "stream",
     "text": [
      "                                                                                                                                         "
     ]
    },
    {
     "name": "stdout",
     "output_type": "stream",
     "text": [
      "Moviepy - Done !\n",
      "Moviepy - video ready /imitation/docs/tutorials/generated_videos/rl-video-step-57100-to-step-57150.mp4\n"
     ]
    },
    {
     "name": "stderr",
     "output_type": "stream",
     "text": [
      "\r"
     ]
    },
    {
     "name": "stdout",
     "output_type": "stream",
     "text": [
      "Saving video to /imitation/docs/tutorials/generated_videos/rl-video-step-57200-to-step-57250.mp4\n",
      "Moviepy - Building video /imitation/docs/tutorials/generated_videos/rl-video-step-57200-to-step-57250.mp4.\n",
      "Moviepy - Writing video /imitation/docs/tutorials/generated_videos/rl-video-step-57200-to-step-57250.mp4\n",
      "\n"
     ]
    },
    {
     "name": "stderr",
     "output_type": "stream",
     "text": [
      "                                                                                                                                         "
     ]
    },
    {
     "name": "stdout",
     "output_type": "stream",
     "text": [
      "Moviepy - Done !\n",
      "Moviepy - video ready /imitation/docs/tutorials/generated_videos/rl-video-step-57200-to-step-57250.mp4\n"
     ]
    },
    {
     "name": "stderr",
     "output_type": "stream",
     "text": [
      "\r"
     ]
    },
    {
     "name": "stdout",
     "output_type": "stream",
     "text": [
      "Saving video to /imitation/docs/tutorials/generated_videos/rl-video-step-57300-to-step-57350.mp4\n",
      "Moviepy - Building video /imitation/docs/tutorials/generated_videos/rl-video-step-57300-to-step-57350.mp4.\n",
      "Moviepy - Writing video /imitation/docs/tutorials/generated_videos/rl-video-step-57300-to-step-57350.mp4\n",
      "\n"
     ]
    },
    {
     "name": "stderr",
     "output_type": "stream",
     "text": [
      "                                                                                                                                         "
     ]
    },
    {
     "name": "stdout",
     "output_type": "stream",
     "text": [
      "Moviepy - Done !\n",
      "Moviepy - video ready /imitation/docs/tutorials/generated_videos/rl-video-step-57300-to-step-57350.mp4\n"
     ]
    },
    {
     "name": "stderr",
     "output_type": "stream",
     "text": [
      "\r"
     ]
    },
    {
     "name": "stdout",
     "output_type": "stream",
     "text": [
      "Saving video to /imitation/docs/tutorials/generated_videos/rl-video-step-57400-to-step-57450.mp4\n",
      "Moviepy - Building video /imitation/docs/tutorials/generated_videos/rl-video-step-57400-to-step-57450.mp4.\n",
      "Moviepy - Writing video /imitation/docs/tutorials/generated_videos/rl-video-step-57400-to-step-57450.mp4\n",
      "\n"
     ]
    },
    {
     "name": "stderr",
     "output_type": "stream",
     "text": [
      "                                                                                                                                         "
     ]
    },
    {
     "name": "stdout",
     "output_type": "stream",
     "text": [
      "Moviepy - Done !\n",
      "Moviepy - video ready /imitation/docs/tutorials/generated_videos/rl-video-step-57400-to-step-57450.mp4\n"
     ]
    },
    {
     "name": "stderr",
     "output_type": "stream",
     "text": [
      "\r"
     ]
    },
    {
     "name": "stdout",
     "output_type": "stream",
     "text": [
      "Saving video to /imitation/docs/tutorials/generated_videos/rl-video-step-57500-to-step-57550.mp4\n",
      "Moviepy - Building video /imitation/docs/tutorials/generated_videos/rl-video-step-57500-to-step-57550.mp4.\n",
      "Moviepy - Writing video /imitation/docs/tutorials/generated_videos/rl-video-step-57500-to-step-57550.mp4\n",
      "\n"
     ]
    },
    {
     "name": "stderr",
     "output_type": "stream",
     "text": [
      "                                                                                                                                         "
     ]
    },
    {
     "name": "stdout",
     "output_type": "stream",
     "text": [
      "Moviepy - Done !\n",
      "Moviepy - video ready /imitation/docs/tutorials/generated_videos/rl-video-step-57500-to-step-57550.mp4\n"
     ]
    },
    {
     "name": "stderr",
     "output_type": "stream",
     "text": [
      "\r"
     ]
    },
    {
     "name": "stdout",
     "output_type": "stream",
     "text": [
      "Saving video to /imitation/docs/tutorials/generated_videos/rl-video-step-57600-to-step-57650.mp4\n",
      "Moviepy - Building video /imitation/docs/tutorials/generated_videos/rl-video-step-57600-to-step-57650.mp4.\n",
      "Moviepy - Writing video /imitation/docs/tutorials/generated_videos/rl-video-step-57600-to-step-57650.mp4\n",
      "\n"
     ]
    },
    {
     "name": "stderr",
     "output_type": "stream",
     "text": [
      "                                                                                                                                         "
     ]
    },
    {
     "name": "stdout",
     "output_type": "stream",
     "text": [
      "Moviepy - Done !\n",
      "Moviepy - video ready /imitation/docs/tutorials/generated_videos/rl-video-step-57600-to-step-57650.mp4\n"
     ]
    },
    {
     "name": "stderr",
     "output_type": "stream",
     "text": [
      "\r"
     ]
    },
    {
     "name": "stdout",
     "output_type": "stream",
     "text": [
      "Saving video to /imitation/docs/tutorials/generated_videos/rl-video-step-57700-to-step-57750.mp4\n",
      "Moviepy - Building video /imitation/docs/tutorials/generated_videos/rl-video-step-57700-to-step-57750.mp4.\n",
      "Moviepy - Writing video /imitation/docs/tutorials/generated_videos/rl-video-step-57700-to-step-57750.mp4\n",
      "\n"
     ]
    },
    {
     "name": "stderr",
     "output_type": "stream",
     "text": [
      "                                                                                                                                         "
     ]
    },
    {
     "name": "stdout",
     "output_type": "stream",
     "text": [
      "Moviepy - Done !\n",
      "Moviepy - video ready /imitation/docs/tutorials/generated_videos/rl-video-step-57700-to-step-57750.mp4\n"
     ]
    },
    {
     "name": "stderr",
     "output_type": "stream",
     "text": [
      "\r"
     ]
    },
    {
     "name": "stdout",
     "output_type": "stream",
     "text": [
      "Saving video to /imitation/docs/tutorials/generated_videos/rl-video-step-57800-to-step-57850.mp4\n",
      "Moviepy - Building video /imitation/docs/tutorials/generated_videos/rl-video-step-57800-to-step-57850.mp4.\n",
      "Moviepy - Writing video /imitation/docs/tutorials/generated_videos/rl-video-step-57800-to-step-57850.mp4\n",
      "\n"
     ]
    },
    {
     "name": "stderr",
     "output_type": "stream",
     "text": [
      "                                                                                                                                         "
     ]
    },
    {
     "name": "stdout",
     "output_type": "stream",
     "text": [
      "Moviepy - Done !\n",
      "Moviepy - video ready /imitation/docs/tutorials/generated_videos/rl-video-step-57800-to-step-57850.mp4\n"
     ]
    },
    {
     "name": "stderr",
     "output_type": "stream",
     "text": [
      "\r"
     ]
    },
    {
     "name": "stdout",
     "output_type": "stream",
     "text": [
      "Saving video to /imitation/docs/tutorials/generated_videos/rl-video-step-57900-to-step-57950.mp4\n",
      "Moviepy - Building video /imitation/docs/tutorials/generated_videos/rl-video-step-57900-to-step-57950.mp4.\n",
      "Moviepy - Writing video /imitation/docs/tutorials/generated_videos/rl-video-step-57900-to-step-57950.mp4\n",
      "\n"
     ]
    },
    {
     "name": "stderr",
     "output_type": "stream",
     "text": [
      "                                                                                                                                         "
     ]
    },
    {
     "name": "stdout",
     "output_type": "stream",
     "text": [
      "Moviepy - Done !\n",
      "Moviepy - video ready /imitation/docs/tutorials/generated_videos/rl-video-step-57900-to-step-57950.mp4\n"
     ]
    },
    {
     "name": "stderr",
     "output_type": "stream",
     "text": [
      "\r"
     ]
    },
    {
     "name": "stdout",
     "output_type": "stream",
     "text": [
      "Saving video to /imitation/docs/tutorials/generated_videos/rl-video-step-58000-to-step-58050.mp4\n",
      "Moviepy - Building video /imitation/docs/tutorials/generated_videos/rl-video-step-58000-to-step-58050.mp4.\n",
      "Moviepy - Writing video /imitation/docs/tutorials/generated_videos/rl-video-step-58000-to-step-58050.mp4\n",
      "\n"
     ]
    },
    {
     "name": "stderr",
     "output_type": "stream",
     "text": [
      "                                                                                                                                         "
     ]
    },
    {
     "name": "stdout",
     "output_type": "stream",
     "text": [
      "Moviepy - Done !\n",
      "Moviepy - video ready /imitation/docs/tutorials/generated_videos/rl-video-step-58000-to-step-58050.mp4\n"
     ]
    },
    {
     "name": "stderr",
     "output_type": "stream",
     "text": [
      "\r"
     ]
    },
    {
     "name": "stdout",
     "output_type": "stream",
     "text": [
      "------------------------------------------------------\n",
      "| raw/                                 |             |\n",
      "|    agent/rollout/ep_len_mean         | 50          |\n",
      "|    agent/rollout/ep_rew_mean         | -61.8       |\n",
      "|    agent/rollout/ep_rew_wrapped_mean | -9.34       |\n",
      "|    agent/time/fps                    | 137         |\n",
      "|    agent/time/iterations             | 4           |\n",
      "|    agent/time/time_elapsed           | 59          |\n",
      "|    agent/time/total_timesteps        | 49152       |\n",
      "|    agent/train/approx_kl             | 0.009060925 |\n",
      "|    agent/train/clip_fraction         | 0.315       |\n",
      "|    agent/train/clip_range            | 0.1         |\n",
      "|    agent/train/entropy_loss          | -2.64       |\n",
      "|    agent/train/explained_variance    | 0.893       |\n",
      "|    agent/train/learning_rate         | 0.002       |\n",
      "|    agent/train/loss                  | -0.044      |\n",
      "|    agent/train/n_updates             | 230         |\n",
      "|    agent/train/policy_gradient_loss  | -0.0058     |\n",
      "|    agent/train/std                   | 0.905       |\n",
      "|    agent/train/value_loss            | 0.012       |\n",
      "------------------------------------------------------\n",
      "Saving video to /imitation/docs/tutorials/generated_videos/rl-video-step-58100-to-step-58150.mp4\n",
      "Moviepy - Building video /imitation/docs/tutorials/generated_videos/rl-video-step-58100-to-step-58150.mp4.\n",
      "Moviepy - Writing video /imitation/docs/tutorials/generated_videos/rl-video-step-58100-to-step-58150.mp4\n",
      "\n"
     ]
    },
    {
     "name": "stderr",
     "output_type": "stream",
     "text": [
      "                                                                                                                                         "
     ]
    },
    {
     "name": "stdout",
     "output_type": "stream",
     "text": [
      "Moviepy - Done !\n",
      "Moviepy - video ready /imitation/docs/tutorials/generated_videos/rl-video-step-58100-to-step-58150.mp4\n"
     ]
    },
    {
     "name": "stderr",
     "output_type": "stream",
     "text": [
      "\r"
     ]
    },
    {
     "name": "stdout",
     "output_type": "stream",
     "text": [
      "Saving video to /imitation/docs/tutorials/generated_videos/rl-video-step-58200-to-step-58250.mp4\n",
      "Moviepy - Building video /imitation/docs/tutorials/generated_videos/rl-video-step-58200-to-step-58250.mp4.\n",
      "Moviepy - Writing video /imitation/docs/tutorials/generated_videos/rl-video-step-58200-to-step-58250.mp4\n",
      "\n"
     ]
    },
    {
     "name": "stderr",
     "output_type": "stream",
     "text": [
      "                                                                                                                                         "
     ]
    },
    {
     "name": "stdout",
     "output_type": "stream",
     "text": [
      "Moviepy - Done !\n",
      "Moviepy - video ready /imitation/docs/tutorials/generated_videos/rl-video-step-58200-to-step-58250.mp4\n"
     ]
    },
    {
     "name": "stderr",
     "output_type": "stream",
     "text": [
      "\r"
     ]
    },
    {
     "name": "stdout",
     "output_type": "stream",
     "text": [
      "Saving video to /imitation/docs/tutorials/generated_videos/rl-video-step-58300-to-step-58350.mp4\n",
      "Moviepy - Building video /imitation/docs/tutorials/generated_videos/rl-video-step-58300-to-step-58350.mp4.\n",
      "Moviepy - Writing video /imitation/docs/tutorials/generated_videos/rl-video-step-58300-to-step-58350.mp4\n",
      "\n"
     ]
    },
    {
     "name": "stderr",
     "output_type": "stream",
     "text": [
      "                                                                                                                                         "
     ]
    },
    {
     "name": "stdout",
     "output_type": "stream",
     "text": [
      "Moviepy - Done !\n",
      "Moviepy - video ready /imitation/docs/tutorials/generated_videos/rl-video-step-58300-to-step-58350.mp4\n"
     ]
    },
    {
     "name": "stderr",
     "output_type": "stream",
     "text": [
      "\r"
     ]
    },
    {
     "name": "stdout",
     "output_type": "stream",
     "text": [
      "Saving video to /imitation/docs/tutorials/generated_videos/rl-video-step-58400-to-step-58450.mp4\n",
      "Moviepy - Building video /imitation/docs/tutorials/generated_videos/rl-video-step-58400-to-step-58450.mp4.\n",
      "Moviepy - Writing video /imitation/docs/tutorials/generated_videos/rl-video-step-58400-to-step-58450.mp4\n",
      "\n"
     ]
    },
    {
     "name": "stderr",
     "output_type": "stream",
     "text": [
      "                                                                                                                                         "
     ]
    },
    {
     "name": "stdout",
     "output_type": "stream",
     "text": [
      "Moviepy - Done !\n",
      "Moviepy - video ready /imitation/docs/tutorials/generated_videos/rl-video-step-58400-to-step-58450.mp4\n"
     ]
    },
    {
     "name": "stderr",
     "output_type": "stream",
     "text": [
      "\r"
     ]
    },
    {
     "name": "stdout",
     "output_type": "stream",
     "text": [
      "Saving video to /imitation/docs/tutorials/generated_videos/rl-video-step-58500-to-step-58550.mp4\n",
      "Moviepy - Building video /imitation/docs/tutorials/generated_videos/rl-video-step-58500-to-step-58550.mp4.\n",
      "Moviepy - Writing video /imitation/docs/tutorials/generated_videos/rl-video-step-58500-to-step-58550.mp4\n",
      "\n"
     ]
    },
    {
     "name": "stderr",
     "output_type": "stream",
     "text": [
      "                                                                                                                                         "
     ]
    },
    {
     "name": "stdout",
     "output_type": "stream",
     "text": [
      "Moviepy - Done !\n",
      "Moviepy - video ready /imitation/docs/tutorials/generated_videos/rl-video-step-58500-to-step-58550.mp4\n"
     ]
    },
    {
     "name": "stderr",
     "output_type": "stream",
     "text": [
      "\r"
     ]
    },
    {
     "name": "stdout",
     "output_type": "stream",
     "text": [
      "Saving video to /imitation/docs/tutorials/generated_videos/rl-video-step-58600-to-step-58650.mp4\n",
      "Moviepy - Building video /imitation/docs/tutorials/generated_videos/rl-video-step-58600-to-step-58650.mp4.\n",
      "Moviepy - Writing video /imitation/docs/tutorials/generated_videos/rl-video-step-58600-to-step-58650.mp4\n",
      "\n"
     ]
    },
    {
     "name": "stderr",
     "output_type": "stream",
     "text": [
      "                                                                                                                                         "
     ]
    },
    {
     "name": "stdout",
     "output_type": "stream",
     "text": [
      "Moviepy - Done !\n",
      "Moviepy - video ready /imitation/docs/tutorials/generated_videos/rl-video-step-58600-to-step-58650.mp4\n"
     ]
    },
    {
     "name": "stderr",
     "output_type": "stream",
     "text": [
      "\r"
     ]
    },
    {
     "name": "stdout",
     "output_type": "stream",
     "text": [
      "Saving video to /imitation/docs/tutorials/generated_videos/rl-video-step-58700-to-step-58750.mp4\n",
      "Moviepy - Building video /imitation/docs/tutorials/generated_videos/rl-video-step-58700-to-step-58750.mp4.\n",
      "Moviepy - Writing video /imitation/docs/tutorials/generated_videos/rl-video-step-58700-to-step-58750.mp4\n",
      "\n"
     ]
    },
    {
     "name": "stderr",
     "output_type": "stream",
     "text": [
      "                                                                                                                                         "
     ]
    },
    {
     "name": "stdout",
     "output_type": "stream",
     "text": [
      "Moviepy - Done !\n",
      "Moviepy - video ready /imitation/docs/tutorials/generated_videos/rl-video-step-58700-to-step-58750.mp4\n"
     ]
    },
    {
     "name": "stderr",
     "output_type": "stream",
     "text": [
      "\r"
     ]
    },
    {
     "name": "stdout",
     "output_type": "stream",
     "text": [
      "Saving video to /imitation/docs/tutorials/generated_videos/rl-video-step-58800-to-step-58850.mp4\n",
      "Moviepy - Building video /imitation/docs/tutorials/generated_videos/rl-video-step-58800-to-step-58850.mp4.\n",
      "Moviepy - Writing video /imitation/docs/tutorials/generated_videos/rl-video-step-58800-to-step-58850.mp4\n",
      "\n"
     ]
    },
    {
     "name": "stderr",
     "output_type": "stream",
     "text": [
      "                                                                                                                                         "
     ]
    },
    {
     "name": "stdout",
     "output_type": "stream",
     "text": [
      "Moviepy - Done !\n",
      "Moviepy - video ready /imitation/docs/tutorials/generated_videos/rl-video-step-58800-to-step-58850.mp4\n"
     ]
    },
    {
     "name": "stderr",
     "output_type": "stream",
     "text": [
      "\r"
     ]
    },
    {
     "name": "stdout",
     "output_type": "stream",
     "text": [
      "Saving video to /imitation/docs/tutorials/generated_videos/rl-video-step-58900-to-step-58950.mp4\n",
      "Moviepy - Building video /imitation/docs/tutorials/generated_videos/rl-video-step-58900-to-step-58950.mp4.\n",
      "Moviepy - Writing video /imitation/docs/tutorials/generated_videos/rl-video-step-58900-to-step-58950.mp4\n",
      "\n"
     ]
    },
    {
     "name": "stderr",
     "output_type": "stream",
     "text": [
      "                                                                                                                                         "
     ]
    },
    {
     "name": "stdout",
     "output_type": "stream",
     "text": [
      "Moviepy - Done !\n",
      "Moviepy - video ready /imitation/docs/tutorials/generated_videos/rl-video-step-58900-to-step-58950.mp4\n"
     ]
    },
    {
     "name": "stderr",
     "output_type": "stream",
     "text": [
      "\r"
     ]
    },
    {
     "name": "stdout",
     "output_type": "stream",
     "text": [
      "Saving video to /imitation/docs/tutorials/generated_videos/rl-video-step-59000-to-step-59050.mp4\n",
      "Moviepy - Building video /imitation/docs/tutorials/generated_videos/rl-video-step-59000-to-step-59050.mp4.\n",
      "Moviepy - Writing video /imitation/docs/tutorials/generated_videos/rl-video-step-59000-to-step-59050.mp4\n",
      "\n"
     ]
    },
    {
     "name": "stderr",
     "output_type": "stream",
     "text": [
      "                                                                                                                                         "
     ]
    },
    {
     "name": "stdout",
     "output_type": "stream",
     "text": [
      "Moviepy - Done !\n",
      "Moviepy - video ready /imitation/docs/tutorials/generated_videos/rl-video-step-59000-to-step-59050.mp4\n"
     ]
    },
    {
     "name": "stderr",
     "output_type": "stream",
     "text": [
      "\r"
     ]
    },
    {
     "name": "stdout",
     "output_type": "stream",
     "text": [
      "Saving video to /imitation/docs/tutorials/generated_videos/rl-video-step-59100-to-step-59150.mp4\n",
      "Moviepy - Building video /imitation/docs/tutorials/generated_videos/rl-video-step-59100-to-step-59150.mp4.\n",
      "Moviepy - Writing video /imitation/docs/tutorials/generated_videos/rl-video-step-59100-to-step-59150.mp4\n",
      "\n"
     ]
    },
    {
     "name": "stderr",
     "output_type": "stream",
     "text": [
      "                                                                                                                                         "
     ]
    },
    {
     "name": "stdout",
     "output_type": "stream",
     "text": [
      "Moviepy - Done !\n",
      "Moviepy - video ready /imitation/docs/tutorials/generated_videos/rl-video-step-59100-to-step-59150.mp4\n"
     ]
    },
    {
     "name": "stderr",
     "output_type": "stream",
     "text": [
      "\r"
     ]
    },
    {
     "name": "stdout",
     "output_type": "stream",
     "text": [
      "Saving video to /imitation/docs/tutorials/generated_videos/rl-video-step-59200-to-step-59250.mp4\n",
      "Moviepy - Building video /imitation/docs/tutorials/generated_videos/rl-video-step-59200-to-step-59250.mp4.\n",
      "Moviepy - Writing video /imitation/docs/tutorials/generated_videos/rl-video-step-59200-to-step-59250.mp4\n",
      "\n"
     ]
    },
    {
     "name": "stderr",
     "output_type": "stream",
     "text": [
      "                                                                                                                                         "
     ]
    },
    {
     "name": "stdout",
     "output_type": "stream",
     "text": [
      "Moviepy - Done !\n",
      "Moviepy - video ready /imitation/docs/tutorials/generated_videos/rl-video-step-59200-to-step-59250.mp4\n"
     ]
    },
    {
     "name": "stderr",
     "output_type": "stream",
     "text": [
      "\r"
     ]
    },
    {
     "name": "stdout",
     "output_type": "stream",
     "text": [
      "Saving video to /imitation/docs/tutorials/generated_videos/rl-video-step-59300-to-step-59350.mp4\n",
      "Moviepy - Building video /imitation/docs/tutorials/generated_videos/rl-video-step-59300-to-step-59350.mp4.\n",
      "Moviepy - Writing video /imitation/docs/tutorials/generated_videos/rl-video-step-59300-to-step-59350.mp4\n",
      "\n"
     ]
    },
    {
     "name": "stderr",
     "output_type": "stream",
     "text": [
      "                                                                                                                                         "
     ]
    },
    {
     "name": "stdout",
     "output_type": "stream",
     "text": [
      "Moviepy - Done !\n",
      "Moviepy - video ready /imitation/docs/tutorials/generated_videos/rl-video-step-59300-to-step-59350.mp4\n"
     ]
    },
    {
     "name": "stderr",
     "output_type": "stream",
     "text": [
      "\r"
     ]
    },
    {
     "name": "stdout",
     "output_type": "stream",
     "text": [
      "Saving video to /imitation/docs/tutorials/generated_videos/rl-video-step-59400-to-step-59450.mp4\n",
      "Moviepy - Building video /imitation/docs/tutorials/generated_videos/rl-video-step-59400-to-step-59450.mp4.\n",
      "Moviepy - Writing video /imitation/docs/tutorials/generated_videos/rl-video-step-59400-to-step-59450.mp4\n",
      "\n"
     ]
    },
    {
     "name": "stderr",
     "output_type": "stream",
     "text": [
      "                                                                                                                                         "
     ]
    },
    {
     "name": "stdout",
     "output_type": "stream",
     "text": [
      "Moviepy - Done !\n",
      "Moviepy - video ready /imitation/docs/tutorials/generated_videos/rl-video-step-59400-to-step-59450.mp4\n"
     ]
    },
    {
     "name": "stderr",
     "output_type": "stream",
     "text": [
      "\r"
     ]
    },
    {
     "name": "stdout",
     "output_type": "stream",
     "text": [
      "Saving video to /imitation/docs/tutorials/generated_videos/rl-video-step-59500-to-step-59550.mp4\n",
      "Moviepy - Building video /imitation/docs/tutorials/generated_videos/rl-video-step-59500-to-step-59550.mp4.\n",
      "Moviepy - Writing video /imitation/docs/tutorials/generated_videos/rl-video-step-59500-to-step-59550.mp4\n",
      "\n"
     ]
    },
    {
     "name": "stderr",
     "output_type": "stream",
     "text": [
      "                                                                                                                                         \r"
     ]
    },
    {
     "name": "stdout",
     "output_type": "stream",
     "text": [
      "Moviepy - Done !\n",
      "Moviepy - video ready /imitation/docs/tutorials/generated_videos/rl-video-step-59500-to-step-59550.mp4\n",
      "Saving video to /imitation/docs/tutorials/generated_videos/rl-video-step-59600-to-step-59650.mp4\n",
      "Moviepy - Building video /imitation/docs/tutorials/generated_videos/rl-video-step-59600-to-step-59650.mp4.\n",
      "Moviepy - Writing video /imitation/docs/tutorials/generated_videos/rl-video-step-59600-to-step-59650.mp4\n",
      "\n"
     ]
    },
    {
     "name": "stderr",
     "output_type": "stream",
     "text": [
      "                                                                                                                                         "
     ]
    },
    {
     "name": "stdout",
     "output_type": "stream",
     "text": [
      "Moviepy - Done !\n",
      "Moviepy - video ready /imitation/docs/tutorials/generated_videos/rl-video-step-59600-to-step-59650.mp4\n"
     ]
    },
    {
     "name": "stderr",
     "output_type": "stream",
     "text": [
      "\r"
     ]
    },
    {
     "name": "stdout",
     "output_type": "stream",
     "text": [
      "Saving video to /imitation/docs/tutorials/generated_videos/rl-video-step-59700-to-step-59750.mp4\n",
      "Moviepy - Building video /imitation/docs/tutorials/generated_videos/rl-video-step-59700-to-step-59750.mp4.\n",
      "Moviepy - Writing video /imitation/docs/tutorials/generated_videos/rl-video-step-59700-to-step-59750.mp4\n",
      "\n"
     ]
    },
    {
     "name": "stderr",
     "output_type": "stream",
     "text": [
      "                                                                                                                                         "
     ]
    },
    {
     "name": "stdout",
     "output_type": "stream",
     "text": [
      "Moviepy - Done !\n",
      "Moviepy - video ready /imitation/docs/tutorials/generated_videos/rl-video-step-59700-to-step-59750.mp4\n"
     ]
    },
    {
     "name": "stderr",
     "output_type": "stream",
     "text": [
      "\r"
     ]
    },
    {
     "name": "stdout",
     "output_type": "stream",
     "text": [
      "Saving video to /imitation/docs/tutorials/generated_videos/rl-video-step-59800-to-step-59850.mp4\n",
      "Moviepy - Building video /imitation/docs/tutorials/generated_videos/rl-video-step-59800-to-step-59850.mp4.\n",
      "Moviepy - Writing video /imitation/docs/tutorials/generated_videos/rl-video-step-59800-to-step-59850.mp4\n",
      "\n"
     ]
    },
    {
     "name": "stderr",
     "output_type": "stream",
     "text": [
      "                                                                                                                                         "
     ]
    },
    {
     "name": "stdout",
     "output_type": "stream",
     "text": [
      "Moviepy - Done !\n",
      "Moviepy - video ready /imitation/docs/tutorials/generated_videos/rl-video-step-59800-to-step-59850.mp4\n"
     ]
    },
    {
     "name": "stderr",
     "output_type": "stream",
     "text": [
      "\r"
     ]
    },
    {
     "name": "stdout",
     "output_type": "stream",
     "text": [
      "Saving video to /imitation/docs/tutorials/generated_videos/rl-video-step-59900-to-step-59950.mp4\n",
      "Moviepy - Building video /imitation/docs/tutorials/generated_videos/rl-video-step-59900-to-step-59950.mp4.\n",
      "Moviepy - Writing video /imitation/docs/tutorials/generated_videos/rl-video-step-59900-to-step-59950.mp4\n",
      "\n"
     ]
    },
    {
     "name": "stderr",
     "output_type": "stream",
     "text": [
      "                                                                                                                                         "
     ]
    },
    {
     "name": "stdout",
     "output_type": "stream",
     "text": [
      "Moviepy - Done !\n",
      "Moviepy - video ready /imitation/docs/tutorials/generated_videos/rl-video-step-59900-to-step-59950.mp4\n"
     ]
    },
    {
     "name": "stderr",
     "output_type": "stream",
     "text": [
      "\r"
     ]
    },
    {
     "name": "stdout",
     "output_type": "stream",
     "text": [
      "Saving video to /imitation/docs/tutorials/generated_videos/rl-video-step-60000-to-step-60050.mp4\n",
      "Moviepy - Building video /imitation/docs/tutorials/generated_videos/rl-video-step-60000-to-step-60050.mp4.\n",
      "Moviepy - Writing video /imitation/docs/tutorials/generated_videos/rl-video-step-60000-to-step-60050.mp4\n",
      "\n"
     ]
    },
    {
     "name": "stderr",
     "output_type": "stream",
     "text": [
      "                                                                                                                                         "
     ]
    },
    {
     "name": "stdout",
     "output_type": "stream",
     "text": [
      "Moviepy - Done !\n",
      "Moviepy - video ready /imitation/docs/tutorials/generated_videos/rl-video-step-60000-to-step-60050.mp4\n"
     ]
    },
    {
     "name": "stderr",
     "output_type": "stream",
     "text": [
      "\r"
     ]
    },
    {
     "name": "stdout",
     "output_type": "stream",
     "text": [
      "Saving video to /imitation/docs/tutorials/generated_videos/rl-video-step-60100-to-step-60150.mp4\n",
      "Moviepy - Building video /imitation/docs/tutorials/generated_videos/rl-video-step-60100-to-step-60150.mp4.\n",
      "Moviepy - Writing video /imitation/docs/tutorials/generated_videos/rl-video-step-60100-to-step-60150.mp4\n",
      "\n"
     ]
    },
    {
     "name": "stderr",
     "output_type": "stream",
     "text": [
      "                                                                                                                                         "
     ]
    },
    {
     "name": "stdout",
     "output_type": "stream",
     "text": [
      "Moviepy - Done !\n",
      "Moviepy - video ready /imitation/docs/tutorials/generated_videos/rl-video-step-60100-to-step-60150.mp4\n",
      "------------------------------------------------------\n",
      "| raw/                                 |             |\n",
      "|    agent/rollout/ep_len_mean         | 50          |\n",
      "|    agent/rollout/ep_rew_mean         | -61         |\n",
      "|    agent/rollout/ep_rew_wrapped_mean | -9.26       |\n",
      "|    agent/time/fps                    | 136         |\n",
      "|    agent/time/iterations             | 5           |\n",
      "|    agent/time/time_elapsed           | 74          |\n",
      "|    agent/time/total_timesteps        | 51200       |\n",
      "|    agent/train/approx_kl             | 0.007577989 |\n",
      "|    agent/train/clip_fraction         | 0.307       |\n",
      "|    agent/train/clip_range            | 0.1         |\n",
      "|    agent/train/entropy_loss          | -2.6        |\n",
      "|    agent/train/explained_variance    | 0.941       |\n",
      "|    agent/train/learning_rate         | 0.002       |\n",
      "|    agent/train/loss                  | -0.0166     |\n",
      "|    agent/train/n_updates             | 240         |\n",
      "|    agent/train/policy_gradient_loss  | -0.0103     |\n",
      "|    agent/train/std                   | 0.887       |\n",
      "|    agent/train/value_loss            | 0.00987     |\n",
      "------------------------------------------------------\n"
     ]
    },
    {
     "name": "stderr",
     "output_type": "stream",
     "text": [
      "\r"
     ]
    },
    {
     "name": "stdout",
     "output_type": "stream",
     "text": [
      "-----------------------------------------------------\n",
      "| mean/                                  |          |\n",
      "|    agent/rollout/ep_len_mean           | 50       |\n",
      "|    agent/rollout/ep_rew_mean           | -62      |\n",
      "|    agent/rollout/ep_rew_wrapped_mean   | -8.92    |\n",
      "|    agent/time/fps                      | 141      |\n",
      "|    agent/time/iterations               | 3        |\n",
      "|    agent/time/time_elapsed             | 43.6     |\n",
      "|    agent/time/total_timesteps          | 4.71e+04 |\n",
      "|    agent/train/approx_kl               | 0.00846  |\n",
      "|    agent/train/clip_fraction           | 0.309    |\n",
      "|    agent/train/clip_range              | 0.1      |\n",
      "|    agent/train/entropy_loss            | -2.65    |\n",
      "|    agent/train/explained_variance      | 0.911    |\n",
      "|    agent/train/learning_rate           | 0.002    |\n",
      "|    agent/train/loss                    | -0.0329  |\n",
      "|    agent/train/n_updates               | 230      |\n",
      "|    agent/train/policy_gradient_loss    | -0.0075  |\n",
      "|    agent/train/std                     | 0.907    |\n",
      "|    agent/train/value_loss              | 0.0135   |\n",
      "|    preferences/entropy                 | 0.137    |\n",
      "|    reward/epoch-0/train/accuracy       | 0.723    |\n",
      "|    reward/epoch-0/train/gt_reward_loss | 0.175    |\n",
      "|    reward/epoch-0/train/loss           | 0.578    |\n",
      "|    reward/epoch-1/train/accuracy       | 0.745    |\n",
      "|    reward/epoch-1/train/gt_reward_loss | 0.174    |\n",
      "|    reward/epoch-1/train/loss           | 0.551    |\n",
      "|    reward/epoch-2/train/accuracy       | 0.747    |\n",
      "|    reward/epoch-2/train/gt_reward_loss | 0.176    |\n",
      "|    reward/epoch-2/train/loss           | 0.536    |\n",
      "| reward/                                |          |\n",
      "|    final/train/accuracy                | 0.747    |\n",
      "|    final/train/gt_reward_loss          | 0.176    |\n",
      "|    final/train/loss                    | 0.536    |\n",
      "-----------------------------------------------------\n",
      "Collecting 126 fragments (6300 transitions)\n",
      "Sampling 315 exploratory transitions.\n",
      "Saving video to /imitation/docs/tutorials/generated_videos/rl-video-step-60150-to-step-60200.mp4\n",
      "Moviepy - Building video /imitation/docs/tutorials/generated_videos/rl-video-step-60150-to-step-60200.mp4.\n",
      "Moviepy - Writing video /imitation/docs/tutorials/generated_videos/rl-video-step-60150-to-step-60200.mp4\n",
      "\n"
     ]
    },
    {
     "name": "stderr",
     "output_type": "stream",
     "text": [
      "                                                                                                                                         \r"
     ]
    },
    {
     "name": "stdout",
     "output_type": "stream",
     "text": [
      "Moviepy - Done !\n",
      "Moviepy - video ready /imitation/docs/tutorials/generated_videos/rl-video-step-60150-to-step-60200.mp4\n",
      "Saving video to /imitation/docs/tutorials/generated_videos/rl-video-step-60250-to-step-60300.mp4\n",
      "Moviepy - Building video /imitation/docs/tutorials/generated_videos/rl-video-step-60250-to-step-60300.mp4.\n",
      "Moviepy - Writing video /imitation/docs/tutorials/generated_videos/rl-video-step-60250-to-step-60300.mp4\n",
      "\n"
     ]
    },
    {
     "name": "stderr",
     "output_type": "stream",
     "text": [
      "                                                                                                                                         \r"
     ]
    },
    {
     "name": "stdout",
     "output_type": "stream",
     "text": [
      "Moviepy - Done !\n",
      "Moviepy - video ready /imitation/docs/tutorials/generated_videos/rl-video-step-60250-to-step-60300.mp4\n",
      "Saving video to /imitation/docs/tutorials/generated_videos/rl-video-step-60350-to-step-60400.mp4\n",
      "Moviepy - Building video /imitation/docs/tutorials/generated_videos/rl-video-step-60350-to-step-60400.mp4.\n",
      "Moviepy - Writing video /imitation/docs/tutorials/generated_videos/rl-video-step-60350-to-step-60400.mp4\n",
      "\n"
     ]
    },
    {
     "name": "stderr",
     "output_type": "stream",
     "text": [
      "                                                                                                                                         \r"
     ]
    },
    {
     "name": "stdout",
     "output_type": "stream",
     "text": [
      "Moviepy - Done !\n",
      "Moviepy - video ready /imitation/docs/tutorials/generated_videos/rl-video-step-60350-to-step-60400.mp4\n",
      "Saving video to /imitation/docs/tutorials/generated_videos/rl-video-step-60450-to-step-60500.mp4\n",
      "Moviepy - Building video /imitation/docs/tutorials/generated_videos/rl-video-step-60450-to-step-60500.mp4.\n",
      "Moviepy - Writing video /imitation/docs/tutorials/generated_videos/rl-video-step-60450-to-step-60500.mp4\n",
      "\n"
     ]
    },
    {
     "name": "stderr",
     "output_type": "stream",
     "text": [
      "                                                                                                                                         "
     ]
    },
    {
     "name": "stdout",
     "output_type": "stream",
     "text": [
      "Moviepy - Done !\n",
      "Moviepy - video ready /imitation/docs/tutorials/generated_videos/rl-video-step-60450-to-step-60500.mp4\n",
      "Creating fragment pairs\n",
      "Gathering preferences\n",
      "Dataset now contains 500 comparisons\n"
     ]
    },
    {
     "name": "stderr",
     "output_type": "stream",
     "text": [
      "\r"
     ]
    },
    {
     "data": {
      "application/vnd.jupyter.widget-view+json": {
       "model_id": "b68bf790a46a4c4da6fdd1bcb65fbed2",
       "version_major": 2,
       "version_minor": 0
      },
      "text/plain": [
       "Training reward model:   0%|          | 0/3 [00:00<?, ?it/s]"
      ]
     },
     "metadata": {},
     "output_type": "display_data"
    },
    {
     "name": "stdout",
     "output_type": "stream",
     "text": [
      "Training agent for 10000 timesteps\n",
      "Saving video to /imitation/docs/tutorials/generated_videos/rl-video-step-60550-to-step-60600.mp4\n",
      "Moviepy - Building video /imitation/docs/tutorials/generated_videos/rl-video-step-60550-to-step-60600.mp4.\n",
      "Moviepy - Writing video /imitation/docs/tutorials/generated_videos/rl-video-step-60550-to-step-60600.mp4\n",
      "\n"
     ]
    },
    {
     "name": "stderr",
     "output_type": "stream",
     "text": [
      "                                                                                                                                         "
     ]
    },
    {
     "name": "stdout",
     "output_type": "stream",
     "text": [
      "Moviepy - Done !\n",
      "Moviepy - video ready /imitation/docs/tutorials/generated_videos/rl-video-step-60550-to-step-60600.mp4\n"
     ]
    },
    {
     "name": "stderr",
     "output_type": "stream",
     "text": [
      "\r"
     ]
    },
    {
     "name": "stdout",
     "output_type": "stream",
     "text": [
      "Saving video to /imitation/docs/tutorials/generated_videos/rl-video-step-60650-to-step-60700.mp4\n",
      "Moviepy - Building video /imitation/docs/tutorials/generated_videos/rl-video-step-60650-to-step-60700.mp4.\n",
      "Moviepy - Writing video /imitation/docs/tutorials/generated_videos/rl-video-step-60650-to-step-60700.mp4\n",
      "\n"
     ]
    },
    {
     "name": "stderr",
     "output_type": "stream",
     "text": [
      "                                                                                                                                         "
     ]
    },
    {
     "name": "stdout",
     "output_type": "stream",
     "text": [
      "Moviepy - Done !\n",
      "Moviepy - video ready /imitation/docs/tutorials/generated_videos/rl-video-step-60650-to-step-60700.mp4\n"
     ]
    },
    {
     "name": "stderr",
     "output_type": "stream",
     "text": [
      "\r"
     ]
    },
    {
     "name": "stdout",
     "output_type": "stream",
     "text": [
      "Saving video to /imitation/docs/tutorials/generated_videos/rl-video-step-60750-to-step-60800.mp4\n",
      "Moviepy - Building video /imitation/docs/tutorials/generated_videos/rl-video-step-60750-to-step-60800.mp4.\n",
      "Moviepy - Writing video /imitation/docs/tutorials/generated_videos/rl-video-step-60750-to-step-60800.mp4\n",
      "\n"
     ]
    },
    {
     "name": "stderr",
     "output_type": "stream",
     "text": [
      "                                                                                                                                         \r"
     ]
    },
    {
     "name": "stdout",
     "output_type": "stream",
     "text": [
      "Moviepy - Done !\n",
      "Moviepy - video ready /imitation/docs/tutorials/generated_videos/rl-video-step-60750-to-step-60800.mp4\n",
      "Saving video to /imitation/docs/tutorials/generated_videos/rl-video-step-60850-to-step-60900.mp4\n",
      "Moviepy - Building video /imitation/docs/tutorials/generated_videos/rl-video-step-60850-to-step-60900.mp4.\n",
      "Moviepy - Writing video /imitation/docs/tutorials/generated_videos/rl-video-step-60850-to-step-60900.mp4\n",
      "\n"
     ]
    },
    {
     "name": "stderr",
     "output_type": "stream",
     "text": [
      "                                                                                                                                         "
     ]
    },
    {
     "name": "stdout",
     "output_type": "stream",
     "text": [
      "Moviepy - Done !\n",
      "Moviepy - video ready /imitation/docs/tutorials/generated_videos/rl-video-step-60850-to-step-60900.mp4\n"
     ]
    },
    {
     "name": "stderr",
     "output_type": "stream",
     "text": [
      "\r"
     ]
    },
    {
     "name": "stdout",
     "output_type": "stream",
     "text": [
      "Saving video to /imitation/docs/tutorials/generated_videos/rl-video-step-60950-to-step-61000.mp4\n",
      "Moviepy - Building video /imitation/docs/tutorials/generated_videos/rl-video-step-60950-to-step-61000.mp4.\n",
      "Moviepy - Writing video /imitation/docs/tutorials/generated_videos/rl-video-step-60950-to-step-61000.mp4\n",
      "\n"
     ]
    },
    {
     "name": "stderr",
     "output_type": "stream",
     "text": [
      "                                                                                                                                         \r"
     ]
    },
    {
     "name": "stdout",
     "output_type": "stream",
     "text": [
      "Moviepy - Done !\n",
      "Moviepy - video ready /imitation/docs/tutorials/generated_videos/rl-video-step-60950-to-step-61000.mp4\n",
      "Saving video to /imitation/docs/tutorials/generated_videos/rl-video-step-61050-to-step-61100.mp4\n",
      "Moviepy - Building video /imitation/docs/tutorials/generated_videos/rl-video-step-61050-to-step-61100.mp4.\n",
      "Moviepy - Writing video /imitation/docs/tutorials/generated_videos/rl-video-step-61050-to-step-61100.mp4\n",
      "\n"
     ]
    },
    {
     "name": "stderr",
     "output_type": "stream",
     "text": [
      "                                                                                                                                         \r"
     ]
    },
    {
     "name": "stdout",
     "output_type": "stream",
     "text": [
      "Moviepy - Done !\n",
      "Moviepy - video ready /imitation/docs/tutorials/generated_videos/rl-video-step-61050-to-step-61100.mp4\n",
      "Saving video to /imitation/docs/tutorials/generated_videos/rl-video-step-61150-to-step-61200.mp4\n",
      "Moviepy - Building video /imitation/docs/tutorials/generated_videos/rl-video-step-61150-to-step-61200.mp4.\n",
      "Moviepy - Writing video /imitation/docs/tutorials/generated_videos/rl-video-step-61150-to-step-61200.mp4\n",
      "\n"
     ]
    },
    {
     "name": "stderr",
     "output_type": "stream",
     "text": [
      "                                                                                                                                         "
     ]
    },
    {
     "name": "stdout",
     "output_type": "stream",
     "text": [
      "Moviepy - Done !\n",
      "Moviepy - video ready /imitation/docs/tutorials/generated_videos/rl-video-step-61150-to-step-61200.mp4\n"
     ]
    },
    {
     "name": "stderr",
     "output_type": "stream",
     "text": [
      "\r"
     ]
    },
    {
     "name": "stdout",
     "output_type": "stream",
     "text": [
      "Saving video to /imitation/docs/tutorials/generated_videos/rl-video-step-61250-to-step-61300.mp4\n",
      "Moviepy - Building video /imitation/docs/tutorials/generated_videos/rl-video-step-61250-to-step-61300.mp4.\n",
      "Moviepy - Writing video /imitation/docs/tutorials/generated_videos/rl-video-step-61250-to-step-61300.mp4\n",
      "\n"
     ]
    },
    {
     "name": "stderr",
     "output_type": "stream",
     "text": [
      "                                                                                                                                         "
     ]
    },
    {
     "name": "stdout",
     "output_type": "stream",
     "text": [
      "Moviepy - Done !\n",
      "Moviepy - video ready /imitation/docs/tutorials/generated_videos/rl-video-step-61250-to-step-61300.mp4\n"
     ]
    },
    {
     "name": "stderr",
     "output_type": "stream",
     "text": [
      "\r"
     ]
    },
    {
     "name": "stdout",
     "output_type": "stream",
     "text": [
      "Saving video to /imitation/docs/tutorials/generated_videos/rl-video-step-61350-to-step-61400.mp4\n",
      "Moviepy - Building video /imitation/docs/tutorials/generated_videos/rl-video-step-61350-to-step-61400.mp4.\n",
      "Moviepy - Writing video /imitation/docs/tutorials/generated_videos/rl-video-step-61350-to-step-61400.mp4\n",
      "\n"
     ]
    },
    {
     "name": "stderr",
     "output_type": "stream",
     "text": [
      "                                                                                                                                         "
     ]
    },
    {
     "name": "stdout",
     "output_type": "stream",
     "text": [
      "Moviepy - Done !\n",
      "Moviepy - video ready /imitation/docs/tutorials/generated_videos/rl-video-step-61350-to-step-61400.mp4\n"
     ]
    },
    {
     "name": "stderr",
     "output_type": "stream",
     "text": [
      "\r"
     ]
    },
    {
     "name": "stdout",
     "output_type": "stream",
     "text": [
      "Saving video to /imitation/docs/tutorials/generated_videos/rl-video-step-61450-to-step-61500.mp4\n",
      "Moviepy - Building video /imitation/docs/tutorials/generated_videos/rl-video-step-61450-to-step-61500.mp4.\n",
      "Moviepy - Writing video /imitation/docs/tutorials/generated_videos/rl-video-step-61450-to-step-61500.mp4\n",
      "\n"
     ]
    },
    {
     "name": "stderr",
     "output_type": "stream",
     "text": [
      "                                                                                                                                         "
     ]
    },
    {
     "name": "stdout",
     "output_type": "stream",
     "text": [
      "Moviepy - Done !\n",
      "Moviepy - video ready /imitation/docs/tutorials/generated_videos/rl-video-step-61450-to-step-61500.mp4\n"
     ]
    },
    {
     "name": "stderr",
     "output_type": "stream",
     "text": [
      "\r"
     ]
    },
    {
     "name": "stdout",
     "output_type": "stream",
     "text": [
      "Saving video to /imitation/docs/tutorials/generated_videos/rl-video-step-61550-to-step-61600.mp4\n",
      "Moviepy - Building video /imitation/docs/tutorials/generated_videos/rl-video-step-61550-to-step-61600.mp4.\n",
      "Moviepy - Writing video /imitation/docs/tutorials/generated_videos/rl-video-step-61550-to-step-61600.mp4\n",
      "\n"
     ]
    },
    {
     "name": "stderr",
     "output_type": "stream",
     "text": [
      "                                                                                                                                         "
     ]
    },
    {
     "name": "stdout",
     "output_type": "stream",
     "text": [
      "Moviepy - Done !\n",
      "Moviepy - video ready /imitation/docs/tutorials/generated_videos/rl-video-step-61550-to-step-61600.mp4\n"
     ]
    },
    {
     "name": "stderr",
     "output_type": "stream",
     "text": [
      "\r"
     ]
    },
    {
     "name": "stdout",
     "output_type": "stream",
     "text": [
      "Saving video to /imitation/docs/tutorials/generated_videos/rl-video-step-61650-to-step-61700.mp4\n",
      "Moviepy - Building video /imitation/docs/tutorials/generated_videos/rl-video-step-61650-to-step-61700.mp4.\n",
      "Moviepy - Writing video /imitation/docs/tutorials/generated_videos/rl-video-step-61650-to-step-61700.mp4\n",
      "\n"
     ]
    },
    {
     "name": "stderr",
     "output_type": "stream",
     "text": [
      "                                                                                                                                         "
     ]
    },
    {
     "name": "stdout",
     "output_type": "stream",
     "text": [
      "Moviepy - Done !\n",
      "Moviepy - video ready /imitation/docs/tutorials/generated_videos/rl-video-step-61650-to-step-61700.mp4\n"
     ]
    },
    {
     "name": "stderr",
     "output_type": "stream",
     "text": [
      "\r"
     ]
    },
    {
     "name": "stdout",
     "output_type": "stream",
     "text": [
      "Saving video to /imitation/docs/tutorials/generated_videos/rl-video-step-61750-to-step-61800.mp4\n",
      "Moviepy - Building video /imitation/docs/tutorials/generated_videos/rl-video-step-61750-to-step-61800.mp4.\n",
      "Moviepy - Writing video /imitation/docs/tutorials/generated_videos/rl-video-step-61750-to-step-61800.mp4\n",
      "\n"
     ]
    },
    {
     "name": "stderr",
     "output_type": "stream",
     "text": [
      "                                                                                                                                         "
     ]
    },
    {
     "name": "stdout",
     "output_type": "stream",
     "text": [
      "Moviepy - Done !\n",
      "Moviepy - video ready /imitation/docs/tutorials/generated_videos/rl-video-step-61750-to-step-61800.mp4\n"
     ]
    },
    {
     "name": "stderr",
     "output_type": "stream",
     "text": [
      "\r"
     ]
    },
    {
     "name": "stdout",
     "output_type": "stream",
     "text": [
      "Saving video to /imitation/docs/tutorials/generated_videos/rl-video-step-61850-to-step-61900.mp4\n",
      "Moviepy - Building video /imitation/docs/tutorials/generated_videos/rl-video-step-61850-to-step-61900.mp4.\n",
      "Moviepy - Writing video /imitation/docs/tutorials/generated_videos/rl-video-step-61850-to-step-61900.mp4\n",
      "\n"
     ]
    },
    {
     "name": "stderr",
     "output_type": "stream",
     "text": [
      "                                                                                                                                         "
     ]
    },
    {
     "name": "stdout",
     "output_type": "stream",
     "text": [
      "Moviepy - Done !\n",
      "Moviepy - video ready /imitation/docs/tutorials/generated_videos/rl-video-step-61850-to-step-61900.mp4\n"
     ]
    },
    {
     "name": "stderr",
     "output_type": "stream",
     "text": [
      "\r"
     ]
    },
    {
     "name": "stdout",
     "output_type": "stream",
     "text": [
      "Saving video to /imitation/docs/tutorials/generated_videos/rl-video-step-61950-to-step-62000.mp4\n",
      "Moviepy - Building video /imitation/docs/tutorials/generated_videos/rl-video-step-61950-to-step-62000.mp4.\n",
      "Moviepy - Writing video /imitation/docs/tutorials/generated_videos/rl-video-step-61950-to-step-62000.mp4\n",
      "\n"
     ]
    },
    {
     "name": "stderr",
     "output_type": "stream",
     "text": [
      "                                                                                                                                         "
     ]
    },
    {
     "name": "stdout",
     "output_type": "stream",
     "text": [
      "Moviepy - Done !\n",
      "Moviepy - video ready /imitation/docs/tutorials/generated_videos/rl-video-step-61950-to-step-62000.mp4\n"
     ]
    },
    {
     "name": "stderr",
     "output_type": "stream",
     "text": [
      "\r"
     ]
    },
    {
     "name": "stdout",
     "output_type": "stream",
     "text": [
      "Saving video to /imitation/docs/tutorials/generated_videos/rl-video-step-62050-to-step-62100.mp4\n",
      "Moviepy - Building video /imitation/docs/tutorials/generated_videos/rl-video-step-62050-to-step-62100.mp4.\n",
      "Moviepy - Writing video /imitation/docs/tutorials/generated_videos/rl-video-step-62050-to-step-62100.mp4\n",
      "\n"
     ]
    },
    {
     "name": "stderr",
     "output_type": "stream",
     "text": [
      "                                                                                                                                         "
     ]
    },
    {
     "name": "stdout",
     "output_type": "stream",
     "text": [
      "Moviepy - Done !\n",
      "Moviepy - video ready /imitation/docs/tutorials/generated_videos/rl-video-step-62050-to-step-62100.mp4\n"
     ]
    },
    {
     "name": "stderr",
     "output_type": "stream",
     "text": [
      "\r"
     ]
    },
    {
     "name": "stdout",
     "output_type": "stream",
     "text": [
      "Saving video to /imitation/docs/tutorials/generated_videos/rl-video-step-62150-to-step-62200.mp4\n",
      "Moviepy - Building video /imitation/docs/tutorials/generated_videos/rl-video-step-62150-to-step-62200.mp4.\n",
      "Moviepy - Writing video /imitation/docs/tutorials/generated_videos/rl-video-step-62150-to-step-62200.mp4\n",
      "\n"
     ]
    },
    {
     "name": "stderr",
     "output_type": "stream",
     "text": [
      "                                                                                                                                         "
     ]
    },
    {
     "name": "stdout",
     "output_type": "stream",
     "text": [
      "Moviepy - Done !\n",
      "Moviepy - video ready /imitation/docs/tutorials/generated_videos/rl-video-step-62150-to-step-62200.mp4\n"
     ]
    },
    {
     "name": "stderr",
     "output_type": "stream",
     "text": [
      "\r"
     ]
    },
    {
     "name": "stdout",
     "output_type": "stream",
     "text": [
      "Saving video to /imitation/docs/tutorials/generated_videos/rl-video-step-62250-to-step-62300.mp4\n",
      "Moviepy - Building video /imitation/docs/tutorials/generated_videos/rl-video-step-62250-to-step-62300.mp4.\n",
      "Moviepy - Writing video /imitation/docs/tutorials/generated_videos/rl-video-step-62250-to-step-62300.mp4\n",
      "\n"
     ]
    },
    {
     "name": "stderr",
     "output_type": "stream",
     "text": [
      "                                                                                                                                         "
     ]
    },
    {
     "name": "stdout",
     "output_type": "stream",
     "text": [
      "Moviepy - Done !\n",
      "Moviepy - video ready /imitation/docs/tutorials/generated_videos/rl-video-step-62250-to-step-62300.mp4\n"
     ]
    },
    {
     "name": "stderr",
     "output_type": "stream",
     "text": [
      "\r"
     ]
    },
    {
     "name": "stdout",
     "output_type": "stream",
     "text": [
      "Saving video to /imitation/docs/tutorials/generated_videos/rl-video-step-62350-to-step-62400.mp4\n",
      "Moviepy - Building video /imitation/docs/tutorials/generated_videos/rl-video-step-62350-to-step-62400.mp4.\n",
      "Moviepy - Writing video /imitation/docs/tutorials/generated_videos/rl-video-step-62350-to-step-62400.mp4\n",
      "\n"
     ]
    },
    {
     "name": "stderr",
     "output_type": "stream",
     "text": [
      "                                                                                                                                         "
     ]
    },
    {
     "name": "stdout",
     "output_type": "stream",
     "text": [
      "Moviepy - Done !\n",
      "Moviepy - video ready /imitation/docs/tutorials/generated_videos/rl-video-step-62350-to-step-62400.mp4\n"
     ]
    },
    {
     "name": "stderr",
     "output_type": "stream",
     "text": [
      "\r"
     ]
    },
    {
     "name": "stdout",
     "output_type": "stream",
     "text": [
      "Saving video to /imitation/docs/tutorials/generated_videos/rl-video-step-62450-to-step-62500.mp4\n",
      "Moviepy - Building video /imitation/docs/tutorials/generated_videos/rl-video-step-62450-to-step-62500.mp4.\n",
      "Moviepy - Writing video /imitation/docs/tutorials/generated_videos/rl-video-step-62450-to-step-62500.mp4\n",
      "\n"
     ]
    },
    {
     "name": "stderr",
     "output_type": "stream",
     "text": [
      "                                                                                                                                         "
     ]
    },
    {
     "name": "stdout",
     "output_type": "stream",
     "text": [
      "Moviepy - Done !\n",
      "Moviepy - video ready /imitation/docs/tutorials/generated_videos/rl-video-step-62450-to-step-62500.mp4\n"
     ]
    },
    {
     "name": "stderr",
     "output_type": "stream",
     "text": [
      "\r"
     ]
    },
    {
     "name": "stdout",
     "output_type": "stream",
     "text": [
      "------------------------------------------------------\n",
      "| raw/                                 |             |\n",
      "|    agent/rollout/ep_len_mean         | 50          |\n",
      "|    agent/rollout/ep_rew_mean         | -60.8       |\n",
      "|    agent/rollout/ep_rew_wrapped_mean | -9.28       |\n",
      "|    agent/time/fps                    | 142         |\n",
      "|    agent/time/iterations             | 1           |\n",
      "|    agent/time/time_elapsed           | 14          |\n",
      "|    agent/time/total_timesteps        | 53248       |\n",
      "|    agent/train/approx_kl             | 0.009505032 |\n",
      "|    agent/train/clip_fraction         | 0.333       |\n",
      "|    agent/train/clip_range            | 0.1         |\n",
      "|    agent/train/entropy_loss          | -2.58       |\n",
      "|    agent/train/explained_variance    | 0.95        |\n",
      "|    agent/train/learning_rate         | 0.002       |\n",
      "|    agent/train/loss                  | -0.0484     |\n",
      "|    agent/train/n_updates             | 250         |\n",
      "|    agent/train/policy_gradient_loss  | -0.0067     |\n",
      "|    agent/train/std                   | 0.874       |\n",
      "|    agent/train/value_loss            | 0.00671     |\n",
      "------------------------------------------------------\n",
      "Saving video to /imitation/docs/tutorials/generated_videos/rl-video-step-62550-to-step-62600.mp4\n",
      "Moviepy - Building video /imitation/docs/tutorials/generated_videos/rl-video-step-62550-to-step-62600.mp4.\n",
      "Moviepy - Writing video /imitation/docs/tutorials/generated_videos/rl-video-step-62550-to-step-62600.mp4\n",
      "\n"
     ]
    },
    {
     "name": "stderr",
     "output_type": "stream",
     "text": [
      "                                                                                                                                         "
     ]
    },
    {
     "name": "stdout",
     "output_type": "stream",
     "text": [
      "Moviepy - Done !\n",
      "Moviepy - video ready /imitation/docs/tutorials/generated_videos/rl-video-step-62550-to-step-62600.mp4\n"
     ]
    },
    {
     "name": "stderr",
     "output_type": "stream",
     "text": [
      "\r"
     ]
    },
    {
     "name": "stdout",
     "output_type": "stream",
     "text": [
      "Saving video to /imitation/docs/tutorials/generated_videos/rl-video-step-62650-to-step-62700.mp4\n",
      "Moviepy - Building video /imitation/docs/tutorials/generated_videos/rl-video-step-62650-to-step-62700.mp4.\n",
      "Moviepy - Writing video /imitation/docs/tutorials/generated_videos/rl-video-step-62650-to-step-62700.mp4\n",
      "\n"
     ]
    },
    {
     "name": "stderr",
     "output_type": "stream",
     "text": [
      "                                                                                                                                         "
     ]
    },
    {
     "name": "stdout",
     "output_type": "stream",
     "text": [
      "Moviepy - Done !\n",
      "Moviepy - video ready /imitation/docs/tutorials/generated_videos/rl-video-step-62650-to-step-62700.mp4\n"
     ]
    },
    {
     "name": "stderr",
     "output_type": "stream",
     "text": [
      "\r"
     ]
    },
    {
     "name": "stdout",
     "output_type": "stream",
     "text": [
      "Saving video to /imitation/docs/tutorials/generated_videos/rl-video-step-62750-to-step-62800.mp4\n",
      "Moviepy - Building video /imitation/docs/tutorials/generated_videos/rl-video-step-62750-to-step-62800.mp4.\n",
      "Moviepy - Writing video /imitation/docs/tutorials/generated_videos/rl-video-step-62750-to-step-62800.mp4\n",
      "\n"
     ]
    },
    {
     "name": "stderr",
     "output_type": "stream",
     "text": [
      "                                                                                                                                         "
     ]
    },
    {
     "name": "stdout",
     "output_type": "stream",
     "text": [
      "Moviepy - Done !\n",
      "Moviepy - video ready /imitation/docs/tutorials/generated_videos/rl-video-step-62750-to-step-62800.mp4\n"
     ]
    },
    {
     "name": "stderr",
     "output_type": "stream",
     "text": [
      "\r"
     ]
    },
    {
     "name": "stdout",
     "output_type": "stream",
     "text": [
      "Saving video to /imitation/docs/tutorials/generated_videos/rl-video-step-62850-to-step-62900.mp4\n",
      "Moviepy - Building video /imitation/docs/tutorials/generated_videos/rl-video-step-62850-to-step-62900.mp4.\n",
      "Moviepy - Writing video /imitation/docs/tutorials/generated_videos/rl-video-step-62850-to-step-62900.mp4\n",
      "\n"
     ]
    },
    {
     "name": "stderr",
     "output_type": "stream",
     "text": [
      "                                                                                                                                         "
     ]
    },
    {
     "name": "stdout",
     "output_type": "stream",
     "text": [
      "Moviepy - Done !\n",
      "Moviepy - video ready /imitation/docs/tutorials/generated_videos/rl-video-step-62850-to-step-62900.mp4\n"
     ]
    },
    {
     "name": "stderr",
     "output_type": "stream",
     "text": [
      "\r"
     ]
    },
    {
     "name": "stdout",
     "output_type": "stream",
     "text": [
      "Saving video to /imitation/docs/tutorials/generated_videos/rl-video-step-62950-to-step-63000.mp4\n",
      "Moviepy - Building video /imitation/docs/tutorials/generated_videos/rl-video-step-62950-to-step-63000.mp4.\n",
      "Moviepy - Writing video /imitation/docs/tutorials/generated_videos/rl-video-step-62950-to-step-63000.mp4\n",
      "\n"
     ]
    },
    {
     "name": "stderr",
     "output_type": "stream",
     "text": [
      "                                                                                                                                         "
     ]
    },
    {
     "name": "stdout",
     "output_type": "stream",
     "text": [
      "Moviepy - Done !\n",
      "Moviepy - video ready /imitation/docs/tutorials/generated_videos/rl-video-step-62950-to-step-63000.mp4\n"
     ]
    },
    {
     "name": "stderr",
     "output_type": "stream",
     "text": [
      "\r"
     ]
    },
    {
     "name": "stdout",
     "output_type": "stream",
     "text": [
      "Saving video to /imitation/docs/tutorials/generated_videos/rl-video-step-63050-to-step-63100.mp4\n",
      "Moviepy - Building video /imitation/docs/tutorials/generated_videos/rl-video-step-63050-to-step-63100.mp4.\n",
      "Moviepy - Writing video /imitation/docs/tutorials/generated_videos/rl-video-step-63050-to-step-63100.mp4\n",
      "\n"
     ]
    },
    {
     "name": "stderr",
     "output_type": "stream",
     "text": [
      "                                                                                                                                         "
     ]
    },
    {
     "name": "stdout",
     "output_type": "stream",
     "text": [
      "Moviepy - Done !\n",
      "Moviepy - video ready /imitation/docs/tutorials/generated_videos/rl-video-step-63050-to-step-63100.mp4\n"
     ]
    },
    {
     "name": "stderr",
     "output_type": "stream",
     "text": [
      "\r"
     ]
    },
    {
     "name": "stdout",
     "output_type": "stream",
     "text": [
      "Saving video to /imitation/docs/tutorials/generated_videos/rl-video-step-63150-to-step-63200.mp4\n",
      "Moviepy - Building video /imitation/docs/tutorials/generated_videos/rl-video-step-63150-to-step-63200.mp4.\n",
      "Moviepy - Writing video /imitation/docs/tutorials/generated_videos/rl-video-step-63150-to-step-63200.mp4\n",
      "\n"
     ]
    },
    {
     "name": "stderr",
     "output_type": "stream",
     "text": [
      "                                                                                                                                         "
     ]
    },
    {
     "name": "stdout",
     "output_type": "stream",
     "text": [
      "Moviepy - Done !\n",
      "Moviepy - video ready /imitation/docs/tutorials/generated_videos/rl-video-step-63150-to-step-63200.mp4\n"
     ]
    },
    {
     "name": "stderr",
     "output_type": "stream",
     "text": [
      "\r"
     ]
    },
    {
     "name": "stdout",
     "output_type": "stream",
     "text": [
      "Saving video to /imitation/docs/tutorials/generated_videos/rl-video-step-63250-to-step-63300.mp4\n",
      "Moviepy - Building video /imitation/docs/tutorials/generated_videos/rl-video-step-63250-to-step-63300.mp4.\n",
      "Moviepy - Writing video /imitation/docs/tutorials/generated_videos/rl-video-step-63250-to-step-63300.mp4\n",
      "\n"
     ]
    },
    {
     "name": "stderr",
     "output_type": "stream",
     "text": [
      "                                                                                                                                         "
     ]
    },
    {
     "name": "stdout",
     "output_type": "stream",
     "text": [
      "Moviepy - Done !\n",
      "Moviepy - video ready /imitation/docs/tutorials/generated_videos/rl-video-step-63250-to-step-63300.mp4\n"
     ]
    },
    {
     "name": "stderr",
     "output_type": "stream",
     "text": [
      "\r"
     ]
    },
    {
     "name": "stdout",
     "output_type": "stream",
     "text": [
      "Saving video to /imitation/docs/tutorials/generated_videos/rl-video-step-63350-to-step-63400.mp4\n",
      "Moviepy - Building video /imitation/docs/tutorials/generated_videos/rl-video-step-63350-to-step-63400.mp4.\n",
      "Moviepy - Writing video /imitation/docs/tutorials/generated_videos/rl-video-step-63350-to-step-63400.mp4\n",
      "\n"
     ]
    },
    {
     "name": "stderr",
     "output_type": "stream",
     "text": [
      "                                                                                                                                         "
     ]
    },
    {
     "name": "stdout",
     "output_type": "stream",
     "text": [
      "Moviepy - Done !\n",
      "Moviepy - video ready /imitation/docs/tutorials/generated_videos/rl-video-step-63350-to-step-63400.mp4\n"
     ]
    },
    {
     "name": "stderr",
     "output_type": "stream",
     "text": [
      "\r"
     ]
    },
    {
     "name": "stdout",
     "output_type": "stream",
     "text": [
      "Saving video to /imitation/docs/tutorials/generated_videos/rl-video-step-63450-to-step-63500.mp4\n",
      "Moviepy - Building video /imitation/docs/tutorials/generated_videos/rl-video-step-63450-to-step-63500.mp4.\n",
      "Moviepy - Writing video /imitation/docs/tutorials/generated_videos/rl-video-step-63450-to-step-63500.mp4\n",
      "\n"
     ]
    },
    {
     "name": "stderr",
     "output_type": "stream",
     "text": [
      "                                                                                                                                         "
     ]
    },
    {
     "name": "stdout",
     "output_type": "stream",
     "text": [
      "Moviepy - Done !\n",
      "Moviepy - video ready /imitation/docs/tutorials/generated_videos/rl-video-step-63450-to-step-63500.mp4\n"
     ]
    },
    {
     "name": "stderr",
     "output_type": "stream",
     "text": [
      "\r"
     ]
    },
    {
     "name": "stdout",
     "output_type": "stream",
     "text": [
      "Saving video to /imitation/docs/tutorials/generated_videos/rl-video-step-63550-to-step-63600.mp4\n",
      "Moviepy - Building video /imitation/docs/tutorials/generated_videos/rl-video-step-63550-to-step-63600.mp4.\n",
      "Moviepy - Writing video /imitation/docs/tutorials/generated_videos/rl-video-step-63550-to-step-63600.mp4\n",
      "\n"
     ]
    },
    {
     "name": "stderr",
     "output_type": "stream",
     "text": [
      "                                                                                                                                         "
     ]
    },
    {
     "name": "stdout",
     "output_type": "stream",
     "text": [
      "Moviepy - Done !\n",
      "Moviepy - video ready /imitation/docs/tutorials/generated_videos/rl-video-step-63550-to-step-63600.mp4\n"
     ]
    },
    {
     "name": "stderr",
     "output_type": "stream",
     "text": [
      "\r"
     ]
    },
    {
     "name": "stdout",
     "output_type": "stream",
     "text": [
      "Saving video to /imitation/docs/tutorials/generated_videos/rl-video-step-63650-to-step-63700.mp4\n",
      "Moviepy - Building video /imitation/docs/tutorials/generated_videos/rl-video-step-63650-to-step-63700.mp4.\n",
      "Moviepy - Writing video /imitation/docs/tutorials/generated_videos/rl-video-step-63650-to-step-63700.mp4\n",
      "\n"
     ]
    },
    {
     "name": "stderr",
     "output_type": "stream",
     "text": [
      "                                                                                                                                         "
     ]
    },
    {
     "name": "stdout",
     "output_type": "stream",
     "text": [
      "Moviepy - Done !\n",
      "Moviepy - video ready /imitation/docs/tutorials/generated_videos/rl-video-step-63650-to-step-63700.mp4\n"
     ]
    },
    {
     "name": "stderr",
     "output_type": "stream",
     "text": [
      "\r"
     ]
    },
    {
     "name": "stdout",
     "output_type": "stream",
     "text": [
      "Saving video to /imitation/docs/tutorials/generated_videos/rl-video-step-63750-to-step-63800.mp4\n",
      "Moviepy - Building video /imitation/docs/tutorials/generated_videos/rl-video-step-63750-to-step-63800.mp4.\n",
      "Moviepy - Writing video /imitation/docs/tutorials/generated_videos/rl-video-step-63750-to-step-63800.mp4\n",
      "\n"
     ]
    },
    {
     "name": "stderr",
     "output_type": "stream",
     "text": [
      "                                                                                                                                         "
     ]
    },
    {
     "name": "stdout",
     "output_type": "stream",
     "text": [
      "Moviepy - Done !\n",
      "Moviepy - video ready /imitation/docs/tutorials/generated_videos/rl-video-step-63750-to-step-63800.mp4\n"
     ]
    },
    {
     "name": "stderr",
     "output_type": "stream",
     "text": [
      "\r"
     ]
    },
    {
     "name": "stdout",
     "output_type": "stream",
     "text": [
      "Saving video to /imitation/docs/tutorials/generated_videos/rl-video-step-63850-to-step-63900.mp4\n",
      "Moviepy - Building video /imitation/docs/tutorials/generated_videos/rl-video-step-63850-to-step-63900.mp4.\n",
      "Moviepy - Writing video /imitation/docs/tutorials/generated_videos/rl-video-step-63850-to-step-63900.mp4\n",
      "\n"
     ]
    },
    {
     "name": "stderr",
     "output_type": "stream",
     "text": [
      "                                                                                                                                         "
     ]
    },
    {
     "name": "stdout",
     "output_type": "stream",
     "text": [
      "Moviepy - Done !\n",
      "Moviepy - video ready /imitation/docs/tutorials/generated_videos/rl-video-step-63850-to-step-63900.mp4\n"
     ]
    },
    {
     "name": "stderr",
     "output_type": "stream",
     "text": [
      "\r"
     ]
    },
    {
     "name": "stdout",
     "output_type": "stream",
     "text": [
      "Saving video to /imitation/docs/tutorials/generated_videos/rl-video-step-63950-to-step-64000.mp4\n",
      "Moviepy - Building video /imitation/docs/tutorials/generated_videos/rl-video-step-63950-to-step-64000.mp4.\n",
      "Moviepy - Writing video /imitation/docs/tutorials/generated_videos/rl-video-step-63950-to-step-64000.mp4\n",
      "\n"
     ]
    },
    {
     "name": "stderr",
     "output_type": "stream",
     "text": [
      "                                                                                                                                         "
     ]
    },
    {
     "name": "stdout",
     "output_type": "stream",
     "text": [
      "Moviepy - Done !\n",
      "Moviepy - video ready /imitation/docs/tutorials/generated_videos/rl-video-step-63950-to-step-64000.mp4\n"
     ]
    },
    {
     "name": "stderr",
     "output_type": "stream",
     "text": [
      "\r"
     ]
    },
    {
     "name": "stdout",
     "output_type": "stream",
     "text": [
      "Saving video to /imitation/docs/tutorials/generated_videos/rl-video-step-64050-to-step-64100.mp4\n",
      "Moviepy - Building video /imitation/docs/tutorials/generated_videos/rl-video-step-64050-to-step-64100.mp4.\n",
      "Moviepy - Writing video /imitation/docs/tutorials/generated_videos/rl-video-step-64050-to-step-64100.mp4\n",
      "\n"
     ]
    },
    {
     "name": "stderr",
     "output_type": "stream",
     "text": [
      "                                                                                                                                         "
     ]
    },
    {
     "name": "stdout",
     "output_type": "stream",
     "text": [
      "Moviepy - Done !\n",
      "Moviepy - video ready /imitation/docs/tutorials/generated_videos/rl-video-step-64050-to-step-64100.mp4\n"
     ]
    },
    {
     "name": "stderr",
     "output_type": "stream",
     "text": [
      "\r"
     ]
    },
    {
     "name": "stdout",
     "output_type": "stream",
     "text": [
      "Saving video to /imitation/docs/tutorials/generated_videos/rl-video-step-64150-to-step-64200.mp4\n",
      "Moviepy - Building video /imitation/docs/tutorials/generated_videos/rl-video-step-64150-to-step-64200.mp4.\n",
      "Moviepy - Writing video /imitation/docs/tutorials/generated_videos/rl-video-step-64150-to-step-64200.mp4\n",
      "\n"
     ]
    },
    {
     "name": "stderr",
     "output_type": "stream",
     "text": [
      "                                                                                                                                         "
     ]
    },
    {
     "name": "stdout",
     "output_type": "stream",
     "text": [
      "Moviepy - Done !\n",
      "Moviepy - video ready /imitation/docs/tutorials/generated_videos/rl-video-step-64150-to-step-64200.mp4\n"
     ]
    },
    {
     "name": "stderr",
     "output_type": "stream",
     "text": [
      "\r"
     ]
    },
    {
     "name": "stdout",
     "output_type": "stream",
     "text": [
      "Saving video to /imitation/docs/tutorials/generated_videos/rl-video-step-64250-to-step-64300.mp4\n",
      "Moviepy - Building video /imitation/docs/tutorials/generated_videos/rl-video-step-64250-to-step-64300.mp4.\n",
      "Moviepy - Writing video /imitation/docs/tutorials/generated_videos/rl-video-step-64250-to-step-64300.mp4\n",
      "\n"
     ]
    },
    {
     "name": "stderr",
     "output_type": "stream",
     "text": [
      "                                                                                                                                         "
     ]
    },
    {
     "name": "stdout",
     "output_type": "stream",
     "text": [
      "Moviepy - Done !\n",
      "Moviepy - video ready /imitation/docs/tutorials/generated_videos/rl-video-step-64250-to-step-64300.mp4\n"
     ]
    },
    {
     "name": "stderr",
     "output_type": "stream",
     "text": [
      "\r"
     ]
    },
    {
     "name": "stdout",
     "output_type": "stream",
     "text": [
      "Saving video to /imitation/docs/tutorials/generated_videos/rl-video-step-64350-to-step-64400.mp4\n",
      "Moviepy - Building video /imitation/docs/tutorials/generated_videos/rl-video-step-64350-to-step-64400.mp4.\n",
      "Moviepy - Writing video /imitation/docs/tutorials/generated_videos/rl-video-step-64350-to-step-64400.mp4\n",
      "\n"
     ]
    },
    {
     "name": "stderr",
     "output_type": "stream",
     "text": [
      "                                                                                                                                         "
     ]
    },
    {
     "name": "stdout",
     "output_type": "stream",
     "text": [
      "Moviepy - Done !\n",
      "Moviepy - video ready /imitation/docs/tutorials/generated_videos/rl-video-step-64350-to-step-64400.mp4\n"
     ]
    },
    {
     "name": "stderr",
     "output_type": "stream",
     "text": [
      "\r"
     ]
    },
    {
     "name": "stdout",
     "output_type": "stream",
     "text": [
      "Saving video to /imitation/docs/tutorials/generated_videos/rl-video-step-64450-to-step-64500.mp4\n",
      "Moviepy - Building video /imitation/docs/tutorials/generated_videos/rl-video-step-64450-to-step-64500.mp4.\n",
      "Moviepy - Writing video /imitation/docs/tutorials/generated_videos/rl-video-step-64450-to-step-64500.mp4\n",
      "\n"
     ]
    },
    {
     "name": "stderr",
     "output_type": "stream",
     "text": [
      "                                                                                                                                         "
     ]
    },
    {
     "name": "stdout",
     "output_type": "stream",
     "text": [
      "Moviepy - Done !\n",
      "Moviepy - video ready /imitation/docs/tutorials/generated_videos/rl-video-step-64450-to-step-64500.mp4\n"
     ]
    },
    {
     "name": "stderr",
     "output_type": "stream",
     "text": [
      "\r"
     ]
    },
    {
     "name": "stdout",
     "output_type": "stream",
     "text": [
      "------------------------------------------------------\n",
      "| raw/                                 |             |\n",
      "|    agent/rollout/ep_len_mean         | 50          |\n",
      "|    agent/rollout/ep_rew_mean         | -59.3       |\n",
      "|    agent/rollout/ep_rew_wrapped_mean | -9.44       |\n",
      "|    agent/time/fps                    | 140         |\n",
      "|    agent/time/iterations             | 2           |\n",
      "|    agent/time/time_elapsed           | 29          |\n",
      "|    agent/time/total_timesteps        | 55296       |\n",
      "|    agent/train/approx_kl             | 0.009338216 |\n",
      "|    agent/train/clip_fraction         | 0.311       |\n",
      "|    agent/train/clip_range            | 0.1         |\n",
      "|    agent/train/entropy_loss          | -2.55       |\n",
      "|    agent/train/explained_variance    | 0.938       |\n",
      "|    agent/train/learning_rate         | 0.002       |\n",
      "|    agent/train/loss                  | -0.033      |\n",
      "|    agent/train/n_updates             | 260         |\n",
      "|    agent/train/policy_gradient_loss  | -0.00935    |\n",
      "|    agent/train/std                   | 0.859       |\n",
      "|    agent/train/value_loss            | 0.00844     |\n",
      "------------------------------------------------------\n",
      "Saving video to /imitation/docs/tutorials/generated_videos/rl-video-step-64550-to-step-64600.mp4\n",
      "Moviepy - Building video /imitation/docs/tutorials/generated_videos/rl-video-step-64550-to-step-64600.mp4.\n",
      "Moviepy - Writing video /imitation/docs/tutorials/generated_videos/rl-video-step-64550-to-step-64600.mp4\n",
      "\n"
     ]
    },
    {
     "name": "stderr",
     "output_type": "stream",
     "text": [
      "                                                                                                                                         "
     ]
    },
    {
     "name": "stdout",
     "output_type": "stream",
     "text": [
      "Moviepy - Done !\n",
      "Moviepy - video ready /imitation/docs/tutorials/generated_videos/rl-video-step-64550-to-step-64600.mp4\n"
     ]
    },
    {
     "name": "stderr",
     "output_type": "stream",
     "text": [
      "\r"
     ]
    },
    {
     "name": "stdout",
     "output_type": "stream",
     "text": [
      "Saving video to /imitation/docs/tutorials/generated_videos/rl-video-step-64650-to-step-64700.mp4\n",
      "Moviepy - Building video /imitation/docs/tutorials/generated_videos/rl-video-step-64650-to-step-64700.mp4.\n",
      "Moviepy - Writing video /imitation/docs/tutorials/generated_videos/rl-video-step-64650-to-step-64700.mp4\n",
      "\n"
     ]
    },
    {
     "name": "stderr",
     "output_type": "stream",
     "text": [
      "                                                                                                                                         "
     ]
    },
    {
     "name": "stdout",
     "output_type": "stream",
     "text": [
      "Moviepy - Done !\n",
      "Moviepy - video ready /imitation/docs/tutorials/generated_videos/rl-video-step-64650-to-step-64700.mp4\n"
     ]
    },
    {
     "name": "stderr",
     "output_type": "stream",
     "text": [
      "\r"
     ]
    },
    {
     "name": "stdout",
     "output_type": "stream",
     "text": [
      "Saving video to /imitation/docs/tutorials/generated_videos/rl-video-step-64750-to-step-64800.mp4\n",
      "Moviepy - Building video /imitation/docs/tutorials/generated_videos/rl-video-step-64750-to-step-64800.mp4.\n",
      "Moviepy - Writing video /imitation/docs/tutorials/generated_videos/rl-video-step-64750-to-step-64800.mp4\n",
      "\n"
     ]
    },
    {
     "name": "stderr",
     "output_type": "stream",
     "text": [
      "                                                                                                                                         "
     ]
    },
    {
     "name": "stdout",
     "output_type": "stream",
     "text": [
      "Moviepy - Done !\n",
      "Moviepy - video ready /imitation/docs/tutorials/generated_videos/rl-video-step-64750-to-step-64800.mp4\n"
     ]
    },
    {
     "name": "stderr",
     "output_type": "stream",
     "text": [
      "\r"
     ]
    },
    {
     "name": "stdout",
     "output_type": "stream",
     "text": [
      "Saving video to /imitation/docs/tutorials/generated_videos/rl-video-step-64850-to-step-64900.mp4\n",
      "Moviepy - Building video /imitation/docs/tutorials/generated_videos/rl-video-step-64850-to-step-64900.mp4.\n",
      "Moviepy - Writing video /imitation/docs/tutorials/generated_videos/rl-video-step-64850-to-step-64900.mp4\n",
      "\n"
     ]
    },
    {
     "name": "stderr",
     "output_type": "stream",
     "text": [
      "                                                                                                                                         "
     ]
    },
    {
     "name": "stdout",
     "output_type": "stream",
     "text": [
      "Moviepy - Done !\n",
      "Moviepy - video ready /imitation/docs/tutorials/generated_videos/rl-video-step-64850-to-step-64900.mp4\n"
     ]
    },
    {
     "name": "stderr",
     "output_type": "stream",
     "text": [
      "\r"
     ]
    },
    {
     "name": "stdout",
     "output_type": "stream",
     "text": [
      "Saving video to /imitation/docs/tutorials/generated_videos/rl-video-step-64950-to-step-65000.mp4\n",
      "Moviepy - Building video /imitation/docs/tutorials/generated_videos/rl-video-step-64950-to-step-65000.mp4.\n",
      "Moviepy - Writing video /imitation/docs/tutorials/generated_videos/rl-video-step-64950-to-step-65000.mp4\n",
      "\n"
     ]
    },
    {
     "name": "stderr",
     "output_type": "stream",
     "text": [
      "                                                                                                                                         "
     ]
    },
    {
     "name": "stdout",
     "output_type": "stream",
     "text": [
      "Moviepy - Done !\n",
      "Moviepy - video ready /imitation/docs/tutorials/generated_videos/rl-video-step-64950-to-step-65000.mp4\n"
     ]
    },
    {
     "name": "stderr",
     "output_type": "stream",
     "text": [
      "\r"
     ]
    },
    {
     "name": "stdout",
     "output_type": "stream",
     "text": [
      "Saving video to /imitation/docs/tutorials/generated_videos/rl-video-step-65050-to-step-65100.mp4\n",
      "Moviepy - Building video /imitation/docs/tutorials/generated_videos/rl-video-step-65050-to-step-65100.mp4.\n",
      "Moviepy - Writing video /imitation/docs/tutorials/generated_videos/rl-video-step-65050-to-step-65100.mp4\n",
      "\n"
     ]
    },
    {
     "name": "stderr",
     "output_type": "stream",
     "text": [
      "                                                                                                                                         "
     ]
    },
    {
     "name": "stdout",
     "output_type": "stream",
     "text": [
      "Moviepy - Done !\n",
      "Moviepy - video ready /imitation/docs/tutorials/generated_videos/rl-video-step-65050-to-step-65100.mp4\n"
     ]
    },
    {
     "name": "stderr",
     "output_type": "stream",
     "text": [
      "\r"
     ]
    },
    {
     "name": "stdout",
     "output_type": "stream",
     "text": [
      "Saving video to /imitation/docs/tutorials/generated_videos/rl-video-step-65150-to-step-65200.mp4\n",
      "Moviepy - Building video /imitation/docs/tutorials/generated_videos/rl-video-step-65150-to-step-65200.mp4.\n",
      "Moviepy - Writing video /imitation/docs/tutorials/generated_videos/rl-video-step-65150-to-step-65200.mp4\n",
      "\n"
     ]
    },
    {
     "name": "stderr",
     "output_type": "stream",
     "text": [
      "                                                                                                                                         "
     ]
    },
    {
     "name": "stdout",
     "output_type": "stream",
     "text": [
      "Moviepy - Done !\n",
      "Moviepy - video ready /imitation/docs/tutorials/generated_videos/rl-video-step-65150-to-step-65200.mp4\n"
     ]
    },
    {
     "name": "stderr",
     "output_type": "stream",
     "text": [
      "\r"
     ]
    },
    {
     "name": "stdout",
     "output_type": "stream",
     "text": [
      "Saving video to /imitation/docs/tutorials/generated_videos/rl-video-step-65250-to-step-65300.mp4\n",
      "Moviepy - Building video /imitation/docs/tutorials/generated_videos/rl-video-step-65250-to-step-65300.mp4.\n",
      "Moviepy - Writing video /imitation/docs/tutorials/generated_videos/rl-video-step-65250-to-step-65300.mp4\n",
      "\n"
     ]
    },
    {
     "name": "stderr",
     "output_type": "stream",
     "text": [
      "                                                                                                                                         "
     ]
    },
    {
     "name": "stdout",
     "output_type": "stream",
     "text": [
      "Moviepy - Done !\n",
      "Moviepy - video ready /imitation/docs/tutorials/generated_videos/rl-video-step-65250-to-step-65300.mp4\n"
     ]
    },
    {
     "name": "stderr",
     "output_type": "stream",
     "text": [
      "\r"
     ]
    },
    {
     "name": "stdout",
     "output_type": "stream",
     "text": [
      "Saving video to /imitation/docs/tutorials/generated_videos/rl-video-step-65350-to-step-65400.mp4\n",
      "Moviepy - Building video /imitation/docs/tutorials/generated_videos/rl-video-step-65350-to-step-65400.mp4.\n",
      "Moviepy - Writing video /imitation/docs/tutorials/generated_videos/rl-video-step-65350-to-step-65400.mp4\n",
      "\n"
     ]
    },
    {
     "name": "stderr",
     "output_type": "stream",
     "text": [
      "                                                                                                                                         "
     ]
    },
    {
     "name": "stdout",
     "output_type": "stream",
     "text": [
      "Moviepy - Done !\n",
      "Moviepy - video ready /imitation/docs/tutorials/generated_videos/rl-video-step-65350-to-step-65400.mp4\n"
     ]
    },
    {
     "name": "stderr",
     "output_type": "stream",
     "text": [
      "\r"
     ]
    },
    {
     "name": "stdout",
     "output_type": "stream",
     "text": [
      "Saving video to /imitation/docs/tutorials/generated_videos/rl-video-step-65450-to-step-65500.mp4\n",
      "Moviepy - Building video /imitation/docs/tutorials/generated_videos/rl-video-step-65450-to-step-65500.mp4.\n",
      "Moviepy - Writing video /imitation/docs/tutorials/generated_videos/rl-video-step-65450-to-step-65500.mp4\n",
      "\n"
     ]
    },
    {
     "name": "stderr",
     "output_type": "stream",
     "text": [
      "                                                                                                                                         "
     ]
    },
    {
     "name": "stdout",
     "output_type": "stream",
     "text": [
      "Moviepy - Done !\n",
      "Moviepy - video ready /imitation/docs/tutorials/generated_videos/rl-video-step-65450-to-step-65500.mp4\n"
     ]
    },
    {
     "name": "stderr",
     "output_type": "stream",
     "text": [
      "\r"
     ]
    },
    {
     "name": "stdout",
     "output_type": "stream",
     "text": [
      "Saving video to /imitation/docs/tutorials/generated_videos/rl-video-step-65550-to-step-65600.mp4\n",
      "Moviepy - Building video /imitation/docs/tutorials/generated_videos/rl-video-step-65550-to-step-65600.mp4.\n",
      "Moviepy - Writing video /imitation/docs/tutorials/generated_videos/rl-video-step-65550-to-step-65600.mp4\n",
      "\n"
     ]
    },
    {
     "name": "stderr",
     "output_type": "stream",
     "text": [
      "                                                                                                                                         "
     ]
    },
    {
     "name": "stdout",
     "output_type": "stream",
     "text": [
      "Moviepy - Done !\n",
      "Moviepy - video ready /imitation/docs/tutorials/generated_videos/rl-video-step-65550-to-step-65600.mp4\n"
     ]
    },
    {
     "name": "stderr",
     "output_type": "stream",
     "text": [
      "\r"
     ]
    },
    {
     "name": "stdout",
     "output_type": "stream",
     "text": [
      "Saving video to /imitation/docs/tutorials/generated_videos/rl-video-step-65650-to-step-65700.mp4\n",
      "Moviepy - Building video /imitation/docs/tutorials/generated_videos/rl-video-step-65650-to-step-65700.mp4.\n",
      "Moviepy - Writing video /imitation/docs/tutorials/generated_videos/rl-video-step-65650-to-step-65700.mp4\n",
      "\n"
     ]
    },
    {
     "name": "stderr",
     "output_type": "stream",
     "text": [
      "                                                                                                                                         "
     ]
    },
    {
     "name": "stdout",
     "output_type": "stream",
     "text": [
      "Moviepy - Done !\n",
      "Moviepy - video ready /imitation/docs/tutorials/generated_videos/rl-video-step-65650-to-step-65700.mp4\n"
     ]
    },
    {
     "name": "stderr",
     "output_type": "stream",
     "text": [
      "\r"
     ]
    },
    {
     "name": "stdout",
     "output_type": "stream",
     "text": [
      "Saving video to /imitation/docs/tutorials/generated_videos/rl-video-step-65750-to-step-65800.mp4\n",
      "Moviepy - Building video /imitation/docs/tutorials/generated_videos/rl-video-step-65750-to-step-65800.mp4.\n",
      "Moviepy - Writing video /imitation/docs/tutorials/generated_videos/rl-video-step-65750-to-step-65800.mp4\n",
      "\n"
     ]
    },
    {
     "name": "stderr",
     "output_type": "stream",
     "text": [
      "                                                                                                                                         "
     ]
    },
    {
     "name": "stdout",
     "output_type": "stream",
     "text": [
      "Moviepy - Done !\n",
      "Moviepy - video ready /imitation/docs/tutorials/generated_videos/rl-video-step-65750-to-step-65800.mp4\n"
     ]
    },
    {
     "name": "stderr",
     "output_type": "stream",
     "text": [
      "\r"
     ]
    },
    {
     "name": "stdout",
     "output_type": "stream",
     "text": [
      "Saving video to /imitation/docs/tutorials/generated_videos/rl-video-step-65850-to-step-65900.mp4\n",
      "Moviepy - Building video /imitation/docs/tutorials/generated_videos/rl-video-step-65850-to-step-65900.mp4.\n",
      "Moviepy - Writing video /imitation/docs/tutorials/generated_videos/rl-video-step-65850-to-step-65900.mp4\n",
      "\n"
     ]
    },
    {
     "name": "stderr",
     "output_type": "stream",
     "text": [
      "                                                                                                                                         "
     ]
    },
    {
     "name": "stdout",
     "output_type": "stream",
     "text": [
      "Moviepy - Done !\n",
      "Moviepy - video ready /imitation/docs/tutorials/generated_videos/rl-video-step-65850-to-step-65900.mp4\n"
     ]
    },
    {
     "name": "stderr",
     "output_type": "stream",
     "text": [
      "\r"
     ]
    },
    {
     "name": "stdout",
     "output_type": "stream",
     "text": [
      "Saving video to /imitation/docs/tutorials/generated_videos/rl-video-step-65950-to-step-66000.mp4\n",
      "Moviepy - Building video /imitation/docs/tutorials/generated_videos/rl-video-step-65950-to-step-66000.mp4.\n",
      "Moviepy - Writing video /imitation/docs/tutorials/generated_videos/rl-video-step-65950-to-step-66000.mp4\n",
      "\n"
     ]
    },
    {
     "name": "stderr",
     "output_type": "stream",
     "text": [
      "                                                                                                                                         "
     ]
    },
    {
     "name": "stdout",
     "output_type": "stream",
     "text": [
      "Moviepy - Done !\n",
      "Moviepy - video ready /imitation/docs/tutorials/generated_videos/rl-video-step-65950-to-step-66000.mp4\n"
     ]
    },
    {
     "name": "stderr",
     "output_type": "stream",
     "text": [
      "\r"
     ]
    },
    {
     "name": "stdout",
     "output_type": "stream",
     "text": [
      "Saving video to /imitation/docs/tutorials/generated_videos/rl-video-step-66050-to-step-66100.mp4\n",
      "Moviepy - Building video /imitation/docs/tutorials/generated_videos/rl-video-step-66050-to-step-66100.mp4.\n",
      "Moviepy - Writing video /imitation/docs/tutorials/generated_videos/rl-video-step-66050-to-step-66100.mp4\n",
      "\n"
     ]
    },
    {
     "name": "stderr",
     "output_type": "stream",
     "text": [
      "                                                                                                                                         "
     ]
    },
    {
     "name": "stdout",
     "output_type": "stream",
     "text": [
      "Moviepy - Done !\n",
      "Moviepy - video ready /imitation/docs/tutorials/generated_videos/rl-video-step-66050-to-step-66100.mp4\n"
     ]
    },
    {
     "name": "stderr",
     "output_type": "stream",
     "text": [
      "\r"
     ]
    },
    {
     "name": "stdout",
     "output_type": "stream",
     "text": [
      "Saving video to /imitation/docs/tutorials/generated_videos/rl-video-step-66150-to-step-66200.mp4\n",
      "Moviepy - Building video /imitation/docs/tutorials/generated_videos/rl-video-step-66150-to-step-66200.mp4.\n",
      "Moviepy - Writing video /imitation/docs/tutorials/generated_videos/rl-video-step-66150-to-step-66200.mp4\n",
      "\n"
     ]
    },
    {
     "name": "stderr",
     "output_type": "stream",
     "text": [
      "                                                                                                                                         \r"
     ]
    },
    {
     "name": "stdout",
     "output_type": "stream",
     "text": [
      "Moviepy - Done !\n",
      "Moviepy - video ready /imitation/docs/tutorials/generated_videos/rl-video-step-66150-to-step-66200.mp4\n",
      "Saving video to /imitation/docs/tutorials/generated_videos/rl-video-step-66250-to-step-66300.mp4\n",
      "Moviepy - Building video /imitation/docs/tutorials/generated_videos/rl-video-step-66250-to-step-66300.mp4.\n",
      "Moviepy - Writing video /imitation/docs/tutorials/generated_videos/rl-video-step-66250-to-step-66300.mp4\n",
      "\n"
     ]
    },
    {
     "name": "stderr",
     "output_type": "stream",
     "text": [
      "                                                                                                                                         "
     ]
    },
    {
     "name": "stdout",
     "output_type": "stream",
     "text": [
      "Moviepy - Done !\n",
      "Moviepy - video ready /imitation/docs/tutorials/generated_videos/rl-video-step-66250-to-step-66300.mp4\n"
     ]
    },
    {
     "name": "stderr",
     "output_type": "stream",
     "text": [
      "\r"
     ]
    },
    {
     "name": "stdout",
     "output_type": "stream",
     "text": [
      "Saving video to /imitation/docs/tutorials/generated_videos/rl-video-step-66350-to-step-66400.mp4\n",
      "Moviepy - Building video /imitation/docs/tutorials/generated_videos/rl-video-step-66350-to-step-66400.mp4.\n",
      "Moviepy - Writing video /imitation/docs/tutorials/generated_videos/rl-video-step-66350-to-step-66400.mp4\n",
      "\n"
     ]
    },
    {
     "name": "stderr",
     "output_type": "stream",
     "text": [
      "                                                                                                                                         "
     ]
    },
    {
     "name": "stdout",
     "output_type": "stream",
     "text": [
      "Moviepy - Done !\n",
      "Moviepy - video ready /imitation/docs/tutorials/generated_videos/rl-video-step-66350-to-step-66400.mp4\n"
     ]
    },
    {
     "name": "stderr",
     "output_type": "stream",
     "text": [
      "\r"
     ]
    },
    {
     "name": "stdout",
     "output_type": "stream",
     "text": [
      "Saving video to /imitation/docs/tutorials/generated_videos/rl-video-step-66450-to-step-66500.mp4\n",
      "Moviepy - Building video /imitation/docs/tutorials/generated_videos/rl-video-step-66450-to-step-66500.mp4.\n",
      "Moviepy - Writing video /imitation/docs/tutorials/generated_videos/rl-video-step-66450-to-step-66500.mp4\n",
      "\n"
     ]
    },
    {
     "name": "stderr",
     "output_type": "stream",
     "text": [
      "                                                                                                                                         "
     ]
    },
    {
     "name": "stdout",
     "output_type": "stream",
     "text": [
      "Moviepy - Done !\n",
      "Moviepy - video ready /imitation/docs/tutorials/generated_videos/rl-video-step-66450-to-step-66500.mp4\n"
     ]
    },
    {
     "name": "stderr",
     "output_type": "stream",
     "text": [
      "\r"
     ]
    },
    {
     "name": "stdout",
     "output_type": "stream",
     "text": [
      "Saving video to /imitation/docs/tutorials/generated_videos/rl-video-step-66550-to-step-66600.mp4\n",
      "Moviepy - Building video /imitation/docs/tutorials/generated_videos/rl-video-step-66550-to-step-66600.mp4.\n",
      "Moviepy - Writing video /imitation/docs/tutorials/generated_videos/rl-video-step-66550-to-step-66600.mp4\n",
      "\n"
     ]
    },
    {
     "name": "stderr",
     "output_type": "stream",
     "text": [
      "                                                                                                                                         "
     ]
    },
    {
     "name": "stdout",
     "output_type": "stream",
     "text": [
      "Moviepy - Done !\n",
      "Moviepy - video ready /imitation/docs/tutorials/generated_videos/rl-video-step-66550-to-step-66600.mp4\n",
      "------------------------------------------------------\n",
      "| raw/                                 |             |\n",
      "|    agent/rollout/ep_len_mean         | 50          |\n",
      "|    agent/rollout/ep_rew_mean         | -58.5       |\n",
      "|    agent/rollout/ep_rew_wrapped_mean | -9.45       |\n",
      "|    agent/time/fps                    | 138         |\n",
      "|    agent/time/iterations             | 3           |\n",
      "|    agent/time/time_elapsed           | 44          |\n",
      "|    agent/time/total_timesteps        | 57344       |\n",
      "|    agent/train/approx_kl             | 0.011217382 |\n",
      "|    agent/train/clip_fraction         | 0.345       |\n",
      "|    agent/train/clip_range            | 0.1         |\n",
      "|    agent/train/entropy_loss          | -2.47       |\n",
      "|    agent/train/explained_variance    | 0.965       |\n",
      "|    agent/train/learning_rate         | 0.002       |\n",
      "|    agent/train/loss                  | -0.0394     |\n",
      "|    agent/train/n_updates             | 270         |\n",
      "|    agent/train/policy_gradient_loss  | -0.0116     |\n",
      "|    agent/train/std                   | 0.835       |\n",
      "|    agent/train/value_loss            | 0.00812     |\n",
      "------------------------------------------------------\n"
     ]
    },
    {
     "name": "stderr",
     "output_type": "stream",
     "text": [
      "\r"
     ]
    },
    {
     "name": "stdout",
     "output_type": "stream",
     "text": [
      "Saving video to /imitation/docs/tutorials/generated_videos/rl-video-step-66650-to-step-66700.mp4\n",
      "Moviepy - Building video /imitation/docs/tutorials/generated_videos/rl-video-step-66650-to-step-66700.mp4.\n",
      "Moviepy - Writing video /imitation/docs/tutorials/generated_videos/rl-video-step-66650-to-step-66700.mp4\n",
      "\n"
     ]
    },
    {
     "name": "stderr",
     "output_type": "stream",
     "text": [
      "                                                                                                                                         "
     ]
    },
    {
     "name": "stdout",
     "output_type": "stream",
     "text": [
      "Moviepy - Done !\n",
      "Moviepy - video ready /imitation/docs/tutorials/generated_videos/rl-video-step-66650-to-step-66700.mp4\n"
     ]
    },
    {
     "name": "stderr",
     "output_type": "stream",
     "text": [
      "\r"
     ]
    },
    {
     "name": "stdout",
     "output_type": "stream",
     "text": [
      "Saving video to /imitation/docs/tutorials/generated_videos/rl-video-step-66750-to-step-66800.mp4\n",
      "Moviepy - Building video /imitation/docs/tutorials/generated_videos/rl-video-step-66750-to-step-66800.mp4.\n",
      "Moviepy - Writing video /imitation/docs/tutorials/generated_videos/rl-video-step-66750-to-step-66800.mp4\n",
      "\n"
     ]
    },
    {
     "name": "stderr",
     "output_type": "stream",
     "text": [
      "                                                                                                                                         "
     ]
    },
    {
     "name": "stdout",
     "output_type": "stream",
     "text": [
      "Moviepy - Done !\n",
      "Moviepy - video ready /imitation/docs/tutorials/generated_videos/rl-video-step-66750-to-step-66800.mp4\n"
     ]
    },
    {
     "name": "stderr",
     "output_type": "stream",
     "text": [
      "\r"
     ]
    },
    {
     "name": "stdout",
     "output_type": "stream",
     "text": [
      "Saving video to /imitation/docs/tutorials/generated_videos/rl-video-step-66850-to-step-66900.mp4\n",
      "Moviepy - Building video /imitation/docs/tutorials/generated_videos/rl-video-step-66850-to-step-66900.mp4.\n",
      "Moviepy - Writing video /imitation/docs/tutorials/generated_videos/rl-video-step-66850-to-step-66900.mp4\n",
      "\n"
     ]
    },
    {
     "name": "stderr",
     "output_type": "stream",
     "text": [
      "                                                                                                                                         "
     ]
    },
    {
     "name": "stdout",
     "output_type": "stream",
     "text": [
      "Moviepy - Done !\n",
      "Moviepy - video ready /imitation/docs/tutorials/generated_videos/rl-video-step-66850-to-step-66900.mp4\n"
     ]
    },
    {
     "name": "stderr",
     "output_type": "stream",
     "text": [
      "\r"
     ]
    },
    {
     "name": "stdout",
     "output_type": "stream",
     "text": [
      "Saving video to /imitation/docs/tutorials/generated_videos/rl-video-step-66950-to-step-67000.mp4\n",
      "Moviepy - Building video /imitation/docs/tutorials/generated_videos/rl-video-step-66950-to-step-67000.mp4.\n",
      "Moviepy - Writing video /imitation/docs/tutorials/generated_videos/rl-video-step-66950-to-step-67000.mp4\n",
      "\n"
     ]
    },
    {
     "name": "stderr",
     "output_type": "stream",
     "text": [
      "                                                                                                                                         "
     ]
    },
    {
     "name": "stdout",
     "output_type": "stream",
     "text": [
      "Moviepy - Done !\n",
      "Moviepy - video ready /imitation/docs/tutorials/generated_videos/rl-video-step-66950-to-step-67000.mp4\n"
     ]
    },
    {
     "name": "stderr",
     "output_type": "stream",
     "text": [
      "\r"
     ]
    },
    {
     "name": "stdout",
     "output_type": "stream",
     "text": [
      "Saving video to /imitation/docs/tutorials/generated_videos/rl-video-step-67050-to-step-67100.mp4\n",
      "Moviepy - Building video /imitation/docs/tutorials/generated_videos/rl-video-step-67050-to-step-67100.mp4.\n",
      "Moviepy - Writing video /imitation/docs/tutorials/generated_videos/rl-video-step-67050-to-step-67100.mp4\n",
      "\n"
     ]
    },
    {
     "name": "stderr",
     "output_type": "stream",
     "text": [
      "                                                                                                                                         "
     ]
    },
    {
     "name": "stdout",
     "output_type": "stream",
     "text": [
      "Moviepy - Done !\n",
      "Moviepy - video ready /imitation/docs/tutorials/generated_videos/rl-video-step-67050-to-step-67100.mp4\n"
     ]
    },
    {
     "name": "stderr",
     "output_type": "stream",
     "text": [
      "\r"
     ]
    },
    {
     "name": "stdout",
     "output_type": "stream",
     "text": [
      "Saving video to /imitation/docs/tutorials/generated_videos/rl-video-step-67150-to-step-67200.mp4\n",
      "Moviepy - Building video /imitation/docs/tutorials/generated_videos/rl-video-step-67150-to-step-67200.mp4.\n",
      "Moviepy - Writing video /imitation/docs/tutorials/generated_videos/rl-video-step-67150-to-step-67200.mp4\n",
      "\n"
     ]
    },
    {
     "name": "stderr",
     "output_type": "stream",
     "text": [
      "                                                                                                                                         "
     ]
    },
    {
     "name": "stdout",
     "output_type": "stream",
     "text": [
      "Moviepy - Done !\n",
      "Moviepy - video ready /imitation/docs/tutorials/generated_videos/rl-video-step-67150-to-step-67200.mp4\n"
     ]
    },
    {
     "name": "stderr",
     "output_type": "stream",
     "text": [
      "\r"
     ]
    },
    {
     "name": "stdout",
     "output_type": "stream",
     "text": [
      "Saving video to /imitation/docs/tutorials/generated_videos/rl-video-step-67250-to-step-67300.mp4\n",
      "Moviepy - Building video /imitation/docs/tutorials/generated_videos/rl-video-step-67250-to-step-67300.mp4.\n",
      "Moviepy - Writing video /imitation/docs/tutorials/generated_videos/rl-video-step-67250-to-step-67300.mp4\n",
      "\n"
     ]
    },
    {
     "name": "stderr",
     "output_type": "stream",
     "text": [
      "                                                                                                                                         "
     ]
    },
    {
     "name": "stdout",
     "output_type": "stream",
     "text": [
      "Moviepy - Done !\n",
      "Moviepy - video ready /imitation/docs/tutorials/generated_videos/rl-video-step-67250-to-step-67300.mp4\n"
     ]
    },
    {
     "name": "stderr",
     "output_type": "stream",
     "text": [
      "\r"
     ]
    },
    {
     "name": "stdout",
     "output_type": "stream",
     "text": [
      "Saving video to /imitation/docs/tutorials/generated_videos/rl-video-step-67350-to-step-67400.mp4\n",
      "Moviepy - Building video /imitation/docs/tutorials/generated_videos/rl-video-step-67350-to-step-67400.mp4.\n",
      "Moviepy - Writing video /imitation/docs/tutorials/generated_videos/rl-video-step-67350-to-step-67400.mp4\n",
      "\n"
     ]
    },
    {
     "name": "stderr",
     "output_type": "stream",
     "text": [
      "                                                                                                                                         "
     ]
    },
    {
     "name": "stdout",
     "output_type": "stream",
     "text": [
      "Moviepy - Done !\n",
      "Moviepy - video ready /imitation/docs/tutorials/generated_videos/rl-video-step-67350-to-step-67400.mp4\n"
     ]
    },
    {
     "name": "stderr",
     "output_type": "stream",
     "text": [
      "\r"
     ]
    },
    {
     "name": "stdout",
     "output_type": "stream",
     "text": [
      "Saving video to /imitation/docs/tutorials/generated_videos/rl-video-step-67450-to-step-67500.mp4\n",
      "Moviepy - Building video /imitation/docs/tutorials/generated_videos/rl-video-step-67450-to-step-67500.mp4.\n",
      "Moviepy - Writing video /imitation/docs/tutorials/generated_videos/rl-video-step-67450-to-step-67500.mp4\n",
      "\n"
     ]
    },
    {
     "name": "stderr",
     "output_type": "stream",
     "text": [
      "                                                                                                                                         "
     ]
    },
    {
     "name": "stdout",
     "output_type": "stream",
     "text": [
      "Moviepy - Done !\n",
      "Moviepy - video ready /imitation/docs/tutorials/generated_videos/rl-video-step-67450-to-step-67500.mp4\n"
     ]
    },
    {
     "name": "stderr",
     "output_type": "stream",
     "text": [
      "\r"
     ]
    },
    {
     "name": "stdout",
     "output_type": "stream",
     "text": [
      "Saving video to /imitation/docs/tutorials/generated_videos/rl-video-step-67550-to-step-67600.mp4\n",
      "Moviepy - Building video /imitation/docs/tutorials/generated_videos/rl-video-step-67550-to-step-67600.mp4.\n",
      "Moviepy - Writing video /imitation/docs/tutorials/generated_videos/rl-video-step-67550-to-step-67600.mp4\n",
      "\n"
     ]
    },
    {
     "name": "stderr",
     "output_type": "stream",
     "text": [
      "                                                                                                                                         "
     ]
    },
    {
     "name": "stdout",
     "output_type": "stream",
     "text": [
      "Moviepy - Done !\n",
      "Moviepy - video ready /imitation/docs/tutorials/generated_videos/rl-video-step-67550-to-step-67600.mp4\n"
     ]
    },
    {
     "name": "stderr",
     "output_type": "stream",
     "text": [
      "\r"
     ]
    },
    {
     "name": "stdout",
     "output_type": "stream",
     "text": [
      "Saving video to /imitation/docs/tutorials/generated_videos/rl-video-step-67650-to-step-67700.mp4\n",
      "Moviepy - Building video /imitation/docs/tutorials/generated_videos/rl-video-step-67650-to-step-67700.mp4.\n",
      "Moviepy - Writing video /imitation/docs/tutorials/generated_videos/rl-video-step-67650-to-step-67700.mp4\n",
      "\n"
     ]
    },
    {
     "name": "stderr",
     "output_type": "stream",
     "text": [
      "                                                                                                                                         "
     ]
    },
    {
     "name": "stdout",
     "output_type": "stream",
     "text": [
      "Moviepy - Done !\n",
      "Moviepy - video ready /imitation/docs/tutorials/generated_videos/rl-video-step-67650-to-step-67700.mp4\n"
     ]
    },
    {
     "name": "stderr",
     "output_type": "stream",
     "text": [
      "\r"
     ]
    },
    {
     "name": "stdout",
     "output_type": "stream",
     "text": [
      "Saving video to /imitation/docs/tutorials/generated_videos/rl-video-step-67750-to-step-67800.mp4\n",
      "Moviepy - Building video /imitation/docs/tutorials/generated_videos/rl-video-step-67750-to-step-67800.mp4.\n",
      "Moviepy - Writing video /imitation/docs/tutorials/generated_videos/rl-video-step-67750-to-step-67800.mp4\n",
      "\n"
     ]
    },
    {
     "name": "stderr",
     "output_type": "stream",
     "text": [
      "                                                                                                                                         "
     ]
    },
    {
     "name": "stdout",
     "output_type": "stream",
     "text": [
      "Moviepy - Done !\n",
      "Moviepy - video ready /imitation/docs/tutorials/generated_videos/rl-video-step-67750-to-step-67800.mp4\n"
     ]
    },
    {
     "name": "stderr",
     "output_type": "stream",
     "text": [
      "\r"
     ]
    },
    {
     "name": "stdout",
     "output_type": "stream",
     "text": [
      "Saving video to /imitation/docs/tutorials/generated_videos/rl-video-step-67850-to-step-67900.mp4\n",
      "Moviepy - Building video /imitation/docs/tutorials/generated_videos/rl-video-step-67850-to-step-67900.mp4.\n",
      "Moviepy - Writing video /imitation/docs/tutorials/generated_videos/rl-video-step-67850-to-step-67900.mp4\n",
      "\n"
     ]
    },
    {
     "name": "stderr",
     "output_type": "stream",
     "text": [
      "                                                                                                                                         "
     ]
    },
    {
     "name": "stdout",
     "output_type": "stream",
     "text": [
      "Moviepy - Done !\n",
      "Moviepy - video ready /imitation/docs/tutorials/generated_videos/rl-video-step-67850-to-step-67900.mp4\n"
     ]
    },
    {
     "name": "stderr",
     "output_type": "stream",
     "text": [
      "\r"
     ]
    },
    {
     "name": "stdout",
     "output_type": "stream",
     "text": [
      "Saving video to /imitation/docs/tutorials/generated_videos/rl-video-step-67950-to-step-68000.mp4\n",
      "Moviepy - Building video /imitation/docs/tutorials/generated_videos/rl-video-step-67950-to-step-68000.mp4.\n",
      "Moviepy - Writing video /imitation/docs/tutorials/generated_videos/rl-video-step-67950-to-step-68000.mp4\n",
      "\n"
     ]
    },
    {
     "name": "stderr",
     "output_type": "stream",
     "text": [
      "                                                                                                                                         "
     ]
    },
    {
     "name": "stdout",
     "output_type": "stream",
     "text": [
      "Moviepy - Done !\n",
      "Moviepy - video ready /imitation/docs/tutorials/generated_videos/rl-video-step-67950-to-step-68000.mp4\n"
     ]
    },
    {
     "name": "stderr",
     "output_type": "stream",
     "text": [
      "\r"
     ]
    },
    {
     "name": "stdout",
     "output_type": "stream",
     "text": [
      "Saving video to /imitation/docs/tutorials/generated_videos/rl-video-step-68050-to-step-68100.mp4\n",
      "Moviepy - Building video /imitation/docs/tutorials/generated_videos/rl-video-step-68050-to-step-68100.mp4.\n",
      "Moviepy - Writing video /imitation/docs/tutorials/generated_videos/rl-video-step-68050-to-step-68100.mp4\n",
      "\n"
     ]
    },
    {
     "name": "stderr",
     "output_type": "stream",
     "text": [
      "                                                                                                                                         "
     ]
    },
    {
     "name": "stdout",
     "output_type": "stream",
     "text": [
      "Moviepy - Done !\n",
      "Moviepy - video ready /imitation/docs/tutorials/generated_videos/rl-video-step-68050-to-step-68100.mp4\n"
     ]
    },
    {
     "name": "stderr",
     "output_type": "stream",
     "text": [
      "\r"
     ]
    },
    {
     "name": "stdout",
     "output_type": "stream",
     "text": [
      "Saving video to /imitation/docs/tutorials/generated_videos/rl-video-step-68150-to-step-68200.mp4\n",
      "Moviepy - Building video /imitation/docs/tutorials/generated_videos/rl-video-step-68150-to-step-68200.mp4.\n",
      "Moviepy - Writing video /imitation/docs/tutorials/generated_videos/rl-video-step-68150-to-step-68200.mp4\n",
      "\n"
     ]
    },
    {
     "name": "stderr",
     "output_type": "stream",
     "text": [
      "                                                                                                                                         "
     ]
    },
    {
     "name": "stdout",
     "output_type": "stream",
     "text": [
      "Moviepy - Done !\n",
      "Moviepy - video ready /imitation/docs/tutorials/generated_videos/rl-video-step-68150-to-step-68200.mp4\n"
     ]
    },
    {
     "name": "stderr",
     "output_type": "stream",
     "text": [
      "\r"
     ]
    },
    {
     "name": "stdout",
     "output_type": "stream",
     "text": [
      "Saving video to /imitation/docs/tutorials/generated_videos/rl-video-step-68250-to-step-68300.mp4\n",
      "Moviepy - Building video /imitation/docs/tutorials/generated_videos/rl-video-step-68250-to-step-68300.mp4.\n",
      "Moviepy - Writing video /imitation/docs/tutorials/generated_videos/rl-video-step-68250-to-step-68300.mp4\n",
      "\n"
     ]
    },
    {
     "name": "stderr",
     "output_type": "stream",
     "text": [
      "                                                                                                                                         "
     ]
    },
    {
     "name": "stdout",
     "output_type": "stream",
     "text": [
      "Moviepy - Done !\n",
      "Moviepy - video ready /imitation/docs/tutorials/generated_videos/rl-video-step-68250-to-step-68300.mp4\n"
     ]
    },
    {
     "name": "stderr",
     "output_type": "stream",
     "text": [
      "\r"
     ]
    },
    {
     "name": "stdout",
     "output_type": "stream",
     "text": [
      "Saving video to /imitation/docs/tutorials/generated_videos/rl-video-step-68350-to-step-68400.mp4\n",
      "Moviepy - Building video /imitation/docs/tutorials/generated_videos/rl-video-step-68350-to-step-68400.mp4.\n",
      "Moviepy - Writing video /imitation/docs/tutorials/generated_videos/rl-video-step-68350-to-step-68400.mp4\n",
      "\n"
     ]
    },
    {
     "name": "stderr",
     "output_type": "stream",
     "text": [
      "                                                                                                                                         "
     ]
    },
    {
     "name": "stdout",
     "output_type": "stream",
     "text": [
      "Moviepy - Done !\n",
      "Moviepy - video ready /imitation/docs/tutorials/generated_videos/rl-video-step-68350-to-step-68400.mp4\n"
     ]
    },
    {
     "name": "stderr",
     "output_type": "stream",
     "text": [
      "\r"
     ]
    },
    {
     "name": "stdout",
     "output_type": "stream",
     "text": [
      "Saving video to /imitation/docs/tutorials/generated_videos/rl-video-step-68450-to-step-68500.mp4\n",
      "Moviepy - Building video /imitation/docs/tutorials/generated_videos/rl-video-step-68450-to-step-68500.mp4.\n",
      "Moviepy - Writing video /imitation/docs/tutorials/generated_videos/rl-video-step-68450-to-step-68500.mp4\n",
      "\n"
     ]
    },
    {
     "name": "stderr",
     "output_type": "stream",
     "text": [
      "                                                                                                                                         "
     ]
    },
    {
     "name": "stdout",
     "output_type": "stream",
     "text": [
      "Moviepy - Done !\n",
      "Moviepy - video ready /imitation/docs/tutorials/generated_videos/rl-video-step-68450-to-step-68500.mp4\n"
     ]
    },
    {
     "name": "stderr",
     "output_type": "stream",
     "text": [
      "\r"
     ]
    },
    {
     "name": "stdout",
     "output_type": "stream",
     "text": [
      "Saving video to /imitation/docs/tutorials/generated_videos/rl-video-step-68550-to-step-68600.mp4\n",
      "Moviepy - Building video /imitation/docs/tutorials/generated_videos/rl-video-step-68550-to-step-68600.mp4.\n",
      "Moviepy - Writing video /imitation/docs/tutorials/generated_videos/rl-video-step-68550-to-step-68600.mp4\n",
      "\n"
     ]
    },
    {
     "name": "stderr",
     "output_type": "stream",
     "text": [
      "                                                                                                                                         "
     ]
    },
    {
     "name": "stdout",
     "output_type": "stream",
     "text": [
      "Moviepy - Done !\n",
      "Moviepy - video ready /imitation/docs/tutorials/generated_videos/rl-video-step-68550-to-step-68600.mp4\n"
     ]
    },
    {
     "name": "stderr",
     "output_type": "stream",
     "text": [
      "\r"
     ]
    },
    {
     "name": "stdout",
     "output_type": "stream",
     "text": [
      "-----------------------------------------------------\n",
      "| raw/                                 |            |\n",
      "|    agent/rollout/ep_len_mean         | 50         |\n",
      "|    agent/rollout/ep_rew_mean         | -57.2      |\n",
      "|    agent/rollout/ep_rew_wrapped_mean | -9.36      |\n",
      "|    agent/time/fps                    | 137        |\n",
      "|    agent/time/iterations             | 4          |\n",
      "|    agent/time/time_elapsed           | 59         |\n",
      "|    agent/time/total_timesteps        | 59392      |\n",
      "|    agent/train/approx_kl             | 0.01109381 |\n",
      "|    agent/train/clip_fraction         | 0.35       |\n",
      "|    agent/train/clip_range            | 0.1        |\n",
      "|    agent/train/entropy_loss          | -2.42      |\n",
      "|    agent/train/explained_variance    | 0.961      |\n",
      "|    agent/train/learning_rate         | 0.002      |\n",
      "|    agent/train/loss                  | -0.0127    |\n",
      "|    agent/train/n_updates             | 280        |\n",
      "|    agent/train/policy_gradient_loss  | -0.011     |\n",
      "|    agent/train/std                   | 0.809      |\n",
      "|    agent/train/value_loss            | 0.00738    |\n",
      "-----------------------------------------------------\n",
      "Saving video to /imitation/docs/tutorials/generated_videos/rl-video-step-68650-to-step-68700.mp4\n",
      "Moviepy - Building video /imitation/docs/tutorials/generated_videos/rl-video-step-68650-to-step-68700.mp4.\n",
      "Moviepy - Writing video /imitation/docs/tutorials/generated_videos/rl-video-step-68650-to-step-68700.mp4\n",
      "\n"
     ]
    },
    {
     "name": "stderr",
     "output_type": "stream",
     "text": [
      "                                                                                                                                         "
     ]
    },
    {
     "name": "stdout",
     "output_type": "stream",
     "text": [
      "Moviepy - Done !\n",
      "Moviepy - video ready /imitation/docs/tutorials/generated_videos/rl-video-step-68650-to-step-68700.mp4\n"
     ]
    },
    {
     "name": "stderr",
     "output_type": "stream",
     "text": [
      "\r"
     ]
    },
    {
     "name": "stdout",
     "output_type": "stream",
     "text": [
      "Saving video to /imitation/docs/tutorials/generated_videos/rl-video-step-68750-to-step-68800.mp4\n",
      "Moviepy - Building video /imitation/docs/tutorials/generated_videos/rl-video-step-68750-to-step-68800.mp4.\n",
      "Moviepy - Writing video /imitation/docs/tutorials/generated_videos/rl-video-step-68750-to-step-68800.mp4\n",
      "\n"
     ]
    },
    {
     "name": "stderr",
     "output_type": "stream",
     "text": [
      "                                                                                                                                         "
     ]
    },
    {
     "name": "stdout",
     "output_type": "stream",
     "text": [
      "Moviepy - Done !\n",
      "Moviepy - video ready /imitation/docs/tutorials/generated_videos/rl-video-step-68750-to-step-68800.mp4\n"
     ]
    },
    {
     "name": "stderr",
     "output_type": "stream",
     "text": [
      "\r"
     ]
    },
    {
     "name": "stdout",
     "output_type": "stream",
     "text": [
      "Saving video to /imitation/docs/tutorials/generated_videos/rl-video-step-68850-to-step-68900.mp4\n",
      "Moviepy - Building video /imitation/docs/tutorials/generated_videos/rl-video-step-68850-to-step-68900.mp4.\n",
      "Moviepy - Writing video /imitation/docs/tutorials/generated_videos/rl-video-step-68850-to-step-68900.mp4\n",
      "\n"
     ]
    },
    {
     "name": "stderr",
     "output_type": "stream",
     "text": [
      "                                                                                                                                         "
     ]
    },
    {
     "name": "stdout",
     "output_type": "stream",
     "text": [
      "Moviepy - Done !\n",
      "Moviepy - video ready /imitation/docs/tutorials/generated_videos/rl-video-step-68850-to-step-68900.mp4\n"
     ]
    },
    {
     "name": "stderr",
     "output_type": "stream",
     "text": [
      "\r"
     ]
    },
    {
     "name": "stdout",
     "output_type": "stream",
     "text": [
      "Saving video to /imitation/docs/tutorials/generated_videos/rl-video-step-68950-to-step-69000.mp4\n",
      "Moviepy - Building video /imitation/docs/tutorials/generated_videos/rl-video-step-68950-to-step-69000.mp4.\n",
      "Moviepy - Writing video /imitation/docs/tutorials/generated_videos/rl-video-step-68950-to-step-69000.mp4\n",
      "\n"
     ]
    },
    {
     "name": "stderr",
     "output_type": "stream",
     "text": [
      "                                                                                                                                         "
     ]
    },
    {
     "name": "stdout",
     "output_type": "stream",
     "text": [
      "Moviepy - Done !\n",
      "Moviepy - video ready /imitation/docs/tutorials/generated_videos/rl-video-step-68950-to-step-69000.mp4\n"
     ]
    },
    {
     "name": "stderr",
     "output_type": "stream",
     "text": [
      "\r"
     ]
    },
    {
     "name": "stdout",
     "output_type": "stream",
     "text": [
      "Saving video to /imitation/docs/tutorials/generated_videos/rl-video-step-69050-to-step-69100.mp4\n",
      "Moviepy - Building video /imitation/docs/tutorials/generated_videos/rl-video-step-69050-to-step-69100.mp4.\n",
      "Moviepy - Writing video /imitation/docs/tutorials/generated_videos/rl-video-step-69050-to-step-69100.mp4\n",
      "\n"
     ]
    },
    {
     "name": "stderr",
     "output_type": "stream",
     "text": [
      "                                                                                                                                         "
     ]
    },
    {
     "name": "stdout",
     "output_type": "stream",
     "text": [
      "Moviepy - Done !\n",
      "Moviepy - video ready /imitation/docs/tutorials/generated_videos/rl-video-step-69050-to-step-69100.mp4\n"
     ]
    },
    {
     "name": "stderr",
     "output_type": "stream",
     "text": [
      "\r"
     ]
    },
    {
     "name": "stdout",
     "output_type": "stream",
     "text": [
      "Saving video to /imitation/docs/tutorials/generated_videos/rl-video-step-69150-to-step-69200.mp4\n",
      "Moviepy - Building video /imitation/docs/tutorials/generated_videos/rl-video-step-69150-to-step-69200.mp4.\n",
      "Moviepy - Writing video /imitation/docs/tutorials/generated_videos/rl-video-step-69150-to-step-69200.mp4\n",
      "\n"
     ]
    },
    {
     "name": "stderr",
     "output_type": "stream",
     "text": [
      "                                                                                                                                         "
     ]
    },
    {
     "name": "stdout",
     "output_type": "stream",
     "text": [
      "Moviepy - Done !\n",
      "Moviepy - video ready /imitation/docs/tutorials/generated_videos/rl-video-step-69150-to-step-69200.mp4\n"
     ]
    },
    {
     "name": "stderr",
     "output_type": "stream",
     "text": [
      "\r"
     ]
    },
    {
     "name": "stdout",
     "output_type": "stream",
     "text": [
      "Saving video to /imitation/docs/tutorials/generated_videos/rl-video-step-69250-to-step-69300.mp4\n",
      "Moviepy - Building video /imitation/docs/tutorials/generated_videos/rl-video-step-69250-to-step-69300.mp4.\n",
      "Moviepy - Writing video /imitation/docs/tutorials/generated_videos/rl-video-step-69250-to-step-69300.mp4\n",
      "\n"
     ]
    },
    {
     "name": "stderr",
     "output_type": "stream",
     "text": [
      "                                                                                                                                         "
     ]
    },
    {
     "name": "stdout",
     "output_type": "stream",
     "text": [
      "Moviepy - Done !\n",
      "Moviepy - video ready /imitation/docs/tutorials/generated_videos/rl-video-step-69250-to-step-69300.mp4\n"
     ]
    },
    {
     "name": "stderr",
     "output_type": "stream",
     "text": [
      "\r"
     ]
    },
    {
     "name": "stdout",
     "output_type": "stream",
     "text": [
      "Saving video to /imitation/docs/tutorials/generated_videos/rl-video-step-69350-to-step-69400.mp4\n",
      "Moviepy - Building video /imitation/docs/tutorials/generated_videos/rl-video-step-69350-to-step-69400.mp4.\n",
      "Moviepy - Writing video /imitation/docs/tutorials/generated_videos/rl-video-step-69350-to-step-69400.mp4\n",
      "\n"
     ]
    },
    {
     "name": "stderr",
     "output_type": "stream",
     "text": [
      "                                                                                                                                         "
     ]
    },
    {
     "name": "stdout",
     "output_type": "stream",
     "text": [
      "Moviepy - Done !\n",
      "Moviepy - video ready /imitation/docs/tutorials/generated_videos/rl-video-step-69350-to-step-69400.mp4\n"
     ]
    },
    {
     "name": "stderr",
     "output_type": "stream",
     "text": [
      "\r"
     ]
    },
    {
     "name": "stdout",
     "output_type": "stream",
     "text": [
      "Saving video to /imitation/docs/tutorials/generated_videos/rl-video-step-69450-to-step-69500.mp4\n",
      "Moviepy - Building video /imitation/docs/tutorials/generated_videos/rl-video-step-69450-to-step-69500.mp4.\n",
      "Moviepy - Writing video /imitation/docs/tutorials/generated_videos/rl-video-step-69450-to-step-69500.mp4\n",
      "\n"
     ]
    },
    {
     "name": "stderr",
     "output_type": "stream",
     "text": [
      "                                                                                                                                         "
     ]
    },
    {
     "name": "stdout",
     "output_type": "stream",
     "text": [
      "Moviepy - Done !\n",
      "Moviepy - video ready /imitation/docs/tutorials/generated_videos/rl-video-step-69450-to-step-69500.mp4\n"
     ]
    },
    {
     "name": "stderr",
     "output_type": "stream",
     "text": [
      "\r"
     ]
    },
    {
     "name": "stdout",
     "output_type": "stream",
     "text": [
      "Saving video to /imitation/docs/tutorials/generated_videos/rl-video-step-69550-to-step-69600.mp4\n",
      "Moviepy - Building video /imitation/docs/tutorials/generated_videos/rl-video-step-69550-to-step-69600.mp4.\n",
      "Moviepy - Writing video /imitation/docs/tutorials/generated_videos/rl-video-step-69550-to-step-69600.mp4\n",
      "\n"
     ]
    },
    {
     "name": "stderr",
     "output_type": "stream",
     "text": [
      "                                                                                                                                         "
     ]
    },
    {
     "name": "stdout",
     "output_type": "stream",
     "text": [
      "Moviepy - Done !\n",
      "Moviepy - video ready /imitation/docs/tutorials/generated_videos/rl-video-step-69550-to-step-69600.mp4\n"
     ]
    },
    {
     "name": "stderr",
     "output_type": "stream",
     "text": [
      "\r"
     ]
    },
    {
     "name": "stdout",
     "output_type": "stream",
     "text": [
      "Saving video to /imitation/docs/tutorials/generated_videos/rl-video-step-69650-to-step-69700.mp4\n",
      "Moviepy - Building video /imitation/docs/tutorials/generated_videos/rl-video-step-69650-to-step-69700.mp4.\n",
      "Moviepy - Writing video /imitation/docs/tutorials/generated_videos/rl-video-step-69650-to-step-69700.mp4\n",
      "\n"
     ]
    },
    {
     "name": "stderr",
     "output_type": "stream",
     "text": [
      "                                                                                                                                         "
     ]
    },
    {
     "name": "stdout",
     "output_type": "stream",
     "text": [
      "Moviepy - Done !\n",
      "Moviepy - video ready /imitation/docs/tutorials/generated_videos/rl-video-step-69650-to-step-69700.mp4\n"
     ]
    },
    {
     "name": "stderr",
     "output_type": "stream",
     "text": [
      "\r"
     ]
    },
    {
     "name": "stdout",
     "output_type": "stream",
     "text": [
      "Saving video to /imitation/docs/tutorials/generated_videos/rl-video-step-69750-to-step-69800.mp4\n",
      "Moviepy - Building video /imitation/docs/tutorials/generated_videos/rl-video-step-69750-to-step-69800.mp4.\n",
      "Moviepy - Writing video /imitation/docs/tutorials/generated_videos/rl-video-step-69750-to-step-69800.mp4\n",
      "\n"
     ]
    },
    {
     "name": "stderr",
     "output_type": "stream",
     "text": [
      "                                                                                                                                         "
     ]
    },
    {
     "name": "stdout",
     "output_type": "stream",
     "text": [
      "Moviepy - Done !\n",
      "Moviepy - video ready /imitation/docs/tutorials/generated_videos/rl-video-step-69750-to-step-69800.mp4\n"
     ]
    },
    {
     "name": "stderr",
     "output_type": "stream",
     "text": [
      "\r"
     ]
    },
    {
     "name": "stdout",
     "output_type": "stream",
     "text": [
      "Saving video to /imitation/docs/tutorials/generated_videos/rl-video-step-69850-to-step-69900.mp4\n",
      "Moviepy - Building video /imitation/docs/tutorials/generated_videos/rl-video-step-69850-to-step-69900.mp4.\n",
      "Moviepy - Writing video /imitation/docs/tutorials/generated_videos/rl-video-step-69850-to-step-69900.mp4\n",
      "\n"
     ]
    },
    {
     "name": "stderr",
     "output_type": "stream",
     "text": [
      "                                                                                                                                         "
     ]
    },
    {
     "name": "stdout",
     "output_type": "stream",
     "text": [
      "Moviepy - Done !\n",
      "Moviepy - video ready /imitation/docs/tutorials/generated_videos/rl-video-step-69850-to-step-69900.mp4\n"
     ]
    },
    {
     "name": "stderr",
     "output_type": "stream",
     "text": [
      "\r"
     ]
    },
    {
     "name": "stdout",
     "output_type": "stream",
     "text": [
      "Saving video to /imitation/docs/tutorials/generated_videos/rl-video-step-69950-to-step-70000.mp4\n",
      "Moviepy - Building video /imitation/docs/tutorials/generated_videos/rl-video-step-69950-to-step-70000.mp4.\n",
      "Moviepy - Writing video /imitation/docs/tutorials/generated_videos/rl-video-step-69950-to-step-70000.mp4\n",
      "\n"
     ]
    },
    {
     "name": "stderr",
     "output_type": "stream",
     "text": [
      "                                                                                                                                         "
     ]
    },
    {
     "name": "stdout",
     "output_type": "stream",
     "text": [
      "Moviepy - Done !\n",
      "Moviepy - video ready /imitation/docs/tutorials/generated_videos/rl-video-step-69950-to-step-70000.mp4\n"
     ]
    },
    {
     "name": "stderr",
     "output_type": "stream",
     "text": [
      "\r"
     ]
    },
    {
     "name": "stdout",
     "output_type": "stream",
     "text": [
      "Saving video to /imitation/docs/tutorials/generated_videos/rl-video-step-70050-to-step-70100.mp4\n",
      "Moviepy - Building video /imitation/docs/tutorials/generated_videos/rl-video-step-70050-to-step-70100.mp4.\n",
      "Moviepy - Writing video /imitation/docs/tutorials/generated_videos/rl-video-step-70050-to-step-70100.mp4\n",
      "\n"
     ]
    },
    {
     "name": "stderr",
     "output_type": "stream",
     "text": [
      "                                                                                                                                         "
     ]
    },
    {
     "name": "stdout",
     "output_type": "stream",
     "text": [
      "Moviepy - Done !\n",
      "Moviepy - video ready /imitation/docs/tutorials/generated_videos/rl-video-step-70050-to-step-70100.mp4\n"
     ]
    },
    {
     "name": "stderr",
     "output_type": "stream",
     "text": [
      "\r"
     ]
    },
    {
     "name": "stdout",
     "output_type": "stream",
     "text": [
      "Saving video to /imitation/docs/tutorials/generated_videos/rl-video-step-70150-to-step-70200.mp4\n",
      "Moviepy - Building video /imitation/docs/tutorials/generated_videos/rl-video-step-70150-to-step-70200.mp4.\n",
      "Moviepy - Writing video /imitation/docs/tutorials/generated_videos/rl-video-step-70150-to-step-70200.mp4\n",
      "\n"
     ]
    },
    {
     "name": "stderr",
     "output_type": "stream",
     "text": [
      "                                                                                                                                         "
     ]
    },
    {
     "name": "stdout",
     "output_type": "stream",
     "text": [
      "Moviepy - Done !\n",
      "Moviepy - video ready /imitation/docs/tutorials/generated_videos/rl-video-step-70150-to-step-70200.mp4\n"
     ]
    },
    {
     "name": "stderr",
     "output_type": "stream",
     "text": [
      "\r"
     ]
    },
    {
     "name": "stdout",
     "output_type": "stream",
     "text": [
      "Saving video to /imitation/docs/tutorials/generated_videos/rl-video-step-70250-to-step-70300.mp4\n",
      "Moviepy - Building video /imitation/docs/tutorials/generated_videos/rl-video-step-70250-to-step-70300.mp4.\n",
      "Moviepy - Writing video /imitation/docs/tutorials/generated_videos/rl-video-step-70250-to-step-70300.mp4\n",
      "\n"
     ]
    },
    {
     "name": "stderr",
     "output_type": "stream",
     "text": [
      "                                                                                                                                         "
     ]
    },
    {
     "name": "stdout",
     "output_type": "stream",
     "text": [
      "Moviepy - Done !\n",
      "Moviepy - video ready /imitation/docs/tutorials/generated_videos/rl-video-step-70250-to-step-70300.mp4\n"
     ]
    },
    {
     "name": "stderr",
     "output_type": "stream",
     "text": [
      "\r"
     ]
    },
    {
     "name": "stdout",
     "output_type": "stream",
     "text": [
      "Saving video to /imitation/docs/tutorials/generated_videos/rl-video-step-70350-to-step-70400.mp4\n",
      "Moviepy - Building video /imitation/docs/tutorials/generated_videos/rl-video-step-70350-to-step-70400.mp4.\n",
      "Moviepy - Writing video /imitation/docs/tutorials/generated_videos/rl-video-step-70350-to-step-70400.mp4\n",
      "\n"
     ]
    },
    {
     "name": "stderr",
     "output_type": "stream",
     "text": [
      "                                                                                                                                         "
     ]
    },
    {
     "name": "stdout",
     "output_type": "stream",
     "text": [
      "Moviepy - Done !\n",
      "Moviepy - video ready /imitation/docs/tutorials/generated_videos/rl-video-step-70350-to-step-70400.mp4\n"
     ]
    },
    {
     "name": "stderr",
     "output_type": "stream",
     "text": [
      "\r"
     ]
    },
    {
     "name": "stdout",
     "output_type": "stream",
     "text": [
      "Saving video to /imitation/docs/tutorials/generated_videos/rl-video-step-70450-to-step-70500.mp4\n",
      "Moviepy - Building video /imitation/docs/tutorials/generated_videos/rl-video-step-70450-to-step-70500.mp4.\n",
      "Moviepy - Writing video /imitation/docs/tutorials/generated_videos/rl-video-step-70450-to-step-70500.mp4\n",
      "\n"
     ]
    },
    {
     "name": "stderr",
     "output_type": "stream",
     "text": [
      "                                                                                                                                         "
     ]
    },
    {
     "name": "stdout",
     "output_type": "stream",
     "text": [
      "Moviepy - Done !\n",
      "Moviepy - video ready /imitation/docs/tutorials/generated_videos/rl-video-step-70450-to-step-70500.mp4\n"
     ]
    },
    {
     "name": "stderr",
     "output_type": "stream",
     "text": [
      "\r"
     ]
    },
    {
     "name": "stdout",
     "output_type": "stream",
     "text": [
      "Saving video to /imitation/docs/tutorials/generated_videos/rl-video-step-70550-to-step-70600.mp4\n",
      "Moviepy - Building video /imitation/docs/tutorials/generated_videos/rl-video-step-70550-to-step-70600.mp4.\n",
      "Moviepy - Writing video /imitation/docs/tutorials/generated_videos/rl-video-step-70550-to-step-70600.mp4\n",
      "\n"
     ]
    },
    {
     "name": "stderr",
     "output_type": "stream",
     "text": [
      "                                                                                                                                         "
     ]
    },
    {
     "name": "stdout",
     "output_type": "stream",
     "text": [
      "Moviepy - Done !\n",
      "Moviepy - video ready /imitation/docs/tutorials/generated_videos/rl-video-step-70550-to-step-70600.mp4\n"
     ]
    },
    {
     "name": "stderr",
     "output_type": "stream",
     "text": [
      "\r"
     ]
    },
    {
     "name": "stdout",
     "output_type": "stream",
     "text": [
      "Saving video to /imitation/docs/tutorials/generated_videos/rl-video-step-70650-to-step-70700.mp4\n",
      "Moviepy - Building video /imitation/docs/tutorials/generated_videos/rl-video-step-70650-to-step-70700.mp4.\n",
      "Moviepy - Writing video /imitation/docs/tutorials/generated_videos/rl-video-step-70650-to-step-70700.mp4\n",
      "\n"
     ]
    },
    {
     "name": "stderr",
     "output_type": "stream",
     "text": [
      "                                                                                                                                         "
     ]
    },
    {
     "name": "stdout",
     "output_type": "stream",
     "text": [
      "Moviepy - Done !\n",
      "Moviepy - video ready /imitation/docs/tutorials/generated_videos/rl-video-step-70650-to-step-70700.mp4\n",
      "------------------------------------------------------\n",
      "| raw/                                 |             |\n",
      "|    agent/rollout/ep_len_mean         | 50          |\n",
      "|    agent/rollout/ep_rew_mean         | -56.3       |\n",
      "|    agent/rollout/ep_rew_wrapped_mean | -9.21       |\n",
      "|    agent/time/fps                    | 138         |\n",
      "|    agent/time/iterations             | 5           |\n",
      "|    agent/time/time_elapsed           | 74          |\n",
      "|    agent/time/total_timesteps        | 61440       |\n",
      "|    agent/train/approx_kl             | 0.011900721 |\n",
      "|    agent/train/clip_fraction         | 0.355       |\n",
      "|    agent/train/clip_range            | 0.1         |\n",
      "|    agent/train/entropy_loss          | -2.37       |\n",
      "|    agent/train/explained_variance    | 0.966       |\n",
      "|    agent/train/learning_rate         | 0.002       |\n",
      "|    agent/train/loss                  | -0.0393     |\n",
      "|    agent/train/n_updates             | 290         |\n",
      "|    agent/train/policy_gradient_loss  | -0.00914    |\n",
      "|    agent/train/std                   | 0.791       |\n",
      "|    agent/train/value_loss            | 0.00483     |\n",
      "------------------------------------------------------\n"
     ]
    },
    {
     "name": "stderr",
     "output_type": "stream",
     "text": [
      "\r"
     ]
    },
    {
     "name": "stdout",
     "output_type": "stream",
     "text": [
      "-----------------------------------------------------\n",
      "| mean/                                  |          |\n",
      "|    agent/rollout/ep_len_mean           | 50       |\n",
      "|    agent/rollout/ep_rew_mean           | -58.4    |\n",
      "|    agent/rollout/ep_rew_wrapped_mean   | -9.35    |\n",
      "|    agent/time/fps                      | 139      |\n",
      "|    agent/time/iterations               | 3        |\n",
      "|    agent/time/time_elapsed             | 44       |\n",
      "|    agent/time/total_timesteps          | 5.73e+04 |\n",
      "|    agent/train/approx_kl               | 0.0111   |\n",
      "|    agent/train/clip_fraction           | 0.341    |\n",
      "|    agent/train/clip_range              | 0.1      |\n",
      "|    agent/train/entropy_loss            | -2.42    |\n",
      "|    agent/train/explained_variance      | 0.961    |\n",
      "|    agent/train/learning_rate           | 0.002    |\n",
      "|    agent/train/loss                    | -0.0309  |\n",
      "|    agent/train/n_updates               | 280      |\n",
      "|    agent/train/policy_gradient_loss    | -0.0104  |\n",
      "|    agent/train/std                     | 0.812    |\n",
      "|    agent/train/value_loss              | 0.00669  |\n",
      "|    preferences/entropy                 | 0.164    |\n",
      "|    reward/epoch-0/train/accuracy       | 0.759    |\n",
      "|    reward/epoch-0/train/gt_reward_loss | 0.174    |\n",
      "|    reward/epoch-0/train/loss           | 0.546    |\n",
      "|    reward/epoch-1/train/accuracy       | 0.736    |\n",
      "|    reward/epoch-1/train/gt_reward_loss | 0.173    |\n",
      "|    reward/epoch-1/train/loss           | 0.537    |\n",
      "|    reward/epoch-2/train/accuracy       | 0.76     |\n",
      "|    reward/epoch-2/train/gt_reward_loss | 0.171    |\n",
      "|    reward/epoch-2/train/loss           | 0.524    |\n",
      "| reward/                                |          |\n",
      "|    final/train/accuracy                | 0.76     |\n",
      "|    final/train/gt_reward_loss          | 0.171    |\n",
      "|    final/train/loss                    | 0.524    |\n",
      "-----------------------------------------------------\n"
     ]
    },
    {
     "data": {
      "text/plain": [
       "{'reward_loss': 0.5239280201494694, 'reward_accuracy': 0.7601562514901165}"
      ]
     },
     "execution_count": 4,
     "metadata": {},
     "output_type": "execute_result"
    }
   ],
   "source": [
    "pref_comparisons.train(\n",
    "    total_timesteps=50_000,\n",
    "    total_comparisons=500,\n",
    ")"
   ]
  },
  {
   "cell_type": "markdown",
   "metadata": {},
   "source": [
    "After we trained the reward network using the preference comparisons algorithm, we can wrap our environment with that learned reward."
   ]
  },
  {
   "cell_type": "code",
   "execution_count": 5,
   "metadata": {},
   "outputs": [],
   "source": [
    "from imitation.rewards.reward_wrapper import RewardVecEnvWrapper\n",
    "\n",
    "learned_reward_venv = RewardVecEnvWrapper(venv, reward_net.predict_processed)"
   ]
  },
  {
   "cell_type": "markdown",
   "metadata": {},
   "source": [
    "Next, we train an agent that sees only the shaped, learned reward."
   ]
  },
  {
   "cell_type": "code",
   "execution_count": 6,
   "metadata": {},
   "outputs": [
    {
     "data": {
      "text/plain": [
       "<stable_baselines3.ppo.ppo.PPO at 0x7a1b8839c4c0>"
      ]
     },
     "execution_count": 6,
     "metadata": {},
     "output_type": "execute_result"
    }
   ],
   "source": [
    "learner = PPO(\n",
    "    seed=0,\n",
    "    policy=FeedForward32Policy,\n",
    "    policy_kwargs=dict(\n",
    "        features_extractor_class=NormalizeFeaturesExtractor,\n",
    "        features_extractor_kwargs=dict(normalize_class=RunningNorm),\n",
    "    ),\n",
    "    env=learned_reward_venv,\n",
    "    batch_size=64,\n",
    "    ent_coef=0.01,\n",
    "    n_epochs=10,\n",
    "    n_steps=2048 // learned_reward_venv.num_envs,\n",
    "    clip_range=0.1,\n",
    "    gae_lambda=0.95,\n",
    "    gamma=0.97,\n",
    "    learning_rate=2e-3,\n",
    ")\n",
    "learner.learn(100_000)  # Note: set to 100_000 to train a proficient expert"
   ]
  },
  {
   "cell_type": "markdown",
   "metadata": {},
   "source": [
    "Then we can evaluate it using the original reward."
   ]
  },
  {
   "cell_type": "code",
   "execution_count": 7,
   "metadata": {},
   "outputs": [
    {
     "name": "stdout",
     "output_type": "stream",
     "text": [
      "Reward: -11 +/- 0\n"
     ]
    }
   ],
   "source": [
    "from stable_baselines3.common.evaluation import evaluate_policy\n",
    "\n",
    "n_eval_episodes = 100\n",
    "reward_mean, reward_std = evaluate_policy(learner.policy, venv, n_eval_episodes)\n",
    "reward_stderr = reward_std / np.sqrt(n_eval_episodes)\n",
    "print(f\"Reward: {reward_mean:.0f} +/- {reward_stderr:.0f}\")"
   ]
  },
  {
   "cell_type": "code",
   "execution_count": 8,
   "metadata": {},
   "outputs": [],
   "source": [
    "learner.save('imitation_ppo')"
   ]
  },
  {
   "cell_type": "code",
   "execution_count": 9,
   "metadata": {},
   "outputs": [
    {
     "name": "stderr",
     "output_type": "stream",
     "text": [
      "/venv/lib/python3.8/site-packages/gymnasium/wrappers/record_video.py:94: UserWarning: \u001b[33mWARN: Overwriting existing videos at /imitation/docs/tutorials/videos folder (try specifying a different `video_folder` for the `RecordVideo` wrapper if this is not desired)\u001b[0m\n",
      "  logger.warn(\n"
     ]
    },
    {
     "name": "stdout",
     "output_type": "stream",
     "text": [
      "Moviepy - Building video /imitation/docs/tutorials/videos/training-episode-0.mp4.\n",
      "Moviepy - Writing video /imitation/docs/tutorials/videos/training-episode-0.mp4\n",
      "\n"
     ]
    },
    {
     "name": "stderr",
     "output_type": "stream",
     "text": [
      "                                                                                                                                         \r"
     ]
    },
    {
     "name": "stdout",
     "output_type": "stream",
     "text": [
      "Moviepy - Done !\n",
      "Moviepy - video ready /imitation/docs/tutorials/videos/training-episode-0.mp4\n",
      "Moviepy - Building video /imitation/docs/tutorials/videos/training-episode-1.mp4.\n",
      "Moviepy - Writing video /imitation/docs/tutorials/videos/training-episode-1.mp4\n",
      "\n"
     ]
    },
    {
     "name": "stderr",
     "output_type": "stream",
     "text": [
      "                                                                                                                                         \r"
     ]
    },
    {
     "name": "stdout",
     "output_type": "stream",
     "text": [
      "Moviepy - Done !\n",
      "Moviepy - video ready /imitation/docs/tutorials/videos/training-episode-1.mp4\n",
      "Moviepy - Building video /imitation/docs/tutorials/videos/training-episode-2.mp4.\n",
      "Moviepy - Writing video /imitation/docs/tutorials/videos/training-episode-2.mp4\n",
      "\n"
     ]
    },
    {
     "name": "stderr",
     "output_type": "stream",
     "text": [
      "                                                                                                                                         \r"
     ]
    },
    {
     "name": "stdout",
     "output_type": "stream",
     "text": [
      "Moviepy - Done !\n",
      "Moviepy - video ready /imitation/docs/tutorials/videos/training-episode-2.mp4\n",
      "Moviepy - Building video /imitation/docs/tutorials/videos/training-episode-3.mp4.\n",
      "Moviepy - Writing video /imitation/docs/tutorials/videos/training-episode-3.mp4\n",
      "\n"
     ]
    },
    {
     "name": "stderr",
     "output_type": "stream",
     "text": [
      "                                                                                                                                         \r"
     ]
    },
    {
     "name": "stdout",
     "output_type": "stream",
     "text": [
      "Moviepy - Done !\n",
      "Moviepy - video ready /imitation/docs/tutorials/videos/training-episode-3.mp4\n",
      "Moviepy - Building video /imitation/docs/tutorials/videos/training-episode-4.mp4.\n",
      "Moviepy - Writing video /imitation/docs/tutorials/videos/training-episode-4.mp4\n",
      "\n"
     ]
    },
    {
     "name": "stderr",
     "output_type": "stream",
     "text": [
      "                                                                                                                                         \r"
     ]
    },
    {
     "name": "stdout",
     "output_type": "stream",
     "text": [
      "Moviepy - Done !\n",
      "Moviepy - video ready /imitation/docs/tutorials/videos/training-episode-4.mp4\n",
      "Moviepy - Building video /imitation/docs/tutorials/videos/training-episode-5.mp4.\n",
      "Moviepy - Writing video /imitation/docs/tutorials/videos/training-episode-5.mp4\n",
      "\n"
     ]
    },
    {
     "name": "stderr",
     "output_type": "stream",
     "text": [
      "                                                                                                                                         \r"
     ]
    },
    {
     "name": "stdout",
     "output_type": "stream",
     "text": [
      "Moviepy - Done !\n",
      "Moviepy - video ready /imitation/docs/tutorials/videos/training-episode-5.mp4\n",
      "Moviepy - Building video /imitation/docs/tutorials/videos/training-episode-6.mp4.\n",
      "Moviepy - Writing video /imitation/docs/tutorials/videos/training-episode-6.mp4\n",
      "\n"
     ]
    },
    {
     "name": "stderr",
     "output_type": "stream",
     "text": [
      "                                                                                                                                         \r"
     ]
    },
    {
     "name": "stdout",
     "output_type": "stream",
     "text": [
      "Moviepy - Done !\n",
      "Moviepy - video ready /imitation/docs/tutorials/videos/training-episode-6.mp4\n",
      "Moviepy - Building video /imitation/docs/tutorials/videos/training-episode-7.mp4.\n",
      "Moviepy - Writing video /imitation/docs/tutorials/videos/training-episode-7.mp4\n",
      "\n"
     ]
    },
    {
     "name": "stderr",
     "output_type": "stream",
     "text": [
      "                                                                                                                                         \r"
     ]
    },
    {
     "name": "stdout",
     "output_type": "stream",
     "text": [
      "Moviepy - Done !\n",
      "Moviepy - video ready /imitation/docs/tutorials/videos/training-episode-7.mp4\n",
      "Moviepy - Building video /imitation/docs/tutorials/videos/training-episode-8.mp4.\n",
      "Moviepy - Writing video /imitation/docs/tutorials/videos/training-episode-8.mp4\n",
      "\n"
     ]
    },
    {
     "name": "stderr",
     "output_type": "stream",
     "text": [
      "                                                                                                                                         \r"
     ]
    },
    {
     "name": "stdout",
     "output_type": "stream",
     "text": [
      "Moviepy - Done !\n",
      "Moviepy - video ready /imitation/docs/tutorials/videos/training-episode-8.mp4\n",
      "Moviepy - Building video /imitation/docs/tutorials/videos/training-episode-9.mp4.\n",
      "Moviepy - Writing video /imitation/docs/tutorials/videos/training-episode-9.mp4\n",
      "\n"
     ]
    },
    {
     "name": "stderr",
     "output_type": "stream",
     "text": [
      "                                                                                                                                         \r"
     ]
    },
    {
     "name": "stdout",
     "output_type": "stream",
     "text": [
      "Moviepy - Done !\n",
      "Moviepy - video ready /imitation/docs/tutorials/videos/training-episode-9.mp4\n",
      "Moviepy - Building video /imitation/docs/tutorials/videos/training-episode-10.mp4.\n",
      "Moviepy - Writing video /imitation/docs/tutorials/videos/training-episode-10.mp4\n",
      "\n"
     ]
    },
    {
     "name": "stderr",
     "output_type": "stream",
     "text": [
      "                                                                                                                                         \r"
     ]
    },
    {
     "name": "stdout",
     "output_type": "stream",
     "text": [
      "Moviepy - Done !\n",
      "Moviepy - video ready /imitation/docs/tutorials/videos/training-episode-10.mp4\n",
      "Moviepy - Building video /imitation/docs/tutorials/videos/training-episode-11.mp4.\n",
      "Moviepy - Writing video /imitation/docs/tutorials/videos/training-episode-11.mp4\n",
      "\n"
     ]
    },
    {
     "name": "stderr",
     "output_type": "stream",
     "text": [
      "                                                                                                                                         \r"
     ]
    },
    {
     "name": "stdout",
     "output_type": "stream",
     "text": [
      "Moviepy - Done !\n",
      "Moviepy - video ready /imitation/docs/tutorials/videos/training-episode-11.mp4\n",
      "Moviepy - Building video /imitation/docs/tutorials/videos/training-episode-12.mp4.\n",
      "Moviepy - Writing video /imitation/docs/tutorials/videos/training-episode-12.mp4\n",
      "\n"
     ]
    },
    {
     "name": "stderr",
     "output_type": "stream",
     "text": [
      "                                                                                                                                         \r"
     ]
    },
    {
     "name": "stdout",
     "output_type": "stream",
     "text": [
      "Moviepy - Done !\n",
      "Moviepy - video ready /imitation/docs/tutorials/videos/training-episode-12.mp4\n",
      "Moviepy - Building video /imitation/docs/tutorials/videos/training-episode-13.mp4.\n",
      "Moviepy - Writing video /imitation/docs/tutorials/videos/training-episode-13.mp4\n",
      "\n"
     ]
    },
    {
     "name": "stderr",
     "output_type": "stream",
     "text": [
      "                                                                                                                                         \r"
     ]
    },
    {
     "name": "stdout",
     "output_type": "stream",
     "text": [
      "Moviepy - Done !\n",
      "Moviepy - video ready /imitation/docs/tutorials/videos/training-episode-13.mp4\n",
      "Moviepy - Building video /imitation/docs/tutorials/videos/training-episode-14.mp4.\n",
      "Moviepy - Writing video /imitation/docs/tutorials/videos/training-episode-14.mp4\n",
      "\n"
     ]
    },
    {
     "name": "stderr",
     "output_type": "stream",
     "text": [
      "                                                                                                                                         \r"
     ]
    },
    {
     "name": "stdout",
     "output_type": "stream",
     "text": [
      "Moviepy - Done !\n",
      "Moviepy - video ready /imitation/docs/tutorials/videos/training-episode-14.mp4\n",
      "Moviepy - Building video /imitation/docs/tutorials/videos/training-episode-15.mp4.\n",
      "Moviepy - Writing video /imitation/docs/tutorials/videos/training-episode-15.mp4\n",
      "\n"
     ]
    },
    {
     "name": "stderr",
     "output_type": "stream",
     "text": [
      "                                                                                                                                         \r"
     ]
    },
    {
     "name": "stdout",
     "output_type": "stream",
     "text": [
      "Moviepy - Done !\n",
      "Moviepy - video ready /imitation/docs/tutorials/videos/training-episode-15.mp4\n",
      "Moviepy - Building video /imitation/docs/tutorials/videos/training-episode-16.mp4.\n",
      "Moviepy - Writing video /imitation/docs/tutorials/videos/training-episode-16.mp4\n",
      "\n"
     ]
    },
    {
     "name": "stderr",
     "output_type": "stream",
     "text": [
      "                                                                                                                                         \r"
     ]
    },
    {
     "name": "stdout",
     "output_type": "stream",
     "text": [
      "Moviepy - Done !\n",
      "Moviepy - video ready /imitation/docs/tutorials/videos/training-episode-16.mp4\n",
      "Moviepy - Building video /imitation/docs/tutorials/videos/training-episode-17.mp4.\n",
      "Moviepy - Writing video /imitation/docs/tutorials/videos/training-episode-17.mp4\n",
      "\n"
     ]
    },
    {
     "name": "stderr",
     "output_type": "stream",
     "text": [
      "                                                                                                                                         \r"
     ]
    },
    {
     "name": "stdout",
     "output_type": "stream",
     "text": [
      "Moviepy - Done !\n",
      "Moviepy - video ready /imitation/docs/tutorials/videos/training-episode-17.mp4\n",
      "Moviepy - Building video /imitation/docs/tutorials/videos/training-episode-18.mp4.\n",
      "Moviepy - Writing video /imitation/docs/tutorials/videos/training-episode-18.mp4\n",
      "\n"
     ]
    },
    {
     "name": "stderr",
     "output_type": "stream",
     "text": [
      "                                                                                                                                         \r"
     ]
    },
    {
     "name": "stdout",
     "output_type": "stream",
     "text": [
      "Moviepy - Done !\n",
      "Moviepy - video ready /imitation/docs/tutorials/videos/training-episode-18.mp4\n",
      "Moviepy - Building video /imitation/docs/tutorials/videos/training-episode-19.mp4.\n",
      "Moviepy - Writing video /imitation/docs/tutorials/videos/training-episode-19.mp4\n",
      "\n"
     ]
    },
    {
     "name": "stderr",
     "output_type": "stream",
     "text": [
      "                                                                                                                                         \r"
     ]
    },
    {
     "name": "stdout",
     "output_type": "stream",
     "text": [
      "Moviepy - Done !\n",
      "Moviepy - video ready /imitation/docs/tutorials/videos/training-episode-19.mp4\n",
      "Moviepy - Building video /imitation/docs/tutorials/videos/training-episode-20.mp4.\n",
      "Moviepy - Writing video /imitation/docs/tutorials/videos/training-episode-20.mp4\n",
      "\n"
     ]
    },
    {
     "name": "stderr",
     "output_type": "stream",
     "text": [
      "                                                                                                                                         \r"
     ]
    },
    {
     "name": "stdout",
     "output_type": "stream",
     "text": [
      "Moviepy - Done !\n",
      "Moviepy - video ready /imitation/docs/tutorials/videos/training-episode-20.mp4\n"
     ]
    }
   ],
   "source": [
    "from gymnasium.wrappers import RecordVideo\n",
    "\n",
    "# Create the environment\n",
    "env = gym.make(\"Reacher-v4\", render_mode='rgb_array')\n",
    "env = RecordVideo(env, './evaluation_videos', name_prefix=\"reacher\", episode_trigger=lambda x: x % 1 == 0) \n",
    "\n",
    "# Run the model in the environment\n",
    "obs, info = env.reset()\n",
    "for _ in range(1000):\n",
    "        action, _states = learner.predict(obs, deterministic=True)\n",
    "        obs, reward, _ ,done, info = env.step(action)\n",
    "        if done:\n",
    "            obs, info = env.reset()\n",
    "            \n",
    "\n",
    "env.close()"
   ]
  },
  {
   "cell_type": "code",
   "execution_count": null,
   "metadata": {},
   "outputs": [],
   "source": []
  }
 ],
 "metadata": {
  "interpreter": {
   "hash": "439158cd89905785fcc749928062ade7bfccc3f087fab145e5671f895c635937"
  },
  "kernelspec": {
   "display_name": "Python 3 (ipykernel)",
   "language": "python",
   "name": "python3"
  },
  "language_info": {
   "codemirror_mode": {
    "name": "ipython",
    "version": 3
   },
   "file_extension": ".py",
   "mimetype": "text/x-python",
   "name": "python",
   "nbconvert_exporter": "python",
   "pygments_lexer": "ipython3",
   "version": "3.8.10"
  }
 },
 "nbformat": 4,
 "nbformat_minor": 2
}
